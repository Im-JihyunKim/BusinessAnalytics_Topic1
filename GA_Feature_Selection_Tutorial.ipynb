{
 "cells": [
  {
   "cell_type": "markdown",
   "metadata": {},
   "source": [
    "# 2022 Fall Business Analytics Topic 1: Dimensionality Reduction Tutorial\n",
    "## Feature Selection using Genetic Algorithm\n",
    "### 2022010558 김지현"
   ]
  },
  {
   "cell_type": "markdown",
   "metadata": {},
   "source": [
    "---------------------------"
   ]
  },
  {
   "cell_type": "markdown",
   "metadata": {},
   "source": [
    "# Genetic Algorithm 유전 알고리즘"
   ]
  },
  {
   "cell_type": "markdown",
   "metadata": {},
   "source": [
    "Genetic Algorithm은 변수 선택 기법 중 가장 우수한 방법입니다. 이전까지의 변수 선택 기법들은 탐색 소요 시간을 줄여 효율적인 방법론을 제안하였으나, 탐색 범위가 적어 Global Optimum을 찾을 확률이 적은 한계를 가지고 있었습니다. 그러나 자연계의 진화 체계를 모방한 메타 휴리스틱 알고리즘 인 GA는 시행착오를 통해 최적의 해를 찾아나가는 방법론으로, 다윈의 자연 선택설에 기반하여 초기에 다양한 유전자를 가지고 있던 종이 생존에 유리한 유전자를 택하면서 현재 상태가 되었다는 이론을 따라 해를 최적화 해나갑니다.\n",
    "\n",
    "## How Genetic Algorithm Works\n",
    "기본적으로 여러 개의 해로 구성된 잠재 해 집단을 만들고 적합도(fitness)를 평가한 뒤, 좋은 해를 선별해서 새로운 해 집단(후기 세대)을 만드는 메타 휴리스틱 알고리즘입니다. 진화 이론 중 자연선택설에 기반하여 세대를 생성해내며, 주어진 문제를 잘 풀기 위한 최적해를 찾거나 종료 조건을 만족 시 알고리즘이 종료됩니다. 후기 세대를 만드는 과정은 (부모 세대) 선택(Selection) , 교배(Corssover) , 돌연변이 발생(Mutation) 3가지에 기반하며, 한 세대(잠재해 집단)는 적합도 함수(Fitness function) 에 의해 문제 해결에 적합한지 평가됩니다. 기본적으로 Genetic Algorithm은 최적화 문제에서 사용되지만, 본 튜토리얼에서는 차원 축소 시 목표변수를 예측하는 데 사용되는 설명 변수 조합을 선택하는 데 Genetic Algorithm을 사용하였습니다.\n",
    "\n",
    "<br/>\n",
    "본 튜토리얼에서는 Genetic Algorithm을 이용하여 변수를 선택하고 성능을 도출하였으며, 구현한 클래스는 genetic_algorithm.py에서 import할 수 있습니다."
   ]
  },
  {
   "cell_type": "markdown",
   "metadata": {},
   "source": [
    "-------------"
   ]
  },
  {
   "cell_type": "markdown",
   "metadata": {},
   "source": [
    "# How to Use\n",
    "- 구현한 Class를 통해서 간단하게 결과를 확인할 수 있는 방법을 설명합니다."
   ]
  },
  {
   "cell_type": "markdown",
   "metadata": {},
   "source": [
    "## 0. Import Necessary Libraries"
   ]
  },
  {
   "cell_type": "code",
   "execution_count": 1,
   "metadata": {},
   "outputs": [],
   "source": [
    "import argparse\n",
    "import numpy as np\n",
    "import rich\n",
    "import argparse\n",
    "\n",
    "# import genetic algorithm\n",
    "from ga_feature_selection.genetic_algorithm import GA_FeatureSelector\n",
    "\n",
    "from sklearn import datasets\n",
    "from sklearn.datasets import make_classification, make_regression\n",
    "from sklearn.model_selection import  train_test_split\n",
    "from sklearn.preprocessing import MinMaxScaler\n",
    "\n",
    "# Classification Model\n",
    "from sklearn import linear_model\n",
    "# from sklearn.ensemble import RandomForestClassifier\n",
    "# from xgboost import XGBClassifier\n",
    "\n",
    "# For visualization\n",
    "import matplotlib.pyplot as plt\n",
    "import seaborn as sns\n",
    "sns.set_context(\"talk\")\n",
    "sns.set_style(\"white\")\n",
    "sns.set_palette(\"Pastel1\")\n",
    "\n",
    "import warnings\n",
    "warnings.filterwarnings(action='ignore')"
   ]
  },
  {
   "cell_type": "markdown",
   "metadata": {},
   "source": [
    "## 1. Define argparser (Hyperparameter)\n",
    "Genetic Algorithm에서는 여러 Hyperparameters가 있으며, 해당 값에 따라서 선택되는 설명 변수와 연산량, 그리고 성능이 달라집니다. 이때 본 튜토리얼에서는 여러 Hyperparameter를 아래 argparser를 통하여 정의해두었으며, 사용자에 따라 값을 추가하거나 자유롭게 변경할 수 있습니다.  \n",
    "또한 Feature Selection 성능 및 연산량이 어떻게 달라지는 지를 직접적으로 비교하기 위해서, 본 튜토리얼에서는 아래 6가지 Hyperparameter를 바꾸어 가며 성능을 비교하였습니다.\n",
    "1. 세대 당 염색체 수(n_population)\n",
    "2. 적합도 함수(Fiteness Function: c-metric, r-metric)\n",
    "3. 선택(Selection) 시 토너먼트 횟수 (tournament-k)\n",
    "3. 교배율(crossover_rate)\n",
    "5. 돌연변이율(mutation_rate)\n",
    "6. 종료 조건(n_generation, if same scoring value found over 5 times than stop training)"
   ]
  },
  {
   "cell_type": "code",
   "execution_count": 2,
   "metadata": {},
   "outputs": [],
   "source": [
    "GAparser = argparse.ArgumentParser()\n",
    "\n",
    "GAparser.add_argument(\"--seed\", default=2022, type=int)\n",
    "GAparser.add_argument(\"--normalization\", default=False, type=bool)\n",
    "\n",
    "# Hyperparameter\n",
    "GAparser.add_argument(\"--n-generation\", default=50, type=int, help=\"Determines the maximum number of generations to be carry out.\")\n",
    "GAparser.add_argument(\"--n-population\", default=100, type=int, help=\"Determines the size of the population (number of chromosomes).\")\n",
    "GAparser.add_argument(\"--crossover-rate\", default=0.7, type=float, \n",
    "                      help=\"Defines the crossing probability. It must be a value between 0.0 and 1.0.\")\n",
    "GAparser.add_argument(\"--mutation-rate\", default=0.8, type=float, \n",
    "                      help=\"Defines the mutation probability. It must be a value between 0.0 and 1.0.\")\n",
    "GAparser.add_argument(\"--tournament-k\", default=2, type=int,\n",
    "                      help=\"Defines the size of the tournament carried out in the selection process.\\\n",
    "                            Number of chromosomes facing each other in each tournament.\")\n",
    "GAparser.add_argument(\"--c-metric\", default='accuracy', choices=['accuracy', 'f1_score', 'roc_auc_socre'], type=str)\n",
    "GAparser.add_argument(\"--r-metric\", default='rmse', choices=['rmse', 'corr', 'mape', 'mae'], type=str)\n",
    "\n",
    "GAparser.add_argument(\"--n-jobs\", default=1, choices=[1, -1], type=int, \n",
    "                      help=\"Number of cores to run in parallel. By default a single-core is used.\")\n",
    "GAparser.add_argument(\"--initial-best-chromosome\", default=None, type=np.ndarray, \n",
    "                      help=\"A one-dimensional binary matrix of size equal to the number of features (M). \\\n",
    "                      Defines the best chromosome (subset of features) in the initial population.\")\n",
    "GAparser.add_argument(\"--verbose\", default=0, type=int, help=\"Control the output verbosity level. It must be an integer value between 0 and 2.\")\n",
    "\n",
    "args = GAparser.parse_args(args=[])"
   ]
  },
  {
   "cell_type": "markdown",
   "metadata": {},
   "source": [
    "## 2. Make Dataset\n",
    "- 분류 모델을 위한 데이터셋을 불러옵니다. 본 튜토리얼에서는 Scikit-learn에서 제공하는 [Wine Quality Dataset](https://www.kaggle.com/datasets/uciml/red-wine-quality-cortez-et-al-2009)을 활용하였습니다.\n",
    "    - 178개의 관측치, 13개의 변수, 3개의 Classes\n",
    "    - Trian : Test = 8 : 2 비율로 지정\n",
    "- Train Test를 분리하면서는, Normalization 여부에 따라서 값 Scaling이 추가되게끔 하였습니다."
   ]
  },
  {
   "cell_type": "code",
   "execution_count": 4,
   "metadata": {},
   "outputs": [],
   "source": [
    "\"\"\"Funciton making train and test dataset\"\"\"\n",
    "def make_trian_test(args:argparse, X: np.ndarray, y: np.ndarray):\n",
    "    # Train and Test data split\n",
    "    train_index, test_index = train_test_split(np.arange(len(X)), test_size=.2, random_state=args.seed)\n",
    "    X_train, X_test, y_train, y_test = X[train_index], X[test_index], y[train_index].reshape(-1,1), y[test_index].reshape(-1,1)\n",
    "    \n",
    "    # Scaling both Train and Testing data (Both X and Y)\n",
    "    if args.normalization:\n",
    "        scaler = MinMaxScaler()\n",
    "        full_train_scaled = scaler.fit_transform(np.concatenate([X_train, y_train],axis=1))\n",
    "        full_test_scaled = scaler.transform(np.concatenate([X_test, y_test],axis=1))\n",
    "        \n",
    "        y_min = scaler.data_min_[-y_test.shape[1]:]\n",
    "        y_max = scaler.data_max_[-y_test.shape[1]:]\n",
    "        \n",
    "        X_train , y_train, X_test, y_test = full_train_scaled[:,:-y_test.shape[1]] , full_train_scaled[:,-y_test.shape[1]:], \\\n",
    "                                            full_test_scaled[:,:-y_test.shape[1]] , full_test_scaled[:,-y_test.shape[1]:]\n",
    "        \n",
    "        return X_train, X_test, y_train, y_test, y_min, y_max\n",
    "    \n",
    "    else:\n",
    "        return X_train, X_test, y_train, y_test"
   ]
  },
  {
   "cell_type": "code",
   "execution_count": 5,
   "metadata": {},
   "outputs": [],
   "source": [
    "\"\"\"Load example toy dataset from scikit-learn\"\"\"\n",
    "data = datasets.load_wine()\n",
    "X, y = data['data'], data['target']\n",
    "\n",
    "\"\"\"Split dataset into train and test\"\"\"\n",
    "X_train, X_test, y_train, y_test = make_trian_test(args, X, y)"
   ]
  },
  {
   "cell_type": "markdown",
   "metadata": {},
   "source": [
    "## 3. Define Classifier\n",
    "- Scikit-learn에서 제공하는 지도학습 기반 머신러닝 모델을 대상으로 튜토리얼을 작성하였습니다. fit, predict, predict_proba 메소드를 제공하는 모델이어야 합니다.\n",
    "    - 본 튜토리얼에서는 기본적인 분류 모델인 Logistic Regressor을 사용하였습니다.\n",
    "- 해당 Classifier는 유전 알고리즘에 의해 선택된 변수가 y를 예측하는 데 얼마나 적합한지를 평가하는 적합도 함수(Fitness Function)가 될 것이며, 이때 적합도를 산출하는 기준으로는 (1) Accuracy, (2) F1-Score, (3) AUROC 세 가지 지표를 사용할 수 있습니다."
   ]
  },
  {
   "cell_type": "code",
   "execution_count": 6,
   "metadata": {},
   "outputs": [],
   "source": [
    "\"\"\"\n",
    "Define Classifier: A supervised learning estimator with a fit method from Scikit-learn.\n",
    "- There are lots of other options besides Logistic Regression, for example, RandomForest, Deciison Tree, XGBoost, and etc.\n",
    "\"\"\"\n",
    "LogisticRegression = linear_model.LogisticRegression(solver='lbfgs', multi_class='auto')\n",
    "# RandomForest = RandomForestClassifier(n_estimators=200, random_state=args.seed)\n",
    "# XGBoost = XGBClassifier(n_estimators=200, random_state=args.seed)"
   ]
  },
  {
   "cell_type": "markdown",
   "metadata": {},
   "source": [
    "## 4. Create Feature Selector using Genetic Algorithm\n",
    "- 미리 정의된 클래스를 선언하여 학습을 준비합니다."
   ]
  },
  {
   "cell_type": "code",
   "execution_count": 7,
   "metadata": {},
   "outputs": [],
   "source": [
    "\"\"\"Create Feature Selector using Genetic Algorithm\"\"\"\n",
    "Genetic_Algorithm = GA_FeatureSelector(model=LogisticRegression, args=args, seed=args.seed)"
   ]
  },
  {
   "cell_type": "markdown",
   "metadata": {},
   "source": [
    "## 5. Fit train dataset and get results: test score, best features\n",
    "- 본격적으로 학습을 진행시킵니다. 내장 메소드인 run으로 한 번에 학습을 수행할 수 있습니다.\n",
    "- 몇 번째 세대를 학습하고 있는지, 현재까지의 최고 성능과 활용된 변수는 무엇인지 등을 학습 중에 출력하도록 합니다."
   ]
  },
  {
   "cell_type": "code",
   "execution_count": 8,
   "metadata": {
    "scrolled": true
   },
   "outputs": [
    {
     "data": {
      "text/html": [
       "<pre style=\"white-space:pre;overflow-x:auto;line-height:normal;font-family:Menlo,'DejaVu Sans Mono',consolas,'Courier New',monospace\"><span style=\"color: #800080; text-decoration-color: #800080; font-weight: bold\">Creating initial population with </span><span style=\"color: #800080; text-decoration-color: #800080; font-weight: bold\">100</span><span style=\"color: #800080; text-decoration-color: #800080; font-weight: bold\"> chromosomes</span> 🧬\n",
       "</pre>\n"
      ],
      "text/plain": [
       "\u001b[1;35mCreating initial population with \u001b[0m\u001b[1;35m100\u001b[0m\u001b[1;35m chromosomes\u001b[0m 🧬\n"
      ]
     },
     "metadata": {},
     "output_type": "display_data"
    },
    {
     "data": {
      "text/html": [
       "<pre style=\"white-space:pre;overflow-x:auto;line-height:normal;font-family:Menlo,'DejaVu Sans Mono',consolas,'Courier New',monospace\"> ✔ Evaluating initial population<span style=\"color: #808000; text-decoration-color: #808000\">...</span>\n",
       "</pre>\n"
      ],
      "text/plain": [
       " ✔ Evaluating initial population\u001b[33m...\u001b[0m\n"
      ]
     },
     "metadata": {},
     "output_type": "display_data"
    },
    {
     "data": {
      "text/html": [
       "<pre style=\"white-space:pre;overflow-x:auto;line-height:normal;font-family:Menlo,'DejaVu Sans Mono',consolas,'Courier New',monospace\"> ✔ Current best chromosome: <span style=\"font-weight: bold\">[</span><span style=\"color: #008080; text-decoration-color: #008080; font-weight: bold\">1</span> <span style=\"color: #008080; text-decoration-color: #008080; font-weight: bold\">0</span> <span style=\"color: #008080; text-decoration-color: #008080; font-weight: bold\">0</span> <span style=\"color: #008080; text-decoration-color: #008080; font-weight: bold\">0</span> <span style=\"color: #008080; text-decoration-color: #008080; font-weight: bold\">0</span> <span style=\"color: #008080; text-decoration-color: #008080; font-weight: bold\">1</span> <span style=\"color: #008080; text-decoration-color: #008080; font-weight: bold\">1</span> <span style=\"color: #008080; text-decoration-color: #008080; font-weight: bold\">0</span> <span style=\"color: #008080; text-decoration-color: #008080; font-weight: bold\">0</span> <span style=\"color: #008080; text-decoration-color: #008080; font-weight: bold\">1</span> <span style=\"color: #008080; text-decoration-color: #008080; font-weight: bold\">0</span> <span style=\"color: #008080; text-decoration-color: #008080; font-weight: bold\">1</span> <span style=\"color: #008080; text-decoration-color: #008080; font-weight: bold\">1</span><span style=\"font-weight: bold\">]</span>, Score: <span style=\"color: #008080; text-decoration-color: #008080; font-weight: bold\">0.971830985915493</span>\n",
       "</pre>\n"
      ],
      "text/plain": [
       " ✔ Current best chromosome: \u001b[1m[\u001b[0m\u001b[1;36m1\u001b[0m \u001b[1;36m0\u001b[0m \u001b[1;36m0\u001b[0m \u001b[1;36m0\u001b[0m \u001b[1;36m0\u001b[0m \u001b[1;36m1\u001b[0m \u001b[1;36m1\u001b[0m \u001b[1;36m0\u001b[0m \u001b[1;36m0\u001b[0m \u001b[1;36m1\u001b[0m \u001b[1;36m0\u001b[0m \u001b[1;36m1\u001b[0m \u001b[1;36m1\u001b[0m\u001b[1m]\u001b[0m, Score: \u001b[1;36m0.971830985915493\u001b[0m\n"
      ]
     },
     "metadata": {},
     "output_type": "display_data"
    },
    {
     "data": {
      "text/html": [
       "<pre style=\"white-space:pre;overflow-x:auto;line-height:normal;font-family:Menlo,'DejaVu Sans Mono',consolas,'Courier New',monospace\"><span style=\"color: #800080; text-decoration-color: #800080; font-weight: bold\">Creating generation </span><span style=\"color: #800080; text-decoration-color: #800080; font-weight: bold\">1</span><span style=\"color: #800080; text-decoration-color: #800080; font-weight: bold\">...</span>\n",
       "</pre>\n"
      ],
      "text/plain": [
       "\u001b[1;35mCreating generation \u001b[0m\u001b[1;35m1\u001b[0m\u001b[1;35m...\u001b[0m\n"
      ]
     },
     "metadata": {},
     "output_type": "display_data"
    },
    {
     "data": {
      "text/html": [
       "<pre style=\"white-space:pre;overflow-x:auto;line-height:normal;font-family:Menlo,'DejaVu Sans Mono',consolas,'Courier New',monospace\"> ✔ Evaluating population of new generation <span style=\"color: #008080; text-decoration-color: #008080; font-weight: bold\">1</span><span style=\"color: #808000; text-decoration-color: #808000\">...</span>\n",
       "</pre>\n"
      ],
      "text/plain": [
       " ✔ Evaluating population of new generation \u001b[1;36m1\u001b[0m\u001b[33m...\u001b[0m\n"
      ]
     },
     "metadata": {},
     "output_type": "display_data"
    },
    {
     "data": {
      "text/html": [
       "<pre style=\"white-space:pre;overflow-x:auto;line-height:normal;font-family:Menlo,'DejaVu Sans Mono',consolas,'Courier New',monospace\"> ✔ <span style=\"color: #008000; text-decoration-color: #008000; font-weight: bold\">(Better)</span> A better chromosome than the current one has been found <span style=\"color: #008080; text-decoration-color: #008080; font-weight: bold\">0.9859154929577465</span>\n",
       "</pre>\n"
      ],
      "text/plain": [
       " ✔ \u001b[1;32m(\u001b[0m\u001b[1;32mBetter\u001b[0m\u001b[1;32m)\u001b[0m A better chromosome than the current one has been found \u001b[1;36m0.9859154929577465\u001b[0m\n"
      ]
     },
     "metadata": {},
     "output_type": "display_data"
    },
    {
     "data": {
      "text/html": [
       "<pre style=\"white-space:pre;overflow-x:auto;line-height:normal;font-family:Menlo,'DejaVu Sans Mono',consolas,'Courier New',monospace\"> ✔ Current best chromosome: <span style=\"font-weight: bold\">[</span><span style=\"color: #008080; text-decoration-color: #008080; font-weight: bold\">1</span> <span style=\"color: #008080; text-decoration-color: #008080; font-weight: bold\">1</span> <span style=\"color: #008080; text-decoration-color: #008080; font-weight: bold\">1</span> <span style=\"color: #008080; text-decoration-color: #008080; font-weight: bold\">1</span> <span style=\"color: #008080; text-decoration-color: #008080; font-weight: bold\">0</span> <span style=\"color: #008080; text-decoration-color: #008080; font-weight: bold\">1</span> <span style=\"color: #008080; text-decoration-color: #008080; font-weight: bold\">1</span> <span style=\"color: #008080; text-decoration-color: #008080; font-weight: bold\">1</span> <span style=\"color: #008080; text-decoration-color: #008080; font-weight: bold\">1</span> <span style=\"color: #008080; text-decoration-color: #008080; font-weight: bold\">1</span> <span style=\"color: #008080; text-decoration-color: #008080; font-weight: bold\">0</span> <span style=\"color: #008080; text-decoration-color: #008080; font-weight: bold\">1</span> <span style=\"color: #008080; text-decoration-color: #008080; font-weight: bold\">0</span><span style=\"font-weight: bold\">]</span>, Score: <span style=\"color: #008080; text-decoration-color: #008080; font-weight: bold\">0.9859154929577465</span>\n",
       "</pre>\n"
      ],
      "text/plain": [
       " ✔ Current best chromosome: \u001b[1m[\u001b[0m\u001b[1;36m1\u001b[0m \u001b[1;36m1\u001b[0m \u001b[1;36m1\u001b[0m \u001b[1;36m1\u001b[0m \u001b[1;36m0\u001b[0m \u001b[1;36m1\u001b[0m \u001b[1;36m1\u001b[0m \u001b[1;36m1\u001b[0m \u001b[1;36m1\u001b[0m \u001b[1;36m1\u001b[0m \u001b[1;36m0\u001b[0m \u001b[1;36m1\u001b[0m \u001b[1;36m0\u001b[0m\u001b[1m]\u001b[0m, Score: \u001b[1;36m0.9859154929577465\u001b[0m\n"
      ]
     },
     "metadata": {},
     "output_type": "display_data"
    },
    {
     "data": {
      "text/html": [
       "<pre style=\"white-space:pre;overflow-x:auto;line-height:normal;font-family:Menlo,'DejaVu Sans Mono',consolas,'Courier New',monospace\">    <span style=\"font-weight: bold\">Elapsed generation time: </span> <span style=\"color: #008080; text-decoration-color: #008080; font-weight: bold\">2.72</span> <span style=\"font-weight: bold\">seconds</span>\n",
       "</pre>\n"
      ],
      "text/plain": [
       "    \u001b[1mElapsed generation time: \u001b[0m \u001b[1;36m2.72\u001b[0m \u001b[1mseconds\u001b[0m\n"
      ]
     },
     "metadata": {},
     "output_type": "display_data"
    },
    {
     "data": {
      "text/html": [
       "<pre style=\"white-space:pre;overflow-x:auto;line-height:normal;font-family:Menlo,'DejaVu Sans Mono',consolas,'Courier New',monospace\"><span style=\"color: #800080; text-decoration-color: #800080; font-weight: bold\">Creating generation </span><span style=\"color: #800080; text-decoration-color: #800080; font-weight: bold\">2</span><span style=\"color: #800080; text-decoration-color: #800080; font-weight: bold\">...</span>\n",
       "</pre>\n"
      ],
      "text/plain": [
       "\u001b[1;35mCreating generation \u001b[0m\u001b[1;35m2\u001b[0m\u001b[1;35m...\u001b[0m\n"
      ]
     },
     "metadata": {},
     "output_type": "display_data"
    },
    {
     "data": {
      "text/html": [
       "<pre style=\"white-space:pre;overflow-x:auto;line-height:normal;font-family:Menlo,'DejaVu Sans Mono',consolas,'Courier New',monospace\"> ✔ Evaluating population of new generation <span style=\"color: #008080; text-decoration-color: #008080; font-weight: bold\">2</span><span style=\"color: #808000; text-decoration-color: #808000\">...</span>\n",
       "</pre>\n"
      ],
      "text/plain": [
       " ✔ Evaluating population of new generation \u001b[1;36m2\u001b[0m\u001b[33m...\u001b[0m\n"
      ]
     },
     "metadata": {},
     "output_type": "display_data"
    },
    {
     "data": {
      "text/html": [
       "<pre style=\"white-space:pre;overflow-x:auto;line-height:normal;font-family:Menlo,'DejaVu Sans Mono',consolas,'Courier New',monospace\"> ✔ <span style=\"color: #800080; text-decoration-color: #800080\">Same scoring value found </span><span style=\"color: #800080; text-decoration-color: #800080; font-weight: bold\">1</span><span style=\"color: #800080; text-decoration-color: #800080\"> / </span><span style=\"color: #800080; text-decoration-color: #800080; font-weight: bold\">5</span><span style=\"color: #800080; text-decoration-color: #800080\"> times.</span>\n",
       "</pre>\n"
      ],
      "text/plain": [
       " ✔ \u001b[35mSame scoring value found \u001b[0m\u001b[1;35m1\u001b[0m\u001b[35m \u001b[0m\u001b[35m/\u001b[0m\u001b[35m \u001b[0m\u001b[1;35m5\u001b[0m\u001b[35m times.\u001b[0m\n"
      ]
     },
     "metadata": {},
     "output_type": "display_data"
    },
    {
     "data": {
      "text/html": [
       "<pre style=\"white-space:pre;overflow-x:auto;line-height:normal;font-family:Menlo,'DejaVu Sans Mono',consolas,'Courier New',monospace\"> ✔ Current best chromosome: <span style=\"font-weight: bold\">[</span><span style=\"color: #008080; text-decoration-color: #008080; font-weight: bold\">1</span> <span style=\"color: #008080; text-decoration-color: #008080; font-weight: bold\">1</span> <span style=\"color: #008080; text-decoration-color: #008080; font-weight: bold\">1</span> <span style=\"color: #008080; text-decoration-color: #008080; font-weight: bold\">1</span> <span style=\"color: #008080; text-decoration-color: #008080; font-weight: bold\">0</span> <span style=\"color: #008080; text-decoration-color: #008080; font-weight: bold\">1</span> <span style=\"color: #008080; text-decoration-color: #008080; font-weight: bold\">1</span> <span style=\"color: #008080; text-decoration-color: #008080; font-weight: bold\">1</span> <span style=\"color: #008080; text-decoration-color: #008080; font-weight: bold\">1</span> <span style=\"color: #008080; text-decoration-color: #008080; font-weight: bold\">1</span> <span style=\"color: #008080; text-decoration-color: #008080; font-weight: bold\">0</span> <span style=\"color: #008080; text-decoration-color: #008080; font-weight: bold\">1</span> <span style=\"color: #008080; text-decoration-color: #008080; font-weight: bold\">0</span><span style=\"font-weight: bold\">]</span>, Score: <span style=\"color: #008080; text-decoration-color: #008080; font-weight: bold\">0.9859154929577465</span>\n",
       "</pre>\n"
      ],
      "text/plain": [
       " ✔ Current best chromosome: \u001b[1m[\u001b[0m\u001b[1;36m1\u001b[0m \u001b[1;36m1\u001b[0m \u001b[1;36m1\u001b[0m \u001b[1;36m1\u001b[0m \u001b[1;36m0\u001b[0m \u001b[1;36m1\u001b[0m \u001b[1;36m1\u001b[0m \u001b[1;36m1\u001b[0m \u001b[1;36m1\u001b[0m \u001b[1;36m1\u001b[0m \u001b[1;36m0\u001b[0m \u001b[1;36m1\u001b[0m \u001b[1;36m0\u001b[0m\u001b[1m]\u001b[0m, Score: \u001b[1;36m0.9859154929577465\u001b[0m\n"
      ]
     },
     "metadata": {},
     "output_type": "display_data"
    },
    {
     "data": {
      "text/html": [
       "<pre style=\"white-space:pre;overflow-x:auto;line-height:normal;font-family:Menlo,'DejaVu Sans Mono',consolas,'Courier New',monospace\">    <span style=\"font-weight: bold\">Elapsed generation time: </span> <span style=\"color: #008080; text-decoration-color: #008080; font-weight: bold\">2.73</span> <span style=\"font-weight: bold\">seconds</span>\n",
       "</pre>\n"
      ],
      "text/plain": [
       "    \u001b[1mElapsed generation time: \u001b[0m \u001b[1;36m2.73\u001b[0m \u001b[1mseconds\u001b[0m\n"
      ]
     },
     "metadata": {},
     "output_type": "display_data"
    },
    {
     "data": {
      "text/html": [
       "<pre style=\"white-space:pre;overflow-x:auto;line-height:normal;font-family:Menlo,'DejaVu Sans Mono',consolas,'Courier New',monospace\"><span style=\"color: #800080; text-decoration-color: #800080; font-weight: bold\">Creating generation </span><span style=\"color: #800080; text-decoration-color: #800080; font-weight: bold\">3</span><span style=\"color: #800080; text-decoration-color: #800080; font-weight: bold\">...</span>\n",
       "</pre>\n"
      ],
      "text/plain": [
       "\u001b[1;35mCreating generation \u001b[0m\u001b[1;35m3\u001b[0m\u001b[1;35m...\u001b[0m\n"
      ]
     },
     "metadata": {},
     "output_type": "display_data"
    },
    {
     "data": {
      "text/html": [
       "<pre style=\"white-space:pre;overflow-x:auto;line-height:normal;font-family:Menlo,'DejaVu Sans Mono',consolas,'Courier New',monospace\"> ✔ Evaluating population of new generation <span style=\"color: #008080; text-decoration-color: #008080; font-weight: bold\">3</span><span style=\"color: #808000; text-decoration-color: #808000\">...</span>\n",
       "</pre>\n"
      ],
      "text/plain": [
       " ✔ Evaluating population of new generation \u001b[1;36m3\u001b[0m\u001b[33m...\u001b[0m\n"
      ]
     },
     "metadata": {},
     "output_type": "display_data"
    },
    {
     "data": {
      "text/html": [
       "<pre style=\"white-space:pre;overflow-x:auto;line-height:normal;font-family:Menlo,'DejaVu Sans Mono',consolas,'Courier New',monospace\"> ✔ <span style=\"color: #800080; text-decoration-color: #800080\">Same scoring value found </span><span style=\"color: #800080; text-decoration-color: #800080; font-weight: bold\">2</span><span style=\"color: #800080; text-decoration-color: #800080\"> / </span><span style=\"color: #800080; text-decoration-color: #800080; font-weight: bold\">5</span><span style=\"color: #800080; text-decoration-color: #800080\"> times.</span>\n",
       "</pre>\n"
      ],
      "text/plain": [
       " ✔ \u001b[35mSame scoring value found \u001b[0m\u001b[1;35m2\u001b[0m\u001b[35m \u001b[0m\u001b[35m/\u001b[0m\u001b[35m \u001b[0m\u001b[1;35m5\u001b[0m\u001b[35m times.\u001b[0m\n"
      ]
     },
     "metadata": {},
     "output_type": "display_data"
    },
    {
     "data": {
      "text/html": [
       "<pre style=\"white-space:pre;overflow-x:auto;line-height:normal;font-family:Menlo,'DejaVu Sans Mono',consolas,'Courier New',monospace\"> ✔ Current best chromosome: <span style=\"font-weight: bold\">[</span><span style=\"color: #008080; text-decoration-color: #008080; font-weight: bold\">1</span> <span style=\"color: #008080; text-decoration-color: #008080; font-weight: bold\">1</span> <span style=\"color: #008080; text-decoration-color: #008080; font-weight: bold\">1</span> <span style=\"color: #008080; text-decoration-color: #008080; font-weight: bold\">1</span> <span style=\"color: #008080; text-decoration-color: #008080; font-weight: bold\">0</span> <span style=\"color: #008080; text-decoration-color: #008080; font-weight: bold\">1</span> <span style=\"color: #008080; text-decoration-color: #008080; font-weight: bold\">1</span> <span style=\"color: #008080; text-decoration-color: #008080; font-weight: bold\">1</span> <span style=\"color: #008080; text-decoration-color: #008080; font-weight: bold\">1</span> <span style=\"color: #008080; text-decoration-color: #008080; font-weight: bold\">1</span> <span style=\"color: #008080; text-decoration-color: #008080; font-weight: bold\">0</span> <span style=\"color: #008080; text-decoration-color: #008080; font-weight: bold\">1</span> <span style=\"color: #008080; text-decoration-color: #008080; font-weight: bold\">0</span><span style=\"font-weight: bold\">]</span>, Score: <span style=\"color: #008080; text-decoration-color: #008080; font-weight: bold\">0.9859154929577465</span>\n",
       "</pre>\n"
      ],
      "text/plain": [
       " ✔ Current best chromosome: \u001b[1m[\u001b[0m\u001b[1;36m1\u001b[0m \u001b[1;36m1\u001b[0m \u001b[1;36m1\u001b[0m \u001b[1;36m1\u001b[0m \u001b[1;36m0\u001b[0m \u001b[1;36m1\u001b[0m \u001b[1;36m1\u001b[0m \u001b[1;36m1\u001b[0m \u001b[1;36m1\u001b[0m \u001b[1;36m1\u001b[0m \u001b[1;36m0\u001b[0m \u001b[1;36m1\u001b[0m \u001b[1;36m0\u001b[0m\u001b[1m]\u001b[0m, Score: \u001b[1;36m0.9859154929577465\u001b[0m\n"
      ]
     },
     "metadata": {},
     "output_type": "display_data"
    },
    {
     "data": {
      "text/html": [
       "<pre style=\"white-space:pre;overflow-x:auto;line-height:normal;font-family:Menlo,'DejaVu Sans Mono',consolas,'Courier New',monospace\">    <span style=\"font-weight: bold\">Elapsed generation time: </span> <span style=\"color: #008080; text-decoration-color: #008080; font-weight: bold\">2.68</span> <span style=\"font-weight: bold\">seconds</span>\n",
       "</pre>\n"
      ],
      "text/plain": [
       "    \u001b[1mElapsed generation time: \u001b[0m \u001b[1;36m2.68\u001b[0m \u001b[1mseconds\u001b[0m\n"
      ]
     },
     "metadata": {},
     "output_type": "display_data"
    },
    {
     "data": {
      "text/html": [
       "<pre style=\"white-space:pre;overflow-x:auto;line-height:normal;font-family:Menlo,'DejaVu Sans Mono',consolas,'Courier New',monospace\"><span style=\"color: #800080; text-decoration-color: #800080; font-weight: bold\">Creating generation </span><span style=\"color: #800080; text-decoration-color: #800080; font-weight: bold\">4</span><span style=\"color: #800080; text-decoration-color: #800080; font-weight: bold\">...</span>\n",
       "</pre>\n"
      ],
      "text/plain": [
       "\u001b[1;35mCreating generation \u001b[0m\u001b[1;35m4\u001b[0m\u001b[1;35m...\u001b[0m\n"
      ]
     },
     "metadata": {},
     "output_type": "display_data"
    },
    {
     "data": {
      "text/html": [
       "<pre style=\"white-space:pre;overflow-x:auto;line-height:normal;font-family:Menlo,'DejaVu Sans Mono',consolas,'Courier New',monospace\"> ✔ Evaluating population of new generation <span style=\"color: #008080; text-decoration-color: #008080; font-weight: bold\">4</span><span style=\"color: #808000; text-decoration-color: #808000\">...</span>\n",
       "</pre>\n"
      ],
      "text/plain": [
       " ✔ Evaluating population of new generation \u001b[1;36m4\u001b[0m\u001b[33m...\u001b[0m\n"
      ]
     },
     "metadata": {},
     "output_type": "display_data"
    },
    {
     "data": {
      "text/html": [
       "<pre style=\"white-space:pre;overflow-x:auto;line-height:normal;font-family:Menlo,'DejaVu Sans Mono',consolas,'Courier New',monospace\"> ✔ <span style=\"color: #008000; text-decoration-color: #008000; font-weight: bold\">(Better)</span> A better chromosome than the current one has been found <span style=\"color: #008080; text-decoration-color: #008080; font-weight: bold\">0.9929577464788732</span>\n",
       "</pre>\n"
      ],
      "text/plain": [
       " ✔ \u001b[1;32m(\u001b[0m\u001b[1;32mBetter\u001b[0m\u001b[1;32m)\u001b[0m A better chromosome than the current one has been found \u001b[1;36m0.9929577464788732\u001b[0m\n"
      ]
     },
     "metadata": {},
     "output_type": "display_data"
    },
    {
     "data": {
      "text/html": [
       "<pre style=\"white-space:pre;overflow-x:auto;line-height:normal;font-family:Menlo,'DejaVu Sans Mono',consolas,'Courier New',monospace\"> ✔ Current best chromosome: <span style=\"font-weight: bold\">[</span><span style=\"color: #008080; text-decoration-color: #008080; font-weight: bold\">1</span> <span style=\"color: #008080; text-decoration-color: #008080; font-weight: bold\">0</span> <span style=\"color: #008080; text-decoration-color: #008080; font-weight: bold\">1</span> <span style=\"color: #008080; text-decoration-color: #008080; font-weight: bold\">1</span> <span style=\"color: #008080; text-decoration-color: #008080; font-weight: bold\">0</span> <span style=\"color: #008080; text-decoration-color: #008080; font-weight: bold\">0</span> <span style=\"color: #008080; text-decoration-color: #008080; font-weight: bold\">1</span> <span style=\"color: #008080; text-decoration-color: #008080; font-weight: bold\">0</span> <span style=\"color: #008080; text-decoration-color: #008080; font-weight: bold\">0</span> <span style=\"color: #008080; text-decoration-color: #008080; font-weight: bold\">0</span> <span style=\"color: #008080; text-decoration-color: #008080; font-weight: bold\">1</span> <span style=\"color: #008080; text-decoration-color: #008080; font-weight: bold\">0</span> <span style=\"color: #008080; text-decoration-color: #008080; font-weight: bold\">0</span><span style=\"font-weight: bold\">]</span>, Score: <span style=\"color: #008080; text-decoration-color: #008080; font-weight: bold\">0.9929577464788732</span>\n",
       "</pre>\n"
      ],
      "text/plain": [
       " ✔ Current best chromosome: \u001b[1m[\u001b[0m\u001b[1;36m1\u001b[0m \u001b[1;36m0\u001b[0m \u001b[1;36m1\u001b[0m \u001b[1;36m1\u001b[0m \u001b[1;36m0\u001b[0m \u001b[1;36m0\u001b[0m \u001b[1;36m1\u001b[0m \u001b[1;36m0\u001b[0m \u001b[1;36m0\u001b[0m \u001b[1;36m0\u001b[0m \u001b[1;36m1\u001b[0m \u001b[1;36m0\u001b[0m \u001b[1;36m0\u001b[0m\u001b[1m]\u001b[0m, Score: \u001b[1;36m0.9929577464788732\u001b[0m\n"
      ]
     },
     "metadata": {},
     "output_type": "display_data"
    },
    {
     "data": {
      "text/html": [
       "<pre style=\"white-space:pre;overflow-x:auto;line-height:normal;font-family:Menlo,'DejaVu Sans Mono',consolas,'Courier New',monospace\">    <span style=\"font-weight: bold\">Elapsed generation time: </span> <span style=\"color: #008080; text-decoration-color: #008080; font-weight: bold\">2.69</span> <span style=\"font-weight: bold\">seconds</span>\n",
       "</pre>\n"
      ],
      "text/plain": [
       "    \u001b[1mElapsed generation time: \u001b[0m \u001b[1;36m2.69\u001b[0m \u001b[1mseconds\u001b[0m\n"
      ]
     },
     "metadata": {},
     "output_type": "display_data"
    },
    {
     "data": {
      "text/html": [
       "<pre style=\"white-space:pre;overflow-x:auto;line-height:normal;font-family:Menlo,'DejaVu Sans Mono',consolas,'Courier New',monospace\"><span style=\"color: #800080; text-decoration-color: #800080; font-weight: bold\">Creating generation </span><span style=\"color: #800080; text-decoration-color: #800080; font-weight: bold\">5</span><span style=\"color: #800080; text-decoration-color: #800080; font-weight: bold\">...</span>\n",
       "</pre>\n"
      ],
      "text/plain": [
       "\u001b[1;35mCreating generation \u001b[0m\u001b[1;35m5\u001b[0m\u001b[1;35m...\u001b[0m\n"
      ]
     },
     "metadata": {},
     "output_type": "display_data"
    },
    {
     "data": {
      "text/html": [
       "<pre style=\"white-space:pre;overflow-x:auto;line-height:normal;font-family:Menlo,'DejaVu Sans Mono',consolas,'Courier New',monospace\"> ✔ Evaluating population of new generation <span style=\"color: #008080; text-decoration-color: #008080; font-weight: bold\">5</span><span style=\"color: #808000; text-decoration-color: #808000\">...</span>\n",
       "</pre>\n"
      ],
      "text/plain": [
       " ✔ Evaluating population of new generation \u001b[1;36m5\u001b[0m\u001b[33m...\u001b[0m\n"
      ]
     },
     "metadata": {},
     "output_type": "display_data"
    },
    {
     "data": {
      "text/html": [
       "<pre style=\"white-space:pre;overflow-x:auto;line-height:normal;font-family:Menlo,'DejaVu Sans Mono',consolas,'Courier New',monospace\"> ✔ <span style=\"color: #800000; text-decoration-color: #800000; font-weight: bold\">(WORSE)</span> No better chromosome than the current one has been found <span style=\"color: #008080; text-decoration-color: #008080; font-weight: bold\">0.9788732394366197</span>\n",
       "</pre>\n"
      ],
      "text/plain": [
       " ✔ \u001b[1;31m(\u001b[0m\u001b[1;31mWORSE\u001b[0m\u001b[1;31m)\u001b[0m No better chromosome than the current one has been found \u001b[1;36m0.9788732394366197\u001b[0m\n"
      ]
     },
     "metadata": {},
     "output_type": "display_data"
    },
    {
     "data": {
      "text/html": [
       "<pre style=\"white-space:pre;overflow-x:auto;line-height:normal;font-family:Menlo,'DejaVu Sans Mono',consolas,'Courier New',monospace\"> ✔ Current best chromosome: <span style=\"font-weight: bold\">[</span><span style=\"color: #008080; text-decoration-color: #008080; font-weight: bold\">1</span> <span style=\"color: #008080; text-decoration-color: #008080; font-weight: bold\">0</span> <span style=\"color: #008080; text-decoration-color: #008080; font-weight: bold\">1</span> <span style=\"color: #008080; text-decoration-color: #008080; font-weight: bold\">1</span> <span style=\"color: #008080; text-decoration-color: #008080; font-weight: bold\">0</span> <span style=\"color: #008080; text-decoration-color: #008080; font-weight: bold\">0</span> <span style=\"color: #008080; text-decoration-color: #008080; font-weight: bold\">1</span> <span style=\"color: #008080; text-decoration-color: #008080; font-weight: bold\">0</span> <span style=\"color: #008080; text-decoration-color: #008080; font-weight: bold\">0</span> <span style=\"color: #008080; text-decoration-color: #008080; font-weight: bold\">0</span> <span style=\"color: #008080; text-decoration-color: #008080; font-weight: bold\">1</span> <span style=\"color: #008080; text-decoration-color: #008080; font-weight: bold\">0</span> <span style=\"color: #008080; text-decoration-color: #008080; font-weight: bold\">0</span><span style=\"font-weight: bold\">]</span>, Score: <span style=\"color: #008080; text-decoration-color: #008080; font-weight: bold\">0.9929577464788732</span>\n",
       "</pre>\n"
      ],
      "text/plain": [
       " ✔ Current best chromosome: \u001b[1m[\u001b[0m\u001b[1;36m1\u001b[0m \u001b[1;36m0\u001b[0m \u001b[1;36m1\u001b[0m \u001b[1;36m1\u001b[0m \u001b[1;36m0\u001b[0m \u001b[1;36m0\u001b[0m \u001b[1;36m1\u001b[0m \u001b[1;36m0\u001b[0m \u001b[1;36m0\u001b[0m \u001b[1;36m0\u001b[0m \u001b[1;36m1\u001b[0m \u001b[1;36m0\u001b[0m \u001b[1;36m0\u001b[0m\u001b[1m]\u001b[0m, Score: \u001b[1;36m0.9929577464788732\u001b[0m\n"
      ]
     },
     "metadata": {},
     "output_type": "display_data"
    },
    {
     "data": {
      "text/html": [
       "<pre style=\"white-space:pre;overflow-x:auto;line-height:normal;font-family:Menlo,'DejaVu Sans Mono',consolas,'Courier New',monospace\">    <span style=\"font-weight: bold\">Elapsed generation time: </span> <span style=\"color: #008080; text-decoration-color: #008080; font-weight: bold\">2.71</span> <span style=\"font-weight: bold\">seconds</span>\n",
       "</pre>\n"
      ],
      "text/plain": [
       "    \u001b[1mElapsed generation time: \u001b[0m \u001b[1;36m2.71\u001b[0m \u001b[1mseconds\u001b[0m\n"
      ]
     },
     "metadata": {},
     "output_type": "display_data"
    },
    {
     "data": {
      "text/html": [
       "<pre style=\"white-space:pre;overflow-x:auto;line-height:normal;font-family:Menlo,'DejaVu Sans Mono',consolas,'Courier New',monospace\"><span style=\"color: #800080; text-decoration-color: #800080; font-weight: bold\">Creating generation </span><span style=\"color: #800080; text-decoration-color: #800080; font-weight: bold\">6</span><span style=\"color: #800080; text-decoration-color: #800080; font-weight: bold\">...</span>\n",
       "</pre>\n"
      ],
      "text/plain": [
       "\u001b[1;35mCreating generation \u001b[0m\u001b[1;35m6\u001b[0m\u001b[1;35m...\u001b[0m\n"
      ]
     },
     "metadata": {},
     "output_type": "display_data"
    },
    {
     "data": {
      "text/html": [
       "<pre style=\"white-space:pre;overflow-x:auto;line-height:normal;font-family:Menlo,'DejaVu Sans Mono',consolas,'Courier New',monospace\"> ✔ Evaluating population of new generation <span style=\"color: #008080; text-decoration-color: #008080; font-weight: bold\">6</span><span style=\"color: #808000; text-decoration-color: #808000\">...</span>\n",
       "</pre>\n"
      ],
      "text/plain": [
       " ✔ Evaluating population of new generation \u001b[1;36m6\u001b[0m\u001b[33m...\u001b[0m\n"
      ]
     },
     "metadata": {},
     "output_type": "display_data"
    },
    {
     "data": {
      "text/html": [
       "<pre style=\"white-space:pre;overflow-x:auto;line-height:normal;font-family:Menlo,'DejaVu Sans Mono',consolas,'Courier New',monospace\"> ✔ <span style=\"color: #800000; text-decoration-color: #800000; font-weight: bold\">(WORSE)</span> No better chromosome than the current one has been found <span style=\"color: #008080; text-decoration-color: #008080; font-weight: bold\">0.9859154929577465</span>\n",
       "</pre>\n"
      ],
      "text/plain": [
       " ✔ \u001b[1;31m(\u001b[0m\u001b[1;31mWORSE\u001b[0m\u001b[1;31m)\u001b[0m No better chromosome than the current one has been found \u001b[1;36m0.9859154929577465\u001b[0m\n"
      ]
     },
     "metadata": {},
     "output_type": "display_data"
    },
    {
     "data": {
      "text/html": [
       "<pre style=\"white-space:pre;overflow-x:auto;line-height:normal;font-family:Menlo,'DejaVu Sans Mono',consolas,'Courier New',monospace\"> ✔ Current best chromosome: <span style=\"font-weight: bold\">[</span><span style=\"color: #008080; text-decoration-color: #008080; font-weight: bold\">1</span> <span style=\"color: #008080; text-decoration-color: #008080; font-weight: bold\">0</span> <span style=\"color: #008080; text-decoration-color: #008080; font-weight: bold\">1</span> <span style=\"color: #008080; text-decoration-color: #008080; font-weight: bold\">1</span> <span style=\"color: #008080; text-decoration-color: #008080; font-weight: bold\">0</span> <span style=\"color: #008080; text-decoration-color: #008080; font-weight: bold\">0</span> <span style=\"color: #008080; text-decoration-color: #008080; font-weight: bold\">1</span> <span style=\"color: #008080; text-decoration-color: #008080; font-weight: bold\">0</span> <span style=\"color: #008080; text-decoration-color: #008080; font-weight: bold\">0</span> <span style=\"color: #008080; text-decoration-color: #008080; font-weight: bold\">0</span> <span style=\"color: #008080; text-decoration-color: #008080; font-weight: bold\">1</span> <span style=\"color: #008080; text-decoration-color: #008080; font-weight: bold\">0</span> <span style=\"color: #008080; text-decoration-color: #008080; font-weight: bold\">0</span><span style=\"font-weight: bold\">]</span>, Score: <span style=\"color: #008080; text-decoration-color: #008080; font-weight: bold\">0.9929577464788732</span>\n",
       "</pre>\n"
      ],
      "text/plain": [
       " ✔ Current best chromosome: \u001b[1m[\u001b[0m\u001b[1;36m1\u001b[0m \u001b[1;36m0\u001b[0m \u001b[1;36m1\u001b[0m \u001b[1;36m1\u001b[0m \u001b[1;36m0\u001b[0m \u001b[1;36m0\u001b[0m \u001b[1;36m1\u001b[0m \u001b[1;36m0\u001b[0m \u001b[1;36m0\u001b[0m \u001b[1;36m0\u001b[0m \u001b[1;36m1\u001b[0m \u001b[1;36m0\u001b[0m \u001b[1;36m0\u001b[0m\u001b[1m]\u001b[0m, Score: \u001b[1;36m0.9929577464788732\u001b[0m\n"
      ]
     },
     "metadata": {},
     "output_type": "display_data"
    },
    {
     "data": {
      "text/html": [
       "<pre style=\"white-space:pre;overflow-x:auto;line-height:normal;font-family:Menlo,'DejaVu Sans Mono',consolas,'Courier New',monospace\">    <span style=\"font-weight: bold\">Elapsed generation time: </span> <span style=\"color: #008080; text-decoration-color: #008080; font-weight: bold\">2.65</span> <span style=\"font-weight: bold\">seconds</span>\n",
       "</pre>\n"
      ],
      "text/plain": [
       "    \u001b[1mElapsed generation time: \u001b[0m \u001b[1;36m2.65\u001b[0m \u001b[1mseconds\u001b[0m\n"
      ]
     },
     "metadata": {},
     "output_type": "display_data"
    },
    {
     "data": {
      "text/html": [
       "<pre style=\"white-space:pre;overflow-x:auto;line-height:normal;font-family:Menlo,'DejaVu Sans Mono',consolas,'Courier New',monospace\"><span style=\"color: #800080; text-decoration-color: #800080; font-weight: bold\">Creating generation </span><span style=\"color: #800080; text-decoration-color: #800080; font-weight: bold\">7</span><span style=\"color: #800080; text-decoration-color: #800080; font-weight: bold\">...</span>\n",
       "</pre>\n"
      ],
      "text/plain": [
       "\u001b[1;35mCreating generation \u001b[0m\u001b[1;35m7\u001b[0m\u001b[1;35m...\u001b[0m\n"
      ]
     },
     "metadata": {},
     "output_type": "display_data"
    },
    {
     "data": {
      "text/html": [
       "<pre style=\"white-space:pre;overflow-x:auto;line-height:normal;font-family:Menlo,'DejaVu Sans Mono',consolas,'Courier New',monospace\"> ✔ Evaluating population of new generation <span style=\"color: #008080; text-decoration-color: #008080; font-weight: bold\">7</span><span style=\"color: #808000; text-decoration-color: #808000\">...</span>\n",
       "</pre>\n"
      ],
      "text/plain": [
       " ✔ Evaluating population of new generation \u001b[1;36m7\u001b[0m\u001b[33m...\u001b[0m\n"
      ]
     },
     "metadata": {},
     "output_type": "display_data"
    },
    {
     "data": {
      "text/html": [
       "<pre style=\"white-space:pre;overflow-x:auto;line-height:normal;font-family:Menlo,'DejaVu Sans Mono',consolas,'Courier New',monospace\"> ✔ <span style=\"color: #800000; text-decoration-color: #800000; font-weight: bold\">(WORSE)</span> No better chromosome than the current one has been found <span style=\"color: #008080; text-decoration-color: #008080; font-weight: bold\">0.9859154929577465</span>\n",
       "</pre>\n"
      ],
      "text/plain": [
       " ✔ \u001b[1;31m(\u001b[0m\u001b[1;31mWORSE\u001b[0m\u001b[1;31m)\u001b[0m No better chromosome than the current one has been found \u001b[1;36m0.9859154929577465\u001b[0m\n"
      ]
     },
     "metadata": {},
     "output_type": "display_data"
    },
    {
     "data": {
      "text/html": [
       "<pre style=\"white-space:pre;overflow-x:auto;line-height:normal;font-family:Menlo,'DejaVu Sans Mono',consolas,'Courier New',monospace\"> ✔ Current best chromosome: <span style=\"font-weight: bold\">[</span><span style=\"color: #008080; text-decoration-color: #008080; font-weight: bold\">1</span> <span style=\"color: #008080; text-decoration-color: #008080; font-weight: bold\">0</span> <span style=\"color: #008080; text-decoration-color: #008080; font-weight: bold\">1</span> <span style=\"color: #008080; text-decoration-color: #008080; font-weight: bold\">1</span> <span style=\"color: #008080; text-decoration-color: #008080; font-weight: bold\">0</span> <span style=\"color: #008080; text-decoration-color: #008080; font-weight: bold\">0</span> <span style=\"color: #008080; text-decoration-color: #008080; font-weight: bold\">1</span> <span style=\"color: #008080; text-decoration-color: #008080; font-weight: bold\">0</span> <span style=\"color: #008080; text-decoration-color: #008080; font-weight: bold\">0</span> <span style=\"color: #008080; text-decoration-color: #008080; font-weight: bold\">0</span> <span style=\"color: #008080; text-decoration-color: #008080; font-weight: bold\">1</span> <span style=\"color: #008080; text-decoration-color: #008080; font-weight: bold\">0</span> <span style=\"color: #008080; text-decoration-color: #008080; font-weight: bold\">0</span><span style=\"font-weight: bold\">]</span>, Score: <span style=\"color: #008080; text-decoration-color: #008080; font-weight: bold\">0.9929577464788732</span>\n",
       "</pre>\n"
      ],
      "text/plain": [
       " ✔ Current best chromosome: \u001b[1m[\u001b[0m\u001b[1;36m1\u001b[0m \u001b[1;36m0\u001b[0m \u001b[1;36m1\u001b[0m \u001b[1;36m1\u001b[0m \u001b[1;36m0\u001b[0m \u001b[1;36m0\u001b[0m \u001b[1;36m1\u001b[0m \u001b[1;36m0\u001b[0m \u001b[1;36m0\u001b[0m \u001b[1;36m0\u001b[0m \u001b[1;36m1\u001b[0m \u001b[1;36m0\u001b[0m \u001b[1;36m0\u001b[0m\u001b[1m]\u001b[0m, Score: \u001b[1;36m0.9929577464788732\u001b[0m\n"
      ]
     },
     "metadata": {},
     "output_type": "display_data"
    },
    {
     "data": {
      "text/html": [
       "<pre style=\"white-space:pre;overflow-x:auto;line-height:normal;font-family:Menlo,'DejaVu Sans Mono',consolas,'Courier New',monospace\">    <span style=\"font-weight: bold\">Elapsed generation time: </span> <span style=\"color: #008080; text-decoration-color: #008080; font-weight: bold\">2.67</span> <span style=\"font-weight: bold\">seconds</span>\n",
       "</pre>\n"
      ],
      "text/plain": [
       "    \u001b[1mElapsed generation time: \u001b[0m \u001b[1;36m2.67\u001b[0m \u001b[1mseconds\u001b[0m\n"
      ]
     },
     "metadata": {},
     "output_type": "display_data"
    },
    {
     "data": {
      "text/html": [
       "<pre style=\"white-space:pre;overflow-x:auto;line-height:normal;font-family:Menlo,'DejaVu Sans Mono',consolas,'Courier New',monospace\"><span style=\"color: #800080; text-decoration-color: #800080; font-weight: bold\">Creating generation </span><span style=\"color: #800080; text-decoration-color: #800080; font-weight: bold\">8</span><span style=\"color: #800080; text-decoration-color: #800080; font-weight: bold\">...</span>\n",
       "</pre>\n"
      ],
      "text/plain": [
       "\u001b[1;35mCreating generation \u001b[0m\u001b[1;35m8\u001b[0m\u001b[1;35m...\u001b[0m\n"
      ]
     },
     "metadata": {},
     "output_type": "display_data"
    },
    {
     "data": {
      "text/html": [
       "<pre style=\"white-space:pre;overflow-x:auto;line-height:normal;font-family:Menlo,'DejaVu Sans Mono',consolas,'Courier New',monospace\"> ✔ Evaluating population of new generation <span style=\"color: #008080; text-decoration-color: #008080; font-weight: bold\">8</span><span style=\"color: #808000; text-decoration-color: #808000\">...</span>\n",
       "</pre>\n"
      ],
      "text/plain": [
       " ✔ Evaluating population of new generation \u001b[1;36m8\u001b[0m\u001b[33m...\u001b[0m\n"
      ]
     },
     "metadata": {},
     "output_type": "display_data"
    },
    {
     "data": {
      "text/html": [
       "<pre style=\"white-space:pre;overflow-x:auto;line-height:normal;font-family:Menlo,'DejaVu Sans Mono',consolas,'Courier New',monospace\"> ✔ <span style=\"color: #800000; text-decoration-color: #800000; font-weight: bold\">(WORSE)</span> No better chromosome than the current one has been found <span style=\"color: #008080; text-decoration-color: #008080; font-weight: bold\">0.971830985915493</span>\n",
       "</pre>\n"
      ],
      "text/plain": [
       " ✔ \u001b[1;31m(\u001b[0m\u001b[1;31mWORSE\u001b[0m\u001b[1;31m)\u001b[0m No better chromosome than the current one has been found \u001b[1;36m0.971830985915493\u001b[0m\n"
      ]
     },
     "metadata": {},
     "output_type": "display_data"
    },
    {
     "data": {
      "text/html": [
       "<pre style=\"white-space:pre;overflow-x:auto;line-height:normal;font-family:Menlo,'DejaVu Sans Mono',consolas,'Courier New',monospace\"> ✔ Current best chromosome: <span style=\"font-weight: bold\">[</span><span style=\"color: #008080; text-decoration-color: #008080; font-weight: bold\">1</span> <span style=\"color: #008080; text-decoration-color: #008080; font-weight: bold\">0</span> <span style=\"color: #008080; text-decoration-color: #008080; font-weight: bold\">1</span> <span style=\"color: #008080; text-decoration-color: #008080; font-weight: bold\">1</span> <span style=\"color: #008080; text-decoration-color: #008080; font-weight: bold\">0</span> <span style=\"color: #008080; text-decoration-color: #008080; font-weight: bold\">0</span> <span style=\"color: #008080; text-decoration-color: #008080; font-weight: bold\">1</span> <span style=\"color: #008080; text-decoration-color: #008080; font-weight: bold\">0</span> <span style=\"color: #008080; text-decoration-color: #008080; font-weight: bold\">0</span> <span style=\"color: #008080; text-decoration-color: #008080; font-weight: bold\">0</span> <span style=\"color: #008080; text-decoration-color: #008080; font-weight: bold\">1</span> <span style=\"color: #008080; text-decoration-color: #008080; font-weight: bold\">0</span> <span style=\"color: #008080; text-decoration-color: #008080; font-weight: bold\">0</span><span style=\"font-weight: bold\">]</span>, Score: <span style=\"color: #008080; text-decoration-color: #008080; font-weight: bold\">0.9929577464788732</span>\n",
       "</pre>\n"
      ],
      "text/plain": [
       " ✔ Current best chromosome: \u001b[1m[\u001b[0m\u001b[1;36m1\u001b[0m \u001b[1;36m0\u001b[0m \u001b[1;36m1\u001b[0m \u001b[1;36m1\u001b[0m \u001b[1;36m0\u001b[0m \u001b[1;36m0\u001b[0m \u001b[1;36m1\u001b[0m \u001b[1;36m0\u001b[0m \u001b[1;36m0\u001b[0m \u001b[1;36m0\u001b[0m \u001b[1;36m1\u001b[0m \u001b[1;36m0\u001b[0m \u001b[1;36m0\u001b[0m\u001b[1m]\u001b[0m, Score: \u001b[1;36m0.9929577464788732\u001b[0m\n"
      ]
     },
     "metadata": {},
     "output_type": "display_data"
    },
    {
     "data": {
      "text/html": [
       "<pre style=\"white-space:pre;overflow-x:auto;line-height:normal;font-family:Menlo,'DejaVu Sans Mono',consolas,'Courier New',monospace\">    <span style=\"font-weight: bold\">Elapsed generation time: </span> <span style=\"color: #008080; text-decoration-color: #008080; font-weight: bold\">2.67</span> <span style=\"font-weight: bold\">seconds</span>\n",
       "</pre>\n"
      ],
      "text/plain": [
       "    \u001b[1mElapsed generation time: \u001b[0m \u001b[1;36m2.67\u001b[0m \u001b[1mseconds\u001b[0m\n"
      ]
     },
     "metadata": {},
     "output_type": "display_data"
    },
    {
     "data": {
      "text/html": [
       "<pre style=\"white-space:pre;overflow-x:auto;line-height:normal;font-family:Menlo,'DejaVu Sans Mono',consolas,'Courier New',monospace\"><span style=\"color: #800080; text-decoration-color: #800080; font-weight: bold\">Creating generation </span><span style=\"color: #800080; text-decoration-color: #800080; font-weight: bold\">9</span><span style=\"color: #800080; text-decoration-color: #800080; font-weight: bold\">...</span>\n",
       "</pre>\n"
      ],
      "text/plain": [
       "\u001b[1;35mCreating generation \u001b[0m\u001b[1;35m9\u001b[0m\u001b[1;35m...\u001b[0m\n"
      ]
     },
     "metadata": {},
     "output_type": "display_data"
    },
    {
     "data": {
      "text/html": [
       "<pre style=\"white-space:pre;overflow-x:auto;line-height:normal;font-family:Menlo,'DejaVu Sans Mono',consolas,'Courier New',monospace\"> ✔ Evaluating population of new generation <span style=\"color: #008080; text-decoration-color: #008080; font-weight: bold\">9</span><span style=\"color: #808000; text-decoration-color: #808000\">...</span>\n",
       "</pre>\n"
      ],
      "text/plain": [
       " ✔ Evaluating population of new generation \u001b[1;36m9\u001b[0m\u001b[33m...\u001b[0m\n"
      ]
     },
     "metadata": {},
     "output_type": "display_data"
    },
    {
     "data": {
      "text/html": [
       "<pre style=\"white-space:pre;overflow-x:auto;line-height:normal;font-family:Menlo,'DejaVu Sans Mono',consolas,'Courier New',monospace\"> ✔ <span style=\"color: #800000; text-decoration-color: #800000; font-weight: bold\">(WORSE)</span> No better chromosome than the current one has been found <span style=\"color: #008080; text-decoration-color: #008080; font-weight: bold\">0.9788732394366197</span>\n",
       "</pre>\n"
      ],
      "text/plain": [
       " ✔ \u001b[1;31m(\u001b[0m\u001b[1;31mWORSE\u001b[0m\u001b[1;31m)\u001b[0m No better chromosome than the current one has been found \u001b[1;36m0.9788732394366197\u001b[0m\n"
      ]
     },
     "metadata": {},
     "output_type": "display_data"
    },
    {
     "data": {
      "text/html": [
       "<pre style=\"white-space:pre;overflow-x:auto;line-height:normal;font-family:Menlo,'DejaVu Sans Mono',consolas,'Courier New',monospace\"> ✔ Current best chromosome: <span style=\"font-weight: bold\">[</span><span style=\"color: #008080; text-decoration-color: #008080; font-weight: bold\">1</span> <span style=\"color: #008080; text-decoration-color: #008080; font-weight: bold\">0</span> <span style=\"color: #008080; text-decoration-color: #008080; font-weight: bold\">1</span> <span style=\"color: #008080; text-decoration-color: #008080; font-weight: bold\">1</span> <span style=\"color: #008080; text-decoration-color: #008080; font-weight: bold\">0</span> <span style=\"color: #008080; text-decoration-color: #008080; font-weight: bold\">0</span> <span style=\"color: #008080; text-decoration-color: #008080; font-weight: bold\">1</span> <span style=\"color: #008080; text-decoration-color: #008080; font-weight: bold\">0</span> <span style=\"color: #008080; text-decoration-color: #008080; font-weight: bold\">0</span> <span style=\"color: #008080; text-decoration-color: #008080; font-weight: bold\">0</span> <span style=\"color: #008080; text-decoration-color: #008080; font-weight: bold\">1</span> <span style=\"color: #008080; text-decoration-color: #008080; font-weight: bold\">0</span> <span style=\"color: #008080; text-decoration-color: #008080; font-weight: bold\">0</span><span style=\"font-weight: bold\">]</span>, Score: <span style=\"color: #008080; text-decoration-color: #008080; font-weight: bold\">0.9929577464788732</span>\n",
       "</pre>\n"
      ],
      "text/plain": [
       " ✔ Current best chromosome: \u001b[1m[\u001b[0m\u001b[1;36m1\u001b[0m \u001b[1;36m0\u001b[0m \u001b[1;36m1\u001b[0m \u001b[1;36m1\u001b[0m \u001b[1;36m0\u001b[0m \u001b[1;36m0\u001b[0m \u001b[1;36m1\u001b[0m \u001b[1;36m0\u001b[0m \u001b[1;36m0\u001b[0m \u001b[1;36m0\u001b[0m \u001b[1;36m1\u001b[0m \u001b[1;36m0\u001b[0m \u001b[1;36m0\u001b[0m\u001b[1m]\u001b[0m, Score: \u001b[1;36m0.9929577464788732\u001b[0m\n"
      ]
     },
     "metadata": {},
     "output_type": "display_data"
    },
    {
     "data": {
      "text/html": [
       "<pre style=\"white-space:pre;overflow-x:auto;line-height:normal;font-family:Menlo,'DejaVu Sans Mono',consolas,'Courier New',monospace\">    <span style=\"font-weight: bold\">Elapsed generation time: </span> <span style=\"color: #008080; text-decoration-color: #008080; font-weight: bold\">2.70</span> <span style=\"font-weight: bold\">seconds</span>\n",
       "</pre>\n"
      ],
      "text/plain": [
       "    \u001b[1mElapsed generation time: \u001b[0m \u001b[1;36m2.70\u001b[0m \u001b[1mseconds\u001b[0m\n"
      ]
     },
     "metadata": {},
     "output_type": "display_data"
    },
    {
     "data": {
      "text/html": [
       "<pre style=\"white-space:pre;overflow-x:auto;line-height:normal;font-family:Menlo,'DejaVu Sans Mono',consolas,'Courier New',monospace\"><span style=\"color: #800080; text-decoration-color: #800080; font-weight: bold\">Creating generation </span><span style=\"color: #800080; text-decoration-color: #800080; font-weight: bold\">10</span><span style=\"color: #800080; text-decoration-color: #800080; font-weight: bold\">...</span>\n",
       "</pre>\n"
      ],
      "text/plain": [
       "\u001b[1;35mCreating generation \u001b[0m\u001b[1;35m10\u001b[0m\u001b[1;35m...\u001b[0m\n"
      ]
     },
     "metadata": {},
     "output_type": "display_data"
    },
    {
     "data": {
      "text/html": [
       "<pre style=\"white-space:pre;overflow-x:auto;line-height:normal;font-family:Menlo,'DejaVu Sans Mono',consolas,'Courier New',monospace\"> ✔ Evaluating population of new generation <span style=\"color: #008080; text-decoration-color: #008080; font-weight: bold\">10</span><span style=\"color: #808000; text-decoration-color: #808000\">...</span>\n",
       "</pre>\n"
      ],
      "text/plain": [
       " ✔ Evaluating population of new generation \u001b[1;36m10\u001b[0m\u001b[33m...\u001b[0m\n"
      ]
     },
     "metadata": {},
     "output_type": "display_data"
    },
    {
     "data": {
      "text/html": [
       "<pre style=\"white-space:pre;overflow-x:auto;line-height:normal;font-family:Menlo,'DejaVu Sans Mono',consolas,'Courier New',monospace\"> ✔ <span style=\"color: #800000; text-decoration-color: #800000; font-weight: bold\">(WORSE)</span> No better chromosome than the current one has been found <span style=\"color: #008080; text-decoration-color: #008080; font-weight: bold\">0.9788732394366197</span>\n",
       "</pre>\n"
      ],
      "text/plain": [
       " ✔ \u001b[1;31m(\u001b[0m\u001b[1;31mWORSE\u001b[0m\u001b[1;31m)\u001b[0m No better chromosome than the current one has been found \u001b[1;36m0.9788732394366197\u001b[0m\n"
      ]
     },
     "metadata": {},
     "output_type": "display_data"
    },
    {
     "data": {
      "text/html": [
       "<pre style=\"white-space:pre;overflow-x:auto;line-height:normal;font-family:Menlo,'DejaVu Sans Mono',consolas,'Courier New',monospace\"> ✔ Current best chromosome: <span style=\"font-weight: bold\">[</span><span style=\"color: #008080; text-decoration-color: #008080; font-weight: bold\">1</span> <span style=\"color: #008080; text-decoration-color: #008080; font-weight: bold\">0</span> <span style=\"color: #008080; text-decoration-color: #008080; font-weight: bold\">1</span> <span style=\"color: #008080; text-decoration-color: #008080; font-weight: bold\">1</span> <span style=\"color: #008080; text-decoration-color: #008080; font-weight: bold\">0</span> <span style=\"color: #008080; text-decoration-color: #008080; font-weight: bold\">0</span> <span style=\"color: #008080; text-decoration-color: #008080; font-weight: bold\">1</span> <span style=\"color: #008080; text-decoration-color: #008080; font-weight: bold\">0</span> <span style=\"color: #008080; text-decoration-color: #008080; font-weight: bold\">0</span> <span style=\"color: #008080; text-decoration-color: #008080; font-weight: bold\">0</span> <span style=\"color: #008080; text-decoration-color: #008080; font-weight: bold\">1</span> <span style=\"color: #008080; text-decoration-color: #008080; font-weight: bold\">0</span> <span style=\"color: #008080; text-decoration-color: #008080; font-weight: bold\">0</span><span style=\"font-weight: bold\">]</span>, Score: <span style=\"color: #008080; text-decoration-color: #008080; font-weight: bold\">0.9929577464788732</span>\n",
       "</pre>\n"
      ],
      "text/plain": [
       " ✔ Current best chromosome: \u001b[1m[\u001b[0m\u001b[1;36m1\u001b[0m \u001b[1;36m0\u001b[0m \u001b[1;36m1\u001b[0m \u001b[1;36m1\u001b[0m \u001b[1;36m0\u001b[0m \u001b[1;36m0\u001b[0m \u001b[1;36m1\u001b[0m \u001b[1;36m0\u001b[0m \u001b[1;36m0\u001b[0m \u001b[1;36m0\u001b[0m \u001b[1;36m1\u001b[0m \u001b[1;36m0\u001b[0m \u001b[1;36m0\u001b[0m\u001b[1m]\u001b[0m, Score: \u001b[1;36m0.9929577464788732\u001b[0m\n"
      ]
     },
     "metadata": {},
     "output_type": "display_data"
    },
    {
     "data": {
      "text/html": [
       "<pre style=\"white-space:pre;overflow-x:auto;line-height:normal;font-family:Menlo,'DejaVu Sans Mono',consolas,'Courier New',monospace\">    <span style=\"font-weight: bold\">Elapsed generation time: </span> <span style=\"color: #008080; text-decoration-color: #008080; font-weight: bold\">2.72</span> <span style=\"font-weight: bold\">seconds</span>\n",
       "</pre>\n"
      ],
      "text/plain": [
       "    \u001b[1mElapsed generation time: \u001b[0m \u001b[1;36m2.72\u001b[0m \u001b[1mseconds\u001b[0m\n"
      ]
     },
     "metadata": {},
     "output_type": "display_data"
    },
    {
     "data": {
      "text/html": [
       "<pre style=\"white-space:pre;overflow-x:auto;line-height:normal;font-family:Menlo,'DejaVu Sans Mono',consolas,'Courier New',monospace\"><span style=\"color: #800080; text-decoration-color: #800080; font-weight: bold\">Creating generation </span><span style=\"color: #800080; text-decoration-color: #800080; font-weight: bold\">11</span><span style=\"color: #800080; text-decoration-color: #800080; font-weight: bold\">...</span>\n",
       "</pre>\n"
      ],
      "text/plain": [
       "\u001b[1;35mCreating generation \u001b[0m\u001b[1;35m11\u001b[0m\u001b[1;35m...\u001b[0m\n"
      ]
     },
     "metadata": {},
     "output_type": "display_data"
    },
    {
     "data": {
      "text/html": [
       "<pre style=\"white-space:pre;overflow-x:auto;line-height:normal;font-family:Menlo,'DejaVu Sans Mono',consolas,'Courier New',monospace\"> ✔ Evaluating population of new generation <span style=\"color: #008080; text-decoration-color: #008080; font-weight: bold\">11</span><span style=\"color: #808000; text-decoration-color: #808000\">...</span>\n",
       "</pre>\n"
      ],
      "text/plain": [
       " ✔ Evaluating population of new generation \u001b[1;36m11\u001b[0m\u001b[33m...\u001b[0m\n"
      ]
     },
     "metadata": {},
     "output_type": "display_data"
    },
    {
     "data": {
      "text/html": [
       "<pre style=\"white-space:pre;overflow-x:auto;line-height:normal;font-family:Menlo,'DejaVu Sans Mono',consolas,'Courier New',monospace\"> ✔ <span style=\"color: #800000; text-decoration-color: #800000; font-weight: bold\">(WORSE)</span> No better chromosome than the current one has been found <span style=\"color: #008080; text-decoration-color: #008080; font-weight: bold\">0.9788732394366197</span>\n",
       "</pre>\n"
      ],
      "text/plain": [
       " ✔ \u001b[1;31m(\u001b[0m\u001b[1;31mWORSE\u001b[0m\u001b[1;31m)\u001b[0m No better chromosome than the current one has been found \u001b[1;36m0.9788732394366197\u001b[0m\n"
      ]
     },
     "metadata": {},
     "output_type": "display_data"
    },
    {
     "data": {
      "text/html": [
       "<pre style=\"white-space:pre;overflow-x:auto;line-height:normal;font-family:Menlo,'DejaVu Sans Mono',consolas,'Courier New',monospace\"> ✔ Current best chromosome: <span style=\"font-weight: bold\">[</span><span style=\"color: #008080; text-decoration-color: #008080; font-weight: bold\">1</span> <span style=\"color: #008080; text-decoration-color: #008080; font-weight: bold\">0</span> <span style=\"color: #008080; text-decoration-color: #008080; font-weight: bold\">1</span> <span style=\"color: #008080; text-decoration-color: #008080; font-weight: bold\">1</span> <span style=\"color: #008080; text-decoration-color: #008080; font-weight: bold\">0</span> <span style=\"color: #008080; text-decoration-color: #008080; font-weight: bold\">0</span> <span style=\"color: #008080; text-decoration-color: #008080; font-weight: bold\">1</span> <span style=\"color: #008080; text-decoration-color: #008080; font-weight: bold\">0</span> <span style=\"color: #008080; text-decoration-color: #008080; font-weight: bold\">0</span> <span style=\"color: #008080; text-decoration-color: #008080; font-weight: bold\">0</span> <span style=\"color: #008080; text-decoration-color: #008080; font-weight: bold\">1</span> <span style=\"color: #008080; text-decoration-color: #008080; font-weight: bold\">0</span> <span style=\"color: #008080; text-decoration-color: #008080; font-weight: bold\">0</span><span style=\"font-weight: bold\">]</span>, Score: <span style=\"color: #008080; text-decoration-color: #008080; font-weight: bold\">0.9929577464788732</span>\n",
       "</pre>\n"
      ],
      "text/plain": [
       " ✔ Current best chromosome: \u001b[1m[\u001b[0m\u001b[1;36m1\u001b[0m \u001b[1;36m0\u001b[0m \u001b[1;36m1\u001b[0m \u001b[1;36m1\u001b[0m \u001b[1;36m0\u001b[0m \u001b[1;36m0\u001b[0m \u001b[1;36m1\u001b[0m \u001b[1;36m0\u001b[0m \u001b[1;36m0\u001b[0m \u001b[1;36m0\u001b[0m \u001b[1;36m1\u001b[0m \u001b[1;36m0\u001b[0m \u001b[1;36m0\u001b[0m\u001b[1m]\u001b[0m, Score: \u001b[1;36m0.9929577464788732\u001b[0m\n"
      ]
     },
     "metadata": {},
     "output_type": "display_data"
    },
    {
     "data": {
      "text/html": [
       "<pre style=\"white-space:pre;overflow-x:auto;line-height:normal;font-family:Menlo,'DejaVu Sans Mono',consolas,'Courier New',monospace\">    <span style=\"font-weight: bold\">Elapsed generation time: </span> <span style=\"color: #008080; text-decoration-color: #008080; font-weight: bold\">2.73</span> <span style=\"font-weight: bold\">seconds</span>\n",
       "</pre>\n"
      ],
      "text/plain": [
       "    \u001b[1mElapsed generation time: \u001b[0m \u001b[1;36m2.73\u001b[0m \u001b[1mseconds\u001b[0m\n"
      ]
     },
     "metadata": {},
     "output_type": "display_data"
    },
    {
     "data": {
      "text/html": [
       "<pre style=\"white-space:pre;overflow-x:auto;line-height:normal;font-family:Menlo,'DejaVu Sans Mono',consolas,'Courier New',monospace\"><span style=\"color: #800080; text-decoration-color: #800080; font-weight: bold\">Creating generation </span><span style=\"color: #800080; text-decoration-color: #800080; font-weight: bold\">12</span><span style=\"color: #800080; text-decoration-color: #800080; font-weight: bold\">...</span>\n",
       "</pre>\n"
      ],
      "text/plain": [
       "\u001b[1;35mCreating generation \u001b[0m\u001b[1;35m12\u001b[0m\u001b[1;35m...\u001b[0m\n"
      ]
     },
     "metadata": {},
     "output_type": "display_data"
    },
    {
     "data": {
      "text/html": [
       "<pre style=\"white-space:pre;overflow-x:auto;line-height:normal;font-family:Menlo,'DejaVu Sans Mono',consolas,'Courier New',monospace\"> ✔ Evaluating population of new generation <span style=\"color: #008080; text-decoration-color: #008080; font-weight: bold\">12</span><span style=\"color: #808000; text-decoration-color: #808000\">...</span>\n",
       "</pre>\n"
      ],
      "text/plain": [
       " ✔ Evaluating population of new generation \u001b[1;36m12\u001b[0m\u001b[33m...\u001b[0m\n"
      ]
     },
     "metadata": {},
     "output_type": "display_data"
    },
    {
     "data": {
      "text/html": [
       "<pre style=\"white-space:pre;overflow-x:auto;line-height:normal;font-family:Menlo,'DejaVu Sans Mono',consolas,'Courier New',monospace\"> ✔ <span style=\"color: #800000; text-decoration-color: #800000; font-weight: bold\">(WORSE)</span> No better chromosome than the current one has been found <span style=\"color: #008080; text-decoration-color: #008080; font-weight: bold\">0.9859154929577465</span>\n",
       "</pre>\n"
      ],
      "text/plain": [
       " ✔ \u001b[1;31m(\u001b[0m\u001b[1;31mWORSE\u001b[0m\u001b[1;31m)\u001b[0m No better chromosome than the current one has been found \u001b[1;36m0.9859154929577465\u001b[0m\n"
      ]
     },
     "metadata": {},
     "output_type": "display_data"
    },
    {
     "data": {
      "text/html": [
       "<pre style=\"white-space:pre;overflow-x:auto;line-height:normal;font-family:Menlo,'DejaVu Sans Mono',consolas,'Courier New',monospace\"> ✔ Current best chromosome: <span style=\"font-weight: bold\">[</span><span style=\"color: #008080; text-decoration-color: #008080; font-weight: bold\">1</span> <span style=\"color: #008080; text-decoration-color: #008080; font-weight: bold\">0</span> <span style=\"color: #008080; text-decoration-color: #008080; font-weight: bold\">1</span> <span style=\"color: #008080; text-decoration-color: #008080; font-weight: bold\">1</span> <span style=\"color: #008080; text-decoration-color: #008080; font-weight: bold\">0</span> <span style=\"color: #008080; text-decoration-color: #008080; font-weight: bold\">0</span> <span style=\"color: #008080; text-decoration-color: #008080; font-weight: bold\">1</span> <span style=\"color: #008080; text-decoration-color: #008080; font-weight: bold\">0</span> <span style=\"color: #008080; text-decoration-color: #008080; font-weight: bold\">0</span> <span style=\"color: #008080; text-decoration-color: #008080; font-weight: bold\">0</span> <span style=\"color: #008080; text-decoration-color: #008080; font-weight: bold\">1</span> <span style=\"color: #008080; text-decoration-color: #008080; font-weight: bold\">0</span> <span style=\"color: #008080; text-decoration-color: #008080; font-weight: bold\">0</span><span style=\"font-weight: bold\">]</span>, Score: <span style=\"color: #008080; text-decoration-color: #008080; font-weight: bold\">0.9929577464788732</span>\n",
       "</pre>\n"
      ],
      "text/plain": [
       " ✔ Current best chromosome: \u001b[1m[\u001b[0m\u001b[1;36m1\u001b[0m \u001b[1;36m0\u001b[0m \u001b[1;36m1\u001b[0m \u001b[1;36m1\u001b[0m \u001b[1;36m0\u001b[0m \u001b[1;36m0\u001b[0m \u001b[1;36m1\u001b[0m \u001b[1;36m0\u001b[0m \u001b[1;36m0\u001b[0m \u001b[1;36m0\u001b[0m \u001b[1;36m1\u001b[0m \u001b[1;36m0\u001b[0m \u001b[1;36m0\u001b[0m\u001b[1m]\u001b[0m, Score: \u001b[1;36m0.9929577464788732\u001b[0m\n"
      ]
     },
     "metadata": {},
     "output_type": "display_data"
    },
    {
     "data": {
      "text/html": [
       "<pre style=\"white-space:pre;overflow-x:auto;line-height:normal;font-family:Menlo,'DejaVu Sans Mono',consolas,'Courier New',monospace\">    <span style=\"font-weight: bold\">Elapsed generation time: </span> <span style=\"color: #008080; text-decoration-color: #008080; font-weight: bold\">2.78</span> <span style=\"font-weight: bold\">seconds</span>\n",
       "</pre>\n"
      ],
      "text/plain": [
       "    \u001b[1mElapsed generation time: \u001b[0m \u001b[1;36m2.78\u001b[0m \u001b[1mseconds\u001b[0m\n"
      ]
     },
     "metadata": {},
     "output_type": "display_data"
    },
    {
     "data": {
      "text/html": [
       "<pre style=\"white-space:pre;overflow-x:auto;line-height:normal;font-family:Menlo,'DejaVu Sans Mono',consolas,'Courier New',monospace\"><span style=\"color: #800080; text-decoration-color: #800080; font-weight: bold\">Creating generation </span><span style=\"color: #800080; text-decoration-color: #800080; font-weight: bold\">13</span><span style=\"color: #800080; text-decoration-color: #800080; font-weight: bold\">...</span>\n",
       "</pre>\n"
      ],
      "text/plain": [
       "\u001b[1;35mCreating generation \u001b[0m\u001b[1;35m13\u001b[0m\u001b[1;35m...\u001b[0m\n"
      ]
     },
     "metadata": {},
     "output_type": "display_data"
    },
    {
     "data": {
      "text/html": [
       "<pre style=\"white-space:pre;overflow-x:auto;line-height:normal;font-family:Menlo,'DejaVu Sans Mono',consolas,'Courier New',monospace\"> ✔ Evaluating population of new generation <span style=\"color: #008080; text-decoration-color: #008080; font-weight: bold\">13</span><span style=\"color: #808000; text-decoration-color: #808000\">...</span>\n",
       "</pre>\n"
      ],
      "text/plain": [
       " ✔ Evaluating population of new generation \u001b[1;36m13\u001b[0m\u001b[33m...\u001b[0m\n"
      ]
     },
     "metadata": {},
     "output_type": "display_data"
    },
    {
     "data": {
      "text/html": [
       "<pre style=\"white-space:pre;overflow-x:auto;line-height:normal;font-family:Menlo,'DejaVu Sans Mono',consolas,'Courier New',monospace\"> ✔ <span style=\"color: #800000; text-decoration-color: #800000; font-weight: bold\">(WORSE)</span> No better chromosome than the current one has been found <span style=\"color: #008080; text-decoration-color: #008080; font-weight: bold\">0.971830985915493</span>\n",
       "</pre>\n"
      ],
      "text/plain": [
       " ✔ \u001b[1;31m(\u001b[0m\u001b[1;31mWORSE\u001b[0m\u001b[1;31m)\u001b[0m No better chromosome than the current one has been found \u001b[1;36m0.971830985915493\u001b[0m\n"
      ]
     },
     "metadata": {},
     "output_type": "display_data"
    },
    {
     "data": {
      "text/html": [
       "<pre style=\"white-space:pre;overflow-x:auto;line-height:normal;font-family:Menlo,'DejaVu Sans Mono',consolas,'Courier New',monospace\"> ✔ Current best chromosome: <span style=\"font-weight: bold\">[</span><span style=\"color: #008080; text-decoration-color: #008080; font-weight: bold\">1</span> <span style=\"color: #008080; text-decoration-color: #008080; font-weight: bold\">0</span> <span style=\"color: #008080; text-decoration-color: #008080; font-weight: bold\">1</span> <span style=\"color: #008080; text-decoration-color: #008080; font-weight: bold\">1</span> <span style=\"color: #008080; text-decoration-color: #008080; font-weight: bold\">0</span> <span style=\"color: #008080; text-decoration-color: #008080; font-weight: bold\">0</span> <span style=\"color: #008080; text-decoration-color: #008080; font-weight: bold\">1</span> <span style=\"color: #008080; text-decoration-color: #008080; font-weight: bold\">0</span> <span style=\"color: #008080; text-decoration-color: #008080; font-weight: bold\">0</span> <span style=\"color: #008080; text-decoration-color: #008080; font-weight: bold\">0</span> <span style=\"color: #008080; text-decoration-color: #008080; font-weight: bold\">1</span> <span style=\"color: #008080; text-decoration-color: #008080; font-weight: bold\">0</span> <span style=\"color: #008080; text-decoration-color: #008080; font-weight: bold\">0</span><span style=\"font-weight: bold\">]</span>, Score: <span style=\"color: #008080; text-decoration-color: #008080; font-weight: bold\">0.9929577464788732</span>\n",
       "</pre>\n"
      ],
      "text/plain": [
       " ✔ Current best chromosome: \u001b[1m[\u001b[0m\u001b[1;36m1\u001b[0m \u001b[1;36m0\u001b[0m \u001b[1;36m1\u001b[0m \u001b[1;36m1\u001b[0m \u001b[1;36m0\u001b[0m \u001b[1;36m0\u001b[0m \u001b[1;36m1\u001b[0m \u001b[1;36m0\u001b[0m \u001b[1;36m0\u001b[0m \u001b[1;36m0\u001b[0m \u001b[1;36m1\u001b[0m \u001b[1;36m0\u001b[0m \u001b[1;36m0\u001b[0m\u001b[1m]\u001b[0m, Score: \u001b[1;36m0.9929577464788732\u001b[0m\n"
      ]
     },
     "metadata": {},
     "output_type": "display_data"
    },
    {
     "data": {
      "text/html": [
       "<pre style=\"white-space:pre;overflow-x:auto;line-height:normal;font-family:Menlo,'DejaVu Sans Mono',consolas,'Courier New',monospace\">    <span style=\"font-weight: bold\">Elapsed generation time: </span> <span style=\"color: #008080; text-decoration-color: #008080; font-weight: bold\">2.78</span> <span style=\"font-weight: bold\">seconds</span>\n",
       "</pre>\n"
      ],
      "text/plain": [
       "    \u001b[1mElapsed generation time: \u001b[0m \u001b[1;36m2.78\u001b[0m \u001b[1mseconds\u001b[0m\n"
      ]
     },
     "metadata": {},
     "output_type": "display_data"
    },
    {
     "data": {
      "text/html": [
       "<pre style=\"white-space:pre;overflow-x:auto;line-height:normal;font-family:Menlo,'DejaVu Sans Mono',consolas,'Courier New',monospace\"><span style=\"color: #800080; text-decoration-color: #800080; font-weight: bold\">Creating generation </span><span style=\"color: #800080; text-decoration-color: #800080; font-weight: bold\">14</span><span style=\"color: #800080; text-decoration-color: #800080; font-weight: bold\">...</span>\n",
       "</pre>\n"
      ],
      "text/plain": [
       "\u001b[1;35mCreating generation \u001b[0m\u001b[1;35m14\u001b[0m\u001b[1;35m...\u001b[0m\n"
      ]
     },
     "metadata": {},
     "output_type": "display_data"
    },
    {
     "data": {
      "text/html": [
       "<pre style=\"white-space:pre;overflow-x:auto;line-height:normal;font-family:Menlo,'DejaVu Sans Mono',consolas,'Courier New',monospace\"> ✔ Evaluating population of new generation <span style=\"color: #008080; text-decoration-color: #008080; font-weight: bold\">14</span><span style=\"color: #808000; text-decoration-color: #808000\">...</span>\n",
       "</pre>\n"
      ],
      "text/plain": [
       " ✔ Evaluating population of new generation \u001b[1;36m14\u001b[0m\u001b[33m...\u001b[0m\n"
      ]
     },
     "metadata": {},
     "output_type": "display_data"
    },
    {
     "data": {
      "text/html": [
       "<pre style=\"white-space:pre;overflow-x:auto;line-height:normal;font-family:Menlo,'DejaVu Sans Mono',consolas,'Courier New',monospace\"> ✔ <span style=\"color: #800000; text-decoration-color: #800000; font-weight: bold\">(WORSE)</span> No better chromosome than the current one has been found <span style=\"color: #008080; text-decoration-color: #008080; font-weight: bold\">0.9647887323943662</span>\n",
       "</pre>\n"
      ],
      "text/plain": [
       " ✔ \u001b[1;31m(\u001b[0m\u001b[1;31mWORSE\u001b[0m\u001b[1;31m)\u001b[0m No better chromosome than the current one has been found \u001b[1;36m0.9647887323943662\u001b[0m\n"
      ]
     },
     "metadata": {},
     "output_type": "display_data"
    },
    {
     "data": {
      "text/html": [
       "<pre style=\"white-space:pre;overflow-x:auto;line-height:normal;font-family:Menlo,'DejaVu Sans Mono',consolas,'Courier New',monospace\"> ✔ Current best chromosome: <span style=\"font-weight: bold\">[</span><span style=\"color: #008080; text-decoration-color: #008080; font-weight: bold\">1</span> <span style=\"color: #008080; text-decoration-color: #008080; font-weight: bold\">0</span> <span style=\"color: #008080; text-decoration-color: #008080; font-weight: bold\">1</span> <span style=\"color: #008080; text-decoration-color: #008080; font-weight: bold\">1</span> <span style=\"color: #008080; text-decoration-color: #008080; font-weight: bold\">0</span> <span style=\"color: #008080; text-decoration-color: #008080; font-weight: bold\">0</span> <span style=\"color: #008080; text-decoration-color: #008080; font-weight: bold\">1</span> <span style=\"color: #008080; text-decoration-color: #008080; font-weight: bold\">0</span> <span style=\"color: #008080; text-decoration-color: #008080; font-weight: bold\">0</span> <span style=\"color: #008080; text-decoration-color: #008080; font-weight: bold\">0</span> <span style=\"color: #008080; text-decoration-color: #008080; font-weight: bold\">1</span> <span style=\"color: #008080; text-decoration-color: #008080; font-weight: bold\">0</span> <span style=\"color: #008080; text-decoration-color: #008080; font-weight: bold\">0</span><span style=\"font-weight: bold\">]</span>, Score: <span style=\"color: #008080; text-decoration-color: #008080; font-weight: bold\">0.9929577464788732</span>\n",
       "</pre>\n"
      ],
      "text/plain": [
       " ✔ Current best chromosome: \u001b[1m[\u001b[0m\u001b[1;36m1\u001b[0m \u001b[1;36m0\u001b[0m \u001b[1;36m1\u001b[0m \u001b[1;36m1\u001b[0m \u001b[1;36m0\u001b[0m \u001b[1;36m0\u001b[0m \u001b[1;36m1\u001b[0m \u001b[1;36m0\u001b[0m \u001b[1;36m0\u001b[0m \u001b[1;36m0\u001b[0m \u001b[1;36m1\u001b[0m \u001b[1;36m0\u001b[0m \u001b[1;36m0\u001b[0m\u001b[1m]\u001b[0m, Score: \u001b[1;36m0.9929577464788732\u001b[0m\n"
      ]
     },
     "metadata": {},
     "output_type": "display_data"
    },
    {
     "data": {
      "text/html": [
       "<pre style=\"white-space:pre;overflow-x:auto;line-height:normal;font-family:Menlo,'DejaVu Sans Mono',consolas,'Courier New',monospace\">    <span style=\"font-weight: bold\">Elapsed generation time: </span> <span style=\"color: #008080; text-decoration-color: #008080; font-weight: bold\">2.75</span> <span style=\"font-weight: bold\">seconds</span>\n",
       "</pre>\n"
      ],
      "text/plain": [
       "    \u001b[1mElapsed generation time: \u001b[0m \u001b[1;36m2.75\u001b[0m \u001b[1mseconds\u001b[0m\n"
      ]
     },
     "metadata": {},
     "output_type": "display_data"
    },
    {
     "data": {
      "text/html": [
       "<pre style=\"white-space:pre;overflow-x:auto;line-height:normal;font-family:Menlo,'DejaVu Sans Mono',consolas,'Courier New',monospace\"><span style=\"color: #800080; text-decoration-color: #800080; font-weight: bold\">Creating generation </span><span style=\"color: #800080; text-decoration-color: #800080; font-weight: bold\">15</span><span style=\"color: #800080; text-decoration-color: #800080; font-weight: bold\">...</span>\n",
       "</pre>\n"
      ],
      "text/plain": [
       "\u001b[1;35mCreating generation \u001b[0m\u001b[1;35m15\u001b[0m\u001b[1;35m...\u001b[0m\n"
      ]
     },
     "metadata": {},
     "output_type": "display_data"
    },
    {
     "data": {
      "text/html": [
       "<pre style=\"white-space:pre;overflow-x:auto;line-height:normal;font-family:Menlo,'DejaVu Sans Mono',consolas,'Courier New',monospace\"> ✔ Evaluating population of new generation <span style=\"color: #008080; text-decoration-color: #008080; font-weight: bold\">15</span><span style=\"color: #808000; text-decoration-color: #808000\">...</span>\n",
       "</pre>\n"
      ],
      "text/plain": [
       " ✔ Evaluating population of new generation \u001b[1;36m15\u001b[0m\u001b[33m...\u001b[0m\n"
      ]
     },
     "metadata": {},
     "output_type": "display_data"
    },
    {
     "data": {
      "text/html": [
       "<pre style=\"white-space:pre;overflow-x:auto;line-height:normal;font-family:Menlo,'DejaVu Sans Mono',consolas,'Courier New',monospace\"> ✔ <span style=\"color: #800000; text-decoration-color: #800000; font-weight: bold\">(WORSE)</span> No better chromosome than the current one has been found <span style=\"color: #008080; text-decoration-color: #008080; font-weight: bold\">0.9788732394366197</span>\n",
       "</pre>\n"
      ],
      "text/plain": [
       " ✔ \u001b[1;31m(\u001b[0m\u001b[1;31mWORSE\u001b[0m\u001b[1;31m)\u001b[0m No better chromosome than the current one has been found \u001b[1;36m0.9788732394366197\u001b[0m\n"
      ]
     },
     "metadata": {},
     "output_type": "display_data"
    },
    {
     "data": {
      "text/html": [
       "<pre style=\"white-space:pre;overflow-x:auto;line-height:normal;font-family:Menlo,'DejaVu Sans Mono',consolas,'Courier New',monospace\"> ✔ Current best chromosome: <span style=\"font-weight: bold\">[</span><span style=\"color: #008080; text-decoration-color: #008080; font-weight: bold\">1</span> <span style=\"color: #008080; text-decoration-color: #008080; font-weight: bold\">0</span> <span style=\"color: #008080; text-decoration-color: #008080; font-weight: bold\">1</span> <span style=\"color: #008080; text-decoration-color: #008080; font-weight: bold\">1</span> <span style=\"color: #008080; text-decoration-color: #008080; font-weight: bold\">0</span> <span style=\"color: #008080; text-decoration-color: #008080; font-weight: bold\">0</span> <span style=\"color: #008080; text-decoration-color: #008080; font-weight: bold\">1</span> <span style=\"color: #008080; text-decoration-color: #008080; font-weight: bold\">0</span> <span style=\"color: #008080; text-decoration-color: #008080; font-weight: bold\">0</span> <span style=\"color: #008080; text-decoration-color: #008080; font-weight: bold\">0</span> <span style=\"color: #008080; text-decoration-color: #008080; font-weight: bold\">1</span> <span style=\"color: #008080; text-decoration-color: #008080; font-weight: bold\">0</span> <span style=\"color: #008080; text-decoration-color: #008080; font-weight: bold\">0</span><span style=\"font-weight: bold\">]</span>, Score: <span style=\"color: #008080; text-decoration-color: #008080; font-weight: bold\">0.9929577464788732</span>\n",
       "</pre>\n"
      ],
      "text/plain": [
       " ✔ Current best chromosome: \u001b[1m[\u001b[0m\u001b[1;36m1\u001b[0m \u001b[1;36m0\u001b[0m \u001b[1;36m1\u001b[0m \u001b[1;36m1\u001b[0m \u001b[1;36m0\u001b[0m \u001b[1;36m0\u001b[0m \u001b[1;36m1\u001b[0m \u001b[1;36m0\u001b[0m \u001b[1;36m0\u001b[0m \u001b[1;36m0\u001b[0m \u001b[1;36m1\u001b[0m \u001b[1;36m0\u001b[0m \u001b[1;36m0\u001b[0m\u001b[1m]\u001b[0m, Score: \u001b[1;36m0.9929577464788732\u001b[0m\n"
      ]
     },
     "metadata": {},
     "output_type": "display_data"
    },
    {
     "data": {
      "text/html": [
       "<pre style=\"white-space:pre;overflow-x:auto;line-height:normal;font-family:Menlo,'DejaVu Sans Mono',consolas,'Courier New',monospace\">    <span style=\"font-weight: bold\">Elapsed generation time: </span> <span style=\"color: #008080; text-decoration-color: #008080; font-weight: bold\">2.86</span> <span style=\"font-weight: bold\">seconds</span>\n",
       "</pre>\n"
      ],
      "text/plain": [
       "    \u001b[1mElapsed generation time: \u001b[0m \u001b[1;36m2.86\u001b[0m \u001b[1mseconds\u001b[0m\n"
      ]
     },
     "metadata": {},
     "output_type": "display_data"
    },
    {
     "data": {
      "text/html": [
       "<pre style=\"white-space:pre;overflow-x:auto;line-height:normal;font-family:Menlo,'DejaVu Sans Mono',consolas,'Courier New',monospace\"><span style=\"color: #800080; text-decoration-color: #800080; font-weight: bold\">Creating generation </span><span style=\"color: #800080; text-decoration-color: #800080; font-weight: bold\">16</span><span style=\"color: #800080; text-decoration-color: #800080; font-weight: bold\">...</span>\n",
       "</pre>\n"
      ],
      "text/plain": [
       "\u001b[1;35mCreating generation \u001b[0m\u001b[1;35m16\u001b[0m\u001b[1;35m...\u001b[0m\n"
      ]
     },
     "metadata": {},
     "output_type": "display_data"
    },
    {
     "data": {
      "text/html": [
       "<pre style=\"white-space:pre;overflow-x:auto;line-height:normal;font-family:Menlo,'DejaVu Sans Mono',consolas,'Courier New',monospace\"> ✔ Evaluating population of new generation <span style=\"color: #008080; text-decoration-color: #008080; font-weight: bold\">16</span><span style=\"color: #808000; text-decoration-color: #808000\">...</span>\n",
       "</pre>\n"
      ],
      "text/plain": [
       " ✔ Evaluating population of new generation \u001b[1;36m16\u001b[0m\u001b[33m...\u001b[0m\n"
      ]
     },
     "metadata": {},
     "output_type": "display_data"
    },
    {
     "data": {
      "text/html": [
       "<pre style=\"white-space:pre;overflow-x:auto;line-height:normal;font-family:Menlo,'DejaVu Sans Mono',consolas,'Courier New',monospace\"> ✔ <span style=\"color: #800000; text-decoration-color: #800000; font-weight: bold\">(WORSE)</span> No better chromosome than the current one has been found <span style=\"color: #008080; text-decoration-color: #008080; font-weight: bold\">0.9647887323943662</span>\n",
       "</pre>\n"
      ],
      "text/plain": [
       " ✔ \u001b[1;31m(\u001b[0m\u001b[1;31mWORSE\u001b[0m\u001b[1;31m)\u001b[0m No better chromosome than the current one has been found \u001b[1;36m0.9647887323943662\u001b[0m\n"
      ]
     },
     "metadata": {},
     "output_type": "display_data"
    },
    {
     "data": {
      "text/html": [
       "<pre style=\"white-space:pre;overflow-x:auto;line-height:normal;font-family:Menlo,'DejaVu Sans Mono',consolas,'Courier New',monospace\"> ✔ Current best chromosome: <span style=\"font-weight: bold\">[</span><span style=\"color: #008080; text-decoration-color: #008080; font-weight: bold\">1</span> <span style=\"color: #008080; text-decoration-color: #008080; font-weight: bold\">0</span> <span style=\"color: #008080; text-decoration-color: #008080; font-weight: bold\">1</span> <span style=\"color: #008080; text-decoration-color: #008080; font-weight: bold\">1</span> <span style=\"color: #008080; text-decoration-color: #008080; font-weight: bold\">0</span> <span style=\"color: #008080; text-decoration-color: #008080; font-weight: bold\">0</span> <span style=\"color: #008080; text-decoration-color: #008080; font-weight: bold\">1</span> <span style=\"color: #008080; text-decoration-color: #008080; font-weight: bold\">0</span> <span style=\"color: #008080; text-decoration-color: #008080; font-weight: bold\">0</span> <span style=\"color: #008080; text-decoration-color: #008080; font-weight: bold\">0</span> <span style=\"color: #008080; text-decoration-color: #008080; font-weight: bold\">1</span> <span style=\"color: #008080; text-decoration-color: #008080; font-weight: bold\">0</span> <span style=\"color: #008080; text-decoration-color: #008080; font-weight: bold\">0</span><span style=\"font-weight: bold\">]</span>, Score: <span style=\"color: #008080; text-decoration-color: #008080; font-weight: bold\">0.9929577464788732</span>\n",
       "</pre>\n"
      ],
      "text/plain": [
       " ✔ Current best chromosome: \u001b[1m[\u001b[0m\u001b[1;36m1\u001b[0m \u001b[1;36m0\u001b[0m \u001b[1;36m1\u001b[0m \u001b[1;36m1\u001b[0m \u001b[1;36m0\u001b[0m \u001b[1;36m0\u001b[0m \u001b[1;36m1\u001b[0m \u001b[1;36m0\u001b[0m \u001b[1;36m0\u001b[0m \u001b[1;36m0\u001b[0m \u001b[1;36m1\u001b[0m \u001b[1;36m0\u001b[0m \u001b[1;36m0\u001b[0m\u001b[1m]\u001b[0m, Score: \u001b[1;36m0.9929577464788732\u001b[0m\n"
      ]
     },
     "metadata": {},
     "output_type": "display_data"
    },
    {
     "data": {
      "text/html": [
       "<pre style=\"white-space:pre;overflow-x:auto;line-height:normal;font-family:Menlo,'DejaVu Sans Mono',consolas,'Courier New',monospace\">    <span style=\"font-weight: bold\">Elapsed generation time: </span> <span style=\"color: #008080; text-decoration-color: #008080; font-weight: bold\">2.79</span> <span style=\"font-weight: bold\">seconds</span>\n",
       "</pre>\n"
      ],
      "text/plain": [
       "    \u001b[1mElapsed generation time: \u001b[0m \u001b[1;36m2.79\u001b[0m \u001b[1mseconds\u001b[0m\n"
      ]
     },
     "metadata": {},
     "output_type": "display_data"
    },
    {
     "data": {
      "text/html": [
       "<pre style=\"white-space:pre;overflow-x:auto;line-height:normal;font-family:Menlo,'DejaVu Sans Mono',consolas,'Courier New',monospace\"><span style=\"color: #800080; text-decoration-color: #800080; font-weight: bold\">Creating generation </span><span style=\"color: #800080; text-decoration-color: #800080; font-weight: bold\">17</span><span style=\"color: #800080; text-decoration-color: #800080; font-weight: bold\">...</span>\n",
       "</pre>\n"
      ],
      "text/plain": [
       "\u001b[1;35mCreating generation \u001b[0m\u001b[1;35m17\u001b[0m\u001b[1;35m...\u001b[0m\n"
      ]
     },
     "metadata": {},
     "output_type": "display_data"
    },
    {
     "data": {
      "text/html": [
       "<pre style=\"white-space:pre;overflow-x:auto;line-height:normal;font-family:Menlo,'DejaVu Sans Mono',consolas,'Courier New',monospace\"> ✔ Evaluating population of new generation <span style=\"color: #008080; text-decoration-color: #008080; font-weight: bold\">17</span><span style=\"color: #808000; text-decoration-color: #808000\">...</span>\n",
       "</pre>\n"
      ],
      "text/plain": [
       " ✔ Evaluating population of new generation \u001b[1;36m17\u001b[0m\u001b[33m...\u001b[0m\n"
      ]
     },
     "metadata": {},
     "output_type": "display_data"
    },
    {
     "data": {
      "text/html": [
       "<pre style=\"white-space:pre;overflow-x:auto;line-height:normal;font-family:Menlo,'DejaVu Sans Mono',consolas,'Courier New',monospace\"> ✔ <span style=\"color: #800000; text-decoration-color: #800000; font-weight: bold\">(WORSE)</span> No better chromosome than the current one has been found <span style=\"color: #008080; text-decoration-color: #008080; font-weight: bold\">0.9859154929577465</span>\n",
       "</pre>\n"
      ],
      "text/plain": [
       " ✔ \u001b[1;31m(\u001b[0m\u001b[1;31mWORSE\u001b[0m\u001b[1;31m)\u001b[0m No better chromosome than the current one has been found \u001b[1;36m0.9859154929577465\u001b[0m\n"
      ]
     },
     "metadata": {},
     "output_type": "display_data"
    },
    {
     "data": {
      "text/html": [
       "<pre style=\"white-space:pre;overflow-x:auto;line-height:normal;font-family:Menlo,'DejaVu Sans Mono',consolas,'Courier New',monospace\"> ✔ Current best chromosome: <span style=\"font-weight: bold\">[</span><span style=\"color: #008080; text-decoration-color: #008080; font-weight: bold\">1</span> <span style=\"color: #008080; text-decoration-color: #008080; font-weight: bold\">0</span> <span style=\"color: #008080; text-decoration-color: #008080; font-weight: bold\">1</span> <span style=\"color: #008080; text-decoration-color: #008080; font-weight: bold\">1</span> <span style=\"color: #008080; text-decoration-color: #008080; font-weight: bold\">0</span> <span style=\"color: #008080; text-decoration-color: #008080; font-weight: bold\">0</span> <span style=\"color: #008080; text-decoration-color: #008080; font-weight: bold\">1</span> <span style=\"color: #008080; text-decoration-color: #008080; font-weight: bold\">0</span> <span style=\"color: #008080; text-decoration-color: #008080; font-weight: bold\">0</span> <span style=\"color: #008080; text-decoration-color: #008080; font-weight: bold\">0</span> <span style=\"color: #008080; text-decoration-color: #008080; font-weight: bold\">1</span> <span style=\"color: #008080; text-decoration-color: #008080; font-weight: bold\">0</span> <span style=\"color: #008080; text-decoration-color: #008080; font-weight: bold\">0</span><span style=\"font-weight: bold\">]</span>, Score: <span style=\"color: #008080; text-decoration-color: #008080; font-weight: bold\">0.9929577464788732</span>\n",
       "</pre>\n"
      ],
      "text/plain": [
       " ✔ Current best chromosome: \u001b[1m[\u001b[0m\u001b[1;36m1\u001b[0m \u001b[1;36m0\u001b[0m \u001b[1;36m1\u001b[0m \u001b[1;36m1\u001b[0m \u001b[1;36m0\u001b[0m \u001b[1;36m0\u001b[0m \u001b[1;36m1\u001b[0m \u001b[1;36m0\u001b[0m \u001b[1;36m0\u001b[0m \u001b[1;36m0\u001b[0m \u001b[1;36m1\u001b[0m \u001b[1;36m0\u001b[0m \u001b[1;36m0\u001b[0m\u001b[1m]\u001b[0m, Score: \u001b[1;36m0.9929577464788732\u001b[0m\n"
      ]
     },
     "metadata": {},
     "output_type": "display_data"
    },
    {
     "data": {
      "text/html": [
       "<pre style=\"white-space:pre;overflow-x:auto;line-height:normal;font-family:Menlo,'DejaVu Sans Mono',consolas,'Courier New',monospace\">    <span style=\"font-weight: bold\">Elapsed generation time: </span> <span style=\"color: #008080; text-decoration-color: #008080; font-weight: bold\">2.77</span> <span style=\"font-weight: bold\">seconds</span>\n",
       "</pre>\n"
      ],
      "text/plain": [
       "    \u001b[1mElapsed generation time: \u001b[0m \u001b[1;36m2.77\u001b[0m \u001b[1mseconds\u001b[0m\n"
      ]
     },
     "metadata": {},
     "output_type": "display_data"
    },
    {
     "data": {
      "text/html": [
       "<pre style=\"white-space:pre;overflow-x:auto;line-height:normal;font-family:Menlo,'DejaVu Sans Mono',consolas,'Courier New',monospace\"><span style=\"color: #800080; text-decoration-color: #800080; font-weight: bold\">Creating generation </span><span style=\"color: #800080; text-decoration-color: #800080; font-weight: bold\">18</span><span style=\"color: #800080; text-decoration-color: #800080; font-weight: bold\">...</span>\n",
       "</pre>\n"
      ],
      "text/plain": [
       "\u001b[1;35mCreating generation \u001b[0m\u001b[1;35m18\u001b[0m\u001b[1;35m...\u001b[0m\n"
      ]
     },
     "metadata": {},
     "output_type": "display_data"
    },
    {
     "data": {
      "text/html": [
       "<pre style=\"white-space:pre;overflow-x:auto;line-height:normal;font-family:Menlo,'DejaVu Sans Mono',consolas,'Courier New',monospace\"> ✔ Evaluating population of new generation <span style=\"color: #008080; text-decoration-color: #008080; font-weight: bold\">18</span><span style=\"color: #808000; text-decoration-color: #808000\">...</span>\n",
       "</pre>\n"
      ],
      "text/plain": [
       " ✔ Evaluating population of new generation \u001b[1;36m18\u001b[0m\u001b[33m...\u001b[0m\n"
      ]
     },
     "metadata": {},
     "output_type": "display_data"
    },
    {
     "data": {
      "text/html": [
       "<pre style=\"white-space:pre;overflow-x:auto;line-height:normal;font-family:Menlo,'DejaVu Sans Mono',consolas,'Courier New',monospace\"> ✔ <span style=\"color: #800000; text-decoration-color: #800000; font-weight: bold\">(WORSE)</span> No better chromosome than the current one has been found <span style=\"color: #008080; text-decoration-color: #008080; font-weight: bold\">0.9859154929577465</span>\n",
       "</pre>\n"
      ],
      "text/plain": [
       " ✔ \u001b[1;31m(\u001b[0m\u001b[1;31mWORSE\u001b[0m\u001b[1;31m)\u001b[0m No better chromosome than the current one has been found \u001b[1;36m0.9859154929577465\u001b[0m\n"
      ]
     },
     "metadata": {},
     "output_type": "display_data"
    },
    {
     "data": {
      "text/html": [
       "<pre style=\"white-space:pre;overflow-x:auto;line-height:normal;font-family:Menlo,'DejaVu Sans Mono',consolas,'Courier New',monospace\"> ✔ Current best chromosome: <span style=\"font-weight: bold\">[</span><span style=\"color: #008080; text-decoration-color: #008080; font-weight: bold\">1</span> <span style=\"color: #008080; text-decoration-color: #008080; font-weight: bold\">0</span> <span style=\"color: #008080; text-decoration-color: #008080; font-weight: bold\">1</span> <span style=\"color: #008080; text-decoration-color: #008080; font-weight: bold\">1</span> <span style=\"color: #008080; text-decoration-color: #008080; font-weight: bold\">0</span> <span style=\"color: #008080; text-decoration-color: #008080; font-weight: bold\">0</span> <span style=\"color: #008080; text-decoration-color: #008080; font-weight: bold\">1</span> <span style=\"color: #008080; text-decoration-color: #008080; font-weight: bold\">0</span> <span style=\"color: #008080; text-decoration-color: #008080; font-weight: bold\">0</span> <span style=\"color: #008080; text-decoration-color: #008080; font-weight: bold\">0</span> <span style=\"color: #008080; text-decoration-color: #008080; font-weight: bold\">1</span> <span style=\"color: #008080; text-decoration-color: #008080; font-weight: bold\">0</span> <span style=\"color: #008080; text-decoration-color: #008080; font-weight: bold\">0</span><span style=\"font-weight: bold\">]</span>, Score: <span style=\"color: #008080; text-decoration-color: #008080; font-weight: bold\">0.9929577464788732</span>\n",
       "</pre>\n"
      ],
      "text/plain": [
       " ✔ Current best chromosome: \u001b[1m[\u001b[0m\u001b[1;36m1\u001b[0m \u001b[1;36m0\u001b[0m \u001b[1;36m1\u001b[0m \u001b[1;36m1\u001b[0m \u001b[1;36m0\u001b[0m \u001b[1;36m0\u001b[0m \u001b[1;36m1\u001b[0m \u001b[1;36m0\u001b[0m \u001b[1;36m0\u001b[0m \u001b[1;36m0\u001b[0m \u001b[1;36m1\u001b[0m \u001b[1;36m0\u001b[0m \u001b[1;36m0\u001b[0m\u001b[1m]\u001b[0m, Score: \u001b[1;36m0.9929577464788732\u001b[0m\n"
      ]
     },
     "metadata": {},
     "output_type": "display_data"
    },
    {
     "data": {
      "text/html": [
       "<pre style=\"white-space:pre;overflow-x:auto;line-height:normal;font-family:Menlo,'DejaVu Sans Mono',consolas,'Courier New',monospace\">    <span style=\"font-weight: bold\">Elapsed generation time: </span> <span style=\"color: #008080; text-decoration-color: #008080; font-weight: bold\">2.70</span> <span style=\"font-weight: bold\">seconds</span>\n",
       "</pre>\n"
      ],
      "text/plain": [
       "    \u001b[1mElapsed generation time: \u001b[0m \u001b[1;36m2.70\u001b[0m \u001b[1mseconds\u001b[0m\n"
      ]
     },
     "metadata": {},
     "output_type": "display_data"
    },
    {
     "data": {
      "text/html": [
       "<pre style=\"white-space:pre;overflow-x:auto;line-height:normal;font-family:Menlo,'DejaVu Sans Mono',consolas,'Courier New',monospace\"><span style=\"color: #800080; text-decoration-color: #800080; font-weight: bold\">Creating generation </span><span style=\"color: #800080; text-decoration-color: #800080; font-weight: bold\">19</span><span style=\"color: #800080; text-decoration-color: #800080; font-weight: bold\">...</span>\n",
       "</pre>\n"
      ],
      "text/plain": [
       "\u001b[1;35mCreating generation \u001b[0m\u001b[1;35m19\u001b[0m\u001b[1;35m...\u001b[0m\n"
      ]
     },
     "metadata": {},
     "output_type": "display_data"
    },
    {
     "data": {
      "text/html": [
       "<pre style=\"white-space:pre;overflow-x:auto;line-height:normal;font-family:Menlo,'DejaVu Sans Mono',consolas,'Courier New',monospace\"> ✔ Evaluating population of new generation <span style=\"color: #008080; text-decoration-color: #008080; font-weight: bold\">19</span><span style=\"color: #808000; text-decoration-color: #808000\">...</span>\n",
       "</pre>\n"
      ],
      "text/plain": [
       " ✔ Evaluating population of new generation \u001b[1;36m19\u001b[0m\u001b[33m...\u001b[0m\n"
      ]
     },
     "metadata": {},
     "output_type": "display_data"
    },
    {
     "data": {
      "text/html": [
       "<pre style=\"white-space:pre;overflow-x:auto;line-height:normal;font-family:Menlo,'DejaVu Sans Mono',consolas,'Courier New',monospace\"> ✔ <span style=\"color: #800000; text-decoration-color: #800000; font-weight: bold\">(WORSE)</span> No better chromosome than the current one has been found <span style=\"color: #008080; text-decoration-color: #008080; font-weight: bold\">0.971830985915493</span>\n",
       "</pre>\n"
      ],
      "text/plain": [
       " ✔ \u001b[1;31m(\u001b[0m\u001b[1;31mWORSE\u001b[0m\u001b[1;31m)\u001b[0m No better chromosome than the current one has been found \u001b[1;36m0.971830985915493\u001b[0m\n"
      ]
     },
     "metadata": {},
     "output_type": "display_data"
    },
    {
     "data": {
      "text/html": [
       "<pre style=\"white-space:pre;overflow-x:auto;line-height:normal;font-family:Menlo,'DejaVu Sans Mono',consolas,'Courier New',monospace\"> ✔ Current best chromosome: <span style=\"font-weight: bold\">[</span><span style=\"color: #008080; text-decoration-color: #008080; font-weight: bold\">1</span> <span style=\"color: #008080; text-decoration-color: #008080; font-weight: bold\">0</span> <span style=\"color: #008080; text-decoration-color: #008080; font-weight: bold\">1</span> <span style=\"color: #008080; text-decoration-color: #008080; font-weight: bold\">1</span> <span style=\"color: #008080; text-decoration-color: #008080; font-weight: bold\">0</span> <span style=\"color: #008080; text-decoration-color: #008080; font-weight: bold\">0</span> <span style=\"color: #008080; text-decoration-color: #008080; font-weight: bold\">1</span> <span style=\"color: #008080; text-decoration-color: #008080; font-weight: bold\">0</span> <span style=\"color: #008080; text-decoration-color: #008080; font-weight: bold\">0</span> <span style=\"color: #008080; text-decoration-color: #008080; font-weight: bold\">0</span> <span style=\"color: #008080; text-decoration-color: #008080; font-weight: bold\">1</span> <span style=\"color: #008080; text-decoration-color: #008080; font-weight: bold\">0</span> <span style=\"color: #008080; text-decoration-color: #008080; font-weight: bold\">0</span><span style=\"font-weight: bold\">]</span>, Score: <span style=\"color: #008080; text-decoration-color: #008080; font-weight: bold\">0.9929577464788732</span>\n",
       "</pre>\n"
      ],
      "text/plain": [
       " ✔ Current best chromosome: \u001b[1m[\u001b[0m\u001b[1;36m1\u001b[0m \u001b[1;36m0\u001b[0m \u001b[1;36m1\u001b[0m \u001b[1;36m1\u001b[0m \u001b[1;36m0\u001b[0m \u001b[1;36m0\u001b[0m \u001b[1;36m1\u001b[0m \u001b[1;36m0\u001b[0m \u001b[1;36m0\u001b[0m \u001b[1;36m0\u001b[0m \u001b[1;36m1\u001b[0m \u001b[1;36m0\u001b[0m \u001b[1;36m0\u001b[0m\u001b[1m]\u001b[0m, Score: \u001b[1;36m0.9929577464788732\u001b[0m\n"
      ]
     },
     "metadata": {},
     "output_type": "display_data"
    },
    {
     "data": {
      "text/html": [
       "<pre style=\"white-space:pre;overflow-x:auto;line-height:normal;font-family:Menlo,'DejaVu Sans Mono',consolas,'Courier New',monospace\">    <span style=\"font-weight: bold\">Elapsed generation time: </span> <span style=\"color: #008080; text-decoration-color: #008080; font-weight: bold\">2.72</span> <span style=\"font-weight: bold\">seconds</span>\n",
       "</pre>\n"
      ],
      "text/plain": [
       "    \u001b[1mElapsed generation time: \u001b[0m \u001b[1;36m2.72\u001b[0m \u001b[1mseconds\u001b[0m\n"
      ]
     },
     "metadata": {},
     "output_type": "display_data"
    },
    {
     "data": {
      "text/html": [
       "<pre style=\"white-space:pre;overflow-x:auto;line-height:normal;font-family:Menlo,'DejaVu Sans Mono',consolas,'Courier New',monospace\"><span style=\"color: #800080; text-decoration-color: #800080; font-weight: bold\">Creating generation </span><span style=\"color: #800080; text-decoration-color: #800080; font-weight: bold\">20</span><span style=\"color: #800080; text-decoration-color: #800080; font-weight: bold\">...</span>\n",
       "</pre>\n"
      ],
      "text/plain": [
       "\u001b[1;35mCreating generation \u001b[0m\u001b[1;35m20\u001b[0m\u001b[1;35m...\u001b[0m\n"
      ]
     },
     "metadata": {},
     "output_type": "display_data"
    },
    {
     "data": {
      "text/html": [
       "<pre style=\"white-space:pre;overflow-x:auto;line-height:normal;font-family:Menlo,'DejaVu Sans Mono',consolas,'Courier New',monospace\"> ✔ Evaluating population of new generation <span style=\"color: #008080; text-decoration-color: #008080; font-weight: bold\">20</span><span style=\"color: #808000; text-decoration-color: #808000\">...</span>\n",
       "</pre>\n"
      ],
      "text/plain": [
       " ✔ Evaluating population of new generation \u001b[1;36m20\u001b[0m\u001b[33m...\u001b[0m\n"
      ]
     },
     "metadata": {},
     "output_type": "display_data"
    },
    {
     "data": {
      "text/html": [
       "<pre style=\"white-space:pre;overflow-x:auto;line-height:normal;font-family:Menlo,'DejaVu Sans Mono',consolas,'Courier New',monospace\"> ✔ <span style=\"color: #800080; text-decoration-color: #800080\">Same scoring value found </span><span style=\"color: #800080; text-decoration-color: #800080; font-weight: bold\">1</span><span style=\"color: #800080; text-decoration-color: #800080\"> / </span><span style=\"color: #800080; text-decoration-color: #800080; font-weight: bold\">5</span><span style=\"color: #800080; text-decoration-color: #800080\"> times.</span>\n",
       "</pre>\n"
      ],
      "text/plain": [
       " ✔ \u001b[35mSame scoring value found \u001b[0m\u001b[1;35m1\u001b[0m\u001b[35m \u001b[0m\u001b[35m/\u001b[0m\u001b[35m \u001b[0m\u001b[1;35m5\u001b[0m\u001b[35m times.\u001b[0m\n"
      ]
     },
     "metadata": {},
     "output_type": "display_data"
    },
    {
     "data": {
      "text/html": [
       "<pre style=\"white-space:pre;overflow-x:auto;line-height:normal;font-family:Menlo,'DejaVu Sans Mono',consolas,'Courier New',monospace\"> ✔ Current best chromosome: <span style=\"font-weight: bold\">[</span><span style=\"color: #008080; text-decoration-color: #008080; font-weight: bold\">1</span> <span style=\"color: #008080; text-decoration-color: #008080; font-weight: bold\">0</span> <span style=\"color: #008080; text-decoration-color: #008080; font-weight: bold\">1</span> <span style=\"color: #008080; text-decoration-color: #008080; font-weight: bold\">1</span> <span style=\"color: #008080; text-decoration-color: #008080; font-weight: bold\">0</span> <span style=\"color: #008080; text-decoration-color: #008080; font-weight: bold\">0</span> <span style=\"color: #008080; text-decoration-color: #008080; font-weight: bold\">1</span> <span style=\"color: #008080; text-decoration-color: #008080; font-weight: bold\">0</span> <span style=\"color: #008080; text-decoration-color: #008080; font-weight: bold\">0</span> <span style=\"color: #008080; text-decoration-color: #008080; font-weight: bold\">0</span> <span style=\"color: #008080; text-decoration-color: #008080; font-weight: bold\">1</span> <span style=\"color: #008080; text-decoration-color: #008080; font-weight: bold\">0</span> <span style=\"color: #008080; text-decoration-color: #008080; font-weight: bold\">0</span><span style=\"font-weight: bold\">]</span>, Score: <span style=\"color: #008080; text-decoration-color: #008080; font-weight: bold\">0.9929577464788732</span>\n",
       "</pre>\n"
      ],
      "text/plain": [
       " ✔ Current best chromosome: \u001b[1m[\u001b[0m\u001b[1;36m1\u001b[0m \u001b[1;36m0\u001b[0m \u001b[1;36m1\u001b[0m \u001b[1;36m1\u001b[0m \u001b[1;36m0\u001b[0m \u001b[1;36m0\u001b[0m \u001b[1;36m1\u001b[0m \u001b[1;36m0\u001b[0m \u001b[1;36m0\u001b[0m \u001b[1;36m0\u001b[0m \u001b[1;36m1\u001b[0m \u001b[1;36m0\u001b[0m \u001b[1;36m0\u001b[0m\u001b[1m]\u001b[0m, Score: \u001b[1;36m0.9929577464788732\u001b[0m\n"
      ]
     },
     "metadata": {},
     "output_type": "display_data"
    },
    {
     "data": {
      "text/html": [
       "<pre style=\"white-space:pre;overflow-x:auto;line-height:normal;font-family:Menlo,'DejaVu Sans Mono',consolas,'Courier New',monospace\">    <span style=\"font-weight: bold\">Elapsed generation time: </span> <span style=\"color: #008080; text-decoration-color: #008080; font-weight: bold\">2.76</span> <span style=\"font-weight: bold\">seconds</span>\n",
       "</pre>\n"
      ],
      "text/plain": [
       "    \u001b[1mElapsed generation time: \u001b[0m \u001b[1;36m2.76\u001b[0m \u001b[1mseconds\u001b[0m\n"
      ]
     },
     "metadata": {},
     "output_type": "display_data"
    },
    {
     "data": {
      "text/html": [
       "<pre style=\"white-space:pre;overflow-x:auto;line-height:normal;font-family:Menlo,'DejaVu Sans Mono',consolas,'Courier New',monospace\"><span style=\"color: #800080; text-decoration-color: #800080; font-weight: bold\">Creating generation </span><span style=\"color: #800080; text-decoration-color: #800080; font-weight: bold\">21</span><span style=\"color: #800080; text-decoration-color: #800080; font-weight: bold\">...</span>\n",
       "</pre>\n"
      ],
      "text/plain": [
       "\u001b[1;35mCreating generation \u001b[0m\u001b[1;35m21\u001b[0m\u001b[1;35m...\u001b[0m\n"
      ]
     },
     "metadata": {},
     "output_type": "display_data"
    },
    {
     "data": {
      "text/html": [
       "<pre style=\"white-space:pre;overflow-x:auto;line-height:normal;font-family:Menlo,'DejaVu Sans Mono',consolas,'Courier New',monospace\"> ✔ Evaluating population of new generation <span style=\"color: #008080; text-decoration-color: #008080; font-weight: bold\">21</span><span style=\"color: #808000; text-decoration-color: #808000\">...</span>\n",
       "</pre>\n"
      ],
      "text/plain": [
       " ✔ Evaluating population of new generation \u001b[1;36m21\u001b[0m\u001b[33m...\u001b[0m\n"
      ]
     },
     "metadata": {},
     "output_type": "display_data"
    },
    {
     "data": {
      "text/html": [
       "<pre style=\"white-space:pre;overflow-x:auto;line-height:normal;font-family:Menlo,'DejaVu Sans Mono',consolas,'Courier New',monospace\"> ✔ <span style=\"color: #800000; text-decoration-color: #800000; font-weight: bold\">(WORSE)</span> No better chromosome than the current one has been found <span style=\"color: #008080; text-decoration-color: #008080; font-weight: bold\">0.9788732394366197</span>\n",
       "</pre>\n"
      ],
      "text/plain": [
       " ✔ \u001b[1;31m(\u001b[0m\u001b[1;31mWORSE\u001b[0m\u001b[1;31m)\u001b[0m No better chromosome than the current one has been found \u001b[1;36m0.9788732394366197\u001b[0m\n"
      ]
     },
     "metadata": {},
     "output_type": "display_data"
    },
    {
     "data": {
      "text/html": [
       "<pre style=\"white-space:pre;overflow-x:auto;line-height:normal;font-family:Menlo,'DejaVu Sans Mono',consolas,'Courier New',monospace\"> ✔ Current best chromosome: <span style=\"font-weight: bold\">[</span><span style=\"color: #008080; text-decoration-color: #008080; font-weight: bold\">1</span> <span style=\"color: #008080; text-decoration-color: #008080; font-weight: bold\">0</span> <span style=\"color: #008080; text-decoration-color: #008080; font-weight: bold\">1</span> <span style=\"color: #008080; text-decoration-color: #008080; font-weight: bold\">1</span> <span style=\"color: #008080; text-decoration-color: #008080; font-weight: bold\">0</span> <span style=\"color: #008080; text-decoration-color: #008080; font-weight: bold\">0</span> <span style=\"color: #008080; text-decoration-color: #008080; font-weight: bold\">1</span> <span style=\"color: #008080; text-decoration-color: #008080; font-weight: bold\">0</span> <span style=\"color: #008080; text-decoration-color: #008080; font-weight: bold\">0</span> <span style=\"color: #008080; text-decoration-color: #008080; font-weight: bold\">0</span> <span style=\"color: #008080; text-decoration-color: #008080; font-weight: bold\">1</span> <span style=\"color: #008080; text-decoration-color: #008080; font-weight: bold\">0</span> <span style=\"color: #008080; text-decoration-color: #008080; font-weight: bold\">0</span><span style=\"font-weight: bold\">]</span>, Score: <span style=\"color: #008080; text-decoration-color: #008080; font-weight: bold\">0.9929577464788732</span>\n",
       "</pre>\n"
      ],
      "text/plain": [
       " ✔ Current best chromosome: \u001b[1m[\u001b[0m\u001b[1;36m1\u001b[0m \u001b[1;36m0\u001b[0m \u001b[1;36m1\u001b[0m \u001b[1;36m1\u001b[0m \u001b[1;36m0\u001b[0m \u001b[1;36m0\u001b[0m \u001b[1;36m1\u001b[0m \u001b[1;36m0\u001b[0m \u001b[1;36m0\u001b[0m \u001b[1;36m0\u001b[0m \u001b[1;36m1\u001b[0m \u001b[1;36m0\u001b[0m \u001b[1;36m0\u001b[0m\u001b[1m]\u001b[0m, Score: \u001b[1;36m0.9929577464788732\u001b[0m\n"
      ]
     },
     "metadata": {},
     "output_type": "display_data"
    },
    {
     "data": {
      "text/html": [
       "<pre style=\"white-space:pre;overflow-x:auto;line-height:normal;font-family:Menlo,'DejaVu Sans Mono',consolas,'Courier New',monospace\">    <span style=\"font-weight: bold\">Elapsed generation time: </span> <span style=\"color: #008080; text-decoration-color: #008080; font-weight: bold\">2.71</span> <span style=\"font-weight: bold\">seconds</span>\n",
       "</pre>\n"
      ],
      "text/plain": [
       "    \u001b[1mElapsed generation time: \u001b[0m \u001b[1;36m2.71\u001b[0m \u001b[1mseconds\u001b[0m\n"
      ]
     },
     "metadata": {},
     "output_type": "display_data"
    },
    {
     "data": {
      "text/html": [
       "<pre style=\"white-space:pre;overflow-x:auto;line-height:normal;font-family:Menlo,'DejaVu Sans Mono',consolas,'Courier New',monospace\"><span style=\"color: #800080; text-decoration-color: #800080; font-weight: bold\">Creating generation </span><span style=\"color: #800080; text-decoration-color: #800080; font-weight: bold\">22</span><span style=\"color: #800080; text-decoration-color: #800080; font-weight: bold\">...</span>\n",
       "</pre>\n"
      ],
      "text/plain": [
       "\u001b[1;35mCreating generation \u001b[0m\u001b[1;35m22\u001b[0m\u001b[1;35m...\u001b[0m\n"
      ]
     },
     "metadata": {},
     "output_type": "display_data"
    },
    {
     "data": {
      "text/html": [
       "<pre style=\"white-space:pre;overflow-x:auto;line-height:normal;font-family:Menlo,'DejaVu Sans Mono',consolas,'Courier New',monospace\"> ✔ Evaluating population of new generation <span style=\"color: #008080; text-decoration-color: #008080; font-weight: bold\">22</span><span style=\"color: #808000; text-decoration-color: #808000\">...</span>\n",
       "</pre>\n"
      ],
      "text/plain": [
       " ✔ Evaluating population of new generation \u001b[1;36m22\u001b[0m\u001b[33m...\u001b[0m\n"
      ]
     },
     "metadata": {},
     "output_type": "display_data"
    },
    {
     "data": {
      "text/html": [
       "<pre style=\"white-space:pre;overflow-x:auto;line-height:normal;font-family:Menlo,'DejaVu Sans Mono',consolas,'Courier New',monospace\"> ✔ <span style=\"color: #800000; text-decoration-color: #800000; font-weight: bold\">(WORSE)</span> No better chromosome than the current one has been found <span style=\"color: #008080; text-decoration-color: #008080; font-weight: bold\">0.971830985915493</span>\n",
       "</pre>\n"
      ],
      "text/plain": [
       " ✔ \u001b[1;31m(\u001b[0m\u001b[1;31mWORSE\u001b[0m\u001b[1;31m)\u001b[0m No better chromosome than the current one has been found \u001b[1;36m0.971830985915493\u001b[0m\n"
      ]
     },
     "metadata": {},
     "output_type": "display_data"
    },
    {
     "data": {
      "text/html": [
       "<pre style=\"white-space:pre;overflow-x:auto;line-height:normal;font-family:Menlo,'DejaVu Sans Mono',consolas,'Courier New',monospace\"> ✔ Current best chromosome: <span style=\"font-weight: bold\">[</span><span style=\"color: #008080; text-decoration-color: #008080; font-weight: bold\">1</span> <span style=\"color: #008080; text-decoration-color: #008080; font-weight: bold\">0</span> <span style=\"color: #008080; text-decoration-color: #008080; font-weight: bold\">1</span> <span style=\"color: #008080; text-decoration-color: #008080; font-weight: bold\">1</span> <span style=\"color: #008080; text-decoration-color: #008080; font-weight: bold\">0</span> <span style=\"color: #008080; text-decoration-color: #008080; font-weight: bold\">0</span> <span style=\"color: #008080; text-decoration-color: #008080; font-weight: bold\">1</span> <span style=\"color: #008080; text-decoration-color: #008080; font-weight: bold\">0</span> <span style=\"color: #008080; text-decoration-color: #008080; font-weight: bold\">0</span> <span style=\"color: #008080; text-decoration-color: #008080; font-weight: bold\">0</span> <span style=\"color: #008080; text-decoration-color: #008080; font-weight: bold\">1</span> <span style=\"color: #008080; text-decoration-color: #008080; font-weight: bold\">0</span> <span style=\"color: #008080; text-decoration-color: #008080; font-weight: bold\">0</span><span style=\"font-weight: bold\">]</span>, Score: <span style=\"color: #008080; text-decoration-color: #008080; font-weight: bold\">0.9929577464788732</span>\n",
       "</pre>\n"
      ],
      "text/plain": [
       " ✔ Current best chromosome: \u001b[1m[\u001b[0m\u001b[1;36m1\u001b[0m \u001b[1;36m0\u001b[0m \u001b[1;36m1\u001b[0m \u001b[1;36m1\u001b[0m \u001b[1;36m0\u001b[0m \u001b[1;36m0\u001b[0m \u001b[1;36m1\u001b[0m \u001b[1;36m0\u001b[0m \u001b[1;36m0\u001b[0m \u001b[1;36m0\u001b[0m \u001b[1;36m1\u001b[0m \u001b[1;36m0\u001b[0m \u001b[1;36m0\u001b[0m\u001b[1m]\u001b[0m, Score: \u001b[1;36m0.9929577464788732\u001b[0m\n"
      ]
     },
     "metadata": {},
     "output_type": "display_data"
    },
    {
     "data": {
      "text/html": [
       "<pre style=\"white-space:pre;overflow-x:auto;line-height:normal;font-family:Menlo,'DejaVu Sans Mono',consolas,'Courier New',monospace\">    <span style=\"font-weight: bold\">Elapsed generation time: </span> <span style=\"color: #008080; text-decoration-color: #008080; font-weight: bold\">2.72</span> <span style=\"font-weight: bold\">seconds</span>\n",
       "</pre>\n"
      ],
      "text/plain": [
       "    \u001b[1mElapsed generation time: \u001b[0m \u001b[1;36m2.72\u001b[0m \u001b[1mseconds\u001b[0m\n"
      ]
     },
     "metadata": {},
     "output_type": "display_data"
    },
    {
     "data": {
      "text/html": [
       "<pre style=\"white-space:pre;overflow-x:auto;line-height:normal;font-family:Menlo,'DejaVu Sans Mono',consolas,'Courier New',monospace\"><span style=\"color: #800080; text-decoration-color: #800080; font-weight: bold\">Creating generation </span><span style=\"color: #800080; text-decoration-color: #800080; font-weight: bold\">23</span><span style=\"color: #800080; text-decoration-color: #800080; font-weight: bold\">...</span>\n",
       "</pre>\n"
      ],
      "text/plain": [
       "\u001b[1;35mCreating generation \u001b[0m\u001b[1;35m23\u001b[0m\u001b[1;35m...\u001b[0m\n"
      ]
     },
     "metadata": {},
     "output_type": "display_data"
    },
    {
     "data": {
      "text/html": [
       "<pre style=\"white-space:pre;overflow-x:auto;line-height:normal;font-family:Menlo,'DejaVu Sans Mono',consolas,'Courier New',monospace\"> ✔ Evaluating population of new generation <span style=\"color: #008080; text-decoration-color: #008080; font-weight: bold\">23</span><span style=\"color: #808000; text-decoration-color: #808000\">...</span>\n",
       "</pre>\n"
      ],
      "text/plain": [
       " ✔ Evaluating population of new generation \u001b[1;36m23\u001b[0m\u001b[33m...\u001b[0m\n"
      ]
     },
     "metadata": {},
     "output_type": "display_data"
    },
    {
     "data": {
      "text/html": [
       "<pre style=\"white-space:pre;overflow-x:auto;line-height:normal;font-family:Menlo,'DejaVu Sans Mono',consolas,'Courier New',monospace\"> ✔ <span style=\"color: #800000; text-decoration-color: #800000; font-weight: bold\">(WORSE)</span> No better chromosome than the current one has been found <span style=\"color: #008080; text-decoration-color: #008080; font-weight: bold\">0.971830985915493</span>\n",
       "</pre>\n"
      ],
      "text/plain": [
       " ✔ \u001b[1;31m(\u001b[0m\u001b[1;31mWORSE\u001b[0m\u001b[1;31m)\u001b[0m No better chromosome than the current one has been found \u001b[1;36m0.971830985915493\u001b[0m\n"
      ]
     },
     "metadata": {},
     "output_type": "display_data"
    },
    {
     "data": {
      "text/html": [
       "<pre style=\"white-space:pre;overflow-x:auto;line-height:normal;font-family:Menlo,'DejaVu Sans Mono',consolas,'Courier New',monospace\"> ✔ Current best chromosome: <span style=\"font-weight: bold\">[</span><span style=\"color: #008080; text-decoration-color: #008080; font-weight: bold\">1</span> <span style=\"color: #008080; text-decoration-color: #008080; font-weight: bold\">0</span> <span style=\"color: #008080; text-decoration-color: #008080; font-weight: bold\">1</span> <span style=\"color: #008080; text-decoration-color: #008080; font-weight: bold\">1</span> <span style=\"color: #008080; text-decoration-color: #008080; font-weight: bold\">0</span> <span style=\"color: #008080; text-decoration-color: #008080; font-weight: bold\">0</span> <span style=\"color: #008080; text-decoration-color: #008080; font-weight: bold\">1</span> <span style=\"color: #008080; text-decoration-color: #008080; font-weight: bold\">0</span> <span style=\"color: #008080; text-decoration-color: #008080; font-weight: bold\">0</span> <span style=\"color: #008080; text-decoration-color: #008080; font-weight: bold\">0</span> <span style=\"color: #008080; text-decoration-color: #008080; font-weight: bold\">1</span> <span style=\"color: #008080; text-decoration-color: #008080; font-weight: bold\">0</span> <span style=\"color: #008080; text-decoration-color: #008080; font-weight: bold\">0</span><span style=\"font-weight: bold\">]</span>, Score: <span style=\"color: #008080; text-decoration-color: #008080; font-weight: bold\">0.9929577464788732</span>\n",
       "</pre>\n"
      ],
      "text/plain": [
       " ✔ Current best chromosome: \u001b[1m[\u001b[0m\u001b[1;36m1\u001b[0m \u001b[1;36m0\u001b[0m \u001b[1;36m1\u001b[0m \u001b[1;36m1\u001b[0m \u001b[1;36m0\u001b[0m \u001b[1;36m0\u001b[0m \u001b[1;36m1\u001b[0m \u001b[1;36m0\u001b[0m \u001b[1;36m0\u001b[0m \u001b[1;36m0\u001b[0m \u001b[1;36m1\u001b[0m \u001b[1;36m0\u001b[0m \u001b[1;36m0\u001b[0m\u001b[1m]\u001b[0m, Score: \u001b[1;36m0.9929577464788732\u001b[0m\n"
      ]
     },
     "metadata": {},
     "output_type": "display_data"
    },
    {
     "data": {
      "text/html": [
       "<pre style=\"white-space:pre;overflow-x:auto;line-height:normal;font-family:Menlo,'DejaVu Sans Mono',consolas,'Courier New',monospace\">    <span style=\"font-weight: bold\">Elapsed generation time: </span> <span style=\"color: #008080; text-decoration-color: #008080; font-weight: bold\">2.68</span> <span style=\"font-weight: bold\">seconds</span>\n",
       "</pre>\n"
      ],
      "text/plain": [
       "    \u001b[1mElapsed generation time: \u001b[0m \u001b[1;36m2.68\u001b[0m \u001b[1mseconds\u001b[0m\n"
      ]
     },
     "metadata": {},
     "output_type": "display_data"
    },
    {
     "data": {
      "text/html": [
       "<pre style=\"white-space:pre;overflow-x:auto;line-height:normal;font-family:Menlo,'DejaVu Sans Mono',consolas,'Courier New',monospace\"><span style=\"color: #800080; text-decoration-color: #800080; font-weight: bold\">Creating generation </span><span style=\"color: #800080; text-decoration-color: #800080; font-weight: bold\">24</span><span style=\"color: #800080; text-decoration-color: #800080; font-weight: bold\">...</span>\n",
       "</pre>\n"
      ],
      "text/plain": [
       "\u001b[1;35mCreating generation \u001b[0m\u001b[1;35m24\u001b[0m\u001b[1;35m...\u001b[0m\n"
      ]
     },
     "metadata": {},
     "output_type": "display_data"
    },
    {
     "data": {
      "text/html": [
       "<pre style=\"white-space:pre;overflow-x:auto;line-height:normal;font-family:Menlo,'DejaVu Sans Mono',consolas,'Courier New',monospace\"> ✔ Evaluating population of new generation <span style=\"color: #008080; text-decoration-color: #008080; font-weight: bold\">24</span><span style=\"color: #808000; text-decoration-color: #808000\">...</span>\n",
       "</pre>\n"
      ],
      "text/plain": [
       " ✔ Evaluating population of new generation \u001b[1;36m24\u001b[0m\u001b[33m...\u001b[0m\n"
      ]
     },
     "metadata": {},
     "output_type": "display_data"
    },
    {
     "data": {
      "text/html": [
       "<pre style=\"white-space:pre;overflow-x:auto;line-height:normal;font-family:Menlo,'DejaVu Sans Mono',consolas,'Courier New',monospace\"> ✔ <span style=\"color: #800000; text-decoration-color: #800000; font-weight: bold\">(WORSE)</span> No better chromosome than the current one has been found <span style=\"color: #008080; text-decoration-color: #008080; font-weight: bold\">0.9859154929577465</span>\n",
       "</pre>\n"
      ],
      "text/plain": [
       " ✔ \u001b[1;31m(\u001b[0m\u001b[1;31mWORSE\u001b[0m\u001b[1;31m)\u001b[0m No better chromosome than the current one has been found \u001b[1;36m0.9859154929577465\u001b[0m\n"
      ]
     },
     "metadata": {},
     "output_type": "display_data"
    },
    {
     "data": {
      "text/html": [
       "<pre style=\"white-space:pre;overflow-x:auto;line-height:normal;font-family:Menlo,'DejaVu Sans Mono',consolas,'Courier New',monospace\"> ✔ Current best chromosome: <span style=\"font-weight: bold\">[</span><span style=\"color: #008080; text-decoration-color: #008080; font-weight: bold\">1</span> <span style=\"color: #008080; text-decoration-color: #008080; font-weight: bold\">0</span> <span style=\"color: #008080; text-decoration-color: #008080; font-weight: bold\">1</span> <span style=\"color: #008080; text-decoration-color: #008080; font-weight: bold\">1</span> <span style=\"color: #008080; text-decoration-color: #008080; font-weight: bold\">0</span> <span style=\"color: #008080; text-decoration-color: #008080; font-weight: bold\">0</span> <span style=\"color: #008080; text-decoration-color: #008080; font-weight: bold\">1</span> <span style=\"color: #008080; text-decoration-color: #008080; font-weight: bold\">0</span> <span style=\"color: #008080; text-decoration-color: #008080; font-weight: bold\">0</span> <span style=\"color: #008080; text-decoration-color: #008080; font-weight: bold\">0</span> <span style=\"color: #008080; text-decoration-color: #008080; font-weight: bold\">1</span> <span style=\"color: #008080; text-decoration-color: #008080; font-weight: bold\">0</span> <span style=\"color: #008080; text-decoration-color: #008080; font-weight: bold\">0</span><span style=\"font-weight: bold\">]</span>, Score: <span style=\"color: #008080; text-decoration-color: #008080; font-weight: bold\">0.9929577464788732</span>\n",
       "</pre>\n"
      ],
      "text/plain": [
       " ✔ Current best chromosome: \u001b[1m[\u001b[0m\u001b[1;36m1\u001b[0m \u001b[1;36m0\u001b[0m \u001b[1;36m1\u001b[0m \u001b[1;36m1\u001b[0m \u001b[1;36m0\u001b[0m \u001b[1;36m0\u001b[0m \u001b[1;36m1\u001b[0m \u001b[1;36m0\u001b[0m \u001b[1;36m0\u001b[0m \u001b[1;36m0\u001b[0m \u001b[1;36m1\u001b[0m \u001b[1;36m0\u001b[0m \u001b[1;36m0\u001b[0m\u001b[1m]\u001b[0m, Score: \u001b[1;36m0.9929577464788732\u001b[0m\n"
      ]
     },
     "metadata": {},
     "output_type": "display_data"
    },
    {
     "data": {
      "text/html": [
       "<pre style=\"white-space:pre;overflow-x:auto;line-height:normal;font-family:Menlo,'DejaVu Sans Mono',consolas,'Courier New',monospace\">    <span style=\"font-weight: bold\">Elapsed generation time: </span> <span style=\"color: #008080; text-decoration-color: #008080; font-weight: bold\">2.69</span> <span style=\"font-weight: bold\">seconds</span>\n",
       "</pre>\n"
      ],
      "text/plain": [
       "    \u001b[1mElapsed generation time: \u001b[0m \u001b[1;36m2.69\u001b[0m \u001b[1mseconds\u001b[0m\n"
      ]
     },
     "metadata": {},
     "output_type": "display_data"
    },
    {
     "data": {
      "text/html": [
       "<pre style=\"white-space:pre;overflow-x:auto;line-height:normal;font-family:Menlo,'DejaVu Sans Mono',consolas,'Courier New',monospace\"><span style=\"color: #800080; text-decoration-color: #800080; font-weight: bold\">Creating generation </span><span style=\"color: #800080; text-decoration-color: #800080; font-weight: bold\">25</span><span style=\"color: #800080; text-decoration-color: #800080; font-weight: bold\">...</span>\n",
       "</pre>\n"
      ],
      "text/plain": [
       "\u001b[1;35mCreating generation \u001b[0m\u001b[1;35m25\u001b[0m\u001b[1;35m...\u001b[0m\n"
      ]
     },
     "metadata": {},
     "output_type": "display_data"
    },
    {
     "data": {
      "text/html": [
       "<pre style=\"white-space:pre;overflow-x:auto;line-height:normal;font-family:Menlo,'DejaVu Sans Mono',consolas,'Courier New',monospace\"> ✔ Evaluating population of new generation <span style=\"color: #008080; text-decoration-color: #008080; font-weight: bold\">25</span><span style=\"color: #808000; text-decoration-color: #808000\">...</span>\n",
       "</pre>\n"
      ],
      "text/plain": [
       " ✔ Evaluating population of new generation \u001b[1;36m25\u001b[0m\u001b[33m...\u001b[0m\n"
      ]
     },
     "metadata": {},
     "output_type": "display_data"
    },
    {
     "data": {
      "text/html": [
       "<pre style=\"white-space:pre;overflow-x:auto;line-height:normal;font-family:Menlo,'DejaVu Sans Mono',consolas,'Courier New',monospace\"> ✔ <span style=\"color: #800000; text-decoration-color: #800000; font-weight: bold\">(WORSE)</span> No better chromosome than the current one has been found <span style=\"color: #008080; text-decoration-color: #008080; font-weight: bold\">0.9859154929577465</span>\n",
       "</pre>\n"
      ],
      "text/plain": [
       " ✔ \u001b[1;31m(\u001b[0m\u001b[1;31mWORSE\u001b[0m\u001b[1;31m)\u001b[0m No better chromosome than the current one has been found \u001b[1;36m0.9859154929577465\u001b[0m\n"
      ]
     },
     "metadata": {},
     "output_type": "display_data"
    },
    {
     "data": {
      "text/html": [
       "<pre style=\"white-space:pre;overflow-x:auto;line-height:normal;font-family:Menlo,'DejaVu Sans Mono',consolas,'Courier New',monospace\"> ✔ Current best chromosome: <span style=\"font-weight: bold\">[</span><span style=\"color: #008080; text-decoration-color: #008080; font-weight: bold\">1</span> <span style=\"color: #008080; text-decoration-color: #008080; font-weight: bold\">0</span> <span style=\"color: #008080; text-decoration-color: #008080; font-weight: bold\">1</span> <span style=\"color: #008080; text-decoration-color: #008080; font-weight: bold\">1</span> <span style=\"color: #008080; text-decoration-color: #008080; font-weight: bold\">0</span> <span style=\"color: #008080; text-decoration-color: #008080; font-weight: bold\">0</span> <span style=\"color: #008080; text-decoration-color: #008080; font-weight: bold\">1</span> <span style=\"color: #008080; text-decoration-color: #008080; font-weight: bold\">0</span> <span style=\"color: #008080; text-decoration-color: #008080; font-weight: bold\">0</span> <span style=\"color: #008080; text-decoration-color: #008080; font-weight: bold\">0</span> <span style=\"color: #008080; text-decoration-color: #008080; font-weight: bold\">1</span> <span style=\"color: #008080; text-decoration-color: #008080; font-weight: bold\">0</span> <span style=\"color: #008080; text-decoration-color: #008080; font-weight: bold\">0</span><span style=\"font-weight: bold\">]</span>, Score: <span style=\"color: #008080; text-decoration-color: #008080; font-weight: bold\">0.9929577464788732</span>\n",
       "</pre>\n"
      ],
      "text/plain": [
       " ✔ Current best chromosome: \u001b[1m[\u001b[0m\u001b[1;36m1\u001b[0m \u001b[1;36m0\u001b[0m \u001b[1;36m1\u001b[0m \u001b[1;36m1\u001b[0m \u001b[1;36m0\u001b[0m \u001b[1;36m0\u001b[0m \u001b[1;36m1\u001b[0m \u001b[1;36m0\u001b[0m \u001b[1;36m0\u001b[0m \u001b[1;36m0\u001b[0m \u001b[1;36m1\u001b[0m \u001b[1;36m0\u001b[0m \u001b[1;36m0\u001b[0m\u001b[1m]\u001b[0m, Score: \u001b[1;36m0.9929577464788732\u001b[0m\n"
      ]
     },
     "metadata": {},
     "output_type": "display_data"
    },
    {
     "data": {
      "text/html": [
       "<pre style=\"white-space:pre;overflow-x:auto;line-height:normal;font-family:Menlo,'DejaVu Sans Mono',consolas,'Courier New',monospace\">    <span style=\"font-weight: bold\">Elapsed generation time: </span> <span style=\"color: #008080; text-decoration-color: #008080; font-weight: bold\">2.73</span> <span style=\"font-weight: bold\">seconds</span>\n",
       "</pre>\n"
      ],
      "text/plain": [
       "    \u001b[1mElapsed generation time: \u001b[0m \u001b[1;36m2.73\u001b[0m \u001b[1mseconds\u001b[0m\n"
      ]
     },
     "metadata": {},
     "output_type": "display_data"
    },
    {
     "data": {
      "text/html": [
       "<pre style=\"white-space:pre;overflow-x:auto;line-height:normal;font-family:Menlo,'DejaVu Sans Mono',consolas,'Courier New',monospace\"><span style=\"color: #800080; text-decoration-color: #800080; font-weight: bold\">Creating generation </span><span style=\"color: #800080; text-decoration-color: #800080; font-weight: bold\">26</span><span style=\"color: #800080; text-decoration-color: #800080; font-weight: bold\">...</span>\n",
       "</pre>\n"
      ],
      "text/plain": [
       "\u001b[1;35mCreating generation \u001b[0m\u001b[1;35m26\u001b[0m\u001b[1;35m...\u001b[0m\n"
      ]
     },
     "metadata": {},
     "output_type": "display_data"
    },
    {
     "data": {
      "text/html": [
       "<pre style=\"white-space:pre;overflow-x:auto;line-height:normal;font-family:Menlo,'DejaVu Sans Mono',consolas,'Courier New',monospace\"> ✔ Evaluating population of new generation <span style=\"color: #008080; text-decoration-color: #008080; font-weight: bold\">26</span><span style=\"color: #808000; text-decoration-color: #808000\">...</span>\n",
       "</pre>\n"
      ],
      "text/plain": [
       " ✔ Evaluating population of new generation \u001b[1;36m26\u001b[0m\u001b[33m...\u001b[0m\n"
      ]
     },
     "metadata": {},
     "output_type": "display_data"
    },
    {
     "data": {
      "text/html": [
       "<pre style=\"white-space:pre;overflow-x:auto;line-height:normal;font-family:Menlo,'DejaVu Sans Mono',consolas,'Courier New',monospace\"> ✔ <span style=\"color: #800000; text-decoration-color: #800000; font-weight: bold\">(WORSE)</span> No better chromosome than the current one has been found <span style=\"color: #008080; text-decoration-color: #008080; font-weight: bold\">0.9859154929577465</span>\n",
       "</pre>\n"
      ],
      "text/plain": [
       " ✔ \u001b[1;31m(\u001b[0m\u001b[1;31mWORSE\u001b[0m\u001b[1;31m)\u001b[0m No better chromosome than the current one has been found \u001b[1;36m0.9859154929577465\u001b[0m\n"
      ]
     },
     "metadata": {},
     "output_type": "display_data"
    },
    {
     "data": {
      "text/html": [
       "<pre style=\"white-space:pre;overflow-x:auto;line-height:normal;font-family:Menlo,'DejaVu Sans Mono',consolas,'Courier New',monospace\"> ✔ Current best chromosome: <span style=\"font-weight: bold\">[</span><span style=\"color: #008080; text-decoration-color: #008080; font-weight: bold\">1</span> <span style=\"color: #008080; text-decoration-color: #008080; font-weight: bold\">0</span> <span style=\"color: #008080; text-decoration-color: #008080; font-weight: bold\">1</span> <span style=\"color: #008080; text-decoration-color: #008080; font-weight: bold\">1</span> <span style=\"color: #008080; text-decoration-color: #008080; font-weight: bold\">0</span> <span style=\"color: #008080; text-decoration-color: #008080; font-weight: bold\">0</span> <span style=\"color: #008080; text-decoration-color: #008080; font-weight: bold\">1</span> <span style=\"color: #008080; text-decoration-color: #008080; font-weight: bold\">0</span> <span style=\"color: #008080; text-decoration-color: #008080; font-weight: bold\">0</span> <span style=\"color: #008080; text-decoration-color: #008080; font-weight: bold\">0</span> <span style=\"color: #008080; text-decoration-color: #008080; font-weight: bold\">1</span> <span style=\"color: #008080; text-decoration-color: #008080; font-weight: bold\">0</span> <span style=\"color: #008080; text-decoration-color: #008080; font-weight: bold\">0</span><span style=\"font-weight: bold\">]</span>, Score: <span style=\"color: #008080; text-decoration-color: #008080; font-weight: bold\">0.9929577464788732</span>\n",
       "</pre>\n"
      ],
      "text/plain": [
       " ✔ Current best chromosome: \u001b[1m[\u001b[0m\u001b[1;36m1\u001b[0m \u001b[1;36m0\u001b[0m \u001b[1;36m1\u001b[0m \u001b[1;36m1\u001b[0m \u001b[1;36m0\u001b[0m \u001b[1;36m0\u001b[0m \u001b[1;36m1\u001b[0m \u001b[1;36m0\u001b[0m \u001b[1;36m0\u001b[0m \u001b[1;36m0\u001b[0m \u001b[1;36m1\u001b[0m \u001b[1;36m0\u001b[0m \u001b[1;36m0\u001b[0m\u001b[1m]\u001b[0m, Score: \u001b[1;36m0.9929577464788732\u001b[0m\n"
      ]
     },
     "metadata": {},
     "output_type": "display_data"
    },
    {
     "data": {
      "text/html": [
       "<pre style=\"white-space:pre;overflow-x:auto;line-height:normal;font-family:Menlo,'DejaVu Sans Mono',consolas,'Courier New',monospace\">    <span style=\"font-weight: bold\">Elapsed generation time: </span> <span style=\"color: #008080; text-decoration-color: #008080; font-weight: bold\">2.67</span> <span style=\"font-weight: bold\">seconds</span>\n",
       "</pre>\n"
      ],
      "text/plain": [
       "    \u001b[1mElapsed generation time: \u001b[0m \u001b[1;36m2.67\u001b[0m \u001b[1mseconds\u001b[0m\n"
      ]
     },
     "metadata": {},
     "output_type": "display_data"
    },
    {
     "data": {
      "text/html": [
       "<pre style=\"white-space:pre;overflow-x:auto;line-height:normal;font-family:Menlo,'DejaVu Sans Mono',consolas,'Courier New',monospace\"><span style=\"color: #800080; text-decoration-color: #800080; font-weight: bold\">Creating generation </span><span style=\"color: #800080; text-decoration-color: #800080; font-weight: bold\">27</span><span style=\"color: #800080; text-decoration-color: #800080; font-weight: bold\">...</span>\n",
       "</pre>\n"
      ],
      "text/plain": [
       "\u001b[1;35mCreating generation \u001b[0m\u001b[1;35m27\u001b[0m\u001b[1;35m...\u001b[0m\n"
      ]
     },
     "metadata": {},
     "output_type": "display_data"
    },
    {
     "data": {
      "text/html": [
       "<pre style=\"white-space:pre;overflow-x:auto;line-height:normal;font-family:Menlo,'DejaVu Sans Mono',consolas,'Courier New',monospace\"> ✔ Evaluating population of new generation <span style=\"color: #008080; text-decoration-color: #008080; font-weight: bold\">27</span><span style=\"color: #808000; text-decoration-color: #808000\">...</span>\n",
       "</pre>\n"
      ],
      "text/plain": [
       " ✔ Evaluating population of new generation \u001b[1;36m27\u001b[0m\u001b[33m...\u001b[0m\n"
      ]
     },
     "metadata": {},
     "output_type": "display_data"
    },
    {
     "data": {
      "text/html": [
       "<pre style=\"white-space:pre;overflow-x:auto;line-height:normal;font-family:Menlo,'DejaVu Sans Mono',consolas,'Courier New',monospace\"> ✔ <span style=\"color: #800000; text-decoration-color: #800000; font-weight: bold\">(WORSE)</span> No better chromosome than the current one has been found <span style=\"color: #008080; text-decoration-color: #008080; font-weight: bold\">0.9859154929577465</span>\n",
       "</pre>\n"
      ],
      "text/plain": [
       " ✔ \u001b[1;31m(\u001b[0m\u001b[1;31mWORSE\u001b[0m\u001b[1;31m)\u001b[0m No better chromosome than the current one has been found \u001b[1;36m0.9859154929577465\u001b[0m\n"
      ]
     },
     "metadata": {},
     "output_type": "display_data"
    },
    {
     "data": {
      "text/html": [
       "<pre style=\"white-space:pre;overflow-x:auto;line-height:normal;font-family:Menlo,'DejaVu Sans Mono',consolas,'Courier New',monospace\"> ✔ Current best chromosome: <span style=\"font-weight: bold\">[</span><span style=\"color: #008080; text-decoration-color: #008080; font-weight: bold\">1</span> <span style=\"color: #008080; text-decoration-color: #008080; font-weight: bold\">0</span> <span style=\"color: #008080; text-decoration-color: #008080; font-weight: bold\">1</span> <span style=\"color: #008080; text-decoration-color: #008080; font-weight: bold\">1</span> <span style=\"color: #008080; text-decoration-color: #008080; font-weight: bold\">0</span> <span style=\"color: #008080; text-decoration-color: #008080; font-weight: bold\">0</span> <span style=\"color: #008080; text-decoration-color: #008080; font-weight: bold\">1</span> <span style=\"color: #008080; text-decoration-color: #008080; font-weight: bold\">0</span> <span style=\"color: #008080; text-decoration-color: #008080; font-weight: bold\">0</span> <span style=\"color: #008080; text-decoration-color: #008080; font-weight: bold\">0</span> <span style=\"color: #008080; text-decoration-color: #008080; font-weight: bold\">1</span> <span style=\"color: #008080; text-decoration-color: #008080; font-weight: bold\">0</span> <span style=\"color: #008080; text-decoration-color: #008080; font-weight: bold\">0</span><span style=\"font-weight: bold\">]</span>, Score: <span style=\"color: #008080; text-decoration-color: #008080; font-weight: bold\">0.9929577464788732</span>\n",
       "</pre>\n"
      ],
      "text/plain": [
       " ✔ Current best chromosome: \u001b[1m[\u001b[0m\u001b[1;36m1\u001b[0m \u001b[1;36m0\u001b[0m \u001b[1;36m1\u001b[0m \u001b[1;36m1\u001b[0m \u001b[1;36m0\u001b[0m \u001b[1;36m0\u001b[0m \u001b[1;36m1\u001b[0m \u001b[1;36m0\u001b[0m \u001b[1;36m0\u001b[0m \u001b[1;36m0\u001b[0m \u001b[1;36m1\u001b[0m \u001b[1;36m0\u001b[0m \u001b[1;36m0\u001b[0m\u001b[1m]\u001b[0m, Score: \u001b[1;36m0.9929577464788732\u001b[0m\n"
      ]
     },
     "metadata": {},
     "output_type": "display_data"
    },
    {
     "data": {
      "text/html": [
       "<pre style=\"white-space:pre;overflow-x:auto;line-height:normal;font-family:Menlo,'DejaVu Sans Mono',consolas,'Courier New',monospace\">    <span style=\"font-weight: bold\">Elapsed generation time: </span> <span style=\"color: #008080; text-decoration-color: #008080; font-weight: bold\">2.68</span> <span style=\"font-weight: bold\">seconds</span>\n",
       "</pre>\n"
      ],
      "text/plain": [
       "    \u001b[1mElapsed generation time: \u001b[0m \u001b[1;36m2.68\u001b[0m \u001b[1mseconds\u001b[0m\n"
      ]
     },
     "metadata": {},
     "output_type": "display_data"
    },
    {
     "data": {
      "text/html": [
       "<pre style=\"white-space:pre;overflow-x:auto;line-height:normal;font-family:Menlo,'DejaVu Sans Mono',consolas,'Courier New',monospace\"><span style=\"color: #800080; text-decoration-color: #800080; font-weight: bold\">Creating generation </span><span style=\"color: #800080; text-decoration-color: #800080; font-weight: bold\">28</span><span style=\"color: #800080; text-decoration-color: #800080; font-weight: bold\">...</span>\n",
       "</pre>\n"
      ],
      "text/plain": [
       "\u001b[1;35mCreating generation \u001b[0m\u001b[1;35m28\u001b[0m\u001b[1;35m...\u001b[0m\n"
      ]
     },
     "metadata": {},
     "output_type": "display_data"
    },
    {
     "data": {
      "text/html": [
       "<pre style=\"white-space:pre;overflow-x:auto;line-height:normal;font-family:Menlo,'DejaVu Sans Mono',consolas,'Courier New',monospace\"> ✔ Evaluating population of new generation <span style=\"color: #008080; text-decoration-color: #008080; font-weight: bold\">28</span><span style=\"color: #808000; text-decoration-color: #808000\">...</span>\n",
       "</pre>\n"
      ],
      "text/plain": [
       " ✔ Evaluating population of new generation \u001b[1;36m28\u001b[0m\u001b[33m...\u001b[0m\n"
      ]
     },
     "metadata": {},
     "output_type": "display_data"
    },
    {
     "data": {
      "text/html": [
       "<pre style=\"white-space:pre;overflow-x:auto;line-height:normal;font-family:Menlo,'DejaVu Sans Mono',consolas,'Courier New',monospace\"> ✔ <span style=\"color: #800000; text-decoration-color: #800000; font-weight: bold\">(WORSE)</span> No better chromosome than the current one has been found <span style=\"color: #008080; text-decoration-color: #008080; font-weight: bold\">0.9859154929577465</span>\n",
       "</pre>\n"
      ],
      "text/plain": [
       " ✔ \u001b[1;31m(\u001b[0m\u001b[1;31mWORSE\u001b[0m\u001b[1;31m)\u001b[0m No better chromosome than the current one has been found \u001b[1;36m0.9859154929577465\u001b[0m\n"
      ]
     },
     "metadata": {},
     "output_type": "display_data"
    },
    {
     "data": {
      "text/html": [
       "<pre style=\"white-space:pre;overflow-x:auto;line-height:normal;font-family:Menlo,'DejaVu Sans Mono',consolas,'Courier New',monospace\"> ✔ Current best chromosome: <span style=\"font-weight: bold\">[</span><span style=\"color: #008080; text-decoration-color: #008080; font-weight: bold\">1</span> <span style=\"color: #008080; text-decoration-color: #008080; font-weight: bold\">0</span> <span style=\"color: #008080; text-decoration-color: #008080; font-weight: bold\">1</span> <span style=\"color: #008080; text-decoration-color: #008080; font-weight: bold\">1</span> <span style=\"color: #008080; text-decoration-color: #008080; font-weight: bold\">0</span> <span style=\"color: #008080; text-decoration-color: #008080; font-weight: bold\">0</span> <span style=\"color: #008080; text-decoration-color: #008080; font-weight: bold\">1</span> <span style=\"color: #008080; text-decoration-color: #008080; font-weight: bold\">0</span> <span style=\"color: #008080; text-decoration-color: #008080; font-weight: bold\">0</span> <span style=\"color: #008080; text-decoration-color: #008080; font-weight: bold\">0</span> <span style=\"color: #008080; text-decoration-color: #008080; font-weight: bold\">1</span> <span style=\"color: #008080; text-decoration-color: #008080; font-weight: bold\">0</span> <span style=\"color: #008080; text-decoration-color: #008080; font-weight: bold\">0</span><span style=\"font-weight: bold\">]</span>, Score: <span style=\"color: #008080; text-decoration-color: #008080; font-weight: bold\">0.9929577464788732</span>\n",
       "</pre>\n"
      ],
      "text/plain": [
       " ✔ Current best chromosome: \u001b[1m[\u001b[0m\u001b[1;36m1\u001b[0m \u001b[1;36m0\u001b[0m \u001b[1;36m1\u001b[0m \u001b[1;36m1\u001b[0m \u001b[1;36m0\u001b[0m \u001b[1;36m0\u001b[0m \u001b[1;36m1\u001b[0m \u001b[1;36m0\u001b[0m \u001b[1;36m0\u001b[0m \u001b[1;36m0\u001b[0m \u001b[1;36m1\u001b[0m \u001b[1;36m0\u001b[0m \u001b[1;36m0\u001b[0m\u001b[1m]\u001b[0m, Score: \u001b[1;36m0.9929577464788732\u001b[0m\n"
      ]
     },
     "metadata": {},
     "output_type": "display_data"
    },
    {
     "data": {
      "text/html": [
       "<pre style=\"white-space:pre;overflow-x:auto;line-height:normal;font-family:Menlo,'DejaVu Sans Mono',consolas,'Courier New',monospace\">    <span style=\"font-weight: bold\">Elapsed generation time: </span> <span style=\"color: #008080; text-decoration-color: #008080; font-weight: bold\">2.68</span> <span style=\"font-weight: bold\">seconds</span>\n",
       "</pre>\n"
      ],
      "text/plain": [
       "    \u001b[1mElapsed generation time: \u001b[0m \u001b[1;36m2.68\u001b[0m \u001b[1mseconds\u001b[0m\n"
      ]
     },
     "metadata": {},
     "output_type": "display_data"
    },
    {
     "data": {
      "text/html": [
       "<pre style=\"white-space:pre;overflow-x:auto;line-height:normal;font-family:Menlo,'DejaVu Sans Mono',consolas,'Courier New',monospace\"><span style=\"color: #800080; text-decoration-color: #800080; font-weight: bold\">Creating generation </span><span style=\"color: #800080; text-decoration-color: #800080; font-weight: bold\">29</span><span style=\"color: #800080; text-decoration-color: #800080; font-weight: bold\">...</span>\n",
       "</pre>\n"
      ],
      "text/plain": [
       "\u001b[1;35mCreating generation \u001b[0m\u001b[1;35m29\u001b[0m\u001b[1;35m...\u001b[0m\n"
      ]
     },
     "metadata": {},
     "output_type": "display_data"
    },
    {
     "data": {
      "text/html": [
       "<pre style=\"white-space:pre;overflow-x:auto;line-height:normal;font-family:Menlo,'DejaVu Sans Mono',consolas,'Courier New',monospace\"> ✔ Evaluating population of new generation <span style=\"color: #008080; text-decoration-color: #008080; font-weight: bold\">29</span><span style=\"color: #808000; text-decoration-color: #808000\">...</span>\n",
       "</pre>\n"
      ],
      "text/plain": [
       " ✔ Evaluating population of new generation \u001b[1;36m29\u001b[0m\u001b[33m...\u001b[0m\n"
      ]
     },
     "metadata": {},
     "output_type": "display_data"
    },
    {
     "data": {
      "text/html": [
       "<pre style=\"white-space:pre;overflow-x:auto;line-height:normal;font-family:Menlo,'DejaVu Sans Mono',consolas,'Courier New',monospace\"> ✔ <span style=\"color: #800000; text-decoration-color: #800000; font-weight: bold\">(WORSE)</span> No better chromosome than the current one has been found <span style=\"color: #008080; text-decoration-color: #008080; font-weight: bold\">0.971830985915493</span>\n",
       "</pre>\n"
      ],
      "text/plain": [
       " ✔ \u001b[1;31m(\u001b[0m\u001b[1;31mWORSE\u001b[0m\u001b[1;31m)\u001b[0m No better chromosome than the current one has been found \u001b[1;36m0.971830985915493\u001b[0m\n"
      ]
     },
     "metadata": {},
     "output_type": "display_data"
    },
    {
     "data": {
      "text/html": [
       "<pre style=\"white-space:pre;overflow-x:auto;line-height:normal;font-family:Menlo,'DejaVu Sans Mono',consolas,'Courier New',monospace\"> ✔ Current best chromosome: <span style=\"font-weight: bold\">[</span><span style=\"color: #008080; text-decoration-color: #008080; font-weight: bold\">1</span> <span style=\"color: #008080; text-decoration-color: #008080; font-weight: bold\">0</span> <span style=\"color: #008080; text-decoration-color: #008080; font-weight: bold\">1</span> <span style=\"color: #008080; text-decoration-color: #008080; font-weight: bold\">1</span> <span style=\"color: #008080; text-decoration-color: #008080; font-weight: bold\">0</span> <span style=\"color: #008080; text-decoration-color: #008080; font-weight: bold\">0</span> <span style=\"color: #008080; text-decoration-color: #008080; font-weight: bold\">1</span> <span style=\"color: #008080; text-decoration-color: #008080; font-weight: bold\">0</span> <span style=\"color: #008080; text-decoration-color: #008080; font-weight: bold\">0</span> <span style=\"color: #008080; text-decoration-color: #008080; font-weight: bold\">0</span> <span style=\"color: #008080; text-decoration-color: #008080; font-weight: bold\">1</span> <span style=\"color: #008080; text-decoration-color: #008080; font-weight: bold\">0</span> <span style=\"color: #008080; text-decoration-color: #008080; font-weight: bold\">0</span><span style=\"font-weight: bold\">]</span>, Score: <span style=\"color: #008080; text-decoration-color: #008080; font-weight: bold\">0.9929577464788732</span>\n",
       "</pre>\n"
      ],
      "text/plain": [
       " ✔ Current best chromosome: \u001b[1m[\u001b[0m\u001b[1;36m1\u001b[0m \u001b[1;36m0\u001b[0m \u001b[1;36m1\u001b[0m \u001b[1;36m1\u001b[0m \u001b[1;36m0\u001b[0m \u001b[1;36m0\u001b[0m \u001b[1;36m1\u001b[0m \u001b[1;36m0\u001b[0m \u001b[1;36m0\u001b[0m \u001b[1;36m0\u001b[0m \u001b[1;36m1\u001b[0m \u001b[1;36m0\u001b[0m \u001b[1;36m0\u001b[0m\u001b[1m]\u001b[0m, Score: \u001b[1;36m0.9929577464788732\u001b[0m\n"
      ]
     },
     "metadata": {},
     "output_type": "display_data"
    },
    {
     "data": {
      "text/html": [
       "<pre style=\"white-space:pre;overflow-x:auto;line-height:normal;font-family:Menlo,'DejaVu Sans Mono',consolas,'Courier New',monospace\">    <span style=\"font-weight: bold\">Elapsed generation time: </span> <span style=\"color: #008080; text-decoration-color: #008080; font-weight: bold\">2.70</span> <span style=\"font-weight: bold\">seconds</span>\n",
       "</pre>\n"
      ],
      "text/plain": [
       "    \u001b[1mElapsed generation time: \u001b[0m \u001b[1;36m2.70\u001b[0m \u001b[1mseconds\u001b[0m\n"
      ]
     },
     "metadata": {},
     "output_type": "display_data"
    },
    {
     "data": {
      "text/html": [
       "<pre style=\"white-space:pre;overflow-x:auto;line-height:normal;font-family:Menlo,'DejaVu Sans Mono',consolas,'Courier New',monospace\"><span style=\"color: #800080; text-decoration-color: #800080; font-weight: bold\">Creating generation </span><span style=\"color: #800080; text-decoration-color: #800080; font-weight: bold\">30</span><span style=\"color: #800080; text-decoration-color: #800080; font-weight: bold\">...</span>\n",
       "</pre>\n"
      ],
      "text/plain": [
       "\u001b[1;35mCreating generation \u001b[0m\u001b[1;35m30\u001b[0m\u001b[1;35m...\u001b[0m\n"
      ]
     },
     "metadata": {},
     "output_type": "display_data"
    },
    {
     "data": {
      "text/html": [
       "<pre style=\"white-space:pre;overflow-x:auto;line-height:normal;font-family:Menlo,'DejaVu Sans Mono',consolas,'Courier New',monospace\"> ✔ Evaluating population of new generation <span style=\"color: #008080; text-decoration-color: #008080; font-weight: bold\">30</span><span style=\"color: #808000; text-decoration-color: #808000\">...</span>\n",
       "</pre>\n"
      ],
      "text/plain": [
       " ✔ Evaluating population of new generation \u001b[1;36m30\u001b[0m\u001b[33m...\u001b[0m\n"
      ]
     },
     "metadata": {},
     "output_type": "display_data"
    },
    {
     "data": {
      "text/html": [
       "<pre style=\"white-space:pre;overflow-x:auto;line-height:normal;font-family:Menlo,'DejaVu Sans Mono',consolas,'Courier New',monospace\"> ✔ <span style=\"color: #800080; text-decoration-color: #800080\">Same scoring value found </span><span style=\"color: #800080; text-decoration-color: #800080; font-weight: bold\">1</span><span style=\"color: #800080; text-decoration-color: #800080\"> / </span><span style=\"color: #800080; text-decoration-color: #800080; font-weight: bold\">5</span><span style=\"color: #800080; text-decoration-color: #800080\"> times.</span>\n",
       "</pre>\n"
      ],
      "text/plain": [
       " ✔ \u001b[35mSame scoring value found \u001b[0m\u001b[1;35m1\u001b[0m\u001b[35m \u001b[0m\u001b[35m/\u001b[0m\u001b[35m \u001b[0m\u001b[1;35m5\u001b[0m\u001b[35m times.\u001b[0m\n"
      ]
     },
     "metadata": {},
     "output_type": "display_data"
    },
    {
     "data": {
      "text/html": [
       "<pre style=\"white-space:pre;overflow-x:auto;line-height:normal;font-family:Menlo,'DejaVu Sans Mono',consolas,'Courier New',monospace\"> ✔ Current best chromosome: <span style=\"font-weight: bold\">[</span><span style=\"color: #008080; text-decoration-color: #008080; font-weight: bold\">1</span> <span style=\"color: #008080; text-decoration-color: #008080; font-weight: bold\">0</span> <span style=\"color: #008080; text-decoration-color: #008080; font-weight: bold\">1</span> <span style=\"color: #008080; text-decoration-color: #008080; font-weight: bold\">1</span> <span style=\"color: #008080; text-decoration-color: #008080; font-weight: bold\">0</span> <span style=\"color: #008080; text-decoration-color: #008080; font-weight: bold\">0</span> <span style=\"color: #008080; text-decoration-color: #008080; font-weight: bold\">1</span> <span style=\"color: #008080; text-decoration-color: #008080; font-weight: bold\">0</span> <span style=\"color: #008080; text-decoration-color: #008080; font-weight: bold\">0</span> <span style=\"color: #008080; text-decoration-color: #008080; font-weight: bold\">0</span> <span style=\"color: #008080; text-decoration-color: #008080; font-weight: bold\">1</span> <span style=\"color: #008080; text-decoration-color: #008080; font-weight: bold\">0</span> <span style=\"color: #008080; text-decoration-color: #008080; font-weight: bold\">0</span><span style=\"font-weight: bold\">]</span>, Score: <span style=\"color: #008080; text-decoration-color: #008080; font-weight: bold\">0.9929577464788732</span>\n",
       "</pre>\n"
      ],
      "text/plain": [
       " ✔ Current best chromosome: \u001b[1m[\u001b[0m\u001b[1;36m1\u001b[0m \u001b[1;36m0\u001b[0m \u001b[1;36m1\u001b[0m \u001b[1;36m1\u001b[0m \u001b[1;36m0\u001b[0m \u001b[1;36m0\u001b[0m \u001b[1;36m1\u001b[0m \u001b[1;36m0\u001b[0m \u001b[1;36m0\u001b[0m \u001b[1;36m0\u001b[0m \u001b[1;36m1\u001b[0m \u001b[1;36m0\u001b[0m \u001b[1;36m0\u001b[0m\u001b[1m]\u001b[0m, Score: \u001b[1;36m0.9929577464788732\u001b[0m\n"
      ]
     },
     "metadata": {},
     "output_type": "display_data"
    },
    {
     "data": {
      "text/html": [
       "<pre style=\"white-space:pre;overflow-x:auto;line-height:normal;font-family:Menlo,'DejaVu Sans Mono',consolas,'Courier New',monospace\">    <span style=\"font-weight: bold\">Elapsed generation time: </span> <span style=\"color: #008080; text-decoration-color: #008080; font-weight: bold\">2.65</span> <span style=\"font-weight: bold\">seconds</span>\n",
       "</pre>\n"
      ],
      "text/plain": [
       "    \u001b[1mElapsed generation time: \u001b[0m \u001b[1;36m2.65\u001b[0m \u001b[1mseconds\u001b[0m\n"
      ]
     },
     "metadata": {},
     "output_type": "display_data"
    },
    {
     "data": {
      "text/html": [
       "<pre style=\"white-space:pre;overflow-x:auto;line-height:normal;font-family:Menlo,'DejaVu Sans Mono',consolas,'Courier New',monospace\"><span style=\"color: #800080; text-decoration-color: #800080; font-weight: bold\">Creating generation </span><span style=\"color: #800080; text-decoration-color: #800080; font-weight: bold\">31</span><span style=\"color: #800080; text-decoration-color: #800080; font-weight: bold\">...</span>\n",
       "</pre>\n"
      ],
      "text/plain": [
       "\u001b[1;35mCreating generation \u001b[0m\u001b[1;35m31\u001b[0m\u001b[1;35m...\u001b[0m\n"
      ]
     },
     "metadata": {},
     "output_type": "display_data"
    },
    {
     "data": {
      "text/html": [
       "<pre style=\"white-space:pre;overflow-x:auto;line-height:normal;font-family:Menlo,'DejaVu Sans Mono',consolas,'Courier New',monospace\"> ✔ Evaluating population of new generation <span style=\"color: #008080; text-decoration-color: #008080; font-weight: bold\">31</span><span style=\"color: #808000; text-decoration-color: #808000\">...</span>\n",
       "</pre>\n"
      ],
      "text/plain": [
       " ✔ Evaluating population of new generation \u001b[1;36m31\u001b[0m\u001b[33m...\u001b[0m\n"
      ]
     },
     "metadata": {},
     "output_type": "display_data"
    },
    {
     "data": {
      "text/html": [
       "<pre style=\"white-space:pre;overflow-x:auto;line-height:normal;font-family:Menlo,'DejaVu Sans Mono',consolas,'Courier New',monospace\"> ✔ <span style=\"color: #800080; text-decoration-color: #800080\">Same scoring value found </span><span style=\"color: #800080; text-decoration-color: #800080; font-weight: bold\">2</span><span style=\"color: #800080; text-decoration-color: #800080\"> / </span><span style=\"color: #800080; text-decoration-color: #800080; font-weight: bold\">5</span><span style=\"color: #800080; text-decoration-color: #800080\"> times.</span>\n",
       "</pre>\n"
      ],
      "text/plain": [
       " ✔ \u001b[35mSame scoring value found \u001b[0m\u001b[1;35m2\u001b[0m\u001b[35m \u001b[0m\u001b[35m/\u001b[0m\u001b[35m \u001b[0m\u001b[1;35m5\u001b[0m\u001b[35m times.\u001b[0m\n"
      ]
     },
     "metadata": {},
     "output_type": "display_data"
    },
    {
     "data": {
      "text/html": [
       "<pre style=\"white-space:pre;overflow-x:auto;line-height:normal;font-family:Menlo,'DejaVu Sans Mono',consolas,'Courier New',monospace\"> ✔ Current best chromosome: <span style=\"font-weight: bold\">[</span><span style=\"color: #008080; text-decoration-color: #008080; font-weight: bold\">1</span> <span style=\"color: #008080; text-decoration-color: #008080; font-weight: bold\">0</span> <span style=\"color: #008080; text-decoration-color: #008080; font-weight: bold\">1</span> <span style=\"color: #008080; text-decoration-color: #008080; font-weight: bold\">1</span> <span style=\"color: #008080; text-decoration-color: #008080; font-weight: bold\">0</span> <span style=\"color: #008080; text-decoration-color: #008080; font-weight: bold\">0</span> <span style=\"color: #008080; text-decoration-color: #008080; font-weight: bold\">1</span> <span style=\"color: #008080; text-decoration-color: #008080; font-weight: bold\">0</span> <span style=\"color: #008080; text-decoration-color: #008080; font-weight: bold\">0</span> <span style=\"color: #008080; text-decoration-color: #008080; font-weight: bold\">0</span> <span style=\"color: #008080; text-decoration-color: #008080; font-weight: bold\">1</span> <span style=\"color: #008080; text-decoration-color: #008080; font-weight: bold\">0</span> <span style=\"color: #008080; text-decoration-color: #008080; font-weight: bold\">0</span><span style=\"font-weight: bold\">]</span>, Score: <span style=\"color: #008080; text-decoration-color: #008080; font-weight: bold\">0.9929577464788732</span>\n",
       "</pre>\n"
      ],
      "text/plain": [
       " ✔ Current best chromosome: \u001b[1m[\u001b[0m\u001b[1;36m1\u001b[0m \u001b[1;36m0\u001b[0m \u001b[1;36m1\u001b[0m \u001b[1;36m1\u001b[0m \u001b[1;36m0\u001b[0m \u001b[1;36m0\u001b[0m \u001b[1;36m1\u001b[0m \u001b[1;36m0\u001b[0m \u001b[1;36m0\u001b[0m \u001b[1;36m0\u001b[0m \u001b[1;36m1\u001b[0m \u001b[1;36m0\u001b[0m \u001b[1;36m0\u001b[0m\u001b[1m]\u001b[0m, Score: \u001b[1;36m0.9929577464788732\u001b[0m\n"
      ]
     },
     "metadata": {},
     "output_type": "display_data"
    },
    {
     "data": {
      "text/html": [
       "<pre style=\"white-space:pre;overflow-x:auto;line-height:normal;font-family:Menlo,'DejaVu Sans Mono',consolas,'Courier New',monospace\">    <span style=\"font-weight: bold\">Elapsed generation time: </span> <span style=\"color: #008080; text-decoration-color: #008080; font-weight: bold\">2.67</span> <span style=\"font-weight: bold\">seconds</span>\n",
       "</pre>\n"
      ],
      "text/plain": [
       "    \u001b[1mElapsed generation time: \u001b[0m \u001b[1;36m2.67\u001b[0m \u001b[1mseconds\u001b[0m\n"
      ]
     },
     "metadata": {},
     "output_type": "display_data"
    },
    {
     "data": {
      "text/html": [
       "<pre style=\"white-space:pre;overflow-x:auto;line-height:normal;font-family:Menlo,'DejaVu Sans Mono',consolas,'Courier New',monospace\"><span style=\"color: #800080; text-decoration-color: #800080; font-weight: bold\">Creating generation </span><span style=\"color: #800080; text-decoration-color: #800080; font-weight: bold\">32</span><span style=\"color: #800080; text-decoration-color: #800080; font-weight: bold\">...</span>\n",
       "</pre>\n"
      ],
      "text/plain": [
       "\u001b[1;35mCreating generation \u001b[0m\u001b[1;35m32\u001b[0m\u001b[1;35m...\u001b[0m\n"
      ]
     },
     "metadata": {},
     "output_type": "display_data"
    },
    {
     "data": {
      "text/html": [
       "<pre style=\"white-space:pre;overflow-x:auto;line-height:normal;font-family:Menlo,'DejaVu Sans Mono',consolas,'Courier New',monospace\"> ✔ Evaluating population of new generation <span style=\"color: #008080; text-decoration-color: #008080; font-weight: bold\">32</span><span style=\"color: #808000; text-decoration-color: #808000\">...</span>\n",
       "</pre>\n"
      ],
      "text/plain": [
       " ✔ Evaluating population of new generation \u001b[1;36m32\u001b[0m\u001b[33m...\u001b[0m\n"
      ]
     },
     "metadata": {},
     "output_type": "display_data"
    },
    {
     "data": {
      "text/html": [
       "<pre style=\"white-space:pre;overflow-x:auto;line-height:normal;font-family:Menlo,'DejaVu Sans Mono',consolas,'Courier New',monospace\"> ✔ <span style=\"color: #800000; text-decoration-color: #800000; font-weight: bold\">(WORSE)</span> No better chromosome than the current one has been found <span style=\"color: #008080; text-decoration-color: #008080; font-weight: bold\">0.971830985915493</span>\n",
       "</pre>\n"
      ],
      "text/plain": [
       " ✔ \u001b[1;31m(\u001b[0m\u001b[1;31mWORSE\u001b[0m\u001b[1;31m)\u001b[0m No better chromosome than the current one has been found \u001b[1;36m0.971830985915493\u001b[0m\n"
      ]
     },
     "metadata": {},
     "output_type": "display_data"
    },
    {
     "data": {
      "text/html": [
       "<pre style=\"white-space:pre;overflow-x:auto;line-height:normal;font-family:Menlo,'DejaVu Sans Mono',consolas,'Courier New',monospace\"> ✔ Current best chromosome: <span style=\"font-weight: bold\">[</span><span style=\"color: #008080; text-decoration-color: #008080; font-weight: bold\">1</span> <span style=\"color: #008080; text-decoration-color: #008080; font-weight: bold\">0</span> <span style=\"color: #008080; text-decoration-color: #008080; font-weight: bold\">1</span> <span style=\"color: #008080; text-decoration-color: #008080; font-weight: bold\">1</span> <span style=\"color: #008080; text-decoration-color: #008080; font-weight: bold\">0</span> <span style=\"color: #008080; text-decoration-color: #008080; font-weight: bold\">0</span> <span style=\"color: #008080; text-decoration-color: #008080; font-weight: bold\">1</span> <span style=\"color: #008080; text-decoration-color: #008080; font-weight: bold\">0</span> <span style=\"color: #008080; text-decoration-color: #008080; font-weight: bold\">0</span> <span style=\"color: #008080; text-decoration-color: #008080; font-weight: bold\">0</span> <span style=\"color: #008080; text-decoration-color: #008080; font-weight: bold\">1</span> <span style=\"color: #008080; text-decoration-color: #008080; font-weight: bold\">0</span> <span style=\"color: #008080; text-decoration-color: #008080; font-weight: bold\">0</span><span style=\"font-weight: bold\">]</span>, Score: <span style=\"color: #008080; text-decoration-color: #008080; font-weight: bold\">0.9929577464788732</span>\n",
       "</pre>\n"
      ],
      "text/plain": [
       " ✔ Current best chromosome: \u001b[1m[\u001b[0m\u001b[1;36m1\u001b[0m \u001b[1;36m0\u001b[0m \u001b[1;36m1\u001b[0m \u001b[1;36m1\u001b[0m \u001b[1;36m0\u001b[0m \u001b[1;36m0\u001b[0m \u001b[1;36m1\u001b[0m \u001b[1;36m0\u001b[0m \u001b[1;36m0\u001b[0m \u001b[1;36m0\u001b[0m \u001b[1;36m1\u001b[0m \u001b[1;36m0\u001b[0m \u001b[1;36m0\u001b[0m\u001b[1m]\u001b[0m, Score: \u001b[1;36m0.9929577464788732\u001b[0m\n"
      ]
     },
     "metadata": {},
     "output_type": "display_data"
    },
    {
     "data": {
      "text/html": [
       "<pre style=\"white-space:pre;overflow-x:auto;line-height:normal;font-family:Menlo,'DejaVu Sans Mono',consolas,'Courier New',monospace\">    <span style=\"font-weight: bold\">Elapsed generation time: </span> <span style=\"color: #008080; text-decoration-color: #008080; font-weight: bold\">2.71</span> <span style=\"font-weight: bold\">seconds</span>\n",
       "</pre>\n"
      ],
      "text/plain": [
       "    \u001b[1mElapsed generation time: \u001b[0m \u001b[1;36m2.71\u001b[0m \u001b[1mseconds\u001b[0m\n"
      ]
     },
     "metadata": {},
     "output_type": "display_data"
    },
    {
     "data": {
      "text/html": [
       "<pre style=\"white-space:pre;overflow-x:auto;line-height:normal;font-family:Menlo,'DejaVu Sans Mono',consolas,'Courier New',monospace\"><span style=\"color: #800080; text-decoration-color: #800080; font-weight: bold\">Creating generation </span><span style=\"color: #800080; text-decoration-color: #800080; font-weight: bold\">33</span><span style=\"color: #800080; text-decoration-color: #800080; font-weight: bold\">...</span>\n",
       "</pre>\n"
      ],
      "text/plain": [
       "\u001b[1;35mCreating generation \u001b[0m\u001b[1;35m33\u001b[0m\u001b[1;35m...\u001b[0m\n"
      ]
     },
     "metadata": {},
     "output_type": "display_data"
    },
    {
     "data": {
      "text/html": [
       "<pre style=\"white-space:pre;overflow-x:auto;line-height:normal;font-family:Menlo,'DejaVu Sans Mono',consolas,'Courier New',monospace\"> ✔ Evaluating population of new generation <span style=\"color: #008080; text-decoration-color: #008080; font-weight: bold\">33</span><span style=\"color: #808000; text-decoration-color: #808000\">...</span>\n",
       "</pre>\n"
      ],
      "text/plain": [
       " ✔ Evaluating population of new generation \u001b[1;36m33\u001b[0m\u001b[33m...\u001b[0m\n"
      ]
     },
     "metadata": {},
     "output_type": "display_data"
    },
    {
     "data": {
      "text/html": [
       "<pre style=\"white-space:pre;overflow-x:auto;line-height:normal;font-family:Menlo,'DejaVu Sans Mono',consolas,'Courier New',monospace\"> ✔ <span style=\"color: #800000; text-decoration-color: #800000; font-weight: bold\">(WORSE)</span> No better chromosome than the current one has been found <span style=\"color: #008080; text-decoration-color: #008080; font-weight: bold\">0.9859154929577465</span>\n",
       "</pre>\n"
      ],
      "text/plain": [
       " ✔ \u001b[1;31m(\u001b[0m\u001b[1;31mWORSE\u001b[0m\u001b[1;31m)\u001b[0m No better chromosome than the current one has been found \u001b[1;36m0.9859154929577465\u001b[0m\n"
      ]
     },
     "metadata": {},
     "output_type": "display_data"
    },
    {
     "data": {
      "text/html": [
       "<pre style=\"white-space:pre;overflow-x:auto;line-height:normal;font-family:Menlo,'DejaVu Sans Mono',consolas,'Courier New',monospace\"> ✔ Current best chromosome: <span style=\"font-weight: bold\">[</span><span style=\"color: #008080; text-decoration-color: #008080; font-weight: bold\">1</span> <span style=\"color: #008080; text-decoration-color: #008080; font-weight: bold\">0</span> <span style=\"color: #008080; text-decoration-color: #008080; font-weight: bold\">1</span> <span style=\"color: #008080; text-decoration-color: #008080; font-weight: bold\">1</span> <span style=\"color: #008080; text-decoration-color: #008080; font-weight: bold\">0</span> <span style=\"color: #008080; text-decoration-color: #008080; font-weight: bold\">0</span> <span style=\"color: #008080; text-decoration-color: #008080; font-weight: bold\">1</span> <span style=\"color: #008080; text-decoration-color: #008080; font-weight: bold\">0</span> <span style=\"color: #008080; text-decoration-color: #008080; font-weight: bold\">0</span> <span style=\"color: #008080; text-decoration-color: #008080; font-weight: bold\">0</span> <span style=\"color: #008080; text-decoration-color: #008080; font-weight: bold\">1</span> <span style=\"color: #008080; text-decoration-color: #008080; font-weight: bold\">0</span> <span style=\"color: #008080; text-decoration-color: #008080; font-weight: bold\">0</span><span style=\"font-weight: bold\">]</span>, Score: <span style=\"color: #008080; text-decoration-color: #008080; font-weight: bold\">0.9929577464788732</span>\n",
       "</pre>\n"
      ],
      "text/plain": [
       " ✔ Current best chromosome: \u001b[1m[\u001b[0m\u001b[1;36m1\u001b[0m \u001b[1;36m0\u001b[0m \u001b[1;36m1\u001b[0m \u001b[1;36m1\u001b[0m \u001b[1;36m0\u001b[0m \u001b[1;36m0\u001b[0m \u001b[1;36m1\u001b[0m \u001b[1;36m0\u001b[0m \u001b[1;36m0\u001b[0m \u001b[1;36m0\u001b[0m \u001b[1;36m1\u001b[0m \u001b[1;36m0\u001b[0m \u001b[1;36m0\u001b[0m\u001b[1m]\u001b[0m, Score: \u001b[1;36m0.9929577464788732\u001b[0m\n"
      ]
     },
     "metadata": {},
     "output_type": "display_data"
    },
    {
     "data": {
      "text/html": [
       "<pre style=\"white-space:pre;overflow-x:auto;line-height:normal;font-family:Menlo,'DejaVu Sans Mono',consolas,'Courier New',monospace\">    <span style=\"font-weight: bold\">Elapsed generation time: </span> <span style=\"color: #008080; text-decoration-color: #008080; font-weight: bold\">2.69</span> <span style=\"font-weight: bold\">seconds</span>\n",
       "</pre>\n"
      ],
      "text/plain": [
       "    \u001b[1mElapsed generation time: \u001b[0m \u001b[1;36m2.69\u001b[0m \u001b[1mseconds\u001b[0m\n"
      ]
     },
     "metadata": {},
     "output_type": "display_data"
    },
    {
     "data": {
      "text/html": [
       "<pre style=\"white-space:pre;overflow-x:auto;line-height:normal;font-family:Menlo,'DejaVu Sans Mono',consolas,'Courier New',monospace\"><span style=\"color: #800080; text-decoration-color: #800080; font-weight: bold\">Creating generation </span><span style=\"color: #800080; text-decoration-color: #800080; font-weight: bold\">34</span><span style=\"color: #800080; text-decoration-color: #800080; font-weight: bold\">...</span>\n",
       "</pre>\n"
      ],
      "text/plain": [
       "\u001b[1;35mCreating generation \u001b[0m\u001b[1;35m34\u001b[0m\u001b[1;35m...\u001b[0m\n"
      ]
     },
     "metadata": {},
     "output_type": "display_data"
    },
    {
     "data": {
      "text/html": [
       "<pre style=\"white-space:pre;overflow-x:auto;line-height:normal;font-family:Menlo,'DejaVu Sans Mono',consolas,'Courier New',monospace\"> ✔ Evaluating population of new generation <span style=\"color: #008080; text-decoration-color: #008080; font-weight: bold\">34</span><span style=\"color: #808000; text-decoration-color: #808000\">...</span>\n",
       "</pre>\n"
      ],
      "text/plain": [
       " ✔ Evaluating population of new generation \u001b[1;36m34\u001b[0m\u001b[33m...\u001b[0m\n"
      ]
     },
     "metadata": {},
     "output_type": "display_data"
    },
    {
     "data": {
      "text/html": [
       "<pre style=\"white-space:pre;overflow-x:auto;line-height:normal;font-family:Menlo,'DejaVu Sans Mono',consolas,'Courier New',monospace\"> ✔ <span style=\"color: #800080; text-decoration-color: #800080\">Same scoring value found </span><span style=\"color: #800080; text-decoration-color: #800080; font-weight: bold\">1</span><span style=\"color: #800080; text-decoration-color: #800080\"> / </span><span style=\"color: #800080; text-decoration-color: #800080; font-weight: bold\">5</span><span style=\"color: #800080; text-decoration-color: #800080\"> times.</span>\n",
       "</pre>\n"
      ],
      "text/plain": [
       " ✔ \u001b[35mSame scoring value found \u001b[0m\u001b[1;35m1\u001b[0m\u001b[35m \u001b[0m\u001b[35m/\u001b[0m\u001b[35m \u001b[0m\u001b[1;35m5\u001b[0m\u001b[35m times.\u001b[0m\n"
      ]
     },
     "metadata": {},
     "output_type": "display_data"
    },
    {
     "data": {
      "text/html": [
       "<pre style=\"white-space:pre;overflow-x:auto;line-height:normal;font-family:Menlo,'DejaVu Sans Mono',consolas,'Courier New',monospace\"> ✔ Current best chromosome: <span style=\"font-weight: bold\">[</span><span style=\"color: #008080; text-decoration-color: #008080; font-weight: bold\">1</span> <span style=\"color: #008080; text-decoration-color: #008080; font-weight: bold\">0</span> <span style=\"color: #008080; text-decoration-color: #008080; font-weight: bold\">1</span> <span style=\"color: #008080; text-decoration-color: #008080; font-weight: bold\">1</span> <span style=\"color: #008080; text-decoration-color: #008080; font-weight: bold\">0</span> <span style=\"color: #008080; text-decoration-color: #008080; font-weight: bold\">0</span> <span style=\"color: #008080; text-decoration-color: #008080; font-weight: bold\">1</span> <span style=\"color: #008080; text-decoration-color: #008080; font-weight: bold\">0</span> <span style=\"color: #008080; text-decoration-color: #008080; font-weight: bold\">0</span> <span style=\"color: #008080; text-decoration-color: #008080; font-weight: bold\">0</span> <span style=\"color: #008080; text-decoration-color: #008080; font-weight: bold\">1</span> <span style=\"color: #008080; text-decoration-color: #008080; font-weight: bold\">0</span> <span style=\"color: #008080; text-decoration-color: #008080; font-weight: bold\">0</span><span style=\"font-weight: bold\">]</span>, Score: <span style=\"color: #008080; text-decoration-color: #008080; font-weight: bold\">0.9929577464788732</span>\n",
       "</pre>\n"
      ],
      "text/plain": [
       " ✔ Current best chromosome: \u001b[1m[\u001b[0m\u001b[1;36m1\u001b[0m \u001b[1;36m0\u001b[0m \u001b[1;36m1\u001b[0m \u001b[1;36m1\u001b[0m \u001b[1;36m0\u001b[0m \u001b[1;36m0\u001b[0m \u001b[1;36m1\u001b[0m \u001b[1;36m0\u001b[0m \u001b[1;36m0\u001b[0m \u001b[1;36m0\u001b[0m \u001b[1;36m1\u001b[0m \u001b[1;36m0\u001b[0m \u001b[1;36m0\u001b[0m\u001b[1m]\u001b[0m, Score: \u001b[1;36m0.9929577464788732\u001b[0m\n"
      ]
     },
     "metadata": {},
     "output_type": "display_data"
    },
    {
     "data": {
      "text/html": [
       "<pre style=\"white-space:pre;overflow-x:auto;line-height:normal;font-family:Menlo,'DejaVu Sans Mono',consolas,'Courier New',monospace\">    <span style=\"font-weight: bold\">Elapsed generation time: </span> <span style=\"color: #008080; text-decoration-color: #008080; font-weight: bold\">2.68</span> <span style=\"font-weight: bold\">seconds</span>\n",
       "</pre>\n"
      ],
      "text/plain": [
       "    \u001b[1mElapsed generation time: \u001b[0m \u001b[1;36m2.68\u001b[0m \u001b[1mseconds\u001b[0m\n"
      ]
     },
     "metadata": {},
     "output_type": "display_data"
    },
    {
     "data": {
      "text/html": [
       "<pre style=\"white-space:pre;overflow-x:auto;line-height:normal;font-family:Menlo,'DejaVu Sans Mono',consolas,'Courier New',monospace\"><span style=\"color: #800080; text-decoration-color: #800080; font-weight: bold\">Creating generation </span><span style=\"color: #800080; text-decoration-color: #800080; font-weight: bold\">35</span><span style=\"color: #800080; text-decoration-color: #800080; font-weight: bold\">...</span>\n",
       "</pre>\n"
      ],
      "text/plain": [
       "\u001b[1;35mCreating generation \u001b[0m\u001b[1;35m35\u001b[0m\u001b[1;35m...\u001b[0m\n"
      ]
     },
     "metadata": {},
     "output_type": "display_data"
    },
    {
     "data": {
      "text/html": [
       "<pre style=\"white-space:pre;overflow-x:auto;line-height:normal;font-family:Menlo,'DejaVu Sans Mono',consolas,'Courier New',monospace\"> ✔ Evaluating population of new generation <span style=\"color: #008080; text-decoration-color: #008080; font-weight: bold\">35</span><span style=\"color: #808000; text-decoration-color: #808000\">...</span>\n",
       "</pre>\n"
      ],
      "text/plain": [
       " ✔ Evaluating population of new generation \u001b[1;36m35\u001b[0m\u001b[33m...\u001b[0m\n"
      ]
     },
     "metadata": {},
     "output_type": "display_data"
    },
    {
     "data": {
      "text/html": [
       "<pre style=\"white-space:pre;overflow-x:auto;line-height:normal;font-family:Menlo,'DejaVu Sans Mono',consolas,'Courier New',monospace\"> ✔ <span style=\"color: #800000; text-decoration-color: #800000; font-weight: bold\">(WORSE)</span> No better chromosome than the current one has been found <span style=\"color: #008080; text-decoration-color: #008080; font-weight: bold\">0.9788732394366197</span>\n",
       "</pre>\n"
      ],
      "text/plain": [
       " ✔ \u001b[1;31m(\u001b[0m\u001b[1;31mWORSE\u001b[0m\u001b[1;31m)\u001b[0m No better chromosome than the current one has been found \u001b[1;36m0.9788732394366197\u001b[0m\n"
      ]
     },
     "metadata": {},
     "output_type": "display_data"
    },
    {
     "data": {
      "text/html": [
       "<pre style=\"white-space:pre;overflow-x:auto;line-height:normal;font-family:Menlo,'DejaVu Sans Mono',consolas,'Courier New',monospace\"> ✔ Current best chromosome: <span style=\"font-weight: bold\">[</span><span style=\"color: #008080; text-decoration-color: #008080; font-weight: bold\">1</span> <span style=\"color: #008080; text-decoration-color: #008080; font-weight: bold\">0</span> <span style=\"color: #008080; text-decoration-color: #008080; font-weight: bold\">1</span> <span style=\"color: #008080; text-decoration-color: #008080; font-weight: bold\">1</span> <span style=\"color: #008080; text-decoration-color: #008080; font-weight: bold\">0</span> <span style=\"color: #008080; text-decoration-color: #008080; font-weight: bold\">0</span> <span style=\"color: #008080; text-decoration-color: #008080; font-weight: bold\">1</span> <span style=\"color: #008080; text-decoration-color: #008080; font-weight: bold\">0</span> <span style=\"color: #008080; text-decoration-color: #008080; font-weight: bold\">0</span> <span style=\"color: #008080; text-decoration-color: #008080; font-weight: bold\">0</span> <span style=\"color: #008080; text-decoration-color: #008080; font-weight: bold\">1</span> <span style=\"color: #008080; text-decoration-color: #008080; font-weight: bold\">0</span> <span style=\"color: #008080; text-decoration-color: #008080; font-weight: bold\">0</span><span style=\"font-weight: bold\">]</span>, Score: <span style=\"color: #008080; text-decoration-color: #008080; font-weight: bold\">0.9929577464788732</span>\n",
       "</pre>\n"
      ],
      "text/plain": [
       " ✔ Current best chromosome: \u001b[1m[\u001b[0m\u001b[1;36m1\u001b[0m \u001b[1;36m0\u001b[0m \u001b[1;36m1\u001b[0m \u001b[1;36m1\u001b[0m \u001b[1;36m0\u001b[0m \u001b[1;36m0\u001b[0m \u001b[1;36m1\u001b[0m \u001b[1;36m0\u001b[0m \u001b[1;36m0\u001b[0m \u001b[1;36m0\u001b[0m \u001b[1;36m1\u001b[0m \u001b[1;36m0\u001b[0m \u001b[1;36m0\u001b[0m\u001b[1m]\u001b[0m, Score: \u001b[1;36m0.9929577464788732\u001b[0m\n"
      ]
     },
     "metadata": {},
     "output_type": "display_data"
    },
    {
     "data": {
      "text/html": [
       "<pre style=\"white-space:pre;overflow-x:auto;line-height:normal;font-family:Menlo,'DejaVu Sans Mono',consolas,'Courier New',monospace\">    <span style=\"font-weight: bold\">Elapsed generation time: </span> <span style=\"color: #008080; text-decoration-color: #008080; font-weight: bold\">2.70</span> <span style=\"font-weight: bold\">seconds</span>\n",
       "</pre>\n"
      ],
      "text/plain": [
       "    \u001b[1mElapsed generation time: \u001b[0m \u001b[1;36m2.70\u001b[0m \u001b[1mseconds\u001b[0m\n"
      ]
     },
     "metadata": {},
     "output_type": "display_data"
    },
    {
     "data": {
      "text/html": [
       "<pre style=\"white-space:pre;overflow-x:auto;line-height:normal;font-family:Menlo,'DejaVu Sans Mono',consolas,'Courier New',monospace\"><span style=\"color: #800080; text-decoration-color: #800080; font-weight: bold\">Creating generation </span><span style=\"color: #800080; text-decoration-color: #800080; font-weight: bold\">36</span><span style=\"color: #800080; text-decoration-color: #800080; font-weight: bold\">...</span>\n",
       "</pre>\n"
      ],
      "text/plain": [
       "\u001b[1;35mCreating generation \u001b[0m\u001b[1;35m36\u001b[0m\u001b[1;35m...\u001b[0m\n"
      ]
     },
     "metadata": {},
     "output_type": "display_data"
    },
    {
     "data": {
      "text/html": [
       "<pre style=\"white-space:pre;overflow-x:auto;line-height:normal;font-family:Menlo,'DejaVu Sans Mono',consolas,'Courier New',monospace\"> ✔ Evaluating population of new generation <span style=\"color: #008080; text-decoration-color: #008080; font-weight: bold\">36</span><span style=\"color: #808000; text-decoration-color: #808000\">...</span>\n",
       "</pre>\n"
      ],
      "text/plain": [
       " ✔ Evaluating population of new generation \u001b[1;36m36\u001b[0m\u001b[33m...\u001b[0m\n"
      ]
     },
     "metadata": {},
     "output_type": "display_data"
    },
    {
     "data": {
      "text/html": [
       "<pre style=\"white-space:pre;overflow-x:auto;line-height:normal;font-family:Menlo,'DejaVu Sans Mono',consolas,'Courier New',monospace\"> ✔ <span style=\"color: #800000; text-decoration-color: #800000; font-weight: bold\">(WORSE)</span> No better chromosome than the current one has been found <span style=\"color: #008080; text-decoration-color: #008080; font-weight: bold\">0.9788732394366197</span>\n",
       "</pre>\n"
      ],
      "text/plain": [
       " ✔ \u001b[1;31m(\u001b[0m\u001b[1;31mWORSE\u001b[0m\u001b[1;31m)\u001b[0m No better chromosome than the current one has been found \u001b[1;36m0.9788732394366197\u001b[0m\n"
      ]
     },
     "metadata": {},
     "output_type": "display_data"
    },
    {
     "data": {
      "text/html": [
       "<pre style=\"white-space:pre;overflow-x:auto;line-height:normal;font-family:Menlo,'DejaVu Sans Mono',consolas,'Courier New',monospace\"> ✔ Current best chromosome: <span style=\"font-weight: bold\">[</span><span style=\"color: #008080; text-decoration-color: #008080; font-weight: bold\">1</span> <span style=\"color: #008080; text-decoration-color: #008080; font-weight: bold\">0</span> <span style=\"color: #008080; text-decoration-color: #008080; font-weight: bold\">1</span> <span style=\"color: #008080; text-decoration-color: #008080; font-weight: bold\">1</span> <span style=\"color: #008080; text-decoration-color: #008080; font-weight: bold\">0</span> <span style=\"color: #008080; text-decoration-color: #008080; font-weight: bold\">0</span> <span style=\"color: #008080; text-decoration-color: #008080; font-weight: bold\">1</span> <span style=\"color: #008080; text-decoration-color: #008080; font-weight: bold\">0</span> <span style=\"color: #008080; text-decoration-color: #008080; font-weight: bold\">0</span> <span style=\"color: #008080; text-decoration-color: #008080; font-weight: bold\">0</span> <span style=\"color: #008080; text-decoration-color: #008080; font-weight: bold\">1</span> <span style=\"color: #008080; text-decoration-color: #008080; font-weight: bold\">0</span> <span style=\"color: #008080; text-decoration-color: #008080; font-weight: bold\">0</span><span style=\"font-weight: bold\">]</span>, Score: <span style=\"color: #008080; text-decoration-color: #008080; font-weight: bold\">0.9929577464788732</span>\n",
       "</pre>\n"
      ],
      "text/plain": [
       " ✔ Current best chromosome: \u001b[1m[\u001b[0m\u001b[1;36m1\u001b[0m \u001b[1;36m0\u001b[0m \u001b[1;36m1\u001b[0m \u001b[1;36m1\u001b[0m \u001b[1;36m0\u001b[0m \u001b[1;36m0\u001b[0m \u001b[1;36m1\u001b[0m \u001b[1;36m0\u001b[0m \u001b[1;36m0\u001b[0m \u001b[1;36m0\u001b[0m \u001b[1;36m1\u001b[0m \u001b[1;36m0\u001b[0m \u001b[1;36m0\u001b[0m\u001b[1m]\u001b[0m, Score: \u001b[1;36m0.9929577464788732\u001b[0m\n"
      ]
     },
     "metadata": {},
     "output_type": "display_data"
    },
    {
     "data": {
      "text/html": [
       "<pre style=\"white-space:pre;overflow-x:auto;line-height:normal;font-family:Menlo,'DejaVu Sans Mono',consolas,'Courier New',monospace\">    <span style=\"font-weight: bold\">Elapsed generation time: </span> <span style=\"color: #008080; text-decoration-color: #008080; font-weight: bold\">2.72</span> <span style=\"font-weight: bold\">seconds</span>\n",
       "</pre>\n"
      ],
      "text/plain": [
       "    \u001b[1mElapsed generation time: \u001b[0m \u001b[1;36m2.72\u001b[0m \u001b[1mseconds\u001b[0m\n"
      ]
     },
     "metadata": {},
     "output_type": "display_data"
    },
    {
     "data": {
      "text/html": [
       "<pre style=\"white-space:pre;overflow-x:auto;line-height:normal;font-family:Menlo,'DejaVu Sans Mono',consolas,'Courier New',monospace\"><span style=\"color: #800080; text-decoration-color: #800080; font-weight: bold\">Creating generation </span><span style=\"color: #800080; text-decoration-color: #800080; font-weight: bold\">37</span><span style=\"color: #800080; text-decoration-color: #800080; font-weight: bold\">...</span>\n",
       "</pre>\n"
      ],
      "text/plain": [
       "\u001b[1;35mCreating generation \u001b[0m\u001b[1;35m37\u001b[0m\u001b[1;35m...\u001b[0m\n"
      ]
     },
     "metadata": {},
     "output_type": "display_data"
    },
    {
     "data": {
      "text/html": [
       "<pre style=\"white-space:pre;overflow-x:auto;line-height:normal;font-family:Menlo,'DejaVu Sans Mono',consolas,'Courier New',monospace\"> ✔ Evaluating population of new generation <span style=\"color: #008080; text-decoration-color: #008080; font-weight: bold\">37</span><span style=\"color: #808000; text-decoration-color: #808000\">...</span>\n",
       "</pre>\n"
      ],
      "text/plain": [
       " ✔ Evaluating population of new generation \u001b[1;36m37\u001b[0m\u001b[33m...\u001b[0m\n"
      ]
     },
     "metadata": {},
     "output_type": "display_data"
    },
    {
     "data": {
      "text/html": [
       "<pre style=\"white-space:pre;overflow-x:auto;line-height:normal;font-family:Menlo,'DejaVu Sans Mono',consolas,'Courier New',monospace\"> ✔ <span style=\"color: #800080; text-decoration-color: #800080\">Same scoring value found </span><span style=\"color: #800080; text-decoration-color: #800080; font-weight: bold\">1</span><span style=\"color: #800080; text-decoration-color: #800080\"> / </span><span style=\"color: #800080; text-decoration-color: #800080; font-weight: bold\">5</span><span style=\"color: #800080; text-decoration-color: #800080\"> times.</span>\n",
       "</pre>\n"
      ],
      "text/plain": [
       " ✔ \u001b[35mSame scoring value found \u001b[0m\u001b[1;35m1\u001b[0m\u001b[35m \u001b[0m\u001b[35m/\u001b[0m\u001b[35m \u001b[0m\u001b[1;35m5\u001b[0m\u001b[35m times.\u001b[0m\n"
      ]
     },
     "metadata": {},
     "output_type": "display_data"
    },
    {
     "data": {
      "text/html": [
       "<pre style=\"white-space:pre;overflow-x:auto;line-height:normal;font-family:Menlo,'DejaVu Sans Mono',consolas,'Courier New',monospace\"> ✔ Current best chromosome: <span style=\"font-weight: bold\">[</span><span style=\"color: #008080; text-decoration-color: #008080; font-weight: bold\">1</span> <span style=\"color: #008080; text-decoration-color: #008080; font-weight: bold\">0</span> <span style=\"color: #008080; text-decoration-color: #008080; font-weight: bold\">1</span> <span style=\"color: #008080; text-decoration-color: #008080; font-weight: bold\">1</span> <span style=\"color: #008080; text-decoration-color: #008080; font-weight: bold\">0</span> <span style=\"color: #008080; text-decoration-color: #008080; font-weight: bold\">0</span> <span style=\"color: #008080; text-decoration-color: #008080; font-weight: bold\">1</span> <span style=\"color: #008080; text-decoration-color: #008080; font-weight: bold\">0</span> <span style=\"color: #008080; text-decoration-color: #008080; font-weight: bold\">0</span> <span style=\"color: #008080; text-decoration-color: #008080; font-weight: bold\">0</span> <span style=\"color: #008080; text-decoration-color: #008080; font-weight: bold\">1</span> <span style=\"color: #008080; text-decoration-color: #008080; font-weight: bold\">0</span> <span style=\"color: #008080; text-decoration-color: #008080; font-weight: bold\">0</span><span style=\"font-weight: bold\">]</span>, Score: <span style=\"color: #008080; text-decoration-color: #008080; font-weight: bold\">0.9929577464788732</span>\n",
       "</pre>\n"
      ],
      "text/plain": [
       " ✔ Current best chromosome: \u001b[1m[\u001b[0m\u001b[1;36m1\u001b[0m \u001b[1;36m0\u001b[0m \u001b[1;36m1\u001b[0m \u001b[1;36m1\u001b[0m \u001b[1;36m0\u001b[0m \u001b[1;36m0\u001b[0m \u001b[1;36m1\u001b[0m \u001b[1;36m0\u001b[0m \u001b[1;36m0\u001b[0m \u001b[1;36m0\u001b[0m \u001b[1;36m1\u001b[0m \u001b[1;36m0\u001b[0m \u001b[1;36m0\u001b[0m\u001b[1m]\u001b[0m, Score: \u001b[1;36m0.9929577464788732\u001b[0m\n"
      ]
     },
     "metadata": {},
     "output_type": "display_data"
    },
    {
     "data": {
      "text/html": [
       "<pre style=\"white-space:pre;overflow-x:auto;line-height:normal;font-family:Menlo,'DejaVu Sans Mono',consolas,'Courier New',monospace\">    <span style=\"font-weight: bold\">Elapsed generation time: </span> <span style=\"color: #008080; text-decoration-color: #008080; font-weight: bold\">2.69</span> <span style=\"font-weight: bold\">seconds</span>\n",
       "</pre>\n"
      ],
      "text/plain": [
       "    \u001b[1mElapsed generation time: \u001b[0m \u001b[1;36m2.69\u001b[0m \u001b[1mseconds\u001b[0m\n"
      ]
     },
     "metadata": {},
     "output_type": "display_data"
    },
    {
     "data": {
      "text/html": [
       "<pre style=\"white-space:pre;overflow-x:auto;line-height:normal;font-family:Menlo,'DejaVu Sans Mono',consolas,'Courier New',monospace\"><span style=\"color: #800080; text-decoration-color: #800080; font-weight: bold\">Creating generation </span><span style=\"color: #800080; text-decoration-color: #800080; font-weight: bold\">38</span><span style=\"color: #800080; text-decoration-color: #800080; font-weight: bold\">...</span>\n",
       "</pre>\n"
      ],
      "text/plain": [
       "\u001b[1;35mCreating generation \u001b[0m\u001b[1;35m38\u001b[0m\u001b[1;35m...\u001b[0m\n"
      ]
     },
     "metadata": {},
     "output_type": "display_data"
    },
    {
     "data": {
      "text/html": [
       "<pre style=\"white-space:pre;overflow-x:auto;line-height:normal;font-family:Menlo,'DejaVu Sans Mono',consolas,'Courier New',monospace\"> ✔ Evaluating population of new generation <span style=\"color: #008080; text-decoration-color: #008080; font-weight: bold\">38</span><span style=\"color: #808000; text-decoration-color: #808000\">...</span>\n",
       "</pre>\n"
      ],
      "text/plain": [
       " ✔ Evaluating population of new generation \u001b[1;36m38\u001b[0m\u001b[33m...\u001b[0m\n"
      ]
     },
     "metadata": {},
     "output_type": "display_data"
    },
    {
     "data": {
      "text/html": [
       "<pre style=\"white-space:pre;overflow-x:auto;line-height:normal;font-family:Menlo,'DejaVu Sans Mono',consolas,'Courier New',monospace\"> ✔ <span style=\"color: #800000; text-decoration-color: #800000; font-weight: bold\">(WORSE)</span> No better chromosome than the current one has been found <span style=\"color: #008080; text-decoration-color: #008080; font-weight: bold\">0.9788732394366197</span>\n",
       "</pre>\n"
      ],
      "text/plain": [
       " ✔ \u001b[1;31m(\u001b[0m\u001b[1;31mWORSE\u001b[0m\u001b[1;31m)\u001b[0m No better chromosome than the current one has been found \u001b[1;36m0.9788732394366197\u001b[0m\n"
      ]
     },
     "metadata": {},
     "output_type": "display_data"
    },
    {
     "data": {
      "text/html": [
       "<pre style=\"white-space:pre;overflow-x:auto;line-height:normal;font-family:Menlo,'DejaVu Sans Mono',consolas,'Courier New',monospace\"> ✔ Current best chromosome: <span style=\"font-weight: bold\">[</span><span style=\"color: #008080; text-decoration-color: #008080; font-weight: bold\">1</span> <span style=\"color: #008080; text-decoration-color: #008080; font-weight: bold\">0</span> <span style=\"color: #008080; text-decoration-color: #008080; font-weight: bold\">1</span> <span style=\"color: #008080; text-decoration-color: #008080; font-weight: bold\">1</span> <span style=\"color: #008080; text-decoration-color: #008080; font-weight: bold\">0</span> <span style=\"color: #008080; text-decoration-color: #008080; font-weight: bold\">0</span> <span style=\"color: #008080; text-decoration-color: #008080; font-weight: bold\">1</span> <span style=\"color: #008080; text-decoration-color: #008080; font-weight: bold\">0</span> <span style=\"color: #008080; text-decoration-color: #008080; font-weight: bold\">0</span> <span style=\"color: #008080; text-decoration-color: #008080; font-weight: bold\">0</span> <span style=\"color: #008080; text-decoration-color: #008080; font-weight: bold\">1</span> <span style=\"color: #008080; text-decoration-color: #008080; font-weight: bold\">0</span> <span style=\"color: #008080; text-decoration-color: #008080; font-weight: bold\">0</span><span style=\"font-weight: bold\">]</span>, Score: <span style=\"color: #008080; text-decoration-color: #008080; font-weight: bold\">0.9929577464788732</span>\n",
       "</pre>\n"
      ],
      "text/plain": [
       " ✔ Current best chromosome: \u001b[1m[\u001b[0m\u001b[1;36m1\u001b[0m \u001b[1;36m0\u001b[0m \u001b[1;36m1\u001b[0m \u001b[1;36m1\u001b[0m \u001b[1;36m0\u001b[0m \u001b[1;36m0\u001b[0m \u001b[1;36m1\u001b[0m \u001b[1;36m0\u001b[0m \u001b[1;36m0\u001b[0m \u001b[1;36m0\u001b[0m \u001b[1;36m1\u001b[0m \u001b[1;36m0\u001b[0m \u001b[1;36m0\u001b[0m\u001b[1m]\u001b[0m, Score: \u001b[1;36m0.9929577464788732\u001b[0m\n"
      ]
     },
     "metadata": {},
     "output_type": "display_data"
    },
    {
     "data": {
      "text/html": [
       "<pre style=\"white-space:pre;overflow-x:auto;line-height:normal;font-family:Menlo,'DejaVu Sans Mono',consolas,'Courier New',monospace\">    <span style=\"font-weight: bold\">Elapsed generation time: </span> <span style=\"color: #008080; text-decoration-color: #008080; font-weight: bold\">2.73</span> <span style=\"font-weight: bold\">seconds</span>\n",
       "</pre>\n"
      ],
      "text/plain": [
       "    \u001b[1mElapsed generation time: \u001b[0m \u001b[1;36m2.73\u001b[0m \u001b[1mseconds\u001b[0m\n"
      ]
     },
     "metadata": {},
     "output_type": "display_data"
    },
    {
     "data": {
      "text/html": [
       "<pre style=\"white-space:pre;overflow-x:auto;line-height:normal;font-family:Menlo,'DejaVu Sans Mono',consolas,'Courier New',monospace\"><span style=\"color: #800080; text-decoration-color: #800080; font-weight: bold\">Creating generation </span><span style=\"color: #800080; text-decoration-color: #800080; font-weight: bold\">39</span><span style=\"color: #800080; text-decoration-color: #800080; font-weight: bold\">...</span>\n",
       "</pre>\n"
      ],
      "text/plain": [
       "\u001b[1;35mCreating generation \u001b[0m\u001b[1;35m39\u001b[0m\u001b[1;35m...\u001b[0m\n"
      ]
     },
     "metadata": {},
     "output_type": "display_data"
    },
    {
     "data": {
      "text/html": [
       "<pre style=\"white-space:pre;overflow-x:auto;line-height:normal;font-family:Menlo,'DejaVu Sans Mono',consolas,'Courier New',monospace\"> ✔ Evaluating population of new generation <span style=\"color: #008080; text-decoration-color: #008080; font-weight: bold\">39</span><span style=\"color: #808000; text-decoration-color: #808000\">...</span>\n",
       "</pre>\n"
      ],
      "text/plain": [
       " ✔ Evaluating population of new generation \u001b[1;36m39\u001b[0m\u001b[33m...\u001b[0m\n"
      ]
     },
     "metadata": {},
     "output_type": "display_data"
    },
    {
     "data": {
      "text/html": [
       "<pre style=\"white-space:pre;overflow-x:auto;line-height:normal;font-family:Menlo,'DejaVu Sans Mono',consolas,'Courier New',monospace\"> ✔ <span style=\"color: #800000; text-decoration-color: #800000; font-weight: bold\">(WORSE)</span> No better chromosome than the current one has been found <span style=\"color: #008080; text-decoration-color: #008080; font-weight: bold\">0.9788732394366197</span>\n",
       "</pre>\n"
      ],
      "text/plain": [
       " ✔ \u001b[1;31m(\u001b[0m\u001b[1;31mWORSE\u001b[0m\u001b[1;31m)\u001b[0m No better chromosome than the current one has been found \u001b[1;36m0.9788732394366197\u001b[0m\n"
      ]
     },
     "metadata": {},
     "output_type": "display_data"
    },
    {
     "data": {
      "text/html": [
       "<pre style=\"white-space:pre;overflow-x:auto;line-height:normal;font-family:Menlo,'DejaVu Sans Mono',consolas,'Courier New',monospace\"> ✔ Current best chromosome: <span style=\"font-weight: bold\">[</span><span style=\"color: #008080; text-decoration-color: #008080; font-weight: bold\">1</span> <span style=\"color: #008080; text-decoration-color: #008080; font-weight: bold\">0</span> <span style=\"color: #008080; text-decoration-color: #008080; font-weight: bold\">1</span> <span style=\"color: #008080; text-decoration-color: #008080; font-weight: bold\">1</span> <span style=\"color: #008080; text-decoration-color: #008080; font-weight: bold\">0</span> <span style=\"color: #008080; text-decoration-color: #008080; font-weight: bold\">0</span> <span style=\"color: #008080; text-decoration-color: #008080; font-weight: bold\">1</span> <span style=\"color: #008080; text-decoration-color: #008080; font-weight: bold\">0</span> <span style=\"color: #008080; text-decoration-color: #008080; font-weight: bold\">0</span> <span style=\"color: #008080; text-decoration-color: #008080; font-weight: bold\">0</span> <span style=\"color: #008080; text-decoration-color: #008080; font-weight: bold\">1</span> <span style=\"color: #008080; text-decoration-color: #008080; font-weight: bold\">0</span> <span style=\"color: #008080; text-decoration-color: #008080; font-weight: bold\">0</span><span style=\"font-weight: bold\">]</span>, Score: <span style=\"color: #008080; text-decoration-color: #008080; font-weight: bold\">0.9929577464788732</span>\n",
       "</pre>\n"
      ],
      "text/plain": [
       " ✔ Current best chromosome: \u001b[1m[\u001b[0m\u001b[1;36m1\u001b[0m \u001b[1;36m0\u001b[0m \u001b[1;36m1\u001b[0m \u001b[1;36m1\u001b[0m \u001b[1;36m0\u001b[0m \u001b[1;36m0\u001b[0m \u001b[1;36m1\u001b[0m \u001b[1;36m0\u001b[0m \u001b[1;36m0\u001b[0m \u001b[1;36m0\u001b[0m \u001b[1;36m1\u001b[0m \u001b[1;36m0\u001b[0m \u001b[1;36m0\u001b[0m\u001b[1m]\u001b[0m, Score: \u001b[1;36m0.9929577464788732\u001b[0m\n"
      ]
     },
     "metadata": {},
     "output_type": "display_data"
    },
    {
     "data": {
      "text/html": [
       "<pre style=\"white-space:pre;overflow-x:auto;line-height:normal;font-family:Menlo,'DejaVu Sans Mono',consolas,'Courier New',monospace\">    <span style=\"font-weight: bold\">Elapsed generation time: </span> <span style=\"color: #008080; text-decoration-color: #008080; font-weight: bold\">2.68</span> <span style=\"font-weight: bold\">seconds</span>\n",
       "</pre>\n"
      ],
      "text/plain": [
       "    \u001b[1mElapsed generation time: \u001b[0m \u001b[1;36m2.68\u001b[0m \u001b[1mseconds\u001b[0m\n"
      ]
     },
     "metadata": {},
     "output_type": "display_data"
    },
    {
     "data": {
      "text/html": [
       "<pre style=\"white-space:pre;overflow-x:auto;line-height:normal;font-family:Menlo,'DejaVu Sans Mono',consolas,'Courier New',monospace\"><span style=\"color: #800080; text-decoration-color: #800080; font-weight: bold\">Creating generation </span><span style=\"color: #800080; text-decoration-color: #800080; font-weight: bold\">40</span><span style=\"color: #800080; text-decoration-color: #800080; font-weight: bold\">...</span>\n",
       "</pre>\n"
      ],
      "text/plain": [
       "\u001b[1;35mCreating generation \u001b[0m\u001b[1;35m40\u001b[0m\u001b[1;35m...\u001b[0m\n"
      ]
     },
     "metadata": {},
     "output_type": "display_data"
    },
    {
     "data": {
      "text/html": [
       "<pre style=\"white-space:pre;overflow-x:auto;line-height:normal;font-family:Menlo,'DejaVu Sans Mono',consolas,'Courier New',monospace\"> ✔ Evaluating population of new generation <span style=\"color: #008080; text-decoration-color: #008080; font-weight: bold\">40</span><span style=\"color: #808000; text-decoration-color: #808000\">...</span>\n",
       "</pre>\n"
      ],
      "text/plain": [
       " ✔ Evaluating population of new generation \u001b[1;36m40\u001b[0m\u001b[33m...\u001b[0m\n"
      ]
     },
     "metadata": {},
     "output_type": "display_data"
    },
    {
     "data": {
      "text/html": [
       "<pre style=\"white-space:pre;overflow-x:auto;line-height:normal;font-family:Menlo,'DejaVu Sans Mono',consolas,'Courier New',monospace\"> ✔ <span style=\"color: #800000; text-decoration-color: #800000; font-weight: bold\">(WORSE)</span> No better chromosome than the current one has been found <span style=\"color: #008080; text-decoration-color: #008080; font-weight: bold\">0.971830985915493</span>\n",
       "</pre>\n"
      ],
      "text/plain": [
       " ✔ \u001b[1;31m(\u001b[0m\u001b[1;31mWORSE\u001b[0m\u001b[1;31m)\u001b[0m No better chromosome than the current one has been found \u001b[1;36m0.971830985915493\u001b[0m\n"
      ]
     },
     "metadata": {},
     "output_type": "display_data"
    },
    {
     "data": {
      "text/html": [
       "<pre style=\"white-space:pre;overflow-x:auto;line-height:normal;font-family:Menlo,'DejaVu Sans Mono',consolas,'Courier New',monospace\"> ✔ Current best chromosome: <span style=\"font-weight: bold\">[</span><span style=\"color: #008080; text-decoration-color: #008080; font-weight: bold\">1</span> <span style=\"color: #008080; text-decoration-color: #008080; font-weight: bold\">0</span> <span style=\"color: #008080; text-decoration-color: #008080; font-weight: bold\">1</span> <span style=\"color: #008080; text-decoration-color: #008080; font-weight: bold\">1</span> <span style=\"color: #008080; text-decoration-color: #008080; font-weight: bold\">0</span> <span style=\"color: #008080; text-decoration-color: #008080; font-weight: bold\">0</span> <span style=\"color: #008080; text-decoration-color: #008080; font-weight: bold\">1</span> <span style=\"color: #008080; text-decoration-color: #008080; font-weight: bold\">0</span> <span style=\"color: #008080; text-decoration-color: #008080; font-weight: bold\">0</span> <span style=\"color: #008080; text-decoration-color: #008080; font-weight: bold\">0</span> <span style=\"color: #008080; text-decoration-color: #008080; font-weight: bold\">1</span> <span style=\"color: #008080; text-decoration-color: #008080; font-weight: bold\">0</span> <span style=\"color: #008080; text-decoration-color: #008080; font-weight: bold\">0</span><span style=\"font-weight: bold\">]</span>, Score: <span style=\"color: #008080; text-decoration-color: #008080; font-weight: bold\">0.9929577464788732</span>\n",
       "</pre>\n"
      ],
      "text/plain": [
       " ✔ Current best chromosome: \u001b[1m[\u001b[0m\u001b[1;36m1\u001b[0m \u001b[1;36m0\u001b[0m \u001b[1;36m1\u001b[0m \u001b[1;36m1\u001b[0m \u001b[1;36m0\u001b[0m \u001b[1;36m0\u001b[0m \u001b[1;36m1\u001b[0m \u001b[1;36m0\u001b[0m \u001b[1;36m0\u001b[0m \u001b[1;36m0\u001b[0m \u001b[1;36m1\u001b[0m \u001b[1;36m0\u001b[0m \u001b[1;36m0\u001b[0m\u001b[1m]\u001b[0m, Score: \u001b[1;36m0.9929577464788732\u001b[0m\n"
      ]
     },
     "metadata": {},
     "output_type": "display_data"
    },
    {
     "data": {
      "text/html": [
       "<pre style=\"white-space:pre;overflow-x:auto;line-height:normal;font-family:Menlo,'DejaVu Sans Mono',consolas,'Courier New',monospace\">    <span style=\"font-weight: bold\">Elapsed generation time: </span> <span style=\"color: #008080; text-decoration-color: #008080; font-weight: bold\">2.67</span> <span style=\"font-weight: bold\">seconds</span>\n",
       "</pre>\n"
      ],
      "text/plain": [
       "    \u001b[1mElapsed generation time: \u001b[0m \u001b[1;36m2.67\u001b[0m \u001b[1mseconds\u001b[0m\n"
      ]
     },
     "metadata": {},
     "output_type": "display_data"
    },
    {
     "data": {
      "text/html": [
       "<pre style=\"white-space:pre;overflow-x:auto;line-height:normal;font-family:Menlo,'DejaVu Sans Mono',consolas,'Courier New',monospace\"><span style=\"color: #800080; text-decoration-color: #800080; font-weight: bold\">Creating generation </span><span style=\"color: #800080; text-decoration-color: #800080; font-weight: bold\">41</span><span style=\"color: #800080; text-decoration-color: #800080; font-weight: bold\">...</span>\n",
       "</pre>\n"
      ],
      "text/plain": [
       "\u001b[1;35mCreating generation \u001b[0m\u001b[1;35m41\u001b[0m\u001b[1;35m...\u001b[0m\n"
      ]
     },
     "metadata": {},
     "output_type": "display_data"
    },
    {
     "data": {
      "text/html": [
       "<pre style=\"white-space:pre;overflow-x:auto;line-height:normal;font-family:Menlo,'DejaVu Sans Mono',consolas,'Courier New',monospace\"> ✔ Evaluating population of new generation <span style=\"color: #008080; text-decoration-color: #008080; font-weight: bold\">41</span><span style=\"color: #808000; text-decoration-color: #808000\">...</span>\n",
       "</pre>\n"
      ],
      "text/plain": [
       " ✔ Evaluating population of new generation \u001b[1;36m41\u001b[0m\u001b[33m...\u001b[0m\n"
      ]
     },
     "metadata": {},
     "output_type": "display_data"
    },
    {
     "data": {
      "text/html": [
       "<pre style=\"white-space:pre;overflow-x:auto;line-height:normal;font-family:Menlo,'DejaVu Sans Mono',consolas,'Courier New',monospace\"> ✔ <span style=\"color: #800000; text-decoration-color: #800000; font-weight: bold\">(WORSE)</span> No better chromosome than the current one has been found <span style=\"color: #008080; text-decoration-color: #008080; font-weight: bold\">0.9788732394366197</span>\n",
       "</pre>\n"
      ],
      "text/plain": [
       " ✔ \u001b[1;31m(\u001b[0m\u001b[1;31mWORSE\u001b[0m\u001b[1;31m)\u001b[0m No better chromosome than the current one has been found \u001b[1;36m0.9788732394366197\u001b[0m\n"
      ]
     },
     "metadata": {},
     "output_type": "display_data"
    },
    {
     "data": {
      "text/html": [
       "<pre style=\"white-space:pre;overflow-x:auto;line-height:normal;font-family:Menlo,'DejaVu Sans Mono',consolas,'Courier New',monospace\"> ✔ Current best chromosome: <span style=\"font-weight: bold\">[</span><span style=\"color: #008080; text-decoration-color: #008080; font-weight: bold\">1</span> <span style=\"color: #008080; text-decoration-color: #008080; font-weight: bold\">0</span> <span style=\"color: #008080; text-decoration-color: #008080; font-weight: bold\">1</span> <span style=\"color: #008080; text-decoration-color: #008080; font-weight: bold\">1</span> <span style=\"color: #008080; text-decoration-color: #008080; font-weight: bold\">0</span> <span style=\"color: #008080; text-decoration-color: #008080; font-weight: bold\">0</span> <span style=\"color: #008080; text-decoration-color: #008080; font-weight: bold\">1</span> <span style=\"color: #008080; text-decoration-color: #008080; font-weight: bold\">0</span> <span style=\"color: #008080; text-decoration-color: #008080; font-weight: bold\">0</span> <span style=\"color: #008080; text-decoration-color: #008080; font-weight: bold\">0</span> <span style=\"color: #008080; text-decoration-color: #008080; font-weight: bold\">1</span> <span style=\"color: #008080; text-decoration-color: #008080; font-weight: bold\">0</span> <span style=\"color: #008080; text-decoration-color: #008080; font-weight: bold\">0</span><span style=\"font-weight: bold\">]</span>, Score: <span style=\"color: #008080; text-decoration-color: #008080; font-weight: bold\">0.9929577464788732</span>\n",
       "</pre>\n"
      ],
      "text/plain": [
       " ✔ Current best chromosome: \u001b[1m[\u001b[0m\u001b[1;36m1\u001b[0m \u001b[1;36m0\u001b[0m \u001b[1;36m1\u001b[0m \u001b[1;36m1\u001b[0m \u001b[1;36m0\u001b[0m \u001b[1;36m0\u001b[0m \u001b[1;36m1\u001b[0m \u001b[1;36m0\u001b[0m \u001b[1;36m0\u001b[0m \u001b[1;36m0\u001b[0m \u001b[1;36m1\u001b[0m \u001b[1;36m0\u001b[0m \u001b[1;36m0\u001b[0m\u001b[1m]\u001b[0m, Score: \u001b[1;36m0.9929577464788732\u001b[0m\n"
      ]
     },
     "metadata": {},
     "output_type": "display_data"
    },
    {
     "data": {
      "text/html": [
       "<pre style=\"white-space:pre;overflow-x:auto;line-height:normal;font-family:Menlo,'DejaVu Sans Mono',consolas,'Courier New',monospace\">    <span style=\"font-weight: bold\">Elapsed generation time: </span> <span style=\"color: #008080; text-decoration-color: #008080; font-weight: bold\">2.71</span> <span style=\"font-weight: bold\">seconds</span>\n",
       "</pre>\n"
      ],
      "text/plain": [
       "    \u001b[1mElapsed generation time: \u001b[0m \u001b[1;36m2.71\u001b[0m \u001b[1mseconds\u001b[0m\n"
      ]
     },
     "metadata": {},
     "output_type": "display_data"
    },
    {
     "data": {
      "text/html": [
       "<pre style=\"white-space:pre;overflow-x:auto;line-height:normal;font-family:Menlo,'DejaVu Sans Mono',consolas,'Courier New',monospace\"><span style=\"color: #800080; text-decoration-color: #800080; font-weight: bold\">Creating generation </span><span style=\"color: #800080; text-decoration-color: #800080; font-weight: bold\">42</span><span style=\"color: #800080; text-decoration-color: #800080; font-weight: bold\">...</span>\n",
       "</pre>\n"
      ],
      "text/plain": [
       "\u001b[1;35mCreating generation \u001b[0m\u001b[1;35m42\u001b[0m\u001b[1;35m...\u001b[0m\n"
      ]
     },
     "metadata": {},
     "output_type": "display_data"
    },
    {
     "data": {
      "text/html": [
       "<pre style=\"white-space:pre;overflow-x:auto;line-height:normal;font-family:Menlo,'DejaVu Sans Mono',consolas,'Courier New',monospace\"> ✔ Evaluating population of new generation <span style=\"color: #008080; text-decoration-color: #008080; font-weight: bold\">42</span><span style=\"color: #808000; text-decoration-color: #808000\">...</span>\n",
       "</pre>\n"
      ],
      "text/plain": [
       " ✔ Evaluating population of new generation \u001b[1;36m42\u001b[0m\u001b[33m...\u001b[0m\n"
      ]
     },
     "metadata": {},
     "output_type": "display_data"
    },
    {
     "data": {
      "text/html": [
       "<pre style=\"white-space:pre;overflow-x:auto;line-height:normal;font-family:Menlo,'DejaVu Sans Mono',consolas,'Courier New',monospace\"> ✔ <span style=\"color: #800000; text-decoration-color: #800000; font-weight: bold\">(WORSE)</span> No better chromosome than the current one has been found <span style=\"color: #008080; text-decoration-color: #008080; font-weight: bold\">0.9859154929577465</span>\n",
       "</pre>\n"
      ],
      "text/plain": [
       " ✔ \u001b[1;31m(\u001b[0m\u001b[1;31mWORSE\u001b[0m\u001b[1;31m)\u001b[0m No better chromosome than the current one has been found \u001b[1;36m0.9859154929577465\u001b[0m\n"
      ]
     },
     "metadata": {},
     "output_type": "display_data"
    },
    {
     "data": {
      "text/html": [
       "<pre style=\"white-space:pre;overflow-x:auto;line-height:normal;font-family:Menlo,'DejaVu Sans Mono',consolas,'Courier New',monospace\"> ✔ Current best chromosome: <span style=\"font-weight: bold\">[</span><span style=\"color: #008080; text-decoration-color: #008080; font-weight: bold\">1</span> <span style=\"color: #008080; text-decoration-color: #008080; font-weight: bold\">0</span> <span style=\"color: #008080; text-decoration-color: #008080; font-weight: bold\">1</span> <span style=\"color: #008080; text-decoration-color: #008080; font-weight: bold\">1</span> <span style=\"color: #008080; text-decoration-color: #008080; font-weight: bold\">0</span> <span style=\"color: #008080; text-decoration-color: #008080; font-weight: bold\">0</span> <span style=\"color: #008080; text-decoration-color: #008080; font-weight: bold\">1</span> <span style=\"color: #008080; text-decoration-color: #008080; font-weight: bold\">0</span> <span style=\"color: #008080; text-decoration-color: #008080; font-weight: bold\">0</span> <span style=\"color: #008080; text-decoration-color: #008080; font-weight: bold\">0</span> <span style=\"color: #008080; text-decoration-color: #008080; font-weight: bold\">1</span> <span style=\"color: #008080; text-decoration-color: #008080; font-weight: bold\">0</span> <span style=\"color: #008080; text-decoration-color: #008080; font-weight: bold\">0</span><span style=\"font-weight: bold\">]</span>, Score: <span style=\"color: #008080; text-decoration-color: #008080; font-weight: bold\">0.9929577464788732</span>\n",
       "</pre>\n"
      ],
      "text/plain": [
       " ✔ Current best chromosome: \u001b[1m[\u001b[0m\u001b[1;36m1\u001b[0m \u001b[1;36m0\u001b[0m \u001b[1;36m1\u001b[0m \u001b[1;36m1\u001b[0m \u001b[1;36m0\u001b[0m \u001b[1;36m0\u001b[0m \u001b[1;36m1\u001b[0m \u001b[1;36m0\u001b[0m \u001b[1;36m0\u001b[0m \u001b[1;36m0\u001b[0m \u001b[1;36m1\u001b[0m \u001b[1;36m0\u001b[0m \u001b[1;36m0\u001b[0m\u001b[1m]\u001b[0m, Score: \u001b[1;36m0.9929577464788732\u001b[0m\n"
      ]
     },
     "metadata": {},
     "output_type": "display_data"
    },
    {
     "data": {
      "text/html": [
       "<pre style=\"white-space:pre;overflow-x:auto;line-height:normal;font-family:Menlo,'DejaVu Sans Mono',consolas,'Courier New',monospace\">    <span style=\"font-weight: bold\">Elapsed generation time: </span> <span style=\"color: #008080; text-decoration-color: #008080; font-weight: bold\">2.64</span> <span style=\"font-weight: bold\">seconds</span>\n",
       "</pre>\n"
      ],
      "text/plain": [
       "    \u001b[1mElapsed generation time: \u001b[0m \u001b[1;36m2.64\u001b[0m \u001b[1mseconds\u001b[0m\n"
      ]
     },
     "metadata": {},
     "output_type": "display_data"
    },
    {
     "data": {
      "text/html": [
       "<pre style=\"white-space:pre;overflow-x:auto;line-height:normal;font-family:Menlo,'DejaVu Sans Mono',consolas,'Courier New',monospace\"><span style=\"color: #800080; text-decoration-color: #800080; font-weight: bold\">Creating generation </span><span style=\"color: #800080; text-decoration-color: #800080; font-weight: bold\">43</span><span style=\"color: #800080; text-decoration-color: #800080; font-weight: bold\">...</span>\n",
       "</pre>\n"
      ],
      "text/plain": [
       "\u001b[1;35mCreating generation \u001b[0m\u001b[1;35m43\u001b[0m\u001b[1;35m...\u001b[0m\n"
      ]
     },
     "metadata": {},
     "output_type": "display_data"
    },
    {
     "data": {
      "text/html": [
       "<pre style=\"white-space:pre;overflow-x:auto;line-height:normal;font-family:Menlo,'DejaVu Sans Mono',consolas,'Courier New',monospace\"> ✔ Evaluating population of new generation <span style=\"color: #008080; text-decoration-color: #008080; font-weight: bold\">43</span><span style=\"color: #808000; text-decoration-color: #808000\">...</span>\n",
       "</pre>\n"
      ],
      "text/plain": [
       " ✔ Evaluating population of new generation \u001b[1;36m43\u001b[0m\u001b[33m...\u001b[0m\n"
      ]
     },
     "metadata": {},
     "output_type": "display_data"
    },
    {
     "data": {
      "text/html": [
       "<pre style=\"white-space:pre;overflow-x:auto;line-height:normal;font-family:Menlo,'DejaVu Sans Mono',consolas,'Courier New',monospace\"> ✔ <span style=\"color: #800080; text-decoration-color: #800080\">Same scoring value found </span><span style=\"color: #800080; text-decoration-color: #800080; font-weight: bold\">1</span><span style=\"color: #800080; text-decoration-color: #800080\"> / </span><span style=\"color: #800080; text-decoration-color: #800080; font-weight: bold\">5</span><span style=\"color: #800080; text-decoration-color: #800080\"> times.</span>\n",
       "</pre>\n"
      ],
      "text/plain": [
       " ✔ \u001b[35mSame scoring value found \u001b[0m\u001b[1;35m1\u001b[0m\u001b[35m \u001b[0m\u001b[35m/\u001b[0m\u001b[35m \u001b[0m\u001b[1;35m5\u001b[0m\u001b[35m times.\u001b[0m\n"
      ]
     },
     "metadata": {},
     "output_type": "display_data"
    },
    {
     "data": {
      "text/html": [
       "<pre style=\"white-space:pre;overflow-x:auto;line-height:normal;font-family:Menlo,'DejaVu Sans Mono',consolas,'Courier New',monospace\"> ✔ Current best chromosome: <span style=\"font-weight: bold\">[</span><span style=\"color: #008080; text-decoration-color: #008080; font-weight: bold\">1</span> <span style=\"color: #008080; text-decoration-color: #008080; font-weight: bold\">0</span> <span style=\"color: #008080; text-decoration-color: #008080; font-weight: bold\">1</span> <span style=\"color: #008080; text-decoration-color: #008080; font-weight: bold\">1</span> <span style=\"color: #008080; text-decoration-color: #008080; font-weight: bold\">0</span> <span style=\"color: #008080; text-decoration-color: #008080; font-weight: bold\">0</span> <span style=\"color: #008080; text-decoration-color: #008080; font-weight: bold\">1</span> <span style=\"color: #008080; text-decoration-color: #008080; font-weight: bold\">0</span> <span style=\"color: #008080; text-decoration-color: #008080; font-weight: bold\">0</span> <span style=\"color: #008080; text-decoration-color: #008080; font-weight: bold\">0</span> <span style=\"color: #008080; text-decoration-color: #008080; font-weight: bold\">1</span> <span style=\"color: #008080; text-decoration-color: #008080; font-weight: bold\">0</span> <span style=\"color: #008080; text-decoration-color: #008080; font-weight: bold\">0</span><span style=\"font-weight: bold\">]</span>, Score: <span style=\"color: #008080; text-decoration-color: #008080; font-weight: bold\">0.9929577464788732</span>\n",
       "</pre>\n"
      ],
      "text/plain": [
       " ✔ Current best chromosome: \u001b[1m[\u001b[0m\u001b[1;36m1\u001b[0m \u001b[1;36m0\u001b[0m \u001b[1;36m1\u001b[0m \u001b[1;36m1\u001b[0m \u001b[1;36m0\u001b[0m \u001b[1;36m0\u001b[0m \u001b[1;36m1\u001b[0m \u001b[1;36m0\u001b[0m \u001b[1;36m0\u001b[0m \u001b[1;36m0\u001b[0m \u001b[1;36m1\u001b[0m \u001b[1;36m0\u001b[0m \u001b[1;36m0\u001b[0m\u001b[1m]\u001b[0m, Score: \u001b[1;36m0.9929577464788732\u001b[0m\n"
      ]
     },
     "metadata": {},
     "output_type": "display_data"
    },
    {
     "data": {
      "text/html": [
       "<pre style=\"white-space:pre;overflow-x:auto;line-height:normal;font-family:Menlo,'DejaVu Sans Mono',consolas,'Courier New',monospace\">    <span style=\"font-weight: bold\">Elapsed generation time: </span> <span style=\"color: #008080; text-decoration-color: #008080; font-weight: bold\">2.68</span> <span style=\"font-weight: bold\">seconds</span>\n",
       "</pre>\n"
      ],
      "text/plain": [
       "    \u001b[1mElapsed generation time: \u001b[0m \u001b[1;36m2.68\u001b[0m \u001b[1mseconds\u001b[0m\n"
      ]
     },
     "metadata": {},
     "output_type": "display_data"
    },
    {
     "data": {
      "text/html": [
       "<pre style=\"white-space:pre;overflow-x:auto;line-height:normal;font-family:Menlo,'DejaVu Sans Mono',consolas,'Courier New',monospace\"><span style=\"color: #800080; text-decoration-color: #800080; font-weight: bold\">Creating generation </span><span style=\"color: #800080; text-decoration-color: #800080; font-weight: bold\">44</span><span style=\"color: #800080; text-decoration-color: #800080; font-weight: bold\">...</span>\n",
       "</pre>\n"
      ],
      "text/plain": [
       "\u001b[1;35mCreating generation \u001b[0m\u001b[1;35m44\u001b[0m\u001b[1;35m...\u001b[0m\n"
      ]
     },
     "metadata": {},
     "output_type": "display_data"
    },
    {
     "data": {
      "text/html": [
       "<pre style=\"white-space:pre;overflow-x:auto;line-height:normal;font-family:Menlo,'DejaVu Sans Mono',consolas,'Courier New',monospace\"> ✔ Evaluating population of new generation <span style=\"color: #008080; text-decoration-color: #008080; font-weight: bold\">44</span><span style=\"color: #808000; text-decoration-color: #808000\">...</span>\n",
       "</pre>\n"
      ],
      "text/plain": [
       " ✔ Evaluating population of new generation \u001b[1;36m44\u001b[0m\u001b[33m...\u001b[0m\n"
      ]
     },
     "metadata": {},
     "output_type": "display_data"
    },
    {
     "data": {
      "text/html": [
       "<pre style=\"white-space:pre;overflow-x:auto;line-height:normal;font-family:Menlo,'DejaVu Sans Mono',consolas,'Courier New',monospace\"> ✔ <span style=\"color: #800000; text-decoration-color: #800000; font-weight: bold\">(WORSE)</span> No better chromosome than the current one has been found <span style=\"color: #008080; text-decoration-color: #008080; font-weight: bold\">0.9788732394366197</span>\n",
       "</pre>\n"
      ],
      "text/plain": [
       " ✔ \u001b[1;31m(\u001b[0m\u001b[1;31mWORSE\u001b[0m\u001b[1;31m)\u001b[0m No better chromosome than the current one has been found \u001b[1;36m0.9788732394366197\u001b[0m\n"
      ]
     },
     "metadata": {},
     "output_type": "display_data"
    },
    {
     "data": {
      "text/html": [
       "<pre style=\"white-space:pre;overflow-x:auto;line-height:normal;font-family:Menlo,'DejaVu Sans Mono',consolas,'Courier New',monospace\"> ✔ Current best chromosome: <span style=\"font-weight: bold\">[</span><span style=\"color: #008080; text-decoration-color: #008080; font-weight: bold\">1</span> <span style=\"color: #008080; text-decoration-color: #008080; font-weight: bold\">0</span> <span style=\"color: #008080; text-decoration-color: #008080; font-weight: bold\">1</span> <span style=\"color: #008080; text-decoration-color: #008080; font-weight: bold\">1</span> <span style=\"color: #008080; text-decoration-color: #008080; font-weight: bold\">0</span> <span style=\"color: #008080; text-decoration-color: #008080; font-weight: bold\">0</span> <span style=\"color: #008080; text-decoration-color: #008080; font-weight: bold\">1</span> <span style=\"color: #008080; text-decoration-color: #008080; font-weight: bold\">0</span> <span style=\"color: #008080; text-decoration-color: #008080; font-weight: bold\">0</span> <span style=\"color: #008080; text-decoration-color: #008080; font-weight: bold\">0</span> <span style=\"color: #008080; text-decoration-color: #008080; font-weight: bold\">1</span> <span style=\"color: #008080; text-decoration-color: #008080; font-weight: bold\">0</span> <span style=\"color: #008080; text-decoration-color: #008080; font-weight: bold\">0</span><span style=\"font-weight: bold\">]</span>, Score: <span style=\"color: #008080; text-decoration-color: #008080; font-weight: bold\">0.9929577464788732</span>\n",
       "</pre>\n"
      ],
      "text/plain": [
       " ✔ Current best chromosome: \u001b[1m[\u001b[0m\u001b[1;36m1\u001b[0m \u001b[1;36m0\u001b[0m \u001b[1;36m1\u001b[0m \u001b[1;36m1\u001b[0m \u001b[1;36m0\u001b[0m \u001b[1;36m0\u001b[0m \u001b[1;36m1\u001b[0m \u001b[1;36m0\u001b[0m \u001b[1;36m0\u001b[0m \u001b[1;36m0\u001b[0m \u001b[1;36m1\u001b[0m \u001b[1;36m0\u001b[0m \u001b[1;36m0\u001b[0m\u001b[1m]\u001b[0m, Score: \u001b[1;36m0.9929577464788732\u001b[0m\n"
      ]
     },
     "metadata": {},
     "output_type": "display_data"
    },
    {
     "data": {
      "text/html": [
       "<pre style=\"white-space:pre;overflow-x:auto;line-height:normal;font-family:Menlo,'DejaVu Sans Mono',consolas,'Courier New',monospace\">    <span style=\"font-weight: bold\">Elapsed generation time: </span> <span style=\"color: #008080; text-decoration-color: #008080; font-weight: bold\">2.65</span> <span style=\"font-weight: bold\">seconds</span>\n",
       "</pre>\n"
      ],
      "text/plain": [
       "    \u001b[1mElapsed generation time: \u001b[0m \u001b[1;36m2.65\u001b[0m \u001b[1mseconds\u001b[0m\n"
      ]
     },
     "metadata": {},
     "output_type": "display_data"
    },
    {
     "data": {
      "text/html": [
       "<pre style=\"white-space:pre;overflow-x:auto;line-height:normal;font-family:Menlo,'DejaVu Sans Mono',consolas,'Courier New',monospace\"><span style=\"color: #800080; text-decoration-color: #800080; font-weight: bold\">Creating generation </span><span style=\"color: #800080; text-decoration-color: #800080; font-weight: bold\">45</span><span style=\"color: #800080; text-decoration-color: #800080; font-weight: bold\">...</span>\n",
       "</pre>\n"
      ],
      "text/plain": [
       "\u001b[1;35mCreating generation \u001b[0m\u001b[1;35m45\u001b[0m\u001b[1;35m...\u001b[0m\n"
      ]
     },
     "metadata": {},
     "output_type": "display_data"
    },
    {
     "data": {
      "text/html": [
       "<pre style=\"white-space:pre;overflow-x:auto;line-height:normal;font-family:Menlo,'DejaVu Sans Mono',consolas,'Courier New',monospace\"> ✔ Evaluating population of new generation <span style=\"color: #008080; text-decoration-color: #008080; font-weight: bold\">45</span><span style=\"color: #808000; text-decoration-color: #808000\">...</span>\n",
       "</pre>\n"
      ],
      "text/plain": [
       " ✔ Evaluating population of new generation \u001b[1;36m45\u001b[0m\u001b[33m...\u001b[0m\n"
      ]
     },
     "metadata": {},
     "output_type": "display_data"
    },
    {
     "data": {
      "text/html": [
       "<pre style=\"white-space:pre;overflow-x:auto;line-height:normal;font-family:Menlo,'DejaVu Sans Mono',consolas,'Courier New',monospace\"> ✔ <span style=\"color: #800000; text-decoration-color: #800000; font-weight: bold\">(WORSE)</span> No better chromosome than the current one has been found <span style=\"color: #008080; text-decoration-color: #008080; font-weight: bold\">0.971830985915493</span>\n",
       "</pre>\n"
      ],
      "text/plain": [
       " ✔ \u001b[1;31m(\u001b[0m\u001b[1;31mWORSE\u001b[0m\u001b[1;31m)\u001b[0m No better chromosome than the current one has been found \u001b[1;36m0.971830985915493\u001b[0m\n"
      ]
     },
     "metadata": {},
     "output_type": "display_data"
    },
    {
     "data": {
      "text/html": [
       "<pre style=\"white-space:pre;overflow-x:auto;line-height:normal;font-family:Menlo,'DejaVu Sans Mono',consolas,'Courier New',monospace\"> ✔ Current best chromosome: <span style=\"font-weight: bold\">[</span><span style=\"color: #008080; text-decoration-color: #008080; font-weight: bold\">1</span> <span style=\"color: #008080; text-decoration-color: #008080; font-weight: bold\">0</span> <span style=\"color: #008080; text-decoration-color: #008080; font-weight: bold\">1</span> <span style=\"color: #008080; text-decoration-color: #008080; font-weight: bold\">1</span> <span style=\"color: #008080; text-decoration-color: #008080; font-weight: bold\">0</span> <span style=\"color: #008080; text-decoration-color: #008080; font-weight: bold\">0</span> <span style=\"color: #008080; text-decoration-color: #008080; font-weight: bold\">1</span> <span style=\"color: #008080; text-decoration-color: #008080; font-weight: bold\">0</span> <span style=\"color: #008080; text-decoration-color: #008080; font-weight: bold\">0</span> <span style=\"color: #008080; text-decoration-color: #008080; font-weight: bold\">0</span> <span style=\"color: #008080; text-decoration-color: #008080; font-weight: bold\">1</span> <span style=\"color: #008080; text-decoration-color: #008080; font-weight: bold\">0</span> <span style=\"color: #008080; text-decoration-color: #008080; font-weight: bold\">0</span><span style=\"font-weight: bold\">]</span>, Score: <span style=\"color: #008080; text-decoration-color: #008080; font-weight: bold\">0.9929577464788732</span>\n",
       "</pre>\n"
      ],
      "text/plain": [
       " ✔ Current best chromosome: \u001b[1m[\u001b[0m\u001b[1;36m1\u001b[0m \u001b[1;36m0\u001b[0m \u001b[1;36m1\u001b[0m \u001b[1;36m1\u001b[0m \u001b[1;36m0\u001b[0m \u001b[1;36m0\u001b[0m \u001b[1;36m1\u001b[0m \u001b[1;36m0\u001b[0m \u001b[1;36m0\u001b[0m \u001b[1;36m0\u001b[0m \u001b[1;36m1\u001b[0m \u001b[1;36m0\u001b[0m \u001b[1;36m0\u001b[0m\u001b[1m]\u001b[0m, Score: \u001b[1;36m0.9929577464788732\u001b[0m\n"
      ]
     },
     "metadata": {},
     "output_type": "display_data"
    },
    {
     "data": {
      "text/html": [
       "<pre style=\"white-space:pre;overflow-x:auto;line-height:normal;font-family:Menlo,'DejaVu Sans Mono',consolas,'Courier New',monospace\">    <span style=\"font-weight: bold\">Elapsed generation time: </span> <span style=\"color: #008080; text-decoration-color: #008080; font-weight: bold\">2.69</span> <span style=\"font-weight: bold\">seconds</span>\n",
       "</pre>\n"
      ],
      "text/plain": [
       "    \u001b[1mElapsed generation time: \u001b[0m \u001b[1;36m2.69\u001b[0m \u001b[1mseconds\u001b[0m\n"
      ]
     },
     "metadata": {},
     "output_type": "display_data"
    },
    {
     "data": {
      "text/html": [
       "<pre style=\"white-space:pre;overflow-x:auto;line-height:normal;font-family:Menlo,'DejaVu Sans Mono',consolas,'Courier New',monospace\"><span style=\"color: #800080; text-decoration-color: #800080; font-weight: bold\">Creating generation </span><span style=\"color: #800080; text-decoration-color: #800080; font-weight: bold\">46</span><span style=\"color: #800080; text-decoration-color: #800080; font-weight: bold\">...</span>\n",
       "</pre>\n"
      ],
      "text/plain": [
       "\u001b[1;35mCreating generation \u001b[0m\u001b[1;35m46\u001b[0m\u001b[1;35m...\u001b[0m\n"
      ]
     },
     "metadata": {},
     "output_type": "display_data"
    },
    {
     "data": {
      "text/html": [
       "<pre style=\"white-space:pre;overflow-x:auto;line-height:normal;font-family:Menlo,'DejaVu Sans Mono',consolas,'Courier New',monospace\"> ✔ Evaluating population of new generation <span style=\"color: #008080; text-decoration-color: #008080; font-weight: bold\">46</span><span style=\"color: #808000; text-decoration-color: #808000\">...</span>\n",
       "</pre>\n"
      ],
      "text/plain": [
       " ✔ Evaluating population of new generation \u001b[1;36m46\u001b[0m\u001b[33m...\u001b[0m\n"
      ]
     },
     "metadata": {},
     "output_type": "display_data"
    },
    {
     "data": {
      "text/html": [
       "<pre style=\"white-space:pre;overflow-x:auto;line-height:normal;font-family:Menlo,'DejaVu Sans Mono',consolas,'Courier New',monospace\"> ✔ <span style=\"color: #800000; text-decoration-color: #800000; font-weight: bold\">(WORSE)</span> No better chromosome than the current one has been found <span style=\"color: #008080; text-decoration-color: #008080; font-weight: bold\">0.9788732394366197</span>\n",
       "</pre>\n"
      ],
      "text/plain": [
       " ✔ \u001b[1;31m(\u001b[0m\u001b[1;31mWORSE\u001b[0m\u001b[1;31m)\u001b[0m No better chromosome than the current one has been found \u001b[1;36m0.9788732394366197\u001b[0m\n"
      ]
     },
     "metadata": {},
     "output_type": "display_data"
    },
    {
     "data": {
      "text/html": [
       "<pre style=\"white-space:pre;overflow-x:auto;line-height:normal;font-family:Menlo,'DejaVu Sans Mono',consolas,'Courier New',monospace\"> ✔ Current best chromosome: <span style=\"font-weight: bold\">[</span><span style=\"color: #008080; text-decoration-color: #008080; font-weight: bold\">1</span> <span style=\"color: #008080; text-decoration-color: #008080; font-weight: bold\">0</span> <span style=\"color: #008080; text-decoration-color: #008080; font-weight: bold\">1</span> <span style=\"color: #008080; text-decoration-color: #008080; font-weight: bold\">1</span> <span style=\"color: #008080; text-decoration-color: #008080; font-weight: bold\">0</span> <span style=\"color: #008080; text-decoration-color: #008080; font-weight: bold\">0</span> <span style=\"color: #008080; text-decoration-color: #008080; font-weight: bold\">1</span> <span style=\"color: #008080; text-decoration-color: #008080; font-weight: bold\">0</span> <span style=\"color: #008080; text-decoration-color: #008080; font-weight: bold\">0</span> <span style=\"color: #008080; text-decoration-color: #008080; font-weight: bold\">0</span> <span style=\"color: #008080; text-decoration-color: #008080; font-weight: bold\">1</span> <span style=\"color: #008080; text-decoration-color: #008080; font-weight: bold\">0</span> <span style=\"color: #008080; text-decoration-color: #008080; font-weight: bold\">0</span><span style=\"font-weight: bold\">]</span>, Score: <span style=\"color: #008080; text-decoration-color: #008080; font-weight: bold\">0.9929577464788732</span>\n",
       "</pre>\n"
      ],
      "text/plain": [
       " ✔ Current best chromosome: \u001b[1m[\u001b[0m\u001b[1;36m1\u001b[0m \u001b[1;36m0\u001b[0m \u001b[1;36m1\u001b[0m \u001b[1;36m1\u001b[0m \u001b[1;36m0\u001b[0m \u001b[1;36m0\u001b[0m \u001b[1;36m1\u001b[0m \u001b[1;36m0\u001b[0m \u001b[1;36m0\u001b[0m \u001b[1;36m0\u001b[0m \u001b[1;36m1\u001b[0m \u001b[1;36m0\u001b[0m \u001b[1;36m0\u001b[0m\u001b[1m]\u001b[0m, Score: \u001b[1;36m0.9929577464788732\u001b[0m\n"
      ]
     },
     "metadata": {},
     "output_type": "display_data"
    },
    {
     "data": {
      "text/html": [
       "<pre style=\"white-space:pre;overflow-x:auto;line-height:normal;font-family:Menlo,'DejaVu Sans Mono',consolas,'Courier New',monospace\">    <span style=\"font-weight: bold\">Elapsed generation time: </span> <span style=\"color: #008080; text-decoration-color: #008080; font-weight: bold\">2.64</span> <span style=\"font-weight: bold\">seconds</span>\n",
       "</pre>\n"
      ],
      "text/plain": [
       "    \u001b[1mElapsed generation time: \u001b[0m \u001b[1;36m2.64\u001b[0m \u001b[1mseconds\u001b[0m\n"
      ]
     },
     "metadata": {},
     "output_type": "display_data"
    },
    {
     "data": {
      "text/html": [
       "<pre style=\"white-space:pre;overflow-x:auto;line-height:normal;font-family:Menlo,'DejaVu Sans Mono',consolas,'Courier New',monospace\"><span style=\"color: #800080; text-decoration-color: #800080; font-weight: bold\">Creating generation </span><span style=\"color: #800080; text-decoration-color: #800080; font-weight: bold\">47</span><span style=\"color: #800080; text-decoration-color: #800080; font-weight: bold\">...</span>\n",
       "</pre>\n"
      ],
      "text/plain": [
       "\u001b[1;35mCreating generation \u001b[0m\u001b[1;35m47\u001b[0m\u001b[1;35m...\u001b[0m\n"
      ]
     },
     "metadata": {},
     "output_type": "display_data"
    },
    {
     "data": {
      "text/html": [
       "<pre style=\"white-space:pre;overflow-x:auto;line-height:normal;font-family:Menlo,'DejaVu Sans Mono',consolas,'Courier New',monospace\"> ✔ Evaluating population of new generation <span style=\"color: #008080; text-decoration-color: #008080; font-weight: bold\">47</span><span style=\"color: #808000; text-decoration-color: #808000\">...</span>\n",
       "</pre>\n"
      ],
      "text/plain": [
       " ✔ Evaluating population of new generation \u001b[1;36m47\u001b[0m\u001b[33m...\u001b[0m\n"
      ]
     },
     "metadata": {},
     "output_type": "display_data"
    },
    {
     "data": {
      "text/html": [
       "<pre style=\"white-space:pre;overflow-x:auto;line-height:normal;font-family:Menlo,'DejaVu Sans Mono',consolas,'Courier New',monospace\"> ✔ <span style=\"color: #800000; text-decoration-color: #800000; font-weight: bold\">(WORSE)</span> No better chromosome than the current one has been found <span style=\"color: #008080; text-decoration-color: #008080; font-weight: bold\">0.9788732394366197</span>\n",
       "</pre>\n"
      ],
      "text/plain": [
       " ✔ \u001b[1;31m(\u001b[0m\u001b[1;31mWORSE\u001b[0m\u001b[1;31m)\u001b[0m No better chromosome than the current one has been found \u001b[1;36m0.9788732394366197\u001b[0m\n"
      ]
     },
     "metadata": {},
     "output_type": "display_data"
    },
    {
     "data": {
      "text/html": [
       "<pre style=\"white-space:pre;overflow-x:auto;line-height:normal;font-family:Menlo,'DejaVu Sans Mono',consolas,'Courier New',monospace\"> ✔ Current best chromosome: <span style=\"font-weight: bold\">[</span><span style=\"color: #008080; text-decoration-color: #008080; font-weight: bold\">1</span> <span style=\"color: #008080; text-decoration-color: #008080; font-weight: bold\">0</span> <span style=\"color: #008080; text-decoration-color: #008080; font-weight: bold\">1</span> <span style=\"color: #008080; text-decoration-color: #008080; font-weight: bold\">1</span> <span style=\"color: #008080; text-decoration-color: #008080; font-weight: bold\">0</span> <span style=\"color: #008080; text-decoration-color: #008080; font-weight: bold\">0</span> <span style=\"color: #008080; text-decoration-color: #008080; font-weight: bold\">1</span> <span style=\"color: #008080; text-decoration-color: #008080; font-weight: bold\">0</span> <span style=\"color: #008080; text-decoration-color: #008080; font-weight: bold\">0</span> <span style=\"color: #008080; text-decoration-color: #008080; font-weight: bold\">0</span> <span style=\"color: #008080; text-decoration-color: #008080; font-weight: bold\">1</span> <span style=\"color: #008080; text-decoration-color: #008080; font-weight: bold\">0</span> <span style=\"color: #008080; text-decoration-color: #008080; font-weight: bold\">0</span><span style=\"font-weight: bold\">]</span>, Score: <span style=\"color: #008080; text-decoration-color: #008080; font-weight: bold\">0.9929577464788732</span>\n",
       "</pre>\n"
      ],
      "text/plain": [
       " ✔ Current best chromosome: \u001b[1m[\u001b[0m\u001b[1;36m1\u001b[0m \u001b[1;36m0\u001b[0m \u001b[1;36m1\u001b[0m \u001b[1;36m1\u001b[0m \u001b[1;36m0\u001b[0m \u001b[1;36m0\u001b[0m \u001b[1;36m1\u001b[0m \u001b[1;36m0\u001b[0m \u001b[1;36m0\u001b[0m \u001b[1;36m0\u001b[0m \u001b[1;36m1\u001b[0m \u001b[1;36m0\u001b[0m \u001b[1;36m0\u001b[0m\u001b[1m]\u001b[0m, Score: \u001b[1;36m0.9929577464788732\u001b[0m\n"
      ]
     },
     "metadata": {},
     "output_type": "display_data"
    },
    {
     "data": {
      "text/html": [
       "<pre style=\"white-space:pre;overflow-x:auto;line-height:normal;font-family:Menlo,'DejaVu Sans Mono',consolas,'Courier New',monospace\">    <span style=\"font-weight: bold\">Elapsed generation time: </span> <span style=\"color: #008080; text-decoration-color: #008080; font-weight: bold\">2.68</span> <span style=\"font-weight: bold\">seconds</span>\n",
       "</pre>\n"
      ],
      "text/plain": [
       "    \u001b[1mElapsed generation time: \u001b[0m \u001b[1;36m2.68\u001b[0m \u001b[1mseconds\u001b[0m\n"
      ]
     },
     "metadata": {},
     "output_type": "display_data"
    },
    {
     "data": {
      "text/html": [
       "<pre style=\"white-space:pre;overflow-x:auto;line-height:normal;font-family:Menlo,'DejaVu Sans Mono',consolas,'Courier New',monospace\"><span style=\"color: #800080; text-decoration-color: #800080; font-weight: bold\">Creating generation </span><span style=\"color: #800080; text-decoration-color: #800080; font-weight: bold\">48</span><span style=\"color: #800080; text-decoration-color: #800080; font-weight: bold\">...</span>\n",
       "</pre>\n"
      ],
      "text/plain": [
       "\u001b[1;35mCreating generation \u001b[0m\u001b[1;35m48\u001b[0m\u001b[1;35m...\u001b[0m\n"
      ]
     },
     "metadata": {},
     "output_type": "display_data"
    },
    {
     "data": {
      "text/html": [
       "<pre style=\"white-space:pre;overflow-x:auto;line-height:normal;font-family:Menlo,'DejaVu Sans Mono',consolas,'Courier New',monospace\"> ✔ Evaluating population of new generation <span style=\"color: #008080; text-decoration-color: #008080; font-weight: bold\">48</span><span style=\"color: #808000; text-decoration-color: #808000\">...</span>\n",
       "</pre>\n"
      ],
      "text/plain": [
       " ✔ Evaluating population of new generation \u001b[1;36m48\u001b[0m\u001b[33m...\u001b[0m\n"
      ]
     },
     "metadata": {},
     "output_type": "display_data"
    },
    {
     "data": {
      "text/html": [
       "<pre style=\"white-space:pre;overflow-x:auto;line-height:normal;font-family:Menlo,'DejaVu Sans Mono',consolas,'Courier New',monospace\"> ✔ <span style=\"color: #800000; text-decoration-color: #800000; font-weight: bold\">(WORSE)</span> No better chromosome than the current one has been found <span style=\"color: #008080; text-decoration-color: #008080; font-weight: bold\">0.9788732394366197</span>\n",
       "</pre>\n"
      ],
      "text/plain": [
       " ✔ \u001b[1;31m(\u001b[0m\u001b[1;31mWORSE\u001b[0m\u001b[1;31m)\u001b[0m No better chromosome than the current one has been found \u001b[1;36m0.9788732394366197\u001b[0m\n"
      ]
     },
     "metadata": {},
     "output_type": "display_data"
    },
    {
     "data": {
      "text/html": [
       "<pre style=\"white-space:pre;overflow-x:auto;line-height:normal;font-family:Menlo,'DejaVu Sans Mono',consolas,'Courier New',monospace\"> ✔ Current best chromosome: <span style=\"font-weight: bold\">[</span><span style=\"color: #008080; text-decoration-color: #008080; font-weight: bold\">1</span> <span style=\"color: #008080; text-decoration-color: #008080; font-weight: bold\">0</span> <span style=\"color: #008080; text-decoration-color: #008080; font-weight: bold\">1</span> <span style=\"color: #008080; text-decoration-color: #008080; font-weight: bold\">1</span> <span style=\"color: #008080; text-decoration-color: #008080; font-weight: bold\">0</span> <span style=\"color: #008080; text-decoration-color: #008080; font-weight: bold\">0</span> <span style=\"color: #008080; text-decoration-color: #008080; font-weight: bold\">1</span> <span style=\"color: #008080; text-decoration-color: #008080; font-weight: bold\">0</span> <span style=\"color: #008080; text-decoration-color: #008080; font-weight: bold\">0</span> <span style=\"color: #008080; text-decoration-color: #008080; font-weight: bold\">0</span> <span style=\"color: #008080; text-decoration-color: #008080; font-weight: bold\">1</span> <span style=\"color: #008080; text-decoration-color: #008080; font-weight: bold\">0</span> <span style=\"color: #008080; text-decoration-color: #008080; font-weight: bold\">0</span><span style=\"font-weight: bold\">]</span>, Score: <span style=\"color: #008080; text-decoration-color: #008080; font-weight: bold\">0.9929577464788732</span>\n",
       "</pre>\n"
      ],
      "text/plain": [
       " ✔ Current best chromosome: \u001b[1m[\u001b[0m\u001b[1;36m1\u001b[0m \u001b[1;36m0\u001b[0m \u001b[1;36m1\u001b[0m \u001b[1;36m1\u001b[0m \u001b[1;36m0\u001b[0m \u001b[1;36m0\u001b[0m \u001b[1;36m1\u001b[0m \u001b[1;36m0\u001b[0m \u001b[1;36m0\u001b[0m \u001b[1;36m0\u001b[0m \u001b[1;36m1\u001b[0m \u001b[1;36m0\u001b[0m \u001b[1;36m0\u001b[0m\u001b[1m]\u001b[0m, Score: \u001b[1;36m0.9929577464788732\u001b[0m\n"
      ]
     },
     "metadata": {},
     "output_type": "display_data"
    },
    {
     "data": {
      "text/html": [
       "<pre style=\"white-space:pre;overflow-x:auto;line-height:normal;font-family:Menlo,'DejaVu Sans Mono',consolas,'Courier New',monospace\">    <span style=\"font-weight: bold\">Elapsed generation time: </span> <span style=\"color: #008080; text-decoration-color: #008080; font-weight: bold\">2.68</span> <span style=\"font-weight: bold\">seconds</span>\n",
       "</pre>\n"
      ],
      "text/plain": [
       "    \u001b[1mElapsed generation time: \u001b[0m \u001b[1;36m2.68\u001b[0m \u001b[1mseconds\u001b[0m\n"
      ]
     },
     "metadata": {},
     "output_type": "display_data"
    },
    {
     "data": {
      "text/html": [
       "<pre style=\"white-space:pre;overflow-x:auto;line-height:normal;font-family:Menlo,'DejaVu Sans Mono',consolas,'Courier New',monospace\"><span style=\"color: #800080; text-decoration-color: #800080; font-weight: bold\">Creating generation </span><span style=\"color: #800080; text-decoration-color: #800080; font-weight: bold\">49</span><span style=\"color: #800080; text-decoration-color: #800080; font-weight: bold\">...</span>\n",
       "</pre>\n"
      ],
      "text/plain": [
       "\u001b[1;35mCreating generation \u001b[0m\u001b[1;35m49\u001b[0m\u001b[1;35m...\u001b[0m\n"
      ]
     },
     "metadata": {},
     "output_type": "display_data"
    },
    {
     "data": {
      "text/html": [
       "<pre style=\"white-space:pre;overflow-x:auto;line-height:normal;font-family:Menlo,'DejaVu Sans Mono',consolas,'Courier New',monospace\"> ✔ Evaluating population of new generation <span style=\"color: #008080; text-decoration-color: #008080; font-weight: bold\">49</span><span style=\"color: #808000; text-decoration-color: #808000\">...</span>\n",
       "</pre>\n"
      ],
      "text/plain": [
       " ✔ Evaluating population of new generation \u001b[1;36m49\u001b[0m\u001b[33m...\u001b[0m\n"
      ]
     },
     "metadata": {},
     "output_type": "display_data"
    },
    {
     "data": {
      "text/html": [
       "<pre style=\"white-space:pre;overflow-x:auto;line-height:normal;font-family:Menlo,'DejaVu Sans Mono',consolas,'Courier New',monospace\"> ✔ <span style=\"color: #800000; text-decoration-color: #800000; font-weight: bold\">(WORSE)</span> No better chromosome than the current one has been found <span style=\"color: #008080; text-decoration-color: #008080; font-weight: bold\">0.971830985915493</span>\n",
       "</pre>\n"
      ],
      "text/plain": [
       " ✔ \u001b[1;31m(\u001b[0m\u001b[1;31mWORSE\u001b[0m\u001b[1;31m)\u001b[0m No better chromosome than the current one has been found \u001b[1;36m0.971830985915493\u001b[0m\n"
      ]
     },
     "metadata": {},
     "output_type": "display_data"
    },
    {
     "data": {
      "text/html": [
       "<pre style=\"white-space:pre;overflow-x:auto;line-height:normal;font-family:Menlo,'DejaVu Sans Mono',consolas,'Courier New',monospace\"> ✔ Current best chromosome: <span style=\"font-weight: bold\">[</span><span style=\"color: #008080; text-decoration-color: #008080; font-weight: bold\">1</span> <span style=\"color: #008080; text-decoration-color: #008080; font-weight: bold\">0</span> <span style=\"color: #008080; text-decoration-color: #008080; font-weight: bold\">1</span> <span style=\"color: #008080; text-decoration-color: #008080; font-weight: bold\">1</span> <span style=\"color: #008080; text-decoration-color: #008080; font-weight: bold\">0</span> <span style=\"color: #008080; text-decoration-color: #008080; font-weight: bold\">0</span> <span style=\"color: #008080; text-decoration-color: #008080; font-weight: bold\">1</span> <span style=\"color: #008080; text-decoration-color: #008080; font-weight: bold\">0</span> <span style=\"color: #008080; text-decoration-color: #008080; font-weight: bold\">0</span> <span style=\"color: #008080; text-decoration-color: #008080; font-weight: bold\">0</span> <span style=\"color: #008080; text-decoration-color: #008080; font-weight: bold\">1</span> <span style=\"color: #008080; text-decoration-color: #008080; font-weight: bold\">0</span> <span style=\"color: #008080; text-decoration-color: #008080; font-weight: bold\">0</span><span style=\"font-weight: bold\">]</span>, Score: <span style=\"color: #008080; text-decoration-color: #008080; font-weight: bold\">0.9929577464788732</span>\n",
       "</pre>\n"
      ],
      "text/plain": [
       " ✔ Current best chromosome: \u001b[1m[\u001b[0m\u001b[1;36m1\u001b[0m \u001b[1;36m0\u001b[0m \u001b[1;36m1\u001b[0m \u001b[1;36m1\u001b[0m \u001b[1;36m0\u001b[0m \u001b[1;36m0\u001b[0m \u001b[1;36m1\u001b[0m \u001b[1;36m0\u001b[0m \u001b[1;36m0\u001b[0m \u001b[1;36m0\u001b[0m \u001b[1;36m1\u001b[0m \u001b[1;36m0\u001b[0m \u001b[1;36m0\u001b[0m\u001b[1m]\u001b[0m, Score: \u001b[1;36m0.9929577464788732\u001b[0m\n"
      ]
     },
     "metadata": {},
     "output_type": "display_data"
    },
    {
     "data": {
      "text/html": [
       "<pre style=\"white-space:pre;overflow-x:auto;line-height:normal;font-family:Menlo,'DejaVu Sans Mono',consolas,'Courier New',monospace\">    <span style=\"font-weight: bold\">Elapsed generation time: </span> <span style=\"color: #008080; text-decoration-color: #008080; font-weight: bold\">2.72</span> <span style=\"font-weight: bold\">seconds</span>\n",
       "</pre>\n"
      ],
      "text/plain": [
       "    \u001b[1mElapsed generation time: \u001b[0m \u001b[1;36m2.72\u001b[0m \u001b[1mseconds\u001b[0m\n"
      ]
     },
     "metadata": {},
     "output_type": "display_data"
    },
    {
     "data": {
      "text/html": [
       "<pre style=\"white-space:pre;overflow-x:auto;line-height:normal;font-family:Menlo,'DejaVu Sans Mono',consolas,'Courier New',monospace\"><span style=\"color: #800080; text-decoration-color: #800080; font-weight: bold\">Creating generation </span><span style=\"color: #800080; text-decoration-color: #800080; font-weight: bold\">50</span><span style=\"color: #800080; text-decoration-color: #800080; font-weight: bold\">...</span>\n",
       "</pre>\n"
      ],
      "text/plain": [
       "\u001b[1;35mCreating generation \u001b[0m\u001b[1;35m50\u001b[0m\u001b[1;35m...\u001b[0m\n"
      ]
     },
     "metadata": {},
     "output_type": "display_data"
    },
    {
     "data": {
      "text/html": [
       "<pre style=\"white-space:pre;overflow-x:auto;line-height:normal;font-family:Menlo,'DejaVu Sans Mono',consolas,'Courier New',monospace\"> ✔ Evaluating population of new generation <span style=\"color: #008080; text-decoration-color: #008080; font-weight: bold\">50</span><span style=\"color: #808000; text-decoration-color: #808000\">...</span>\n",
       "</pre>\n"
      ],
      "text/plain": [
       " ✔ Evaluating population of new generation \u001b[1;36m50\u001b[0m\u001b[33m...\u001b[0m\n"
      ]
     },
     "metadata": {},
     "output_type": "display_data"
    },
    {
     "data": {
      "text/html": [
       "<pre style=\"white-space:pre;overflow-x:auto;line-height:normal;font-family:Menlo,'DejaVu Sans Mono',consolas,'Courier New',monospace\"> ✔ <span style=\"color: #800000; text-decoration-color: #800000; font-weight: bold\">(WORSE)</span> No better chromosome than the current one has been found <span style=\"color: #008080; text-decoration-color: #008080; font-weight: bold\">0.9788732394366197</span>\n",
       "</pre>\n"
      ],
      "text/plain": [
       " ✔ \u001b[1;31m(\u001b[0m\u001b[1;31mWORSE\u001b[0m\u001b[1;31m)\u001b[0m No better chromosome than the current one has been found \u001b[1;36m0.9788732394366197\u001b[0m\n"
      ]
     },
     "metadata": {},
     "output_type": "display_data"
    },
    {
     "data": {
      "text/html": [
       "<pre style=\"white-space:pre;overflow-x:auto;line-height:normal;font-family:Menlo,'DejaVu Sans Mono',consolas,'Courier New',monospace\"> ✔ Current best chromosome: <span style=\"font-weight: bold\">[</span><span style=\"color: #008080; text-decoration-color: #008080; font-weight: bold\">1</span> <span style=\"color: #008080; text-decoration-color: #008080; font-weight: bold\">0</span> <span style=\"color: #008080; text-decoration-color: #008080; font-weight: bold\">1</span> <span style=\"color: #008080; text-decoration-color: #008080; font-weight: bold\">1</span> <span style=\"color: #008080; text-decoration-color: #008080; font-weight: bold\">0</span> <span style=\"color: #008080; text-decoration-color: #008080; font-weight: bold\">0</span> <span style=\"color: #008080; text-decoration-color: #008080; font-weight: bold\">1</span> <span style=\"color: #008080; text-decoration-color: #008080; font-weight: bold\">0</span> <span style=\"color: #008080; text-decoration-color: #008080; font-weight: bold\">0</span> <span style=\"color: #008080; text-decoration-color: #008080; font-weight: bold\">0</span> <span style=\"color: #008080; text-decoration-color: #008080; font-weight: bold\">1</span> <span style=\"color: #008080; text-decoration-color: #008080; font-weight: bold\">0</span> <span style=\"color: #008080; text-decoration-color: #008080; font-weight: bold\">0</span><span style=\"font-weight: bold\">]</span>, Score: <span style=\"color: #008080; text-decoration-color: #008080; font-weight: bold\">0.9929577464788732</span>\n",
       "</pre>\n"
      ],
      "text/plain": [
       " ✔ Current best chromosome: \u001b[1m[\u001b[0m\u001b[1;36m1\u001b[0m \u001b[1;36m0\u001b[0m \u001b[1;36m1\u001b[0m \u001b[1;36m1\u001b[0m \u001b[1;36m0\u001b[0m \u001b[1;36m0\u001b[0m \u001b[1;36m1\u001b[0m \u001b[1;36m0\u001b[0m \u001b[1;36m0\u001b[0m \u001b[1;36m0\u001b[0m \u001b[1;36m1\u001b[0m \u001b[1;36m0\u001b[0m \u001b[1;36m0\u001b[0m\u001b[1m]\u001b[0m, Score: \u001b[1;36m0.9929577464788732\u001b[0m\n"
      ]
     },
     "metadata": {},
     "output_type": "display_data"
    },
    {
     "data": {
      "text/html": [
       "<pre style=\"white-space:pre;overflow-x:auto;line-height:normal;font-family:Menlo,'DejaVu Sans Mono',consolas,'Courier New',monospace\">    <span style=\"font-weight: bold\">Elapsed generation time: </span> <span style=\"color: #008080; text-decoration-color: #008080; font-weight: bold\">2.70</span> <span style=\"font-weight: bold\">seconds</span>\n",
       "</pre>\n"
      ],
      "text/plain": [
       "    \u001b[1mElapsed generation time: \u001b[0m \u001b[1;36m2.70\u001b[0m \u001b[1mseconds\u001b[0m\n"
      ]
     },
     "metadata": {},
     "output_type": "display_data"
    },
    {
     "data": {
      "text/html": [
       "<pre style=\"white-space:pre;overflow-x:auto;line-height:normal;font-family:Menlo,'DejaVu Sans Mono',consolas,'Courier New',monospace\"><span style=\"font-weight: bold\">Training time</span>:  <span style=\"color: #008080; text-decoration-color: #008080; font-weight: bold\">138.07</span> <span style=\"font-weight: bold\">seconds</span>\n",
       "</pre>\n"
      ],
      "text/plain": [
       "\u001b[1mTraining time\u001b[0m:  \u001b[1;36m138.07\u001b[0m \u001b[1mseconds\u001b[0m\n"
      ]
     },
     "metadata": {},
     "output_type": "display_data"
    }
   ],
   "source": [
    "\"\"\"Fit features and yield test output using 'run' method\"\"\"\n",
    "Genetic_Algorithm.run(X_train, X_test, y_train, y_test)"
   ]
  },
  {
   "cell_type": "markdown",
   "metadata": {},
   "source": [
    "## 6. Show the Results\n",
    "- 학습 및 검증 결과를 아래와 같이 Table 형태로 요약하여 결과를 확인합니다. 내장 메소드인 'summary table'을 이용할 수 있습니다.\n",
    "    - 'table'은 학습 결과를 표로 정리하여 나타냅니다.\n",
    "    - 'parameter table'은 어떤 Hyperparameter를 통해 변수를 선택하고 성능을 도출하였는지를 요약해주는 표입니다.\n",
    "- 총 세대 수 50, 세대 당 염색체 수 100개, 교배율 0.7, 돌연변이율 0.8, 평가지표로 Accuracy를 활용한 결과, 13개의 변수 중 5개의 변수가 선택되었고, 절반이 되지 않는 설명변수만으로도 Test Score가 0.99가 넘는 것을 확인하였습니다."
   ]
  },
  {
   "cell_type": "code",
   "execution_count": 9,
   "metadata": {
    "scrolled": true
   },
   "outputs": [
    {
     "data": {
      "text/html": [
       "<pre style=\"white-space:pre;overflow-x:auto;line-height:normal;font-family:Menlo,'DejaVu Sans Mono',consolas,'Courier New',monospace\">┏━━━━━━━━━━━━━━━━━━┳━━━━━━━━━━━━━━━━━━┳━━━━━━━━━━━━━━━━━━┳━━━━━━━━━━━━━━━━━┳━━━━━━━━━━━━━━━━━━┳━━━━━━━━━━━━━━━━━━━┓\n",
       "┃<span style=\"color: #800080; text-decoration-color: #800080; font-weight: bold\">                  </span>┃<span style=\"color: #800080; text-decoration-color: #800080; font-weight: bold\">     Selected     </span>┃<span style=\"color: #800080; text-decoration-color: #800080; font-weight: bold\">                  </span>┃<span style=\"color: #800080; text-decoration-color: #800080; font-weight: bold\">                 </span>┃<span style=\"color: #800080; text-decoration-color: #800080; font-weight: bold\">                  </span>┃<span style=\"color: #800080; text-decoration-color: #800080; font-weight: bold\">   Training Time   </span>┃\n",
       "┃<span style=\"color: #800080; text-decoration-color: #800080; font-weight: bold\"> Best Chromosome  </span>┃<span style=\"color: #800080; text-decoration-color: #800080; font-weight: bold\">   Features ID    </span>┃<span style=\"color: #800080; text-decoration-color: #800080; font-weight: bold\"> Best Test Score  </span>┃<span style=\"color: #800080; text-decoration-color: #800080; font-weight: bold\"> Best Generation </span>┃<span style=\"color: #800080; text-decoration-color: #800080; font-weight: bold\"> Best Train Score </span>┃<span style=\"color: #800080; text-decoration-color: #800080; font-weight: bold\">       (sec)       </span>┃\n",
       "┡━━━━━━━━━━━━━━━━━━╇━━━━━━━━━━━━━━━━━━╇━━━━━━━━━━━━━━━━━━╇━━━━━━━━━━━━━━━━━╇━━━━━━━━━━━━━━━━━━╇━━━━━━━━━━━━━━━━━━━┩\n",
       "│ [1 0 1 1 0 0 1 0 │ [ 0  2  3  6 10] │ 0.9929577464788… │        4        │       1.0        │      138.07       │\n",
       "│    0 0 1 0 0]    │                  │                  │                 │                  │                   │\n",
       "└──────────────────┴──────────────────┴──────────────────┴─────────────────┴──────────────────┴───────────────────┘\n",
       "</pre>\n"
      ],
      "text/plain": [
       "┏━━━━━━━━━━━━━━━━━━┳━━━━━━━━━━━━━━━━━━┳━━━━━━━━━━━━━━━━━━┳━━━━━━━━━━━━━━━━━┳━━━━━━━━━━━━━━━━━━┳━━━━━━━━━━━━━━━━━━━┓\n",
       "┃\u001b[1;35m                  \u001b[0m┃\u001b[1;35m \u001b[0m\u001b[1;35m    Selected    \u001b[0m\u001b[1;35m \u001b[0m┃\u001b[1;35m                  \u001b[0m┃\u001b[1;35m                 \u001b[0m┃\u001b[1;35m                  \u001b[0m┃\u001b[1;35m \u001b[0m\u001b[1;35m  Training Time  \u001b[0m\u001b[1;35m \u001b[0m┃\n",
       "┃\u001b[1;35m \u001b[0m\u001b[1;35mBest Chromosome \u001b[0m\u001b[1;35m \u001b[0m┃\u001b[1;35m \u001b[0m\u001b[1;35m  Features ID   \u001b[0m\u001b[1;35m \u001b[0m┃\u001b[1;35m \u001b[0m\u001b[1;35mBest Test Score \u001b[0m\u001b[1;35m \u001b[0m┃\u001b[1;35m \u001b[0m\u001b[1;35mBest Generation\u001b[0m\u001b[1;35m \u001b[0m┃\u001b[1;35m \u001b[0m\u001b[1;35mBest Train Score\u001b[0m\u001b[1;35m \u001b[0m┃\u001b[1;35m \u001b[0m\u001b[1;35m      (sec)      \u001b[0m\u001b[1;35m \u001b[0m┃\n",
       "┡━━━━━━━━━━━━━━━━━━╇━━━━━━━━━━━━━━━━━━╇━━━━━━━━━━━━━━━━━━╇━━━━━━━━━━━━━━━━━╇━━━━━━━━━━━━━━━━━━╇━━━━━━━━━━━━━━━━━━━┩\n",
       "│ [1 0 1 1 0 0 1 0 │ [ 0  2  3  6 10] │ 0.9929577464788… │        4        │       1.0        │      138.07       │\n",
       "│    0 0 1 0 0]    │                  │                  │                 │                  │                   │\n",
       "└──────────────────┴──────────────────┴──────────────────┴─────────────────┴──────────────────┴───────────────────┘\n"
      ]
     },
     "metadata": {},
     "output_type": "display_data"
    },
    {
     "data": {
      "text/html": [
       "<pre style=\"white-space:pre;overflow-x:auto;line-height:normal;font-family:Menlo,'DejaVu Sans Mono',consolas,'Courier New',monospace\">┏━━━━━━━━━━━━━━━━━━━━━━┳━━━━━━━━━━━━━━━━━━━━━━┳━━━━━━━━━━━━━━━━┳━━━━━━━━━━━━━━━┳━━━━━━━━━━┓\n",
       "┃<span style=\"color: #000080; text-decoration-color: #000080; font-weight: bold\"> Number of Generation </span>┃<span style=\"color: #000080; text-decoration-color: #000080; font-weight: bold\"> Number of Population </span>┃<span style=\"color: #000080; text-decoration-color: #000080; font-weight: bold\"> Crossover Rate </span>┃<span style=\"color: #000080; text-decoration-color: #000080; font-weight: bold\"> Mutation Rate </span>┃<span style=\"color: #000080; text-decoration-color: #000080; font-weight: bold\">  Metric  </span>┃\n",
       "┡━━━━━━━━━━━━━━━━━━━━━━╇━━━━━━━━━━━━━━━━━━━━━━╇━━━━━━━━━━━━━━━━╇━━━━━━━━━━━━━━━╇━━━━━━━━━━┩\n",
       "│          50          │         100          │      0.7       │      0.8      │ accuracy │\n",
       "└──────────────────────┴──────────────────────┴────────────────┴───────────────┴──────────┘\n",
       "</pre>\n"
      ],
      "text/plain": [
       "┏━━━━━━━━━━━━━━━━━━━━━━┳━━━━━━━━━━━━━━━━━━━━━━┳━━━━━━━━━━━━━━━━┳━━━━━━━━━━━━━━━┳━━━━━━━━━━┓\n",
       "┃\u001b[1;34m \u001b[0m\u001b[1;34mNumber of Generation\u001b[0m\u001b[1;34m \u001b[0m┃\u001b[1;34m \u001b[0m\u001b[1;34mNumber of Population\u001b[0m\u001b[1;34m \u001b[0m┃\u001b[1;34m \u001b[0m\u001b[1;34mCrossover Rate\u001b[0m\u001b[1;34m \u001b[0m┃\u001b[1;34m \u001b[0m\u001b[1;34mMutation Rate\u001b[0m\u001b[1;34m \u001b[0m┃\u001b[1;34m \u001b[0m\u001b[1;34m Metric \u001b[0m\u001b[1;34m \u001b[0m┃\n",
       "┡━━━━━━━━━━━━━━━━━━━━━━╇━━━━━━━━━━━━━━━━━━━━━━╇━━━━━━━━━━━━━━━━╇━━━━━━━━━━━━━━━╇━━━━━━━━━━┩\n",
       "│          50          │         100          │      0.7       │      0.8      │ accuracy │\n",
       "└──────────────────────┴──────────────────────┴────────────────┴───────────────┴──────────┘\n"
      ]
     },
     "metadata": {},
     "output_type": "display_data"
    }
   ],
   "source": [
    "\"\"\"Show the result\"\"\"\n",
    "table, parameter_table = Genetic_Algorithm.summary_table()\n",
    "rich.print(table)\n",
    "rich.print(parameter_table)"
   ]
  },
  {
   "cell_type": "markdown",
   "metadata": {},
   "source": [
    "- 추가적으로 아래와 같은 방식을 통하여 최종적으로 선택된 설명변수가 무엇인지 확인할 수 있습니다.\n",
    "    - Wine Dataset의 경우, 'alcohol', 'ash', 'alcalinity_of_ash', 'flavanoids', 'hue'가 중요 변수로 선택되었습니다."
   ]
  },
  {
   "cell_type": "code",
   "execution_count": 10,
   "metadata": {
    "scrolled": true
   },
   "outputs": [
    {
     "data": {
      "text/plain": [
       "Index(['alcohol', 'ash', 'alcalinity_of_ash', 'flavanoids', 'hue'], dtype='object')"
      ]
     },
     "execution_count": 10,
     "metadata": {},
     "output_type": "execute_result"
    }
   ],
   "source": [
    "selected_features_id = [ 0,  2,  3,  6, 10] \n",
    "data = datasets.load_wine(as_frame=True)\n",
    "data['data'].columns[selected_features_id]"
   ]
  },
  {
   "cell_type": "markdown",
   "metadata": {},
   "source": [
    "----------"
   ]
  },
  {
   "cell_type": "markdown",
   "metadata": {},
   "source": [
    "# More Specific - Genetic Algorithm Class"
   ]
  },
  {
   "cell_type": "markdown",
   "metadata": {},
   "source": [
    "Genetic Algorithm의 동작원리에 따라서, 본 알고리즘이 어떻게 동작하는지 하나하나 짚어보겠습니다."
   ]
  },
  {
   "cell_type": "markdown",
   "metadata": {},
   "source": [
    "## 0. Import Necessary Libraries"
   ]
  },
  {
   "cell_type": "code",
   "execution_count": 39,
   "metadata": {},
   "outputs": [],
   "source": [
    "import numpy as np\n",
    "import rich\n",
    "from rich.table import Table\n",
    "import argparse\n",
    "import multiprocessing as mp\n",
    "import numbers\n",
    "import time\n",
    "\n",
    "from sklearn.base import is_classifier\n",
    "from sklearn.model_selection import  train_test_split\n",
    "from sklearn.preprocessing import MinMaxScaler\n",
    "\n",
    "from utils.metrics import return_regression_result, return_classification_result"
   ]
  },
  {
   "cell_type": "markdown",
   "metadata": {},
   "source": [
    "## 1. Class 정의\n",
    "- init 함수에서는 class에서 사용될 인스턴스들을 사전 정의해줍니다. 이때 c_metric, r_metirc에 대해서는 어떤 평가척도를 사용할 수 있는지 뒷 부분에서 조금 더 자세히 후술하겠습니다.\n",
    "- 본 튜토리얼에서 작성된 class에서 정의된 값들 중 주요인자는 다음과 같습니다.\n",
    "    - Fitness Function: model, metric\n",
    "    - 세대 당 염색체 수: n_population\n",
    "    - 선택(selection) 시 토너먼트 수: tournament_k\n",
    "    - 교배율: crossover_rate\n",
    "    - 돌연변이율: mutation_rate\n",
    "    - 종료 조건: n_generation"
   ]
  },
  {
   "cell_type": "code",
   "execution_count": null,
   "metadata": {},
   "outputs": [],
   "source": [
    "class GA_FeatureSelector():\n",
    "    def __init__(self, model, args: argparse, seed):\n",
    "        self.args = args  # argsparse 정의\n",
    "        self.seed = seed  # seed 정의\n",
    "        \n",
    "        # A supervised learning estimator with a 'fit' method from scikit-learn\n",
    "        self.model = model\n",
    "        \n",
    "        # Scaling - Normalization\n",
    "        self.normalization = args.normalization\n",
    "        \n",
    "        # Evaluation Metirc\n",
    "        if is_classifier(self.model):\n",
    "            self.criterion = args.c_metric\n",
    "        else:\n",
    "            self.criterion = args.r_metric\n",
    "            \n",
    "        # Number of generations\n",
    "        if args.n_generation > 0:\n",
    "            self.n_generation = args.n_generation\n",
    "        else:\n",
    "            raise ValueError('The number of generations must be greater than 1')\n",
    "            \n",
    "        # Size of population (number of chromosomes)\n",
    "        self.n_population = args.n_population\n",
    "        \n",
    "        # Crossover and mutations likelihood\n",
    "        if args.crossover_rate <= 0.0 or args.mutation_rate <= 0.0 or args.crossover_rate > 1.0 or args.mutation_rate > 1.0:\n",
    "            raise ValueError('Mutation and crossover rate must be a value in the range (0.0, 1.0]')\n",
    "        else:\n",
    "            self.crossover_rate = args.crossover_rate\n",
    "            self.mutation_rate = args.mutation_rate\n",
    "        \n",
    "        # Tournament size in selection process\n",
    "        self.tournament_k = args.tournament_k\n",
    "        \n",
    "        # Number of threads\n",
    "        if args.n_jobs < 0 and args.n_jobs == -1:\n",
    "            self.n_jobs = mp.cpu_count()\n",
    "        elif args.n_jobs > 0 and args.n_jobs <= mp.cpu_count():\n",
    "            self.n_jobs = args.n_jobs\n",
    "        else:\n",
    "            raise ValueError(\n",
    "                f'n_jobs == {args.n_jobs} is invalid! You have a maximum of'\n",
    "                f' {mp.cpu_count()} cores.')\n",
    "            \n",
    "        # for randomizing initial population   \n",
    "        self.initial_best_chromosome = args.initial_best_chromosome\n",
    "        \n",
    "        # set random seed\n",
    "        if isinstance(self.seed, numbers.Integral):\n",
    "            np.random.seed(self.seed)\n",
    "            \n",
    "        # Verbose\n",
    "        if args.verbose < 0:\n",
    "            self.verbose = 0\n",
    "        else:\n",
    "            self.verbose = args.verbose\n",
    "        \n",
    "        # Best chromosome (np.ndarray, float, int) : (chromosome, score, generation index)\n",
    "        self.best_chromosome = (None, None, None)\n",
    "        \n",
    "        # Population convergence variables\n",
    "        self.convergence = False\n",
    "        self.n_times_convergence = 0\n",
    "        self.threshold = 1e-6"
   ]
  },
  {
   "cell_type": "markdown",
   "metadata": {},
   "source": [
    "## 2. Run Genetic Algorithm\n",
    "- init 함수로 인스턴스를 정의한 이후에는 Genetic Algorithm의 동작원리에 따라서 변수 선택을 시행합니다. 본 튜토리얼에서는 Genetic Algorithm의 동작을 5단계로 구분하였으며, 이를 단계적으로 살펴보면 아래와 같습니다.\n",
    "- 먼저 Genetic Algorithm이 본격적으로 동작하는 구간인 run 함수를 정의하고, 이때 성능을 평가할 척도(model)와 Train set, Test set을 인자로 받습니다."
   ]
  },
  {
   "cell_type": "code",
   "execution_count": null,
   "metadata": {},
   "outputs": [],
   "source": [
    "class GA_FeatureSelector():\n",
    "    def __init__(self, model, args: argparse, seed):\n",
    "        pass\n",
    "    \n",
    "    def run(self, X_train, X_test, y_train, y_test):\n",
    "        # Initialize output variables\n",
    "        self.train_scores = []\n",
    "        self.val_scores = []\n",
    "        self.chromosomes_history = []\n",
    "        \n",
    "        # Time when training begins\n",
    "        training_start = time.time()\n",
    "        \n",
    "        # Data\n",
    "        self.X_train = X_train\n",
    "        self.X_test = X_test\n",
    "        self.y_train = y_train\n",
    "        self.y_test = y_test"
   ]
  },
  {
   "cell_type": "markdown",
   "metadata": {},
   "source": [
    "### 2-1. Step 1: Initialization (세대 초기화)\n",
    "- Genetic Algorithm의 첫 단계는 d차원의 변수 속성 벡터를 이진수로 초기화 하는 것입니다.\n",
    "    - 즉, $x_0=0$이면 0번째 변수는 사용하지 않고, $x_1=1$이라면 1번째 변수는 사용하는 방식입니다.\n",
    "    - cf. 변수 선택에서 사용되는 Genetic Algorithm은 Binary Encoding을 수행하지만, 최적화 문제 등 다양한 문제에서는 Encoding scheme이 달라질 수 있습니다.\n",
    "- 세대 당 염색체(Chromosome)의 수는 Hyperparameter이며, 본 튜토리얼에서는 n_population으로 수를 바꿀 수 있습니다.\n",
    "- 첫 세대의 염색체의 랜덤하게 구성하며, 따라서 각 유전자마다 난수를 생성하여 세대를 구성합니다.\n",
    "<br/>\n",
    "- 이때 run 함수 내에 initialization이 정의된 부분은 아래와 같습니다."
   ]
  },
  {
   "cell_type": "code",
   "execution_count": null,
   "metadata": {},
   "outputs": [],
   "source": [
    "        # Initialize population\n",
    "        rich.print(f'[bold magenta]Creating initial population with {self.n_population} chromosomes', \":dna:\")\n",
    "        \n",
    "        ## Create n_population chromosomes\n",
    "        self.population = np.random.randint(2, size=(self.n_population, self.X_train.shape[1]))"
   ]
  },
  {
   "cell_type": "markdown",
   "metadata": {},
   "source": [
    "- 첫 세대의 예시를 출력해보겠습니다. 세대 내 염색체 수(n_population)는 100개이며, 세대 중 10개의 예시는 다음과 같습니다."
   ]
  },
  {
   "cell_type": "code",
   "execution_count": 34,
   "metadata": {},
   "outputs": [
    {
     "data": {
      "text/html": [
       "<pre style=\"white-space:pre;overflow-x:auto;line-height:normal;font-family:Menlo,'DejaVu Sans Mono',consolas,'Courier New',monospace\"><span style=\"color: #800080; text-decoration-color: #800080; font-weight: bold\">Creating initial population with </span><span style=\"color: #800080; text-decoration-color: #800080; font-weight: bold\">100</span><span style=\"color: #800080; text-decoration-color: #800080; font-weight: bold\"> chromosomes</span> 🧬\n",
       "</pre>\n"
      ],
      "text/plain": [
       "\u001b[1;35mCreating initial population with \u001b[0m\u001b[1;35m100\u001b[0m\u001b[1;35m chromosomes\u001b[0m 🧬\n"
      ]
     },
     "metadata": {},
     "output_type": "display_data"
    },
    {
     "data": {
      "text/html": [
       "<pre style=\"white-space:pre;overflow-x:auto;line-height:normal;font-family:Menlo,'DejaVu Sans Mono',consolas,'Courier New',monospace\"><span style=\"color: #000000; text-decoration-color: #000000; font-weight: bold\">Initial Population [0:10]:</span><span style=\"color: #000000; text-decoration-color: #000000\"> </span>\n",
       "<span style=\"color: #000000; text-decoration-color: #000000\"> </span><span style=\"color: #000000; text-decoration-color: #000000; font-weight: bold\">[[</span><span style=\"color: #000000; text-decoration-color: #000000; font-weight: bold\">0</span><span style=\"color: #000000; text-decoration-color: #000000\"> </span><span style=\"color: #000000; text-decoration-color: #000000; font-weight: bold\">1</span><span style=\"color: #000000; text-decoration-color: #000000\"> </span><span style=\"color: #000000; text-decoration-color: #000000; font-weight: bold\">1</span><span style=\"color: #000000; text-decoration-color: #000000\"> </span><span style=\"color: #000000; text-decoration-color: #000000; font-weight: bold\">0</span><span style=\"color: #000000; text-decoration-color: #000000\"> </span><span style=\"color: #000000; text-decoration-color: #000000; font-weight: bold\">0</span><span style=\"color: #000000; text-decoration-color: #000000\"> </span><span style=\"color: #000000; text-decoration-color: #000000; font-weight: bold\">1</span><span style=\"color: #000000; text-decoration-color: #000000\"> </span><span style=\"color: #000000; text-decoration-color: #000000; font-weight: bold\">1</span><span style=\"color: #000000; text-decoration-color: #000000\"> </span><span style=\"color: #000000; text-decoration-color: #000000; font-weight: bold\">1</span><span style=\"color: #000000; text-decoration-color: #000000\"> </span><span style=\"color: #000000; text-decoration-color: #000000; font-weight: bold\">0</span><span style=\"color: #000000; text-decoration-color: #000000\"> </span><span style=\"color: #000000; text-decoration-color: #000000; font-weight: bold\">1</span><span style=\"color: #000000; text-decoration-color: #000000\"> </span><span style=\"color: #000000; text-decoration-color: #000000; font-weight: bold\">1</span><span style=\"color: #000000; text-decoration-color: #000000\"> </span><span style=\"color: #000000; text-decoration-color: #000000; font-weight: bold\">0</span><span style=\"color: #000000; text-decoration-color: #000000\"> </span><span style=\"color: #000000; text-decoration-color: #000000; font-weight: bold\">0</span><span style=\"color: #000000; text-decoration-color: #000000; font-weight: bold\">]</span>\n",
       "<span style=\"color: #000000; text-decoration-color: #000000\"> </span><span style=\"color: #000000; text-decoration-color: #000000; font-weight: bold\">[</span><span style=\"color: #000000; text-decoration-color: #000000; font-weight: bold\">0</span><span style=\"color: #000000; text-decoration-color: #000000\"> </span><span style=\"color: #000000; text-decoration-color: #000000; font-weight: bold\">0</span><span style=\"color: #000000; text-decoration-color: #000000\"> </span><span style=\"color: #000000; text-decoration-color: #000000; font-weight: bold\">0</span><span style=\"color: #000000; text-decoration-color: #000000\"> </span><span style=\"color: #000000; text-decoration-color: #000000; font-weight: bold\">1</span><span style=\"color: #000000; text-decoration-color: #000000\"> </span><span style=\"color: #000000; text-decoration-color: #000000; font-weight: bold\">0</span><span style=\"color: #000000; text-decoration-color: #000000\"> </span><span style=\"color: #000000; text-decoration-color: #000000; font-weight: bold\">0</span><span style=\"color: #000000; text-decoration-color: #000000\"> </span><span style=\"color: #000000; text-decoration-color: #000000; font-weight: bold\">0</span><span style=\"color: #000000; text-decoration-color: #000000\"> </span><span style=\"color: #000000; text-decoration-color: #000000; font-weight: bold\">0</span><span style=\"color: #000000; text-decoration-color: #000000\"> </span><span style=\"color: #000000; text-decoration-color: #000000; font-weight: bold\">1</span><span style=\"color: #000000; text-decoration-color: #000000\"> </span><span style=\"color: #000000; text-decoration-color: #000000; font-weight: bold\">0</span><span style=\"color: #000000; text-decoration-color: #000000\"> </span><span style=\"color: #000000; text-decoration-color: #000000; font-weight: bold\">1</span><span style=\"color: #000000; text-decoration-color: #000000\"> </span><span style=\"color: #000000; text-decoration-color: #000000; font-weight: bold\">0</span><span style=\"color: #000000; text-decoration-color: #000000\"> </span><span style=\"color: #000000; text-decoration-color: #000000; font-weight: bold\">0</span><span style=\"color: #000000; text-decoration-color: #000000; font-weight: bold\">]</span>\n",
       "<span style=\"color: #000000; text-decoration-color: #000000\"> </span><span style=\"color: #000000; text-decoration-color: #000000; font-weight: bold\">[</span><span style=\"color: #000000; text-decoration-color: #000000; font-weight: bold\">0</span><span style=\"color: #000000; text-decoration-color: #000000\"> </span><span style=\"color: #000000; text-decoration-color: #000000; font-weight: bold\">1</span><span style=\"color: #000000; text-decoration-color: #000000\"> </span><span style=\"color: #000000; text-decoration-color: #000000; font-weight: bold\">1</span><span style=\"color: #000000; text-decoration-color: #000000\"> </span><span style=\"color: #000000; text-decoration-color: #000000; font-weight: bold\">0</span><span style=\"color: #000000; text-decoration-color: #000000\"> </span><span style=\"color: #000000; text-decoration-color: #000000; font-weight: bold\">0</span><span style=\"color: #000000; text-decoration-color: #000000\"> </span><span style=\"color: #000000; text-decoration-color: #000000; font-weight: bold\">1</span><span style=\"color: #000000; text-decoration-color: #000000\"> </span><span style=\"color: #000000; text-decoration-color: #000000; font-weight: bold\">0</span><span style=\"color: #000000; text-decoration-color: #000000\"> </span><span style=\"color: #000000; text-decoration-color: #000000; font-weight: bold\">0</span><span style=\"color: #000000; text-decoration-color: #000000\"> </span><span style=\"color: #000000; text-decoration-color: #000000; font-weight: bold\">0</span><span style=\"color: #000000; text-decoration-color: #000000\"> </span><span style=\"color: #000000; text-decoration-color: #000000; font-weight: bold\">0</span><span style=\"color: #000000; text-decoration-color: #000000\"> </span><span style=\"color: #000000; text-decoration-color: #000000; font-weight: bold\">0</span><span style=\"color: #000000; text-decoration-color: #000000\"> </span><span style=\"color: #000000; text-decoration-color: #000000; font-weight: bold\">0</span><span style=\"color: #000000; text-decoration-color: #000000\"> </span><span style=\"color: #000000; text-decoration-color: #000000; font-weight: bold\">1</span><span style=\"color: #000000; text-decoration-color: #000000; font-weight: bold\">]</span>\n",
       "<span style=\"color: #000000; text-decoration-color: #000000\"> </span><span style=\"color: #000000; text-decoration-color: #000000; font-weight: bold\">[</span><span style=\"color: #000000; text-decoration-color: #000000; font-weight: bold\">1</span><span style=\"color: #000000; text-decoration-color: #000000\"> </span><span style=\"color: #000000; text-decoration-color: #000000; font-weight: bold\">0</span><span style=\"color: #000000; text-decoration-color: #000000\"> </span><span style=\"color: #000000; text-decoration-color: #000000; font-weight: bold\">0</span><span style=\"color: #000000; text-decoration-color: #000000\"> </span><span style=\"color: #000000; text-decoration-color: #000000; font-weight: bold\">1</span><span style=\"color: #000000; text-decoration-color: #000000\"> </span><span style=\"color: #000000; text-decoration-color: #000000; font-weight: bold\">1</span><span style=\"color: #000000; text-decoration-color: #000000\"> </span><span style=\"color: #000000; text-decoration-color: #000000; font-weight: bold\">1</span><span style=\"color: #000000; text-decoration-color: #000000\"> </span><span style=\"color: #000000; text-decoration-color: #000000; font-weight: bold\">1</span><span style=\"color: #000000; text-decoration-color: #000000\"> </span><span style=\"color: #000000; text-decoration-color: #000000; font-weight: bold\">1</span><span style=\"color: #000000; text-decoration-color: #000000\"> </span><span style=\"color: #000000; text-decoration-color: #000000; font-weight: bold\">0</span><span style=\"color: #000000; text-decoration-color: #000000\"> </span><span style=\"color: #000000; text-decoration-color: #000000; font-weight: bold\">0</span><span style=\"color: #000000; text-decoration-color: #000000\"> </span><span style=\"color: #000000; text-decoration-color: #000000; font-weight: bold\">0</span><span style=\"color: #000000; text-decoration-color: #000000\"> </span><span style=\"color: #000000; text-decoration-color: #000000; font-weight: bold\">0</span><span style=\"color: #000000; text-decoration-color: #000000\"> </span><span style=\"color: #000000; text-decoration-color: #000000; font-weight: bold\">0</span><span style=\"color: #000000; text-decoration-color: #000000; font-weight: bold\">]</span>\n",
       "<span style=\"color: #000000; text-decoration-color: #000000\"> </span><span style=\"color: #000000; text-decoration-color: #000000; font-weight: bold\">[</span><span style=\"color: #000000; text-decoration-color: #000000; font-weight: bold\">1</span><span style=\"color: #000000; text-decoration-color: #000000\"> </span><span style=\"color: #000000; text-decoration-color: #000000; font-weight: bold\">0</span><span style=\"color: #000000; text-decoration-color: #000000\"> </span><span style=\"color: #000000; text-decoration-color: #000000; font-weight: bold\">0</span><span style=\"color: #000000; text-decoration-color: #000000\"> </span><span style=\"color: #000000; text-decoration-color: #000000; font-weight: bold\">0</span><span style=\"color: #000000; text-decoration-color: #000000\"> </span><span style=\"color: #000000; text-decoration-color: #000000; font-weight: bold\">0</span><span style=\"color: #000000; text-decoration-color: #000000\"> </span><span style=\"color: #000000; text-decoration-color: #000000; font-weight: bold\">0</span><span style=\"color: #000000; text-decoration-color: #000000\"> </span><span style=\"color: #000000; text-decoration-color: #000000; font-weight: bold\">1</span><span style=\"color: #000000; text-decoration-color: #000000\"> </span><span style=\"color: #000000; text-decoration-color: #000000; font-weight: bold\">1</span><span style=\"color: #000000; text-decoration-color: #000000\"> </span><span style=\"color: #000000; text-decoration-color: #000000; font-weight: bold\">1</span><span style=\"color: #000000; text-decoration-color: #000000\"> </span><span style=\"color: #000000; text-decoration-color: #000000; font-weight: bold\">0</span><span style=\"color: #000000; text-decoration-color: #000000\"> </span><span style=\"color: #000000; text-decoration-color: #000000; font-weight: bold\">0</span><span style=\"color: #000000; text-decoration-color: #000000\"> </span><span style=\"color: #000000; text-decoration-color: #000000; font-weight: bold\">0</span><span style=\"color: #000000; text-decoration-color: #000000\"> </span><span style=\"color: #000000; text-decoration-color: #000000; font-weight: bold\">1</span><span style=\"color: #000000; text-decoration-color: #000000; font-weight: bold\">]</span>\n",
       "<span style=\"color: #000000; text-decoration-color: #000000\"> </span><span style=\"color: #000000; text-decoration-color: #000000; font-weight: bold\">[</span><span style=\"color: #000000; text-decoration-color: #000000; font-weight: bold\">0</span><span style=\"color: #000000; text-decoration-color: #000000\"> </span><span style=\"color: #000000; text-decoration-color: #000000; font-weight: bold\">1</span><span style=\"color: #000000; text-decoration-color: #000000\"> </span><span style=\"color: #000000; text-decoration-color: #000000; font-weight: bold\">0</span><span style=\"color: #000000; text-decoration-color: #000000\"> </span><span style=\"color: #000000; text-decoration-color: #000000; font-weight: bold\">0</span><span style=\"color: #000000; text-decoration-color: #000000\"> </span><span style=\"color: #000000; text-decoration-color: #000000; font-weight: bold\">0</span><span style=\"color: #000000; text-decoration-color: #000000\"> </span><span style=\"color: #000000; text-decoration-color: #000000; font-weight: bold\">1</span><span style=\"color: #000000; text-decoration-color: #000000\"> </span><span style=\"color: #000000; text-decoration-color: #000000; font-weight: bold\">0</span><span style=\"color: #000000; text-decoration-color: #000000\"> </span><span style=\"color: #000000; text-decoration-color: #000000; font-weight: bold\">1</span><span style=\"color: #000000; text-decoration-color: #000000\"> </span><span style=\"color: #000000; text-decoration-color: #000000; font-weight: bold\">1</span><span style=\"color: #000000; text-decoration-color: #000000\"> </span><span style=\"color: #000000; text-decoration-color: #000000; font-weight: bold\">0</span><span style=\"color: #000000; text-decoration-color: #000000\"> </span><span style=\"color: #000000; text-decoration-color: #000000; font-weight: bold\">1</span><span style=\"color: #000000; text-decoration-color: #000000\"> </span><span style=\"color: #000000; text-decoration-color: #000000; font-weight: bold\">1</span><span style=\"color: #000000; text-decoration-color: #000000\"> </span><span style=\"color: #000000; text-decoration-color: #000000; font-weight: bold\">1</span><span style=\"color: #000000; text-decoration-color: #000000; font-weight: bold\">]</span>\n",
       "<span style=\"color: #000000; text-decoration-color: #000000\"> </span><span style=\"color: #000000; text-decoration-color: #000000; font-weight: bold\">[</span><span style=\"color: #000000; text-decoration-color: #000000; font-weight: bold\">1</span><span style=\"color: #000000; text-decoration-color: #000000\"> </span><span style=\"color: #000000; text-decoration-color: #000000; font-weight: bold\">1</span><span style=\"color: #000000; text-decoration-color: #000000\"> </span><span style=\"color: #000000; text-decoration-color: #000000; font-weight: bold\">1</span><span style=\"color: #000000; text-decoration-color: #000000\"> </span><span style=\"color: #000000; text-decoration-color: #000000; font-weight: bold\">1</span><span style=\"color: #000000; text-decoration-color: #000000\"> </span><span style=\"color: #000000; text-decoration-color: #000000; font-weight: bold\">0</span><span style=\"color: #000000; text-decoration-color: #000000\"> </span><span style=\"color: #000000; text-decoration-color: #000000; font-weight: bold\">1</span><span style=\"color: #000000; text-decoration-color: #000000\"> </span><span style=\"color: #000000; text-decoration-color: #000000; font-weight: bold\">0</span><span style=\"color: #000000; text-decoration-color: #000000\"> </span><span style=\"color: #000000; text-decoration-color: #000000; font-weight: bold\">0</span><span style=\"color: #000000; text-decoration-color: #000000\"> </span><span style=\"color: #000000; text-decoration-color: #000000; font-weight: bold\">0</span><span style=\"color: #000000; text-decoration-color: #000000\"> </span><span style=\"color: #000000; text-decoration-color: #000000; font-weight: bold\">0</span><span style=\"color: #000000; text-decoration-color: #000000\"> </span><span style=\"color: #000000; text-decoration-color: #000000; font-weight: bold\">0</span><span style=\"color: #000000; text-decoration-color: #000000\"> </span><span style=\"color: #000000; text-decoration-color: #000000; font-weight: bold\">0</span><span style=\"color: #000000; text-decoration-color: #000000\"> </span><span style=\"color: #000000; text-decoration-color: #000000; font-weight: bold\">0</span><span style=\"color: #000000; text-decoration-color: #000000; font-weight: bold\">]</span>\n",
       "<span style=\"color: #000000; text-decoration-color: #000000\"> </span><span style=\"color: #000000; text-decoration-color: #000000; font-weight: bold\">[</span><span style=\"color: #000000; text-decoration-color: #000000; font-weight: bold\">1</span><span style=\"color: #000000; text-decoration-color: #000000\"> </span><span style=\"color: #000000; text-decoration-color: #000000; font-weight: bold\">0</span><span style=\"color: #000000; text-decoration-color: #000000\"> </span><span style=\"color: #000000; text-decoration-color: #000000; font-weight: bold\">1</span><span style=\"color: #000000; text-decoration-color: #000000\"> </span><span style=\"color: #000000; text-decoration-color: #000000; font-weight: bold\">1</span><span style=\"color: #000000; text-decoration-color: #000000\"> </span><span style=\"color: #000000; text-decoration-color: #000000; font-weight: bold\">1</span><span style=\"color: #000000; text-decoration-color: #000000\"> </span><span style=\"color: #000000; text-decoration-color: #000000; font-weight: bold\">0</span><span style=\"color: #000000; text-decoration-color: #000000\"> </span><span style=\"color: #000000; text-decoration-color: #000000; font-weight: bold\">0</span><span style=\"color: #000000; text-decoration-color: #000000\"> </span><span style=\"color: #000000; text-decoration-color: #000000; font-weight: bold\">1</span><span style=\"color: #000000; text-decoration-color: #000000\"> </span><span style=\"color: #000000; text-decoration-color: #000000; font-weight: bold\">0</span><span style=\"color: #000000; text-decoration-color: #000000\"> </span><span style=\"color: #000000; text-decoration-color: #000000; font-weight: bold\">0</span><span style=\"color: #000000; text-decoration-color: #000000\"> </span><span style=\"color: #000000; text-decoration-color: #000000; font-weight: bold\">0</span><span style=\"color: #000000; text-decoration-color: #000000\"> </span><span style=\"color: #000000; text-decoration-color: #000000; font-weight: bold\">0</span><span style=\"color: #000000; text-decoration-color: #000000\"> </span><span style=\"color: #000000; text-decoration-color: #000000; font-weight: bold\">1</span><span style=\"color: #000000; text-decoration-color: #000000; font-weight: bold\">]</span>\n",
       "<span style=\"color: #000000; text-decoration-color: #000000\"> </span><span style=\"color: #000000; text-decoration-color: #000000; font-weight: bold\">[</span><span style=\"color: #000000; text-decoration-color: #000000; font-weight: bold\">1</span><span style=\"color: #000000; text-decoration-color: #000000\"> </span><span style=\"color: #000000; text-decoration-color: #000000; font-weight: bold\">1</span><span style=\"color: #000000; text-decoration-color: #000000\"> </span><span style=\"color: #000000; text-decoration-color: #000000; font-weight: bold\">1</span><span style=\"color: #000000; text-decoration-color: #000000\"> </span><span style=\"color: #000000; text-decoration-color: #000000; font-weight: bold\">1</span><span style=\"color: #000000; text-decoration-color: #000000\"> </span><span style=\"color: #000000; text-decoration-color: #000000; font-weight: bold\">1</span><span style=\"color: #000000; text-decoration-color: #000000\"> </span><span style=\"color: #000000; text-decoration-color: #000000; font-weight: bold\">0</span><span style=\"color: #000000; text-decoration-color: #000000\"> </span><span style=\"color: #000000; text-decoration-color: #000000; font-weight: bold\">0</span><span style=\"color: #000000; text-decoration-color: #000000\"> </span><span style=\"color: #000000; text-decoration-color: #000000; font-weight: bold\">0</span><span style=\"color: #000000; text-decoration-color: #000000\"> </span><span style=\"color: #000000; text-decoration-color: #000000; font-weight: bold\">1</span><span style=\"color: #000000; text-decoration-color: #000000\"> </span><span style=\"color: #000000; text-decoration-color: #000000; font-weight: bold\">1</span><span style=\"color: #000000; text-decoration-color: #000000\"> </span><span style=\"color: #000000; text-decoration-color: #000000; font-weight: bold\">1</span><span style=\"color: #000000; text-decoration-color: #000000\"> </span><span style=\"color: #000000; text-decoration-color: #000000; font-weight: bold\">0</span><span style=\"color: #000000; text-decoration-color: #000000\"> </span><span style=\"color: #000000; text-decoration-color: #000000; font-weight: bold\">1</span><span style=\"color: #000000; text-decoration-color: #000000; font-weight: bold\">]</span>\n",
       "<span style=\"color: #000000; text-decoration-color: #000000\"> </span><span style=\"color: #000000; text-decoration-color: #000000; font-weight: bold\">[</span><span style=\"color: #000000; text-decoration-color: #000000; font-weight: bold\">0</span><span style=\"color: #000000; text-decoration-color: #000000\"> </span><span style=\"color: #000000; text-decoration-color: #000000; font-weight: bold\">0</span><span style=\"color: #000000; text-decoration-color: #000000\"> </span><span style=\"color: #000000; text-decoration-color: #000000; font-weight: bold\">0</span><span style=\"color: #000000; text-decoration-color: #000000\"> </span><span style=\"color: #000000; text-decoration-color: #000000; font-weight: bold\">1</span><span style=\"color: #000000; text-decoration-color: #000000\"> </span><span style=\"color: #000000; text-decoration-color: #000000; font-weight: bold\">1</span><span style=\"color: #000000; text-decoration-color: #000000\"> </span><span style=\"color: #000000; text-decoration-color: #000000; font-weight: bold\">0</span><span style=\"color: #000000; text-decoration-color: #000000\"> </span><span style=\"color: #000000; text-decoration-color: #000000; font-weight: bold\">1</span><span style=\"color: #000000; text-decoration-color: #000000\"> </span><span style=\"color: #000000; text-decoration-color: #000000; font-weight: bold\">1</span><span style=\"color: #000000; text-decoration-color: #000000\"> </span><span style=\"color: #000000; text-decoration-color: #000000; font-weight: bold\">0</span><span style=\"color: #000000; text-decoration-color: #000000\"> </span><span style=\"color: #000000; text-decoration-color: #000000; font-weight: bold\">1</span><span style=\"color: #000000; text-decoration-color: #000000\"> </span><span style=\"color: #000000; text-decoration-color: #000000; font-weight: bold\">0</span><span style=\"color: #000000; text-decoration-color: #000000\"> </span><span style=\"color: #000000; text-decoration-color: #000000; font-weight: bold\">0</span><span style=\"color: #000000; text-decoration-color: #000000\"> </span><span style=\"color: #000000; text-decoration-color: #000000; font-weight: bold\">0</span><span style=\"color: #000000; text-decoration-color: #000000; font-weight: bold\">]]</span>\n",
       "</pre>\n"
      ],
      "text/plain": [
       "\u001b[1;30mInitial Population \u001b[0m\u001b[1;30m[\u001b[0m\u001b[1;30m0:10\u001b[0m\u001b[1;30m]\u001b[0m\u001b[1;30m:\u001b[0m\u001b[30m \u001b[0m\n",
       "\u001b[30m \u001b[0m\u001b[1;30m[\u001b[0m\u001b[1;30m[\u001b[0m\u001b[1;30m0\u001b[0m\u001b[30m \u001b[0m\u001b[1;30m1\u001b[0m\u001b[30m \u001b[0m\u001b[1;30m1\u001b[0m\u001b[30m \u001b[0m\u001b[1;30m0\u001b[0m\u001b[30m \u001b[0m\u001b[1;30m0\u001b[0m\u001b[30m \u001b[0m\u001b[1;30m1\u001b[0m\u001b[30m \u001b[0m\u001b[1;30m1\u001b[0m\u001b[30m \u001b[0m\u001b[1;30m1\u001b[0m\u001b[30m \u001b[0m\u001b[1;30m0\u001b[0m\u001b[30m \u001b[0m\u001b[1;30m1\u001b[0m\u001b[30m \u001b[0m\u001b[1;30m1\u001b[0m\u001b[30m \u001b[0m\u001b[1;30m0\u001b[0m\u001b[30m \u001b[0m\u001b[1;30m0\u001b[0m\u001b[1;30m]\u001b[0m\n",
       "\u001b[30m \u001b[0m\u001b[1;30m[\u001b[0m\u001b[1;30m0\u001b[0m\u001b[30m \u001b[0m\u001b[1;30m0\u001b[0m\u001b[30m \u001b[0m\u001b[1;30m0\u001b[0m\u001b[30m \u001b[0m\u001b[1;30m1\u001b[0m\u001b[30m \u001b[0m\u001b[1;30m0\u001b[0m\u001b[30m \u001b[0m\u001b[1;30m0\u001b[0m\u001b[30m \u001b[0m\u001b[1;30m0\u001b[0m\u001b[30m \u001b[0m\u001b[1;30m0\u001b[0m\u001b[30m \u001b[0m\u001b[1;30m1\u001b[0m\u001b[30m \u001b[0m\u001b[1;30m0\u001b[0m\u001b[30m \u001b[0m\u001b[1;30m1\u001b[0m\u001b[30m \u001b[0m\u001b[1;30m0\u001b[0m\u001b[30m \u001b[0m\u001b[1;30m0\u001b[0m\u001b[1;30m]\u001b[0m\n",
       "\u001b[30m \u001b[0m\u001b[1;30m[\u001b[0m\u001b[1;30m0\u001b[0m\u001b[30m \u001b[0m\u001b[1;30m1\u001b[0m\u001b[30m \u001b[0m\u001b[1;30m1\u001b[0m\u001b[30m \u001b[0m\u001b[1;30m0\u001b[0m\u001b[30m \u001b[0m\u001b[1;30m0\u001b[0m\u001b[30m \u001b[0m\u001b[1;30m1\u001b[0m\u001b[30m \u001b[0m\u001b[1;30m0\u001b[0m\u001b[30m \u001b[0m\u001b[1;30m0\u001b[0m\u001b[30m \u001b[0m\u001b[1;30m0\u001b[0m\u001b[30m \u001b[0m\u001b[1;30m0\u001b[0m\u001b[30m \u001b[0m\u001b[1;30m0\u001b[0m\u001b[30m \u001b[0m\u001b[1;30m0\u001b[0m\u001b[30m \u001b[0m\u001b[1;30m1\u001b[0m\u001b[1;30m]\u001b[0m\n",
       "\u001b[30m \u001b[0m\u001b[1;30m[\u001b[0m\u001b[1;30m1\u001b[0m\u001b[30m \u001b[0m\u001b[1;30m0\u001b[0m\u001b[30m \u001b[0m\u001b[1;30m0\u001b[0m\u001b[30m \u001b[0m\u001b[1;30m1\u001b[0m\u001b[30m \u001b[0m\u001b[1;30m1\u001b[0m\u001b[30m \u001b[0m\u001b[1;30m1\u001b[0m\u001b[30m \u001b[0m\u001b[1;30m1\u001b[0m\u001b[30m \u001b[0m\u001b[1;30m1\u001b[0m\u001b[30m \u001b[0m\u001b[1;30m0\u001b[0m\u001b[30m \u001b[0m\u001b[1;30m0\u001b[0m\u001b[30m \u001b[0m\u001b[1;30m0\u001b[0m\u001b[30m \u001b[0m\u001b[1;30m0\u001b[0m\u001b[30m \u001b[0m\u001b[1;30m0\u001b[0m\u001b[1;30m]\u001b[0m\n",
       "\u001b[30m \u001b[0m\u001b[1;30m[\u001b[0m\u001b[1;30m1\u001b[0m\u001b[30m \u001b[0m\u001b[1;30m0\u001b[0m\u001b[30m \u001b[0m\u001b[1;30m0\u001b[0m\u001b[30m \u001b[0m\u001b[1;30m0\u001b[0m\u001b[30m \u001b[0m\u001b[1;30m0\u001b[0m\u001b[30m \u001b[0m\u001b[1;30m0\u001b[0m\u001b[30m \u001b[0m\u001b[1;30m1\u001b[0m\u001b[30m \u001b[0m\u001b[1;30m1\u001b[0m\u001b[30m \u001b[0m\u001b[1;30m1\u001b[0m\u001b[30m \u001b[0m\u001b[1;30m0\u001b[0m\u001b[30m \u001b[0m\u001b[1;30m0\u001b[0m\u001b[30m \u001b[0m\u001b[1;30m0\u001b[0m\u001b[30m \u001b[0m\u001b[1;30m1\u001b[0m\u001b[1;30m]\u001b[0m\n",
       "\u001b[30m \u001b[0m\u001b[1;30m[\u001b[0m\u001b[1;30m0\u001b[0m\u001b[30m \u001b[0m\u001b[1;30m1\u001b[0m\u001b[30m \u001b[0m\u001b[1;30m0\u001b[0m\u001b[30m \u001b[0m\u001b[1;30m0\u001b[0m\u001b[30m \u001b[0m\u001b[1;30m0\u001b[0m\u001b[30m \u001b[0m\u001b[1;30m1\u001b[0m\u001b[30m \u001b[0m\u001b[1;30m0\u001b[0m\u001b[30m \u001b[0m\u001b[1;30m1\u001b[0m\u001b[30m \u001b[0m\u001b[1;30m1\u001b[0m\u001b[30m \u001b[0m\u001b[1;30m0\u001b[0m\u001b[30m \u001b[0m\u001b[1;30m1\u001b[0m\u001b[30m \u001b[0m\u001b[1;30m1\u001b[0m\u001b[30m \u001b[0m\u001b[1;30m1\u001b[0m\u001b[1;30m]\u001b[0m\n",
       "\u001b[30m \u001b[0m\u001b[1;30m[\u001b[0m\u001b[1;30m1\u001b[0m\u001b[30m \u001b[0m\u001b[1;30m1\u001b[0m\u001b[30m \u001b[0m\u001b[1;30m1\u001b[0m\u001b[30m \u001b[0m\u001b[1;30m1\u001b[0m\u001b[30m \u001b[0m\u001b[1;30m0\u001b[0m\u001b[30m \u001b[0m\u001b[1;30m1\u001b[0m\u001b[30m \u001b[0m\u001b[1;30m0\u001b[0m\u001b[30m \u001b[0m\u001b[1;30m0\u001b[0m\u001b[30m \u001b[0m\u001b[1;30m0\u001b[0m\u001b[30m \u001b[0m\u001b[1;30m0\u001b[0m\u001b[30m \u001b[0m\u001b[1;30m0\u001b[0m\u001b[30m \u001b[0m\u001b[1;30m0\u001b[0m\u001b[30m \u001b[0m\u001b[1;30m0\u001b[0m\u001b[1;30m]\u001b[0m\n",
       "\u001b[30m \u001b[0m\u001b[1;30m[\u001b[0m\u001b[1;30m1\u001b[0m\u001b[30m \u001b[0m\u001b[1;30m0\u001b[0m\u001b[30m \u001b[0m\u001b[1;30m1\u001b[0m\u001b[30m \u001b[0m\u001b[1;30m1\u001b[0m\u001b[30m \u001b[0m\u001b[1;30m1\u001b[0m\u001b[30m \u001b[0m\u001b[1;30m0\u001b[0m\u001b[30m \u001b[0m\u001b[1;30m0\u001b[0m\u001b[30m \u001b[0m\u001b[1;30m1\u001b[0m\u001b[30m \u001b[0m\u001b[1;30m0\u001b[0m\u001b[30m \u001b[0m\u001b[1;30m0\u001b[0m\u001b[30m \u001b[0m\u001b[1;30m0\u001b[0m\u001b[30m \u001b[0m\u001b[1;30m0\u001b[0m\u001b[30m \u001b[0m\u001b[1;30m1\u001b[0m\u001b[1;30m]\u001b[0m\n",
       "\u001b[30m \u001b[0m\u001b[1;30m[\u001b[0m\u001b[1;30m1\u001b[0m\u001b[30m \u001b[0m\u001b[1;30m1\u001b[0m\u001b[30m \u001b[0m\u001b[1;30m1\u001b[0m\u001b[30m \u001b[0m\u001b[1;30m1\u001b[0m\u001b[30m \u001b[0m\u001b[1;30m1\u001b[0m\u001b[30m \u001b[0m\u001b[1;30m0\u001b[0m\u001b[30m \u001b[0m\u001b[1;30m0\u001b[0m\u001b[30m \u001b[0m\u001b[1;30m0\u001b[0m\u001b[30m \u001b[0m\u001b[1;30m1\u001b[0m\u001b[30m \u001b[0m\u001b[1;30m1\u001b[0m\u001b[30m \u001b[0m\u001b[1;30m1\u001b[0m\u001b[30m \u001b[0m\u001b[1;30m0\u001b[0m\u001b[30m \u001b[0m\u001b[1;30m1\u001b[0m\u001b[1;30m]\u001b[0m\n",
       "\u001b[30m \u001b[0m\u001b[1;30m[\u001b[0m\u001b[1;30m0\u001b[0m\u001b[30m \u001b[0m\u001b[1;30m0\u001b[0m\u001b[30m \u001b[0m\u001b[1;30m0\u001b[0m\u001b[30m \u001b[0m\u001b[1;30m1\u001b[0m\u001b[30m \u001b[0m\u001b[1;30m1\u001b[0m\u001b[30m \u001b[0m\u001b[1;30m0\u001b[0m\u001b[30m \u001b[0m\u001b[1;30m1\u001b[0m\u001b[30m \u001b[0m\u001b[1;30m1\u001b[0m\u001b[30m \u001b[0m\u001b[1;30m0\u001b[0m\u001b[30m \u001b[0m\u001b[1;30m1\u001b[0m\u001b[30m \u001b[0m\u001b[1;30m0\u001b[0m\u001b[30m \u001b[0m\u001b[1;30m0\u001b[0m\u001b[30m \u001b[0m\u001b[1;30m0\u001b[0m\u001b[1;30m]\u001b[0m\u001b[1;30m]\u001b[0m\n"
      ]
     },
     "metadata": {},
     "output_type": "display_data"
    }
   ],
   "source": [
    "# Initialize population\n",
    "rich.print(f'[bold magenta]Creating initial population with {args.n_population} chromosomes', \":dna:\")\n",
    "\n",
    "# Create n_population chromosomes\n",
    "initial_population = np.random.randint(2, size=(args.n_population, X_train.shape[1]))\n",
    "rich.print(f'[black][bold]Initial Population [0:10]:[/bold] \\n {initial_population[0:10]}')"
   ]
  },
  {
   "cell_type": "markdown",
   "metadata": {},
   "source": [
    "### 2-2. Step 2: Model Training and Fitness Evaluation (모델 학습 및 적합도 평가)\n",
    "- 위처럼 총 100개의 염색체(Chromosome)에 대해서 모델을 학습하고 적합도를 평가합니다.\n",
    "- 적합도 평가는 각 염색체(Chromosome)의 정보를 사용하여 학습된 모형의 적합도를 평가하는데, 염색체의 우열을 가릴 수 있는 정략적 지표를 통해서 높은 값을 가질 수록 우수한 염색체(변수 조합)으로서 채택합니다.\n",
    "    - 적합도 함수(Fitness Function)가 가져야 하는 두 가지 조건은 다음과 같습니다.\n",
    "        1. 두 염색체가 __동일한 예측 성능__ 을 나타낼 경우, __적은 수의 변수__ 를 사용한 염색체 선호\n",
    "        2. 두 염색체가 __동일한 변수__ 를 사용했을 경우, __우수한 예측 성능__ 을 나타내는 염색체 선호\n",
    "- 본 튜토리얼에서 Classification을 위해 사용한 모델은 Logistic Regression이며, 적합도 평가를 위해 사용한 척도는 아래에 보다 자세히 서술되어 있습니다."
   ]
  },
  {
   "cell_type": "markdown",
   "metadata": {},
   "source": [
    "#### 2-2-1. Define Fitness Function\n",
    "- 본 튜토리얼에서는 Classification 문제에 대한 변수 선택 적합도를 판별할 수 있는 척도로 __(1) Accuracy, (2) F1-Score, (3) AUROC Score__ 3가지를 사용하였습니다.\n",
    "    1. __Accuracy (정분류율)__: 범용적으로 사용되는 분류 평가 지표이며, 전체 객체들 중 범주와 무관하게 정확하게 예측된 비율을 의미합니다.\n",
    "    2. __F1-Score (F1-지표)__: 재현율(Recall)과 정밀도의 조화 평균으로 구할 수 있습니다.\n",
    "        - $F1-Score = \\frac{2\\times Recall\\times Precision}{Recall+Precision}$\n",
    "        - cf. Recall (재현율): 실제 Positive Class 객체들 중 모델에 의해 Positive Class로 정확히 예측된 비율\n",
    "        - cf. Precision (정밀도): 모델이 Positive Class로 예측한 객체들 중에서 실제 Positive Class인 비율\n",
    "    3. __AUROC (Area Under Receiver Operating Characteristic Curve)__: 분류 기준 값(cut-off)에 따른 정오행렬의 변화를 반영하여, 가능한 모든 Cut-off 경우에 대해 True Positive Rate과 False Positive Rate을 계산합니다. 따라서 Cut-off에 독립적인 알고리즘 성능 평가 지표로서 사용될 수 있으며, 이상적인 분류기는 1의 값을 가집니다.\n",
    "    \n",
    "<br/>\n",
    "\n",
    "- 아래 Fitness Evaluation Metric은 utils/metrics.py에서 보다 자세히 확인할 수 있습니다."
   ]
  },
  {
   "cell_type": "code",
   "execution_count": 46,
   "metadata": {},
   "outputs": [],
   "source": [
    "from easydict import EasyDict as edict\n",
    "from sklearn.metrics import mean_squared_error, mean_absolute_error\n",
    "from sklearn.metrics import accuracy_score, f1_score, roc_auc_score\n",
    "\n",
    "def return_classification_result(y_true, y_pred, y_proba):\n",
    "    performance = edict()\n",
    "    performance.accuracy = accuracy_score(y_true, y_pred)\n",
    "    performance.f1_score = f1_score(y_true, y_pred, average='macro')\n",
    "    performance.roc_auc_score = roc_auc_score(y_true, y_proba, multi_class='ovr')\n",
    "    return performance"
   ]
  },
  {
   "cell_type": "markdown",
   "metadata": {},
   "source": [
    "#### 3-2-2. Fitness Evaluation\n",
    "- 위 적합도 함수(Fitness Function)를 바탕으로 생성된 염색체(변수 조합)의 적합성을 구해주는 함수는 아래와 같습니다. 함수 'evaluate fitness'는 Class 내부에 정의된 메소드이며, 동작 구조는 다음과 같습니다.\n",
    "    - 염색체(Chromosome) 내의 변수 사용 여부(0, 1)를 bool type으로 바꾸어 해당 변수만을 추출한 dataset을 만들어줍니다.\n",
    "    - 이후 dataset을 바탕으로 정의한 model에 fit해주고, prediction 값을 바탕으로 fitness score를 도출합니다.\n",
    "    - Genetic Algorithm에서 fitness score는 높을 수록 좋으며, 본 튜토리얼에서는 Classification뿐 아니라 Rgression Task에 대한 Case도 함께 고려하여 작성되었습니다. 따라서 __Regression의 경우 Evalation metric (1) 스피어만 상관계수, (2) MAPE, (2) RMSE, (4) MAE를 1에서 빼준 값__ 으로 사용합니다."
   ]
  },
  {
   "cell_type": "code",
   "execution_count": 30,
   "metadata": {},
   "outputs": [],
   "source": [
    "def evaluate_fitness(self, chromosome):\n",
    "    # Select those features with ones in chromosome\n",
    "    x = [x.astype(bool) for x in chromosome]\n",
    "    X_train_ = self.X_train[:, x]\n",
    "    X_test_ = self.X_test[:, x]\n",
    "\n",
    "    # fit\n",
    "    self.model.fit(X_train_, self.y_train.ravel())\n",
    "\n",
    "    if self.normalization:  # Undo the testing-data scaling of Y(target) according to fitted training-data scaling about Y(target)\n",
    "        y_train_pred = self.model.predict(X_train_) * (self.y_max-self.y_min) + self.y_min\n",
    "        y_test_pred = self.model.predict(X_test_) * (self.y_max-self.y_min) + self.y_min\n",
    "\n",
    "    else:\n",
    "        y_train_pred = self.model.predict(X_train_)\n",
    "        y_test_pred = self.model.predict(X_test_)\n",
    "\n",
    "\n",
    "    if is_classifier(self.model):\n",
    "        y_train_proba = self.model.predict_proba(X_train_)\n",
    "        y_test_proba = self.model.predict_proba(X_test_)\n",
    "        train_result = return_classification_result(self.y_train, y_train_pred, y_train_proba)\n",
    "        test_result = return_classification_result(self.y_test, y_test_pred, y_test_proba)\n",
    "        return (train_result[self.criterion], test_result[self.criterion])\n",
    "\n",
    "    else:\n",
    "        train_result = return_regression_result(self.y_train, y_train_pred)\n",
    "        test_result = return_regression_result(self.y_test, y_test_pred)\n",
    "        return (train_result[self.criterion], test_result[self.criterion])"
   ]
  },
  {
   "cell_type": "markdown",
   "metadata": {},
   "source": [
    "- 적합도를 계산하는 과정을 아래와 같이 예시를 통해 구해보겠습니다."
   ]
  },
  {
   "cell_type": "code",
   "execution_count": 66,
   "metadata": {},
   "outputs": [
    {
     "data": {
      "text/html": [
       "<pre style=\"white-space:pre;overflow-x:auto;line-height:normal;font-family:Menlo,'DejaVu Sans Mono',consolas,'Courier New',monospace\">✔ Evaluating initial population<span style=\"color: #808000; text-decoration-color: #808000\">...</span>\n",
       "</pre>\n"
      ],
      "text/plain": [
       "✔ Evaluating initial population\u001b[33m...\u001b[0m\n"
      ]
     },
     "metadata": {},
     "output_type": "display_data"
    },
    {
     "data": {
      "text/html": [
       "<pre style=\"white-space:pre;overflow-x:auto;line-height:normal;font-family:Menlo,'DejaVu Sans Mono',consolas,'Courier New',monospace\"><span style=\"font-weight: bold\"> Train Results: </span>\n",
       "<span style=\"font-weight: bold\">{</span><span style=\"color: #008000; text-decoration-color: #008000\">'accuracy'</span>: <span style=\"color: #008080; text-decoration-color: #008080; font-weight: bold\">0.7464788732394366</span>, <span style=\"color: #008000; text-decoration-color: #008000\">'f1_score'</span>: <span style=\"color: #008080; text-decoration-color: #008080; font-weight: bold\">0.7603062119191151</span>, <span style=\"color: #008000; text-decoration-color: #008000\">'roc_auc_score'</span>: <span style=\"color: #008080; text-decoration-color: #008080; font-weight: bold\">0.8986721790650222</span><span style=\"font-weight: bold\">}</span>\n",
       "\n",
       " <span style=\"font-weight: bold\"> Test Results:</span>\n",
       "<span style=\"font-weight: bold\">{</span><span style=\"color: #008000; text-decoration-color: #008000\">'accuracy'</span>: <span style=\"color: #008080; text-decoration-color: #008080; font-weight: bold\">0.6944444444444444</span>, <span style=\"color: #008000; text-decoration-color: #008000\">'f1_score'</span>: <span style=\"color: #008080; text-decoration-color: #008080; font-weight: bold\">0.697940947940948</span>, <span style=\"color: #008000; text-decoration-color: #008000\">'roc_auc_score'</span>: <span style=\"color: #008080; text-decoration-color: #008080; font-weight: bold\">0.8825108225108225</span><span style=\"font-weight: bold\">}</span>\n",
       "</pre>\n"
      ],
      "text/plain": [
       "\u001b[1m Train Results: \u001b[0m\n",
       "\u001b[1m{\u001b[0m\u001b[32m'accuracy'\u001b[0m: \u001b[1;36m0.7464788732394366\u001b[0m, \u001b[32m'f1_score'\u001b[0m: \u001b[1;36m0.7603062119191151\u001b[0m, \u001b[32m'roc_auc_score'\u001b[0m: \u001b[1;36m0.8986721790650222\u001b[0m\u001b[1m}\u001b[0m\n",
       "\n",
       " \u001b[1m Test Results:\u001b[0m\n",
       "\u001b[1m{\u001b[0m\u001b[32m'accuracy'\u001b[0m: \u001b[1;36m0.6944444444444444\u001b[0m, \u001b[32m'f1_score'\u001b[0m: \u001b[1;36m0.697940947940948\u001b[0m, \u001b[32m'roc_auc_score'\u001b[0m: \u001b[1;36m0.8825108225108225\u001b[0m\u001b[1m}\u001b[0m\n"
      ]
     },
     "metadata": {},
     "output_type": "display_data"
    }
   ],
   "source": [
    "rich.print(':heavy_check_mark:', 'Evaluating initial population...')\n",
    "\n",
    "# 선택된 변수만을 고려한 데이터셋 구성\n",
    "x = [x.astype(bool) for x in initial_population[1]]\n",
    "X_train_ = X_train[:, x]\n",
    "X_test_ = X_test[:, x]\n",
    "\n",
    "# 모델 학습\n",
    "LogisticRegression.fit(X_train_, y_train.ravel())\n",
    "\n",
    "# 학습된 결과 값 도출\n",
    "if args.normalization:  # Undo the testing-data scaling of Y(target) according to fitted training-data scaling about Y(target)\n",
    "    y_train_pred = LogisticRegression.predict(X_train_) * (y_max-y_min) + y_min\n",
    "    y_test_pred = LogisticRegression.predict(X_test_) * (y_max-y_min) + y_min\n",
    "else:\n",
    "    y_train_pred = LogisticRegression.predict(X_train_)\n",
    "    y_test_pred = LogisticRegression.predict(X_test_)\n",
    "\n",
    "# 모델 학습 결과에 대한 Fitness Score 도출\n",
    "if is_classifier(LogisticRegression):\n",
    "    y_train_proba = LogisticRegression.predict_proba(X_train_)\n",
    "    y_test_proba = LogisticRegression.predict_proba(X_test_)\n",
    "    train_result = return_classification_result(y_train, y_train_pred, y_train_proba)\n",
    "    test_result = return_classification_result(y_test, y_test_pred, y_test_proba)\n",
    "\n",
    "# Show Fitness Score\n",
    "rich.print('[bold] Train Results: ', train_result, '\\n','[bold] Test Results:', test_result)"
   ]
  },
  {
   "cell_type": "markdown",
   "metadata": {},
   "source": [
    "- 위와 같은 과정을 거쳐 클래스 내부에서 초기 세대 염색체의 적합도를 계산하는 구간은 아래와 같습니다.\n",
    "    - 학습 시에는 3가지 지표를 모두 사용하지 않고, 사용자에 따라 하나의 Metric을 골라서 자유롭게 바꾸어 쓸 수 있습니다.\n",
    "    - 혹은 유전자 알고리즘의 Fitness Score가 높을 수록 좋다는 것에 기반하여, 3 지표의 평균 값으로 최종 적합도를 계산할 수도 있습니다."
   ]
  },
  {
   "cell_type": "code",
   "execution_count": null,
   "metadata": {},
   "outputs": [],
   "source": [
    "        # Insert initial best chromosome if is defined\n",
    "        if self.initial_best_chromosome is None:\n",
    "            \n",
    "            # Evaluate initial population and update best_chromosome\n",
    "            rich.print(' :heavy_check_mark:', 'Evaluating initial population...')\n",
    "            pool = mp.Pool(self.n_jobs)\n",
    "            population_scores = np.array(pool.map(self.evaluate_fitness, self.population))\n",
    "            best_chromosome_index = np.argmax(population_scores[:, 0])\n",
    "            \n",
    "        elif type(self.initial_best_chromosome) == np.ndarray and len(self.initial_best_chromosome) == self.X_train.shape[1] and len(np.where((self.initial_best_chromosome <= 1) & (self.initial_best_chromosome >= 0))[0]):\n",
    "            # Introduce the best in the population\n",
    "            index_insertion = np.random.randint(self.n_population)\n",
    "            self.population[index_insertion] = self.initial_best_chromosome\n",
    "            \n",
    "            # Evaluate initial population and update best_chromosome\n",
    "            print(' :heavy_check_mark:', 'Evaluating initial population...')\n",
    "            pool = mp.Pool(self.n_jobs)\n",
    "            population_scores = np.array(pool.map(self.evaluate_fitness, self.population))\n",
    "            best_chromosome_index = index_insertion\n",
    "            \n",
    "        else:\n",
    "            raise ValueError('Initial best chromosome must be a 1 '\n",
    "                             'dimensional binary array with a length of '\n",
    "                             'X.shape[1]')"
   ]
  },
  {
   "attachments": {
    "image.png": {
     "image/png": "[encoded data removed]"
    }
   },
   "cell_type": "markdown",
   "metadata": {},
   "source": [
    "### 2-3. Step 3: Selection\n",
    "- Step 2에서 적합도 함수를 통해서 부모 염색체의 우수성을 평가하였다면, Step 3에서는 우수한 부모 염색체를 선택하여 자손에게 물려줍니다. 이는 부모 염색체가 우월하다면, 자손들도 우월할 것이라는 가정에 기반합니다. 이때 부모 염색체를 선택하는 방법은 여러 가지이고, 대표적인 방법론들은 아래와 같습니다.\n",
    "    1. __Deterministic Selection__  \n",
    "    - 적합도 평가 결과로 산출된 rank 기준으로 상위 N%의 염색체를 선택하는 것입니다. 우수한 유전자를 물려주어 좋은 해를 만들어내기 위한 방법론입니다. 그러나 상위 N%보다 아래의 염색체 중 적합도에 차이가 얼마 나지 않는 경우를 반영하지 못한다는 한계가 존재합니다. 이를 보완한 방법이 Probabilistic Selection입니다.\n",
    "    2. __Probabilistic Selection__\n",
    "    - 각 염색체에 가중치를 부여하여, 모든 염색체에게 자손에게 전달해 줄 수 있는 기회를 부여하는 방법론입니다. 룰렛 휠 방식(Roulette Wheel Selection)이라고도 하며, Classification Task에서는 Softmax 확률 값에 기반하여 가중치를 부여할 수 있습니다.\n",
    "    3. __Tournament Selection__\n",
    "    - 무작위로 K개의 염색체를 선택하고, 이들 중 가장 우수한 염색체를 택하여 다음 세대로 전달하는 방법론입니다. 동일한 프로세스가 다음 상위 염색체를 선택하기 위해 반복되며, Deterministic Selection의 단점을 어느정도 보완한 동시에 연산 시간이 비교적 짧다는 장점을 가집니다.\n",
    "    \n",
    "</br>\n",
    "    \n",
    "- 본 튜토리얼에서는 염색체 세대가 언제나 동일해야 한다는 점에 기반하여, __Tournament Selection을 이용하여 선택을 진행__하였습니다.  가장 적합도가 높은 염색체를 선정한 이후에, 무작위로 K개의 염색체를 골라 적합도 Score를 비교하고, 높은 염색체를 고르는 과정을 세대 수만큼 반복하여 다음 세대를 만드는 것입니다. 해당 방법론의 개요를 도식화 하면 아래와 같습니다.\n",
    "![image.png](attachment:image.png)\n",
    "<br/>\n",
    "$$[Tournament Selection]$$"
   ]
  },
  {
   "cell_type": "markdown",
   "metadata": {},
   "source": [
    "- 본 튜토리얼에서 Class 내부에 정의된 Tournament Selection 함수는 아래와 같습니다.\n",
    "    - Tournament 시 k의 개수는 Hyperparameter이며, argparse(tournament_k)를 통해서 사용자가 직접 바꿀 수 있습니다."
   ]
  },
  {
   "cell_type": "code",
   "execution_count": 67,
   "metadata": {},
   "outputs": [],
   "source": [
    "def selection(self, population, population_scores, best_chromosome_index):\n",
    "    # Create new population\n",
    "    new_population = [population[best_chromosome_index]]\n",
    "\n",
    "    # Tournament_k chromosome tournament until fill the numpy array\n",
    "    while len(new_population) != self.n_population:\n",
    "        \n",
    "        # Generate tournament_k positions randomly\n",
    "        k_chromosomes = np.random.randint(len(population), size = self.tournament_k)\n",
    "        \n",
    "        # Get the best onr of these tournament_k chromosomes\n",
    "        best_of_tournament_index = np.argmax(population_scores[k_chromosomes])\n",
    "        \n",
    "        # Append it to the new population\n",
    "        new_population.append(population[k_chromosomes[best_of_tournament_index]])\n",
    "\n",
    "    return np.array(new_population)"
   ]
  },
  {
   "cell_type": "markdown",
   "metadata": {},
   "source": [
    "- 예시를 통해 Tournament Selection의 결과를 보겠습니다. K는 2로 설정하였으며, 임의로 10개의 염색체에 대해서 산출된 Fitness Score를 기반으로 다음 세대를 만들어낸 결과입니다."
   ]
  },
  {
   "cell_type": "code",
   "execution_count": 140,
   "metadata": {},
   "outputs": [
    {
     "data": {
      "text/html": [
       "<pre style=\"white-space:pre;overflow-x:auto;line-height:normal;font-family:Menlo,'DejaVu Sans Mono',consolas,'Courier New',monospace\"><span style=\"color: #008000; text-decoration-color: #008000; font-weight: bold\">new population: </span> \n",
       " <span style=\"color: #000000; text-decoration-color: #000000; font-weight: bold\">[[</span><span style=\"color: #000000; text-decoration-color: #000000; font-weight: bold\">1</span><span style=\"color: #000000; text-decoration-color: #000000\"> </span><span style=\"color: #000000; text-decoration-color: #000000; font-weight: bold\">0</span><span style=\"color: #000000; text-decoration-color: #000000\"> </span><span style=\"color: #000000; text-decoration-color: #000000; font-weight: bold\">0</span><span style=\"color: #000000; text-decoration-color: #000000\"> </span><span style=\"color: #000000; text-decoration-color: #000000; font-weight: bold\">0</span><span style=\"color: #000000; text-decoration-color: #000000\"> </span><span style=\"color: #000000; text-decoration-color: #000000; font-weight: bold\">0</span><span style=\"color: #000000; text-decoration-color: #000000\"> </span><span style=\"color: #000000; text-decoration-color: #000000; font-weight: bold\">0</span><span style=\"color: #000000; text-decoration-color: #000000\"> </span><span style=\"color: #000000; text-decoration-color: #000000; font-weight: bold\">1</span><span style=\"color: #000000; text-decoration-color: #000000\"> </span><span style=\"color: #000000; text-decoration-color: #000000; font-weight: bold\">1</span><span style=\"color: #000000; text-decoration-color: #000000\"> </span><span style=\"color: #000000; text-decoration-color: #000000; font-weight: bold\">1</span><span style=\"color: #000000; text-decoration-color: #000000\"> </span><span style=\"color: #000000; text-decoration-color: #000000; font-weight: bold\">0</span><span style=\"color: #000000; text-decoration-color: #000000\"> </span><span style=\"color: #000000; text-decoration-color: #000000; font-weight: bold\">0</span><span style=\"color: #000000; text-decoration-color: #000000\"> </span><span style=\"color: #000000; text-decoration-color: #000000; font-weight: bold\">0</span><span style=\"color: #000000; text-decoration-color: #000000\"> </span><span style=\"color: #000000; text-decoration-color: #000000; font-weight: bold\">1</span><span style=\"color: #000000; text-decoration-color: #000000; font-weight: bold\">]</span>\n",
       "<span style=\"color: #000000; text-decoration-color: #000000\"> </span><span style=\"color: #000000; text-decoration-color: #000000; font-weight: bold\">[</span><span style=\"color: #000000; text-decoration-color: #000000; font-weight: bold\">0</span><span style=\"color: #000000; text-decoration-color: #000000\"> </span><span style=\"color: #000000; text-decoration-color: #000000; font-weight: bold\">0</span><span style=\"color: #000000; text-decoration-color: #000000\"> </span><span style=\"color: #000000; text-decoration-color: #000000; font-weight: bold\">0</span><span style=\"color: #000000; text-decoration-color: #000000\"> </span><span style=\"color: #000000; text-decoration-color: #000000; font-weight: bold\">1</span><span style=\"color: #000000; text-decoration-color: #000000\"> </span><span style=\"color: #000000; text-decoration-color: #000000; font-weight: bold\">0</span><span style=\"color: #000000; text-decoration-color: #000000\"> </span><span style=\"color: #000000; text-decoration-color: #000000; font-weight: bold\">0</span><span style=\"color: #000000; text-decoration-color: #000000\"> </span><span style=\"color: #000000; text-decoration-color: #000000; font-weight: bold\">0</span><span style=\"color: #000000; text-decoration-color: #000000\"> </span><span style=\"color: #000000; text-decoration-color: #000000; font-weight: bold\">0</span><span style=\"color: #000000; text-decoration-color: #000000\"> </span><span style=\"color: #000000; text-decoration-color: #000000; font-weight: bold\">1</span><span style=\"color: #000000; text-decoration-color: #000000\"> </span><span style=\"color: #000000; text-decoration-color: #000000; font-weight: bold\">0</span><span style=\"color: #000000; text-decoration-color: #000000\"> </span><span style=\"color: #000000; text-decoration-color: #000000; font-weight: bold\">1</span><span style=\"color: #000000; text-decoration-color: #000000\"> </span><span style=\"color: #000000; text-decoration-color: #000000; font-weight: bold\">0</span><span style=\"color: #000000; text-decoration-color: #000000\"> </span><span style=\"color: #000000; text-decoration-color: #000000; font-weight: bold\">0</span><span style=\"color: #000000; text-decoration-color: #000000; font-weight: bold\">]</span>\n",
       "<span style=\"color: #000000; text-decoration-color: #000000\"> </span><span style=\"color: #000000; text-decoration-color: #000000; font-weight: bold\">[</span><span style=\"color: #000000; text-decoration-color: #000000; font-weight: bold\">0</span><span style=\"color: #000000; text-decoration-color: #000000\"> </span><span style=\"color: #000000; text-decoration-color: #000000; font-weight: bold\">1</span><span style=\"color: #000000; text-decoration-color: #000000\"> </span><span style=\"color: #000000; text-decoration-color: #000000; font-weight: bold\">1</span><span style=\"color: #000000; text-decoration-color: #000000\"> </span><span style=\"color: #000000; text-decoration-color: #000000; font-weight: bold\">0</span><span style=\"color: #000000; text-decoration-color: #000000\"> </span><span style=\"color: #000000; text-decoration-color: #000000; font-weight: bold\">0</span><span style=\"color: #000000; text-decoration-color: #000000\"> </span><span style=\"color: #000000; text-decoration-color: #000000; font-weight: bold\">1</span><span style=\"color: #000000; text-decoration-color: #000000\"> </span><span style=\"color: #000000; text-decoration-color: #000000; font-weight: bold\">1</span><span style=\"color: #000000; text-decoration-color: #000000\"> </span><span style=\"color: #000000; text-decoration-color: #000000; font-weight: bold\">1</span><span style=\"color: #000000; text-decoration-color: #000000\"> </span><span style=\"color: #000000; text-decoration-color: #000000; font-weight: bold\">0</span><span style=\"color: #000000; text-decoration-color: #000000\"> </span><span style=\"color: #000000; text-decoration-color: #000000; font-weight: bold\">1</span><span style=\"color: #000000; text-decoration-color: #000000\"> </span><span style=\"color: #000000; text-decoration-color: #000000; font-weight: bold\">1</span><span style=\"color: #000000; text-decoration-color: #000000\"> </span><span style=\"color: #000000; text-decoration-color: #000000; font-weight: bold\">0</span><span style=\"color: #000000; text-decoration-color: #000000\"> </span><span style=\"color: #000000; text-decoration-color: #000000; font-weight: bold\">0</span><span style=\"color: #000000; text-decoration-color: #000000; font-weight: bold\">]</span>\n",
       "<span style=\"color: #000000; text-decoration-color: #000000\"> </span><span style=\"color: #000000; text-decoration-color: #000000; font-weight: bold\">[</span><span style=\"color: #000000; text-decoration-color: #000000; font-weight: bold\">0</span><span style=\"color: #000000; text-decoration-color: #000000\"> </span><span style=\"color: #000000; text-decoration-color: #000000; font-weight: bold\">1</span><span style=\"color: #000000; text-decoration-color: #000000\"> </span><span style=\"color: #000000; text-decoration-color: #000000; font-weight: bold\">1</span><span style=\"color: #000000; text-decoration-color: #000000\"> </span><span style=\"color: #000000; text-decoration-color: #000000; font-weight: bold\">0</span><span style=\"color: #000000; text-decoration-color: #000000\"> </span><span style=\"color: #000000; text-decoration-color: #000000; font-weight: bold\">0</span><span style=\"color: #000000; text-decoration-color: #000000\"> </span><span style=\"color: #000000; text-decoration-color: #000000; font-weight: bold\">1</span><span style=\"color: #000000; text-decoration-color: #000000\"> </span><span style=\"color: #000000; text-decoration-color: #000000; font-weight: bold\">0</span><span style=\"color: #000000; text-decoration-color: #000000\"> </span><span style=\"color: #000000; text-decoration-color: #000000; font-weight: bold\">0</span><span style=\"color: #000000; text-decoration-color: #000000\"> </span><span style=\"color: #000000; text-decoration-color: #000000; font-weight: bold\">0</span><span style=\"color: #000000; text-decoration-color: #000000\"> </span><span style=\"color: #000000; text-decoration-color: #000000; font-weight: bold\">0</span><span style=\"color: #000000; text-decoration-color: #000000\"> </span><span style=\"color: #000000; text-decoration-color: #000000; font-weight: bold\">0</span><span style=\"color: #000000; text-decoration-color: #000000\"> </span><span style=\"color: #000000; text-decoration-color: #000000; font-weight: bold\">0</span><span style=\"color: #000000; text-decoration-color: #000000\"> </span><span style=\"color: #000000; text-decoration-color: #000000; font-weight: bold\">1</span><span style=\"color: #000000; text-decoration-color: #000000; font-weight: bold\">]</span>\n",
       "<span style=\"color: #000000; text-decoration-color: #000000\"> </span><span style=\"color: #000000; text-decoration-color: #000000; font-weight: bold\">[</span><span style=\"color: #000000; text-decoration-color: #000000; font-weight: bold\">0</span><span style=\"color: #000000; text-decoration-color: #000000\"> </span><span style=\"color: #000000; text-decoration-color: #000000; font-weight: bold\">1</span><span style=\"color: #000000; text-decoration-color: #000000\"> </span><span style=\"color: #000000; text-decoration-color: #000000; font-weight: bold\">1</span><span style=\"color: #000000; text-decoration-color: #000000\"> </span><span style=\"color: #000000; text-decoration-color: #000000; font-weight: bold\">0</span><span style=\"color: #000000; text-decoration-color: #000000\"> </span><span style=\"color: #000000; text-decoration-color: #000000; font-weight: bold\">0</span><span style=\"color: #000000; text-decoration-color: #000000\"> </span><span style=\"color: #000000; text-decoration-color: #000000; font-weight: bold\">1</span><span style=\"color: #000000; text-decoration-color: #000000\"> </span><span style=\"color: #000000; text-decoration-color: #000000; font-weight: bold\">1</span><span style=\"color: #000000; text-decoration-color: #000000\"> </span><span style=\"color: #000000; text-decoration-color: #000000; font-weight: bold\">1</span><span style=\"color: #000000; text-decoration-color: #000000\"> </span><span style=\"color: #000000; text-decoration-color: #000000; font-weight: bold\">0</span><span style=\"color: #000000; text-decoration-color: #000000\"> </span><span style=\"color: #000000; text-decoration-color: #000000; font-weight: bold\">1</span><span style=\"color: #000000; text-decoration-color: #000000\"> </span><span style=\"color: #000000; text-decoration-color: #000000; font-weight: bold\">1</span><span style=\"color: #000000; text-decoration-color: #000000\"> </span><span style=\"color: #000000; text-decoration-color: #000000; font-weight: bold\">0</span><span style=\"color: #000000; text-decoration-color: #000000\"> </span><span style=\"color: #000000; text-decoration-color: #000000; font-weight: bold\">0</span><span style=\"color: #000000; text-decoration-color: #000000; font-weight: bold\">]</span>\n",
       "<span style=\"color: #000000; text-decoration-color: #000000\"> </span><span style=\"color: #000000; text-decoration-color: #000000; font-weight: bold\">[</span><span style=\"color: #000000; text-decoration-color: #000000; font-weight: bold\">0</span><span style=\"color: #000000; text-decoration-color: #000000\"> </span><span style=\"color: #000000; text-decoration-color: #000000; font-weight: bold\">1</span><span style=\"color: #000000; text-decoration-color: #000000\"> </span><span style=\"color: #000000; text-decoration-color: #000000; font-weight: bold\">1</span><span style=\"color: #000000; text-decoration-color: #000000\"> </span><span style=\"color: #000000; text-decoration-color: #000000; font-weight: bold\">0</span><span style=\"color: #000000; text-decoration-color: #000000\"> </span><span style=\"color: #000000; text-decoration-color: #000000; font-weight: bold\">0</span><span style=\"color: #000000; text-decoration-color: #000000\"> </span><span style=\"color: #000000; text-decoration-color: #000000; font-weight: bold\">1</span><span style=\"color: #000000; text-decoration-color: #000000\"> </span><span style=\"color: #000000; text-decoration-color: #000000; font-weight: bold\">0</span><span style=\"color: #000000; text-decoration-color: #000000\"> </span><span style=\"color: #000000; text-decoration-color: #000000; font-weight: bold\">0</span><span style=\"color: #000000; text-decoration-color: #000000\"> </span><span style=\"color: #000000; text-decoration-color: #000000; font-weight: bold\">0</span><span style=\"color: #000000; text-decoration-color: #000000\"> </span><span style=\"color: #000000; text-decoration-color: #000000; font-weight: bold\">0</span><span style=\"color: #000000; text-decoration-color: #000000\"> </span><span style=\"color: #000000; text-decoration-color: #000000; font-weight: bold\">0</span><span style=\"color: #000000; text-decoration-color: #000000\"> </span><span style=\"color: #000000; text-decoration-color: #000000; font-weight: bold\">0</span><span style=\"color: #000000; text-decoration-color: #000000\"> </span><span style=\"color: #000000; text-decoration-color: #000000; font-weight: bold\">1</span><span style=\"color: #000000; text-decoration-color: #000000; font-weight: bold\">]</span>\n",
       "<span style=\"color: #000000; text-decoration-color: #000000\"> </span><span style=\"color: #000000; text-decoration-color: #000000; font-weight: bold\">[</span><span style=\"color: #000000; text-decoration-color: #000000; font-weight: bold\">1</span><span style=\"color: #000000; text-decoration-color: #000000\"> </span><span style=\"color: #000000; text-decoration-color: #000000; font-weight: bold\">0</span><span style=\"color: #000000; text-decoration-color: #000000\"> </span><span style=\"color: #000000; text-decoration-color: #000000; font-weight: bold\">0</span><span style=\"color: #000000; text-decoration-color: #000000\"> </span><span style=\"color: #000000; text-decoration-color: #000000; font-weight: bold\">1</span><span style=\"color: #000000; text-decoration-color: #000000\"> </span><span style=\"color: #000000; text-decoration-color: #000000; font-weight: bold\">1</span><span style=\"color: #000000; text-decoration-color: #000000\"> </span><span style=\"color: #000000; text-decoration-color: #000000; font-weight: bold\">1</span><span style=\"color: #000000; text-decoration-color: #000000\"> </span><span style=\"color: #000000; text-decoration-color: #000000; font-weight: bold\">1</span><span style=\"color: #000000; text-decoration-color: #000000\"> </span><span style=\"color: #000000; text-decoration-color: #000000; font-weight: bold\">1</span><span style=\"color: #000000; text-decoration-color: #000000\"> </span><span style=\"color: #000000; text-decoration-color: #000000; font-weight: bold\">0</span><span style=\"color: #000000; text-decoration-color: #000000\"> </span><span style=\"color: #000000; text-decoration-color: #000000; font-weight: bold\">0</span><span style=\"color: #000000; text-decoration-color: #000000\"> </span><span style=\"color: #000000; text-decoration-color: #000000; font-weight: bold\">0</span><span style=\"color: #000000; text-decoration-color: #000000\"> </span><span style=\"color: #000000; text-decoration-color: #000000; font-weight: bold\">0</span><span style=\"color: #000000; text-decoration-color: #000000\"> </span><span style=\"color: #000000; text-decoration-color: #000000; font-weight: bold\">0</span><span style=\"color: #000000; text-decoration-color: #000000; font-weight: bold\">]</span>\n",
       "<span style=\"color: #000000; text-decoration-color: #000000\"> </span><span style=\"color: #000000; text-decoration-color: #000000; font-weight: bold\">[</span><span style=\"color: #000000; text-decoration-color: #000000; font-weight: bold\">1</span><span style=\"color: #000000; text-decoration-color: #000000\"> </span><span style=\"color: #000000; text-decoration-color: #000000; font-weight: bold\">0</span><span style=\"color: #000000; text-decoration-color: #000000\"> </span><span style=\"color: #000000; text-decoration-color: #000000; font-weight: bold\">0</span><span style=\"color: #000000; text-decoration-color: #000000\"> </span><span style=\"color: #000000; text-decoration-color: #000000; font-weight: bold\">1</span><span style=\"color: #000000; text-decoration-color: #000000\"> </span><span style=\"color: #000000; text-decoration-color: #000000; font-weight: bold\">1</span><span style=\"color: #000000; text-decoration-color: #000000\"> </span><span style=\"color: #000000; text-decoration-color: #000000; font-weight: bold\">1</span><span style=\"color: #000000; text-decoration-color: #000000\"> </span><span style=\"color: #000000; text-decoration-color: #000000; font-weight: bold\">1</span><span style=\"color: #000000; text-decoration-color: #000000\"> </span><span style=\"color: #000000; text-decoration-color: #000000; font-weight: bold\">1</span><span style=\"color: #000000; text-decoration-color: #000000\"> </span><span style=\"color: #000000; text-decoration-color: #000000; font-weight: bold\">0</span><span style=\"color: #000000; text-decoration-color: #000000\"> </span><span style=\"color: #000000; text-decoration-color: #000000; font-weight: bold\">0</span><span style=\"color: #000000; text-decoration-color: #000000\"> </span><span style=\"color: #000000; text-decoration-color: #000000; font-weight: bold\">0</span><span style=\"color: #000000; text-decoration-color: #000000\"> </span><span style=\"color: #000000; text-decoration-color: #000000; font-weight: bold\">0</span><span style=\"color: #000000; text-decoration-color: #000000\"> </span><span style=\"color: #000000; text-decoration-color: #000000; font-weight: bold\">0</span><span style=\"color: #000000; text-decoration-color: #000000; font-weight: bold\">]</span>\n",
       "<span style=\"color: #000000; text-decoration-color: #000000\"> </span><span style=\"color: #000000; text-decoration-color: #000000; font-weight: bold\">[</span><span style=\"color: #000000; text-decoration-color: #000000; font-weight: bold\">0</span><span style=\"color: #000000; text-decoration-color: #000000\"> </span><span style=\"color: #000000; text-decoration-color: #000000; font-weight: bold\">1</span><span style=\"color: #000000; text-decoration-color: #000000\"> </span><span style=\"color: #000000; text-decoration-color: #000000; font-weight: bold\">1</span><span style=\"color: #000000; text-decoration-color: #000000\"> </span><span style=\"color: #000000; text-decoration-color: #000000; font-weight: bold\">0</span><span style=\"color: #000000; text-decoration-color: #000000\"> </span><span style=\"color: #000000; text-decoration-color: #000000; font-weight: bold\">0</span><span style=\"color: #000000; text-decoration-color: #000000\"> </span><span style=\"color: #000000; text-decoration-color: #000000; font-weight: bold\">1</span><span style=\"color: #000000; text-decoration-color: #000000\"> </span><span style=\"color: #000000; text-decoration-color: #000000; font-weight: bold\">1</span><span style=\"color: #000000; text-decoration-color: #000000\"> </span><span style=\"color: #000000; text-decoration-color: #000000; font-weight: bold\">1</span><span style=\"color: #000000; text-decoration-color: #000000\"> </span><span style=\"color: #000000; text-decoration-color: #000000; font-weight: bold\">0</span><span style=\"color: #000000; text-decoration-color: #000000\"> </span><span style=\"color: #000000; text-decoration-color: #000000; font-weight: bold\">1</span><span style=\"color: #000000; text-decoration-color: #000000\"> </span><span style=\"color: #000000; text-decoration-color: #000000; font-weight: bold\">1</span><span style=\"color: #000000; text-decoration-color: #000000\"> </span><span style=\"color: #000000; text-decoration-color: #000000; font-weight: bold\">0</span><span style=\"color: #000000; text-decoration-color: #000000\"> </span><span style=\"color: #000000; text-decoration-color: #000000; font-weight: bold\">0</span><span style=\"color: #000000; text-decoration-color: #000000; font-weight: bold\">]</span>\n",
       "<span style=\"color: #000000; text-decoration-color: #000000\"> </span><span style=\"color: #000000; text-decoration-color: #000000; font-weight: bold\">[</span><span style=\"color: #000000; text-decoration-color: #000000; font-weight: bold\">0</span><span style=\"color: #000000; text-decoration-color: #000000\"> </span><span style=\"color: #000000; text-decoration-color: #000000; font-weight: bold\">1</span><span style=\"color: #000000; text-decoration-color: #000000\"> </span><span style=\"color: #000000; text-decoration-color: #000000; font-weight: bold\">1</span><span style=\"color: #000000; text-decoration-color: #000000\"> </span><span style=\"color: #000000; text-decoration-color: #000000; font-weight: bold\">0</span><span style=\"color: #000000; text-decoration-color: #000000\"> </span><span style=\"color: #000000; text-decoration-color: #000000; font-weight: bold\">0</span><span style=\"color: #000000; text-decoration-color: #000000\"> </span><span style=\"color: #000000; text-decoration-color: #000000; font-weight: bold\">1</span><span style=\"color: #000000; text-decoration-color: #000000\"> </span><span style=\"color: #000000; text-decoration-color: #000000; font-weight: bold\">0</span><span style=\"color: #000000; text-decoration-color: #000000\"> </span><span style=\"color: #000000; text-decoration-color: #000000; font-weight: bold\">0</span><span style=\"color: #000000; text-decoration-color: #000000\"> </span><span style=\"color: #000000; text-decoration-color: #000000; font-weight: bold\">0</span><span style=\"color: #000000; text-decoration-color: #000000\"> </span><span style=\"color: #000000; text-decoration-color: #000000; font-weight: bold\">0</span><span style=\"color: #000000; text-decoration-color: #000000\"> </span><span style=\"color: #000000; text-decoration-color: #000000; font-weight: bold\">0</span><span style=\"color: #000000; text-decoration-color: #000000\"> </span><span style=\"color: #000000; text-decoration-color: #000000; font-weight: bold\">0</span><span style=\"color: #000000; text-decoration-color: #000000\"> </span><span style=\"color: #000000; text-decoration-color: #000000; font-weight: bold\">1</span><span style=\"color: #000000; text-decoration-color: #000000; font-weight: bold\">]]</span>\n",
       "</pre>\n"
      ],
      "text/plain": [
       "\u001b[1;32mnew population: \u001b[0m \n",
       " \u001b[1;30m[\u001b[0m\u001b[1;30m[\u001b[0m\u001b[1;30m1\u001b[0m\u001b[30m \u001b[0m\u001b[1;30m0\u001b[0m\u001b[30m \u001b[0m\u001b[1;30m0\u001b[0m\u001b[30m \u001b[0m\u001b[1;30m0\u001b[0m\u001b[30m \u001b[0m\u001b[1;30m0\u001b[0m\u001b[30m \u001b[0m\u001b[1;30m0\u001b[0m\u001b[30m \u001b[0m\u001b[1;30m1\u001b[0m\u001b[30m \u001b[0m\u001b[1;30m1\u001b[0m\u001b[30m \u001b[0m\u001b[1;30m1\u001b[0m\u001b[30m \u001b[0m\u001b[1;30m0\u001b[0m\u001b[30m \u001b[0m\u001b[1;30m0\u001b[0m\u001b[30m \u001b[0m\u001b[1;30m0\u001b[0m\u001b[30m \u001b[0m\u001b[1;30m1\u001b[0m\u001b[1;30m]\u001b[0m\n",
       "\u001b[30m \u001b[0m\u001b[1;30m[\u001b[0m\u001b[1;30m0\u001b[0m\u001b[30m \u001b[0m\u001b[1;30m0\u001b[0m\u001b[30m \u001b[0m\u001b[1;30m0\u001b[0m\u001b[30m \u001b[0m\u001b[1;30m1\u001b[0m\u001b[30m \u001b[0m\u001b[1;30m0\u001b[0m\u001b[30m \u001b[0m\u001b[1;30m0\u001b[0m\u001b[30m \u001b[0m\u001b[1;30m0\u001b[0m\u001b[30m \u001b[0m\u001b[1;30m0\u001b[0m\u001b[30m \u001b[0m\u001b[1;30m1\u001b[0m\u001b[30m \u001b[0m\u001b[1;30m0\u001b[0m\u001b[30m \u001b[0m\u001b[1;30m1\u001b[0m\u001b[30m \u001b[0m\u001b[1;30m0\u001b[0m\u001b[30m \u001b[0m\u001b[1;30m0\u001b[0m\u001b[1;30m]\u001b[0m\n",
       "\u001b[30m \u001b[0m\u001b[1;30m[\u001b[0m\u001b[1;30m0\u001b[0m\u001b[30m \u001b[0m\u001b[1;30m1\u001b[0m\u001b[30m \u001b[0m\u001b[1;30m1\u001b[0m\u001b[30m \u001b[0m\u001b[1;30m0\u001b[0m\u001b[30m \u001b[0m\u001b[1;30m0\u001b[0m\u001b[30m \u001b[0m\u001b[1;30m1\u001b[0m\u001b[30m \u001b[0m\u001b[1;30m1\u001b[0m\u001b[30m \u001b[0m\u001b[1;30m1\u001b[0m\u001b[30m \u001b[0m\u001b[1;30m0\u001b[0m\u001b[30m \u001b[0m\u001b[1;30m1\u001b[0m\u001b[30m \u001b[0m\u001b[1;30m1\u001b[0m\u001b[30m \u001b[0m\u001b[1;30m0\u001b[0m\u001b[30m \u001b[0m\u001b[1;30m0\u001b[0m\u001b[1;30m]\u001b[0m\n",
       "\u001b[30m \u001b[0m\u001b[1;30m[\u001b[0m\u001b[1;30m0\u001b[0m\u001b[30m \u001b[0m\u001b[1;30m1\u001b[0m\u001b[30m \u001b[0m\u001b[1;30m1\u001b[0m\u001b[30m \u001b[0m\u001b[1;30m0\u001b[0m\u001b[30m \u001b[0m\u001b[1;30m0\u001b[0m\u001b[30m \u001b[0m\u001b[1;30m1\u001b[0m\u001b[30m \u001b[0m\u001b[1;30m0\u001b[0m\u001b[30m \u001b[0m\u001b[1;30m0\u001b[0m\u001b[30m \u001b[0m\u001b[1;30m0\u001b[0m\u001b[30m \u001b[0m\u001b[1;30m0\u001b[0m\u001b[30m \u001b[0m\u001b[1;30m0\u001b[0m\u001b[30m \u001b[0m\u001b[1;30m0\u001b[0m\u001b[30m \u001b[0m\u001b[1;30m1\u001b[0m\u001b[1;30m]\u001b[0m\n",
       "\u001b[30m \u001b[0m\u001b[1;30m[\u001b[0m\u001b[1;30m0\u001b[0m\u001b[30m \u001b[0m\u001b[1;30m1\u001b[0m\u001b[30m \u001b[0m\u001b[1;30m1\u001b[0m\u001b[30m \u001b[0m\u001b[1;30m0\u001b[0m\u001b[30m \u001b[0m\u001b[1;30m0\u001b[0m\u001b[30m \u001b[0m\u001b[1;30m1\u001b[0m\u001b[30m \u001b[0m\u001b[1;30m1\u001b[0m\u001b[30m \u001b[0m\u001b[1;30m1\u001b[0m\u001b[30m \u001b[0m\u001b[1;30m0\u001b[0m\u001b[30m \u001b[0m\u001b[1;30m1\u001b[0m\u001b[30m \u001b[0m\u001b[1;30m1\u001b[0m\u001b[30m \u001b[0m\u001b[1;30m0\u001b[0m\u001b[30m \u001b[0m\u001b[1;30m0\u001b[0m\u001b[1;30m]\u001b[0m\n",
       "\u001b[30m \u001b[0m\u001b[1;30m[\u001b[0m\u001b[1;30m0\u001b[0m\u001b[30m \u001b[0m\u001b[1;30m1\u001b[0m\u001b[30m \u001b[0m\u001b[1;30m1\u001b[0m\u001b[30m \u001b[0m\u001b[1;30m0\u001b[0m\u001b[30m \u001b[0m\u001b[1;30m0\u001b[0m\u001b[30m \u001b[0m\u001b[1;30m1\u001b[0m\u001b[30m \u001b[0m\u001b[1;30m0\u001b[0m\u001b[30m \u001b[0m\u001b[1;30m0\u001b[0m\u001b[30m \u001b[0m\u001b[1;30m0\u001b[0m\u001b[30m \u001b[0m\u001b[1;30m0\u001b[0m\u001b[30m \u001b[0m\u001b[1;30m0\u001b[0m\u001b[30m \u001b[0m\u001b[1;30m0\u001b[0m\u001b[30m \u001b[0m\u001b[1;30m1\u001b[0m\u001b[1;30m]\u001b[0m\n",
       "\u001b[30m \u001b[0m\u001b[1;30m[\u001b[0m\u001b[1;30m1\u001b[0m\u001b[30m \u001b[0m\u001b[1;30m0\u001b[0m\u001b[30m \u001b[0m\u001b[1;30m0\u001b[0m\u001b[30m \u001b[0m\u001b[1;30m1\u001b[0m\u001b[30m \u001b[0m\u001b[1;30m1\u001b[0m\u001b[30m \u001b[0m\u001b[1;30m1\u001b[0m\u001b[30m \u001b[0m\u001b[1;30m1\u001b[0m\u001b[30m \u001b[0m\u001b[1;30m1\u001b[0m\u001b[30m \u001b[0m\u001b[1;30m0\u001b[0m\u001b[30m \u001b[0m\u001b[1;30m0\u001b[0m\u001b[30m \u001b[0m\u001b[1;30m0\u001b[0m\u001b[30m \u001b[0m\u001b[1;30m0\u001b[0m\u001b[30m \u001b[0m\u001b[1;30m0\u001b[0m\u001b[1;30m]\u001b[0m\n",
       "\u001b[30m \u001b[0m\u001b[1;30m[\u001b[0m\u001b[1;30m1\u001b[0m\u001b[30m \u001b[0m\u001b[1;30m0\u001b[0m\u001b[30m \u001b[0m\u001b[1;30m0\u001b[0m\u001b[30m \u001b[0m\u001b[1;30m1\u001b[0m\u001b[30m \u001b[0m\u001b[1;30m1\u001b[0m\u001b[30m \u001b[0m\u001b[1;30m1\u001b[0m\u001b[30m \u001b[0m\u001b[1;30m1\u001b[0m\u001b[30m \u001b[0m\u001b[1;30m1\u001b[0m\u001b[30m \u001b[0m\u001b[1;30m0\u001b[0m\u001b[30m \u001b[0m\u001b[1;30m0\u001b[0m\u001b[30m \u001b[0m\u001b[1;30m0\u001b[0m\u001b[30m \u001b[0m\u001b[1;30m0\u001b[0m\u001b[30m \u001b[0m\u001b[1;30m0\u001b[0m\u001b[1;30m]\u001b[0m\n",
       "\u001b[30m \u001b[0m\u001b[1;30m[\u001b[0m\u001b[1;30m0\u001b[0m\u001b[30m \u001b[0m\u001b[1;30m1\u001b[0m\u001b[30m \u001b[0m\u001b[1;30m1\u001b[0m\u001b[30m \u001b[0m\u001b[1;30m0\u001b[0m\u001b[30m \u001b[0m\u001b[1;30m0\u001b[0m\u001b[30m \u001b[0m\u001b[1;30m1\u001b[0m\u001b[30m \u001b[0m\u001b[1;30m1\u001b[0m\u001b[30m \u001b[0m\u001b[1;30m1\u001b[0m\u001b[30m \u001b[0m\u001b[1;30m0\u001b[0m\u001b[30m \u001b[0m\u001b[1;30m1\u001b[0m\u001b[30m \u001b[0m\u001b[1;30m1\u001b[0m\u001b[30m \u001b[0m\u001b[1;30m0\u001b[0m\u001b[30m \u001b[0m\u001b[1;30m0\u001b[0m\u001b[1;30m]\u001b[0m\n",
       "\u001b[30m \u001b[0m\u001b[1;30m[\u001b[0m\u001b[1;30m0\u001b[0m\u001b[30m \u001b[0m\u001b[1;30m1\u001b[0m\u001b[30m \u001b[0m\u001b[1;30m1\u001b[0m\u001b[30m \u001b[0m\u001b[1;30m0\u001b[0m\u001b[30m \u001b[0m\u001b[1;30m0\u001b[0m\u001b[30m \u001b[0m\u001b[1;30m1\u001b[0m\u001b[30m \u001b[0m\u001b[1;30m0\u001b[0m\u001b[30m \u001b[0m\u001b[1;30m0\u001b[0m\u001b[30m \u001b[0m\u001b[1;30m0\u001b[0m\u001b[30m \u001b[0m\u001b[1;30m0\u001b[0m\u001b[30m \u001b[0m\u001b[1;30m0\u001b[0m\u001b[30m \u001b[0m\u001b[1;30m0\u001b[0m\u001b[30m \u001b[0m\u001b[1;30m1\u001b[0m\u001b[1;30m]\u001b[0m\u001b[1;30m]\u001b[0m\n"
      ]
     },
     "metadata": {},
     "output_type": "display_data"
    },
    {
     "data": {
      "text/html": [
       "<pre style=\"white-space:pre;overflow-x:auto;line-height:normal;font-family:Menlo,'DejaVu Sans Mono',consolas,'Courier New',monospace\"><span style=\"color: #800080; text-decoration-color: #800080; font-weight: bold\">previous population</span> \n",
       " <span style=\"color: #000000; text-decoration-color: #000000; font-weight: bold\">[[</span><span style=\"color: #000000; text-decoration-color: #000000; font-weight: bold\">0</span><span style=\"color: #000000; text-decoration-color: #000000\"> </span><span style=\"color: #000000; text-decoration-color: #000000; font-weight: bold\">1</span><span style=\"color: #000000; text-decoration-color: #000000\"> </span><span style=\"color: #000000; text-decoration-color: #000000; font-weight: bold\">1</span><span style=\"color: #000000; text-decoration-color: #000000\"> </span><span style=\"color: #000000; text-decoration-color: #000000; font-weight: bold\">0</span><span style=\"color: #000000; text-decoration-color: #000000\"> </span><span style=\"color: #000000; text-decoration-color: #000000; font-weight: bold\">0</span><span style=\"color: #000000; text-decoration-color: #000000\"> </span><span style=\"color: #000000; text-decoration-color: #000000; font-weight: bold\">1</span><span style=\"color: #000000; text-decoration-color: #000000\"> </span><span style=\"color: #000000; text-decoration-color: #000000; font-weight: bold\">1</span><span style=\"color: #000000; text-decoration-color: #000000\"> </span><span style=\"color: #000000; text-decoration-color: #000000; font-weight: bold\">1</span><span style=\"color: #000000; text-decoration-color: #000000\"> </span><span style=\"color: #000000; text-decoration-color: #000000; font-weight: bold\">0</span><span style=\"color: #000000; text-decoration-color: #000000\"> </span><span style=\"color: #000000; text-decoration-color: #000000; font-weight: bold\">1</span><span style=\"color: #000000; text-decoration-color: #000000\"> </span><span style=\"color: #000000; text-decoration-color: #000000; font-weight: bold\">1</span><span style=\"color: #000000; text-decoration-color: #000000\"> </span><span style=\"color: #000000; text-decoration-color: #000000; font-weight: bold\">0</span><span style=\"color: #000000; text-decoration-color: #000000\"> </span><span style=\"color: #000000; text-decoration-color: #000000; font-weight: bold\">0</span><span style=\"color: #000000; text-decoration-color: #000000; font-weight: bold\">]</span>\n",
       "<span style=\"color: #000000; text-decoration-color: #000000\"> </span><span style=\"color: #000000; text-decoration-color: #000000; font-weight: bold\">[</span><span style=\"color: #000000; text-decoration-color: #000000; font-weight: bold\">0</span><span style=\"color: #000000; text-decoration-color: #000000\"> </span><span style=\"color: #000000; text-decoration-color: #000000; font-weight: bold\">0</span><span style=\"color: #000000; text-decoration-color: #000000\"> </span><span style=\"color: #000000; text-decoration-color: #000000; font-weight: bold\">0</span><span style=\"color: #000000; text-decoration-color: #000000\"> </span><span style=\"color: #000000; text-decoration-color: #000000; font-weight: bold\">1</span><span style=\"color: #000000; text-decoration-color: #000000\"> </span><span style=\"color: #000000; text-decoration-color: #000000; font-weight: bold\">0</span><span style=\"color: #000000; text-decoration-color: #000000\"> </span><span style=\"color: #000000; text-decoration-color: #000000; font-weight: bold\">0</span><span style=\"color: #000000; text-decoration-color: #000000\"> </span><span style=\"color: #000000; text-decoration-color: #000000; font-weight: bold\">0</span><span style=\"color: #000000; text-decoration-color: #000000\"> </span><span style=\"color: #000000; text-decoration-color: #000000; font-weight: bold\">0</span><span style=\"color: #000000; text-decoration-color: #000000\"> </span><span style=\"color: #000000; text-decoration-color: #000000; font-weight: bold\">1</span><span style=\"color: #000000; text-decoration-color: #000000\"> </span><span style=\"color: #000000; text-decoration-color: #000000; font-weight: bold\">0</span><span style=\"color: #000000; text-decoration-color: #000000\"> </span><span style=\"color: #000000; text-decoration-color: #000000; font-weight: bold\">1</span><span style=\"color: #000000; text-decoration-color: #000000\"> </span><span style=\"color: #000000; text-decoration-color: #000000; font-weight: bold\">0</span><span style=\"color: #000000; text-decoration-color: #000000\"> </span><span style=\"color: #000000; text-decoration-color: #000000; font-weight: bold\">0</span><span style=\"color: #000000; text-decoration-color: #000000; font-weight: bold\">]</span>\n",
       "<span style=\"color: #000000; text-decoration-color: #000000\"> </span><span style=\"color: #000000; text-decoration-color: #000000; font-weight: bold\">[</span><span style=\"color: #000000; text-decoration-color: #000000; font-weight: bold\">0</span><span style=\"color: #000000; text-decoration-color: #000000\"> </span><span style=\"color: #000000; text-decoration-color: #000000; font-weight: bold\">1</span><span style=\"color: #000000; text-decoration-color: #000000\"> </span><span style=\"color: #000000; text-decoration-color: #000000; font-weight: bold\">1</span><span style=\"color: #000000; text-decoration-color: #000000\"> </span><span style=\"color: #000000; text-decoration-color: #000000; font-weight: bold\">0</span><span style=\"color: #000000; text-decoration-color: #000000\"> </span><span style=\"color: #000000; text-decoration-color: #000000; font-weight: bold\">0</span><span style=\"color: #000000; text-decoration-color: #000000\"> </span><span style=\"color: #000000; text-decoration-color: #000000; font-weight: bold\">1</span><span style=\"color: #000000; text-decoration-color: #000000\"> </span><span style=\"color: #000000; text-decoration-color: #000000; font-weight: bold\">0</span><span style=\"color: #000000; text-decoration-color: #000000\"> </span><span style=\"color: #000000; text-decoration-color: #000000; font-weight: bold\">0</span><span style=\"color: #000000; text-decoration-color: #000000\"> </span><span style=\"color: #000000; text-decoration-color: #000000; font-weight: bold\">0</span><span style=\"color: #000000; text-decoration-color: #000000\"> </span><span style=\"color: #000000; text-decoration-color: #000000; font-weight: bold\">0</span><span style=\"color: #000000; text-decoration-color: #000000\"> </span><span style=\"color: #000000; text-decoration-color: #000000; font-weight: bold\">0</span><span style=\"color: #000000; text-decoration-color: #000000\"> </span><span style=\"color: #000000; text-decoration-color: #000000; font-weight: bold\">0</span><span style=\"color: #000000; text-decoration-color: #000000\"> </span><span style=\"color: #000000; text-decoration-color: #000000; font-weight: bold\">1</span><span style=\"color: #000000; text-decoration-color: #000000; font-weight: bold\">]</span>\n",
       "<span style=\"color: #000000; text-decoration-color: #000000\"> </span><span style=\"color: #000000; text-decoration-color: #000000; font-weight: bold\">[</span><span style=\"color: #000000; text-decoration-color: #000000; font-weight: bold\">1</span><span style=\"color: #000000; text-decoration-color: #000000\"> </span><span style=\"color: #000000; text-decoration-color: #000000; font-weight: bold\">0</span><span style=\"color: #000000; text-decoration-color: #000000\"> </span><span style=\"color: #000000; text-decoration-color: #000000; font-weight: bold\">0</span><span style=\"color: #000000; text-decoration-color: #000000\"> </span><span style=\"color: #000000; text-decoration-color: #000000; font-weight: bold\">1</span><span style=\"color: #000000; text-decoration-color: #000000\"> </span><span style=\"color: #000000; text-decoration-color: #000000; font-weight: bold\">1</span><span style=\"color: #000000; text-decoration-color: #000000\"> </span><span style=\"color: #000000; text-decoration-color: #000000; font-weight: bold\">1</span><span style=\"color: #000000; text-decoration-color: #000000\"> </span><span style=\"color: #000000; text-decoration-color: #000000; font-weight: bold\">1</span><span style=\"color: #000000; text-decoration-color: #000000\"> </span><span style=\"color: #000000; text-decoration-color: #000000; font-weight: bold\">1</span><span style=\"color: #000000; text-decoration-color: #000000\"> </span><span style=\"color: #000000; text-decoration-color: #000000; font-weight: bold\">0</span><span style=\"color: #000000; text-decoration-color: #000000\"> </span><span style=\"color: #000000; text-decoration-color: #000000; font-weight: bold\">0</span><span style=\"color: #000000; text-decoration-color: #000000\"> </span><span style=\"color: #000000; text-decoration-color: #000000; font-weight: bold\">0</span><span style=\"color: #000000; text-decoration-color: #000000\"> </span><span style=\"color: #000000; text-decoration-color: #000000; font-weight: bold\">0</span><span style=\"color: #000000; text-decoration-color: #000000\"> </span><span style=\"color: #000000; text-decoration-color: #000000; font-weight: bold\">0</span><span style=\"color: #000000; text-decoration-color: #000000; font-weight: bold\">]</span>\n",
       "<span style=\"color: #000000; text-decoration-color: #000000\"> </span><span style=\"color: #000000; text-decoration-color: #000000; font-weight: bold\">[</span><span style=\"color: #000000; text-decoration-color: #000000; font-weight: bold\">1</span><span style=\"color: #000000; text-decoration-color: #000000\"> </span><span style=\"color: #000000; text-decoration-color: #000000; font-weight: bold\">0</span><span style=\"color: #000000; text-decoration-color: #000000\"> </span><span style=\"color: #000000; text-decoration-color: #000000; font-weight: bold\">0</span><span style=\"color: #000000; text-decoration-color: #000000\"> </span><span style=\"color: #000000; text-decoration-color: #000000; font-weight: bold\">0</span><span style=\"color: #000000; text-decoration-color: #000000\"> </span><span style=\"color: #000000; text-decoration-color: #000000; font-weight: bold\">0</span><span style=\"color: #000000; text-decoration-color: #000000\"> </span><span style=\"color: #000000; text-decoration-color: #000000; font-weight: bold\">0</span><span style=\"color: #000000; text-decoration-color: #000000\"> </span><span style=\"color: #000000; text-decoration-color: #000000; font-weight: bold\">1</span><span style=\"color: #000000; text-decoration-color: #000000\"> </span><span style=\"color: #000000; text-decoration-color: #000000; font-weight: bold\">1</span><span style=\"color: #000000; text-decoration-color: #000000\"> </span><span style=\"color: #000000; text-decoration-color: #000000; font-weight: bold\">1</span><span style=\"color: #000000; text-decoration-color: #000000\"> </span><span style=\"color: #000000; text-decoration-color: #000000; font-weight: bold\">0</span><span style=\"color: #000000; text-decoration-color: #000000\"> </span><span style=\"color: #000000; text-decoration-color: #000000; font-weight: bold\">0</span><span style=\"color: #000000; text-decoration-color: #000000\"> </span><span style=\"color: #000000; text-decoration-color: #000000; font-weight: bold\">0</span><span style=\"color: #000000; text-decoration-color: #000000\"> </span><span style=\"color: #000000; text-decoration-color: #000000; font-weight: bold\">1</span><span style=\"color: #000000; text-decoration-color: #000000; font-weight: bold\">]</span>\n",
       "<span style=\"color: #000000; text-decoration-color: #000000\"> </span><span style=\"color: #000000; text-decoration-color: #000000; font-weight: bold\">[</span><span style=\"color: #000000; text-decoration-color: #000000; font-weight: bold\">0</span><span style=\"color: #000000; text-decoration-color: #000000\"> </span><span style=\"color: #000000; text-decoration-color: #000000; font-weight: bold\">1</span><span style=\"color: #000000; text-decoration-color: #000000\"> </span><span style=\"color: #000000; text-decoration-color: #000000; font-weight: bold\">0</span><span style=\"color: #000000; text-decoration-color: #000000\"> </span><span style=\"color: #000000; text-decoration-color: #000000; font-weight: bold\">0</span><span style=\"color: #000000; text-decoration-color: #000000\"> </span><span style=\"color: #000000; text-decoration-color: #000000; font-weight: bold\">0</span><span style=\"color: #000000; text-decoration-color: #000000\"> </span><span style=\"color: #000000; text-decoration-color: #000000; font-weight: bold\">1</span><span style=\"color: #000000; text-decoration-color: #000000\"> </span><span style=\"color: #000000; text-decoration-color: #000000; font-weight: bold\">0</span><span style=\"color: #000000; text-decoration-color: #000000\"> </span><span style=\"color: #000000; text-decoration-color: #000000; font-weight: bold\">1</span><span style=\"color: #000000; text-decoration-color: #000000\"> </span><span style=\"color: #000000; text-decoration-color: #000000; font-weight: bold\">1</span><span style=\"color: #000000; text-decoration-color: #000000\"> </span><span style=\"color: #000000; text-decoration-color: #000000; font-weight: bold\">0</span><span style=\"color: #000000; text-decoration-color: #000000\"> </span><span style=\"color: #000000; text-decoration-color: #000000; font-weight: bold\">1</span><span style=\"color: #000000; text-decoration-color: #000000\"> </span><span style=\"color: #000000; text-decoration-color: #000000; font-weight: bold\">1</span><span style=\"color: #000000; text-decoration-color: #000000\"> </span><span style=\"color: #000000; text-decoration-color: #000000; font-weight: bold\">1</span><span style=\"color: #000000; text-decoration-color: #000000; font-weight: bold\">]</span>\n",
       "<span style=\"color: #000000; text-decoration-color: #000000\"> </span><span style=\"color: #000000; text-decoration-color: #000000; font-weight: bold\">[</span><span style=\"color: #000000; text-decoration-color: #000000; font-weight: bold\">1</span><span style=\"color: #000000; text-decoration-color: #000000\"> </span><span style=\"color: #000000; text-decoration-color: #000000; font-weight: bold\">1</span><span style=\"color: #000000; text-decoration-color: #000000\"> </span><span style=\"color: #000000; text-decoration-color: #000000; font-weight: bold\">1</span><span style=\"color: #000000; text-decoration-color: #000000\"> </span><span style=\"color: #000000; text-decoration-color: #000000; font-weight: bold\">1</span><span style=\"color: #000000; text-decoration-color: #000000\"> </span><span style=\"color: #000000; text-decoration-color: #000000; font-weight: bold\">0</span><span style=\"color: #000000; text-decoration-color: #000000\"> </span><span style=\"color: #000000; text-decoration-color: #000000; font-weight: bold\">1</span><span style=\"color: #000000; text-decoration-color: #000000\"> </span><span style=\"color: #000000; text-decoration-color: #000000; font-weight: bold\">0</span><span style=\"color: #000000; text-decoration-color: #000000\"> </span><span style=\"color: #000000; text-decoration-color: #000000; font-weight: bold\">0</span><span style=\"color: #000000; text-decoration-color: #000000\"> </span><span style=\"color: #000000; text-decoration-color: #000000; font-weight: bold\">0</span><span style=\"color: #000000; text-decoration-color: #000000\"> </span><span style=\"color: #000000; text-decoration-color: #000000; font-weight: bold\">0</span><span style=\"color: #000000; text-decoration-color: #000000\"> </span><span style=\"color: #000000; text-decoration-color: #000000; font-weight: bold\">0</span><span style=\"color: #000000; text-decoration-color: #000000\"> </span><span style=\"color: #000000; text-decoration-color: #000000; font-weight: bold\">0</span><span style=\"color: #000000; text-decoration-color: #000000\"> </span><span style=\"color: #000000; text-decoration-color: #000000; font-weight: bold\">0</span><span style=\"color: #000000; text-decoration-color: #000000; font-weight: bold\">]</span>\n",
       "<span style=\"color: #000000; text-decoration-color: #000000\"> </span><span style=\"color: #000000; text-decoration-color: #000000; font-weight: bold\">[</span><span style=\"color: #000000; text-decoration-color: #000000; font-weight: bold\">1</span><span style=\"color: #000000; text-decoration-color: #000000\"> </span><span style=\"color: #000000; text-decoration-color: #000000; font-weight: bold\">0</span><span style=\"color: #000000; text-decoration-color: #000000\"> </span><span style=\"color: #000000; text-decoration-color: #000000; font-weight: bold\">1</span><span style=\"color: #000000; text-decoration-color: #000000\"> </span><span style=\"color: #000000; text-decoration-color: #000000; font-weight: bold\">1</span><span style=\"color: #000000; text-decoration-color: #000000\"> </span><span style=\"color: #000000; text-decoration-color: #000000; font-weight: bold\">1</span><span style=\"color: #000000; text-decoration-color: #000000\"> </span><span style=\"color: #000000; text-decoration-color: #000000; font-weight: bold\">0</span><span style=\"color: #000000; text-decoration-color: #000000\"> </span><span style=\"color: #000000; text-decoration-color: #000000; font-weight: bold\">0</span><span style=\"color: #000000; text-decoration-color: #000000\"> </span><span style=\"color: #000000; text-decoration-color: #000000; font-weight: bold\">1</span><span style=\"color: #000000; text-decoration-color: #000000\"> </span><span style=\"color: #000000; text-decoration-color: #000000; font-weight: bold\">0</span><span style=\"color: #000000; text-decoration-color: #000000\"> </span><span style=\"color: #000000; text-decoration-color: #000000; font-weight: bold\">0</span><span style=\"color: #000000; text-decoration-color: #000000\"> </span><span style=\"color: #000000; text-decoration-color: #000000; font-weight: bold\">0</span><span style=\"color: #000000; text-decoration-color: #000000\"> </span><span style=\"color: #000000; text-decoration-color: #000000; font-weight: bold\">0</span><span style=\"color: #000000; text-decoration-color: #000000\"> </span><span style=\"color: #000000; text-decoration-color: #000000; font-weight: bold\">1</span><span style=\"color: #000000; text-decoration-color: #000000; font-weight: bold\">]</span>\n",
       "<span style=\"color: #000000; text-decoration-color: #000000\"> </span><span style=\"color: #000000; text-decoration-color: #000000; font-weight: bold\">[</span><span style=\"color: #000000; text-decoration-color: #000000; font-weight: bold\">1</span><span style=\"color: #000000; text-decoration-color: #000000\"> </span><span style=\"color: #000000; text-decoration-color: #000000; font-weight: bold\">1</span><span style=\"color: #000000; text-decoration-color: #000000\"> </span><span style=\"color: #000000; text-decoration-color: #000000; font-weight: bold\">1</span><span style=\"color: #000000; text-decoration-color: #000000\"> </span><span style=\"color: #000000; text-decoration-color: #000000; font-weight: bold\">1</span><span style=\"color: #000000; text-decoration-color: #000000\"> </span><span style=\"color: #000000; text-decoration-color: #000000; font-weight: bold\">1</span><span style=\"color: #000000; text-decoration-color: #000000\"> </span><span style=\"color: #000000; text-decoration-color: #000000; font-weight: bold\">0</span><span style=\"color: #000000; text-decoration-color: #000000\"> </span><span style=\"color: #000000; text-decoration-color: #000000; font-weight: bold\">0</span><span style=\"color: #000000; text-decoration-color: #000000\"> </span><span style=\"color: #000000; text-decoration-color: #000000; font-weight: bold\">0</span><span style=\"color: #000000; text-decoration-color: #000000\"> </span><span style=\"color: #000000; text-decoration-color: #000000; font-weight: bold\">1</span><span style=\"color: #000000; text-decoration-color: #000000\"> </span><span style=\"color: #000000; text-decoration-color: #000000; font-weight: bold\">1</span><span style=\"color: #000000; text-decoration-color: #000000\"> </span><span style=\"color: #000000; text-decoration-color: #000000; font-weight: bold\">1</span><span style=\"color: #000000; text-decoration-color: #000000\"> </span><span style=\"color: #000000; text-decoration-color: #000000; font-weight: bold\">0</span><span style=\"color: #000000; text-decoration-color: #000000\"> </span><span style=\"color: #000000; text-decoration-color: #000000; font-weight: bold\">1</span><span style=\"color: #000000; text-decoration-color: #000000; font-weight: bold\">]</span>\n",
       "<span style=\"color: #000000; text-decoration-color: #000000\"> </span><span style=\"color: #000000; text-decoration-color: #000000; font-weight: bold\">[</span><span style=\"color: #000000; text-decoration-color: #000000; font-weight: bold\">0</span><span style=\"color: #000000; text-decoration-color: #000000\"> </span><span style=\"color: #000000; text-decoration-color: #000000; font-weight: bold\">0</span><span style=\"color: #000000; text-decoration-color: #000000\"> </span><span style=\"color: #000000; text-decoration-color: #000000; font-weight: bold\">0</span><span style=\"color: #000000; text-decoration-color: #000000\"> </span><span style=\"color: #000000; text-decoration-color: #000000; font-weight: bold\">1</span><span style=\"color: #000000; text-decoration-color: #000000\"> </span><span style=\"color: #000000; text-decoration-color: #000000; font-weight: bold\">1</span><span style=\"color: #000000; text-decoration-color: #000000\"> </span><span style=\"color: #000000; text-decoration-color: #000000; font-weight: bold\">0</span><span style=\"color: #000000; text-decoration-color: #000000\"> </span><span style=\"color: #000000; text-decoration-color: #000000; font-weight: bold\">1</span><span style=\"color: #000000; text-decoration-color: #000000\"> </span><span style=\"color: #000000; text-decoration-color: #000000; font-weight: bold\">1</span><span style=\"color: #000000; text-decoration-color: #000000\"> </span><span style=\"color: #000000; text-decoration-color: #000000; font-weight: bold\">0</span><span style=\"color: #000000; text-decoration-color: #000000\"> </span><span style=\"color: #000000; text-decoration-color: #000000; font-weight: bold\">1</span><span style=\"color: #000000; text-decoration-color: #000000\"> </span><span style=\"color: #000000; text-decoration-color: #000000; font-weight: bold\">0</span><span style=\"color: #000000; text-decoration-color: #000000\"> </span><span style=\"color: #000000; text-decoration-color: #000000; font-weight: bold\">0</span><span style=\"color: #000000; text-decoration-color: #000000\"> </span><span style=\"color: #000000; text-decoration-color: #000000; font-weight: bold\">0</span><span style=\"color: #000000; text-decoration-color: #000000; font-weight: bold\">]]</span>\n",
       "</pre>\n"
      ],
      "text/plain": [
       "\u001b[1;35mprevious population\u001b[0m \n",
       " \u001b[1;30m[\u001b[0m\u001b[1;30m[\u001b[0m\u001b[1;30m0\u001b[0m\u001b[30m \u001b[0m\u001b[1;30m1\u001b[0m\u001b[30m \u001b[0m\u001b[1;30m1\u001b[0m\u001b[30m \u001b[0m\u001b[1;30m0\u001b[0m\u001b[30m \u001b[0m\u001b[1;30m0\u001b[0m\u001b[30m \u001b[0m\u001b[1;30m1\u001b[0m\u001b[30m \u001b[0m\u001b[1;30m1\u001b[0m\u001b[30m \u001b[0m\u001b[1;30m1\u001b[0m\u001b[30m \u001b[0m\u001b[1;30m0\u001b[0m\u001b[30m \u001b[0m\u001b[1;30m1\u001b[0m\u001b[30m \u001b[0m\u001b[1;30m1\u001b[0m\u001b[30m \u001b[0m\u001b[1;30m0\u001b[0m\u001b[30m \u001b[0m\u001b[1;30m0\u001b[0m\u001b[1;30m]\u001b[0m\n",
       "\u001b[30m \u001b[0m\u001b[1;30m[\u001b[0m\u001b[1;30m0\u001b[0m\u001b[30m \u001b[0m\u001b[1;30m0\u001b[0m\u001b[30m \u001b[0m\u001b[1;30m0\u001b[0m\u001b[30m \u001b[0m\u001b[1;30m1\u001b[0m\u001b[30m \u001b[0m\u001b[1;30m0\u001b[0m\u001b[30m \u001b[0m\u001b[1;30m0\u001b[0m\u001b[30m \u001b[0m\u001b[1;30m0\u001b[0m\u001b[30m \u001b[0m\u001b[1;30m0\u001b[0m\u001b[30m \u001b[0m\u001b[1;30m1\u001b[0m\u001b[30m \u001b[0m\u001b[1;30m0\u001b[0m\u001b[30m \u001b[0m\u001b[1;30m1\u001b[0m\u001b[30m \u001b[0m\u001b[1;30m0\u001b[0m\u001b[30m \u001b[0m\u001b[1;30m0\u001b[0m\u001b[1;30m]\u001b[0m\n",
       "\u001b[30m \u001b[0m\u001b[1;30m[\u001b[0m\u001b[1;30m0\u001b[0m\u001b[30m \u001b[0m\u001b[1;30m1\u001b[0m\u001b[30m \u001b[0m\u001b[1;30m1\u001b[0m\u001b[30m \u001b[0m\u001b[1;30m0\u001b[0m\u001b[30m \u001b[0m\u001b[1;30m0\u001b[0m\u001b[30m \u001b[0m\u001b[1;30m1\u001b[0m\u001b[30m \u001b[0m\u001b[1;30m0\u001b[0m\u001b[30m \u001b[0m\u001b[1;30m0\u001b[0m\u001b[30m \u001b[0m\u001b[1;30m0\u001b[0m\u001b[30m \u001b[0m\u001b[1;30m0\u001b[0m\u001b[30m \u001b[0m\u001b[1;30m0\u001b[0m\u001b[30m \u001b[0m\u001b[1;30m0\u001b[0m\u001b[30m \u001b[0m\u001b[1;30m1\u001b[0m\u001b[1;30m]\u001b[0m\n",
       "\u001b[30m \u001b[0m\u001b[1;30m[\u001b[0m\u001b[1;30m1\u001b[0m\u001b[30m \u001b[0m\u001b[1;30m0\u001b[0m\u001b[30m \u001b[0m\u001b[1;30m0\u001b[0m\u001b[30m \u001b[0m\u001b[1;30m1\u001b[0m\u001b[30m \u001b[0m\u001b[1;30m1\u001b[0m\u001b[30m \u001b[0m\u001b[1;30m1\u001b[0m\u001b[30m \u001b[0m\u001b[1;30m1\u001b[0m\u001b[30m \u001b[0m\u001b[1;30m1\u001b[0m\u001b[30m \u001b[0m\u001b[1;30m0\u001b[0m\u001b[30m \u001b[0m\u001b[1;30m0\u001b[0m\u001b[30m \u001b[0m\u001b[1;30m0\u001b[0m\u001b[30m \u001b[0m\u001b[1;30m0\u001b[0m\u001b[30m \u001b[0m\u001b[1;30m0\u001b[0m\u001b[1;30m]\u001b[0m\n",
       "\u001b[30m \u001b[0m\u001b[1;30m[\u001b[0m\u001b[1;30m1\u001b[0m\u001b[30m \u001b[0m\u001b[1;30m0\u001b[0m\u001b[30m \u001b[0m\u001b[1;30m0\u001b[0m\u001b[30m \u001b[0m\u001b[1;30m0\u001b[0m\u001b[30m \u001b[0m\u001b[1;30m0\u001b[0m\u001b[30m \u001b[0m\u001b[1;30m0\u001b[0m\u001b[30m \u001b[0m\u001b[1;30m1\u001b[0m\u001b[30m \u001b[0m\u001b[1;30m1\u001b[0m\u001b[30m \u001b[0m\u001b[1;30m1\u001b[0m\u001b[30m \u001b[0m\u001b[1;30m0\u001b[0m\u001b[30m \u001b[0m\u001b[1;30m0\u001b[0m\u001b[30m \u001b[0m\u001b[1;30m0\u001b[0m\u001b[30m \u001b[0m\u001b[1;30m1\u001b[0m\u001b[1;30m]\u001b[0m\n",
       "\u001b[30m \u001b[0m\u001b[1;30m[\u001b[0m\u001b[1;30m0\u001b[0m\u001b[30m \u001b[0m\u001b[1;30m1\u001b[0m\u001b[30m \u001b[0m\u001b[1;30m0\u001b[0m\u001b[30m \u001b[0m\u001b[1;30m0\u001b[0m\u001b[30m \u001b[0m\u001b[1;30m0\u001b[0m\u001b[30m \u001b[0m\u001b[1;30m1\u001b[0m\u001b[30m \u001b[0m\u001b[1;30m0\u001b[0m\u001b[30m \u001b[0m\u001b[1;30m1\u001b[0m\u001b[30m \u001b[0m\u001b[1;30m1\u001b[0m\u001b[30m \u001b[0m\u001b[1;30m0\u001b[0m\u001b[30m \u001b[0m\u001b[1;30m1\u001b[0m\u001b[30m \u001b[0m\u001b[1;30m1\u001b[0m\u001b[30m \u001b[0m\u001b[1;30m1\u001b[0m\u001b[1;30m]\u001b[0m\n",
       "\u001b[30m \u001b[0m\u001b[1;30m[\u001b[0m\u001b[1;30m1\u001b[0m\u001b[30m \u001b[0m\u001b[1;30m1\u001b[0m\u001b[30m \u001b[0m\u001b[1;30m1\u001b[0m\u001b[30m \u001b[0m\u001b[1;30m1\u001b[0m\u001b[30m \u001b[0m\u001b[1;30m0\u001b[0m\u001b[30m \u001b[0m\u001b[1;30m1\u001b[0m\u001b[30m \u001b[0m\u001b[1;30m0\u001b[0m\u001b[30m \u001b[0m\u001b[1;30m0\u001b[0m\u001b[30m \u001b[0m\u001b[1;30m0\u001b[0m\u001b[30m \u001b[0m\u001b[1;30m0\u001b[0m\u001b[30m \u001b[0m\u001b[1;30m0\u001b[0m\u001b[30m \u001b[0m\u001b[1;30m0\u001b[0m\u001b[30m \u001b[0m\u001b[1;30m0\u001b[0m\u001b[1;30m]\u001b[0m\n",
       "\u001b[30m \u001b[0m\u001b[1;30m[\u001b[0m\u001b[1;30m1\u001b[0m\u001b[30m \u001b[0m\u001b[1;30m0\u001b[0m\u001b[30m \u001b[0m\u001b[1;30m1\u001b[0m\u001b[30m \u001b[0m\u001b[1;30m1\u001b[0m\u001b[30m \u001b[0m\u001b[1;30m1\u001b[0m\u001b[30m \u001b[0m\u001b[1;30m0\u001b[0m\u001b[30m \u001b[0m\u001b[1;30m0\u001b[0m\u001b[30m \u001b[0m\u001b[1;30m1\u001b[0m\u001b[30m \u001b[0m\u001b[1;30m0\u001b[0m\u001b[30m \u001b[0m\u001b[1;30m0\u001b[0m\u001b[30m \u001b[0m\u001b[1;30m0\u001b[0m\u001b[30m \u001b[0m\u001b[1;30m0\u001b[0m\u001b[30m \u001b[0m\u001b[1;30m1\u001b[0m\u001b[1;30m]\u001b[0m\n",
       "\u001b[30m \u001b[0m\u001b[1;30m[\u001b[0m\u001b[1;30m1\u001b[0m\u001b[30m \u001b[0m\u001b[1;30m1\u001b[0m\u001b[30m \u001b[0m\u001b[1;30m1\u001b[0m\u001b[30m \u001b[0m\u001b[1;30m1\u001b[0m\u001b[30m \u001b[0m\u001b[1;30m1\u001b[0m\u001b[30m \u001b[0m\u001b[1;30m0\u001b[0m\u001b[30m \u001b[0m\u001b[1;30m0\u001b[0m\u001b[30m \u001b[0m\u001b[1;30m0\u001b[0m\u001b[30m \u001b[0m\u001b[1;30m1\u001b[0m\u001b[30m \u001b[0m\u001b[1;30m1\u001b[0m\u001b[30m \u001b[0m\u001b[1;30m1\u001b[0m\u001b[30m \u001b[0m\u001b[1;30m0\u001b[0m\u001b[30m \u001b[0m\u001b[1;30m1\u001b[0m\u001b[1;30m]\u001b[0m\n",
       "\u001b[30m \u001b[0m\u001b[1;30m[\u001b[0m\u001b[1;30m0\u001b[0m\u001b[30m \u001b[0m\u001b[1;30m0\u001b[0m\u001b[30m \u001b[0m\u001b[1;30m0\u001b[0m\u001b[30m \u001b[0m\u001b[1;30m1\u001b[0m\u001b[30m \u001b[0m\u001b[1;30m1\u001b[0m\u001b[30m \u001b[0m\u001b[1;30m0\u001b[0m\u001b[30m \u001b[0m\u001b[1;30m1\u001b[0m\u001b[30m \u001b[0m\u001b[1;30m1\u001b[0m\u001b[30m \u001b[0m\u001b[1;30m0\u001b[0m\u001b[30m \u001b[0m\u001b[1;30m1\u001b[0m\u001b[30m \u001b[0m\u001b[1;30m0\u001b[0m\u001b[30m \u001b[0m\u001b[1;30m0\u001b[0m\u001b[30m \u001b[0m\u001b[1;30m0\u001b[0m\u001b[1;30m]\u001b[0m\u001b[1;30m]\u001b[0m\n"
      ]
     },
     "metadata": {},
     "output_type": "display_data"
    }
   ],
   "source": [
    "population = initial_population[0:10]\n",
    "                            #   Train Score, Test Score\n",
    "population_scores = np.array([ [0.85211268,  0.72222222],\n",
    "                               [0.87323944,  0.83333333],\n",
    "                               [0.91549296,  0.80555556],\n",
    "                               [0.8028169 ,  0.86111111],\n",
    "                               [0.97183099,  0.86111111],\n",
    "                               [0.88732394,  0.94444444],\n",
    "                               [0.94366197,  0.88888889],\n",
    "                               [0.95774648,  0.94444444],\n",
    "                               [0.88732394,  0.91666667],\n",
    "                               [0.85211268,  0.72222222]])\n",
    "best_chromosome_index = np.argmax(population_scores[:, 0])\n",
    "\n",
    "new_population = [population[best_chromosome_index]]\n",
    "while len(new_population) != args.n_population:\n",
    "    k_chromosomes = np.random.randint(len(population), size = args.tournament_k)\n",
    "    best_of_tournament_index = np.argmax(population_scores[k_chromosomes])\n",
    "    new_population.append(population[best_of_tournament_index])\n",
    "    \n",
    "rich.print('[green][bold]new population: ', '\\n', f'[black]{np.array(new_population[0:10])}')\n",
    "rich.print('[magenta][bold]previous population', '\\n', f'[black]{population}')"
   ]
  },
  {
   "cell_type": "markdown",
   "metadata": {},
   "source": [
    "### 2-4. Step 4: Crossover & Mutation\n",
    "#### Crossover 교배\n",
    "- 선택된 부모 염색체로부터 자식세대를 재생산해내는 과정입니다. \n",
    "- 앞 단계에서 선택된 부모 염색체들의 유전자 정보를 서로 교환하여 새로운 자식 염색체들을 최종적으로 생성해냅니다.\n",
    "- 본 튜토리얼에서는 교배율을 Hyperparameter로 지정하여, 얼마나 많은 변수들을 교환하여 자식 염색체를 생성해낼 지를 자유롭게 지정할 수 있게 하였습니다.\n",
    "- 본 튜토리얼에서 사용된 교배율(crossover_rate)은 0.7입니다.\n",
    "\n",
    "#### Mutation 돌연변이\n",
    "- 돌연변이는 세대가 진화해 가는 과정에서 다양성을 확보하기 위한 장치입니다.\n",
    "- 특정 유전자의 정보를 낮은 확률로 반대 값으로 변환하는 과정을 통해 돌연변이를 유도합니다.\n",
    "- 돌연변이를 통해 현재 해가 Local Optimum에서 탈출할 수 있는 기회를 제공하지만, 너무 높은 돌연변이율은 유전 알고리즘의 convergence 속도를 늦추기에 주로 0.01 이하의 값을 사용합니다.\n",
    "- 본 튜토리얼에서는 돌연변이율을 0.8인 매우 높은 값으로 두어, 결과가 어떠한지를 해석해보고자 합니다."
   ]
  },
  {
   "cell_type": "markdown",
   "metadata": {},
   "source": [
    "- 본 튜토리얼에서는 교배를 거친 뒤 돌연변이를 발생시켜 후세대(new_population)를 구성합니다. 이때 class 내부에 정의된 crossover와 mutation 함수는 아래와 같습니다."
   ]
  },
  {
   "cell_type": "code",
   "execution_count": 120,
   "metadata": {},
   "outputs": [],
   "source": [
    "def crossover(self, population):\n",
    "    # Define the number of crosses\n",
    "    n_crosses = int(self.crossover_rate * int(self.n_population / 2))\n",
    "\n",
    "    # Make a copy from current population\n",
    "    crossover_population = population.copy()\n",
    "\n",
    "    # Make n_crosses crosses\n",
    "    for i in range(0, n_crosses*2, 2):\n",
    "        cut_index = np.random.randint(1, self.X_train.shape[1])\n",
    "        tmp = crossover_population[i, cut_index:].copy()\n",
    "        crossover_population[i, cut_index:], crossover_population[i+1, cut_index:] = crossover_population[i+1, cut_index:], tmp\n",
    "        # Avoid null chromosomes\n",
    "        if not all(crossover_population[i]):\n",
    "            crossover_population[i] = population[i]\n",
    "        if not all(crossover_population[i+1]):\n",
    "            crossover_population[i+1] = population[i+1]\n",
    "\n",
    "    return crossover_population"
   ]
  },
  {
   "cell_type": "code",
   "execution_count": 121,
   "metadata": {},
   "outputs": [],
   "source": [
    "def mutation(self, population):\n",
    "    # Define number of mutations to do\n",
    "    n_mutations = int(\n",
    "        self.mutation_rate * self.n_population * self.X_train.shape[1])\n",
    "\n",
    "    # Mutating n_mutations genes\n",
    "    for _ in range(n_mutations):\n",
    "        chromosome_index = np.random.randint(0, self.n_population)\n",
    "        gene_index = np.random.randint(0, self.X_train.shape[1])\n",
    "        population[chromosome_index, gene_index] = 0 if \\\n",
    "            population[chromosome_index, gene_index] == 1 else 1\n",
    "\n",
    "    return population"
   ]
  },
  {
   "cell_type": "markdown",
   "metadata": {},
   "source": [
    "- 예시를 통해 교배와 돌연변이를 거친 결과를 각각 보겠습니다. Step 3에서 도출된 new_generation 염색체를 대상으로 진행합니다."
   ]
  },
  {
   "cell_type": "markdown",
   "metadata": {},
   "source": [
    "__Crossover 교배__"
   ]
  },
  {
   "cell_type": "code",
   "execution_count": 133,
   "metadata": {},
   "outputs": [
    {
     "data": {
      "text/html": [
       "<pre style=\"white-space:pre;overflow-x:auto;line-height:normal;font-family:Menlo,'DejaVu Sans Mono',consolas,'Courier New',monospace\"><span style=\"color: #008000; text-decoration-color: #008000; font-weight: bold\">crossovered population: </span> \n",
       " <span style=\"color: #000000; text-decoration-color: #000000; font-weight: bold\">[[</span><span style=\"color: #000000; text-decoration-color: #000000; font-weight: bold\">0</span><span style=\"color: #000000; text-decoration-color: #000000\"> </span><span style=\"color: #000000; text-decoration-color: #000000; font-weight: bold\">1</span><span style=\"color: #000000; text-decoration-color: #000000\"> </span><span style=\"color: #000000; text-decoration-color: #000000; font-weight: bold\">1</span><span style=\"color: #000000; text-decoration-color: #000000\"> </span><span style=\"color: #000000; text-decoration-color: #000000; font-weight: bold\">0</span><span style=\"color: #000000; text-decoration-color: #000000\"> </span><span style=\"color: #000000; text-decoration-color: #000000; font-weight: bold\">0</span><span style=\"color: #000000; text-decoration-color: #000000\"> </span><span style=\"color: #000000; text-decoration-color: #000000; font-weight: bold\">1</span><span style=\"color: #000000; text-decoration-color: #000000\"> </span><span style=\"color: #000000; text-decoration-color: #000000; font-weight: bold\">1</span><span style=\"color: #000000; text-decoration-color: #000000\"> </span><span style=\"color: #000000; text-decoration-color: #000000; font-weight: bold\">1</span><span style=\"color: #000000; text-decoration-color: #000000\"> </span><span style=\"color: #000000; text-decoration-color: #000000; font-weight: bold\">0</span><span style=\"color: #000000; text-decoration-color: #000000\"> </span><span style=\"color: #000000; text-decoration-color: #000000; font-weight: bold\">1</span><span style=\"color: #000000; text-decoration-color: #000000\"> </span><span style=\"color: #000000; text-decoration-color: #000000; font-weight: bold\">1</span><span style=\"color: #000000; text-decoration-color: #000000\"> </span><span style=\"color: #000000; text-decoration-color: #000000; font-weight: bold\">0</span><span style=\"color: #000000; text-decoration-color: #000000\"> </span><span style=\"color: #000000; text-decoration-color: #000000; font-weight: bold\">0</span><span style=\"color: #000000; text-decoration-color: #000000; font-weight: bold\">]</span>\n",
       "<span style=\"color: #000000; text-decoration-color: #000000\"> </span><span style=\"color: #000000; text-decoration-color: #000000; font-weight: bold\">[</span><span style=\"color: #000000; text-decoration-color: #000000; font-weight: bold\">0</span><span style=\"color: #000000; text-decoration-color: #000000\"> </span><span style=\"color: #000000; text-decoration-color: #000000; font-weight: bold\">0</span><span style=\"color: #000000; text-decoration-color: #000000\"> </span><span style=\"color: #000000; text-decoration-color: #000000; font-weight: bold\">0</span><span style=\"color: #000000; text-decoration-color: #000000\"> </span><span style=\"color: #000000; text-decoration-color: #000000; font-weight: bold\">1</span><span style=\"color: #000000; text-decoration-color: #000000\"> </span><span style=\"color: #000000; text-decoration-color: #000000; font-weight: bold\">0</span><span style=\"color: #000000; text-decoration-color: #000000\"> </span><span style=\"color: #000000; text-decoration-color: #000000; font-weight: bold\">0</span><span style=\"color: #000000; text-decoration-color: #000000\"> </span><span style=\"color: #000000; text-decoration-color: #000000; font-weight: bold\">0</span><span style=\"color: #000000; text-decoration-color: #000000\"> </span><span style=\"color: #000000; text-decoration-color: #000000; font-weight: bold\">0</span><span style=\"color: #000000; text-decoration-color: #000000\"> </span><span style=\"color: #000000; text-decoration-color: #000000; font-weight: bold\">1</span><span style=\"color: #000000; text-decoration-color: #000000\"> </span><span style=\"color: #000000; text-decoration-color: #000000; font-weight: bold\">0</span><span style=\"color: #000000; text-decoration-color: #000000\"> </span><span style=\"color: #000000; text-decoration-color: #000000; font-weight: bold\">1</span><span style=\"color: #000000; text-decoration-color: #000000\"> </span><span style=\"color: #000000; text-decoration-color: #000000; font-weight: bold\">0</span><span style=\"color: #000000; text-decoration-color: #000000\"> </span><span style=\"color: #000000; text-decoration-color: #000000; font-weight: bold\">0</span><span style=\"color: #000000; text-decoration-color: #000000; font-weight: bold\">]</span>\n",
       "<span style=\"color: #000000; text-decoration-color: #000000\"> </span><span style=\"color: #000000; text-decoration-color: #000000; font-weight: bold\">[</span><span style=\"color: #000000; text-decoration-color: #000000; font-weight: bold\">0</span><span style=\"color: #000000; text-decoration-color: #000000\"> </span><span style=\"color: #000000; text-decoration-color: #000000; font-weight: bold\">1</span><span style=\"color: #000000; text-decoration-color: #000000\"> </span><span style=\"color: #000000; text-decoration-color: #000000; font-weight: bold\">1</span><span style=\"color: #000000; text-decoration-color: #000000\"> </span><span style=\"color: #000000; text-decoration-color: #000000; font-weight: bold\">0</span><span style=\"color: #000000; text-decoration-color: #000000\"> </span><span style=\"color: #000000; text-decoration-color: #000000; font-weight: bold\">0</span><span style=\"color: #000000; text-decoration-color: #000000\"> </span><span style=\"color: #000000; text-decoration-color: #000000; font-weight: bold\">1</span><span style=\"color: #000000; text-decoration-color: #000000\"> </span><span style=\"color: #000000; text-decoration-color: #000000; font-weight: bold\">0</span><span style=\"color: #000000; text-decoration-color: #000000\"> </span><span style=\"color: #000000; text-decoration-color: #000000; font-weight: bold\">0</span><span style=\"color: #000000; text-decoration-color: #000000\"> </span><span style=\"color: #000000; text-decoration-color: #000000; font-weight: bold\">0</span><span style=\"color: #000000; text-decoration-color: #000000\"> </span><span style=\"color: #000000; text-decoration-color: #000000; font-weight: bold\">0</span><span style=\"color: #000000; text-decoration-color: #000000\"> </span><span style=\"color: #000000; text-decoration-color: #000000; font-weight: bold\">0</span><span style=\"color: #000000; text-decoration-color: #000000\"> </span><span style=\"color: #000000; text-decoration-color: #000000; font-weight: bold\">0</span><span style=\"color: #000000; text-decoration-color: #000000\"> </span><span style=\"color: #000000; text-decoration-color: #000000; font-weight: bold\">1</span><span style=\"color: #000000; text-decoration-color: #000000; font-weight: bold\">]</span>\n",
       "<span style=\"color: #000000; text-decoration-color: #000000\"> </span><span style=\"color: #000000; text-decoration-color: #000000; font-weight: bold\">[</span><span style=\"color: #000000; text-decoration-color: #000000; font-weight: bold\">1</span><span style=\"color: #000000; text-decoration-color: #000000\"> </span><span style=\"color: #000000; text-decoration-color: #000000; font-weight: bold\">0</span><span style=\"color: #000000; text-decoration-color: #000000\"> </span><span style=\"color: #000000; text-decoration-color: #000000; font-weight: bold\">0</span><span style=\"color: #000000; text-decoration-color: #000000\"> </span><span style=\"color: #000000; text-decoration-color: #000000; font-weight: bold\">1</span><span style=\"color: #000000; text-decoration-color: #000000\"> </span><span style=\"color: #000000; text-decoration-color: #000000; font-weight: bold\">1</span><span style=\"color: #000000; text-decoration-color: #000000\"> </span><span style=\"color: #000000; text-decoration-color: #000000; font-weight: bold\">1</span><span style=\"color: #000000; text-decoration-color: #000000\"> </span><span style=\"color: #000000; text-decoration-color: #000000; font-weight: bold\">1</span><span style=\"color: #000000; text-decoration-color: #000000\"> </span><span style=\"color: #000000; text-decoration-color: #000000; font-weight: bold\">1</span><span style=\"color: #000000; text-decoration-color: #000000\"> </span><span style=\"color: #000000; text-decoration-color: #000000; font-weight: bold\">0</span><span style=\"color: #000000; text-decoration-color: #000000\"> </span><span style=\"color: #000000; text-decoration-color: #000000; font-weight: bold\">0</span><span style=\"color: #000000; text-decoration-color: #000000\"> </span><span style=\"color: #000000; text-decoration-color: #000000; font-weight: bold\">0</span><span style=\"color: #000000; text-decoration-color: #000000\"> </span><span style=\"color: #000000; text-decoration-color: #000000; font-weight: bold\">0</span><span style=\"color: #000000; text-decoration-color: #000000\"> </span><span style=\"color: #000000; text-decoration-color: #000000; font-weight: bold\">0</span><span style=\"color: #000000; text-decoration-color: #000000; font-weight: bold\">]</span>\n",
       "<span style=\"color: #000000; text-decoration-color: #000000\"> </span><span style=\"color: #000000; text-decoration-color: #000000; font-weight: bold\">[</span><span style=\"color: #000000; text-decoration-color: #000000; font-weight: bold\">1</span><span style=\"color: #000000; text-decoration-color: #000000\"> </span><span style=\"color: #000000; text-decoration-color: #000000; font-weight: bold\">0</span><span style=\"color: #000000; text-decoration-color: #000000\"> </span><span style=\"color: #000000; text-decoration-color: #000000; font-weight: bold\">0</span><span style=\"color: #000000; text-decoration-color: #000000\"> </span><span style=\"color: #000000; text-decoration-color: #000000; font-weight: bold\">0</span><span style=\"color: #000000; text-decoration-color: #000000\"> </span><span style=\"color: #000000; text-decoration-color: #000000; font-weight: bold\">0</span><span style=\"color: #000000; text-decoration-color: #000000\"> </span><span style=\"color: #000000; text-decoration-color: #000000; font-weight: bold\">0</span><span style=\"color: #000000; text-decoration-color: #000000\"> </span><span style=\"color: #000000; text-decoration-color: #000000; font-weight: bold\">1</span><span style=\"color: #000000; text-decoration-color: #000000\"> </span><span style=\"color: #000000; text-decoration-color: #000000; font-weight: bold\">1</span><span style=\"color: #000000; text-decoration-color: #000000\"> </span><span style=\"color: #000000; text-decoration-color: #000000; font-weight: bold\">1</span><span style=\"color: #000000; text-decoration-color: #000000\"> </span><span style=\"color: #000000; text-decoration-color: #000000; font-weight: bold\">0</span><span style=\"color: #000000; text-decoration-color: #000000\"> </span><span style=\"color: #000000; text-decoration-color: #000000; font-weight: bold\">0</span><span style=\"color: #000000; text-decoration-color: #000000\"> </span><span style=\"color: #000000; text-decoration-color: #000000; font-weight: bold\">0</span><span style=\"color: #000000; text-decoration-color: #000000\"> </span><span style=\"color: #000000; text-decoration-color: #000000; font-weight: bold\">1</span><span style=\"color: #000000; text-decoration-color: #000000; font-weight: bold\">]</span>\n",
       "<span style=\"color: #000000; text-decoration-color: #000000\"> </span><span style=\"color: #000000; text-decoration-color: #000000; font-weight: bold\">[</span><span style=\"color: #000000; text-decoration-color: #000000; font-weight: bold\">0</span><span style=\"color: #000000; text-decoration-color: #000000\"> </span><span style=\"color: #000000; text-decoration-color: #000000; font-weight: bold\">1</span><span style=\"color: #000000; text-decoration-color: #000000\"> </span><span style=\"color: #000000; text-decoration-color: #000000; font-weight: bold\">0</span><span style=\"color: #000000; text-decoration-color: #000000\"> </span><span style=\"color: #000000; text-decoration-color: #000000; font-weight: bold\">0</span><span style=\"color: #000000; text-decoration-color: #000000\"> </span><span style=\"color: #000000; text-decoration-color: #000000; font-weight: bold\">0</span><span style=\"color: #000000; text-decoration-color: #000000\"> </span><span style=\"color: #000000; text-decoration-color: #000000; font-weight: bold\">1</span><span style=\"color: #000000; text-decoration-color: #000000\"> </span><span style=\"color: #000000; text-decoration-color: #000000; font-weight: bold\">0</span><span style=\"color: #000000; text-decoration-color: #000000\"> </span><span style=\"color: #000000; text-decoration-color: #000000; font-weight: bold\">1</span><span style=\"color: #000000; text-decoration-color: #000000\"> </span><span style=\"color: #000000; text-decoration-color: #000000; font-weight: bold\">1</span><span style=\"color: #000000; text-decoration-color: #000000\"> </span><span style=\"color: #000000; text-decoration-color: #000000; font-weight: bold\">0</span><span style=\"color: #000000; text-decoration-color: #000000\"> </span><span style=\"color: #000000; text-decoration-color: #000000; font-weight: bold\">1</span><span style=\"color: #000000; text-decoration-color: #000000\"> </span><span style=\"color: #000000; text-decoration-color: #000000; font-weight: bold\">1</span><span style=\"color: #000000; text-decoration-color: #000000\"> </span><span style=\"color: #000000; text-decoration-color: #000000; font-weight: bold\">1</span><span style=\"color: #000000; text-decoration-color: #000000; font-weight: bold\">]</span>\n",
       "<span style=\"color: #000000; text-decoration-color: #000000\"> </span><span style=\"color: #000000; text-decoration-color: #000000; font-weight: bold\">[</span><span style=\"color: #000000; text-decoration-color: #000000; font-weight: bold\">0</span><span style=\"color: #000000; text-decoration-color: #000000\"> </span><span style=\"color: #000000; text-decoration-color: #000000; font-weight: bold\">0</span><span style=\"color: #000000; text-decoration-color: #000000\"> </span><span style=\"color: #000000; text-decoration-color: #000000; font-weight: bold\">0</span><span style=\"color: #000000; text-decoration-color: #000000\"> </span><span style=\"color: #000000; text-decoration-color: #000000; font-weight: bold\">1</span><span style=\"color: #000000; text-decoration-color: #000000\"> </span><span style=\"color: #000000; text-decoration-color: #000000; font-weight: bold\">0</span><span style=\"color: #000000; text-decoration-color: #000000\"> </span><span style=\"color: #000000; text-decoration-color: #000000; font-weight: bold\">0</span><span style=\"color: #000000; text-decoration-color: #000000\"> </span><span style=\"color: #000000; text-decoration-color: #000000; font-weight: bold\">0</span><span style=\"color: #000000; text-decoration-color: #000000\"> </span><span style=\"color: #000000; text-decoration-color: #000000; font-weight: bold\">0</span><span style=\"color: #000000; text-decoration-color: #000000\"> </span><span style=\"color: #000000; text-decoration-color: #000000; font-weight: bold\">1</span><span style=\"color: #000000; text-decoration-color: #000000\"> </span><span style=\"color: #000000; text-decoration-color: #000000; font-weight: bold\">0</span><span style=\"color: #000000; text-decoration-color: #000000\"> </span><span style=\"color: #000000; text-decoration-color: #000000; font-weight: bold\">1</span><span style=\"color: #000000; text-decoration-color: #000000\"> </span><span style=\"color: #000000; text-decoration-color: #000000; font-weight: bold\">0</span><span style=\"color: #000000; text-decoration-color: #000000\"> </span><span style=\"color: #000000; text-decoration-color: #000000; font-weight: bold\">0</span><span style=\"color: #000000; text-decoration-color: #000000; font-weight: bold\">]</span>\n",
       "<span style=\"color: #000000; text-decoration-color: #000000\"> </span><span style=\"color: #000000; text-decoration-color: #000000; font-weight: bold\">[</span><span style=\"color: #000000; text-decoration-color: #000000; font-weight: bold\">0</span><span style=\"color: #000000; text-decoration-color: #000000\"> </span><span style=\"color: #000000; text-decoration-color: #000000; font-weight: bold\">1</span><span style=\"color: #000000; text-decoration-color: #000000\"> </span><span style=\"color: #000000; text-decoration-color: #000000; font-weight: bold\">1</span><span style=\"color: #000000; text-decoration-color: #000000\"> </span><span style=\"color: #000000; text-decoration-color: #000000; font-weight: bold\">0</span><span style=\"color: #000000; text-decoration-color: #000000\"> </span><span style=\"color: #000000; text-decoration-color: #000000; font-weight: bold\">0</span><span style=\"color: #000000; text-decoration-color: #000000\"> </span><span style=\"color: #000000; text-decoration-color: #000000; font-weight: bold\">1</span><span style=\"color: #000000; text-decoration-color: #000000\"> </span><span style=\"color: #000000; text-decoration-color: #000000; font-weight: bold\">1</span><span style=\"color: #000000; text-decoration-color: #000000\"> </span><span style=\"color: #000000; text-decoration-color: #000000; font-weight: bold\">1</span><span style=\"color: #000000; text-decoration-color: #000000\"> </span><span style=\"color: #000000; text-decoration-color: #000000; font-weight: bold\">0</span><span style=\"color: #000000; text-decoration-color: #000000\"> </span><span style=\"color: #000000; text-decoration-color: #000000; font-weight: bold\">1</span><span style=\"color: #000000; text-decoration-color: #000000\"> </span><span style=\"color: #000000; text-decoration-color: #000000; font-weight: bold\">1</span><span style=\"color: #000000; text-decoration-color: #000000\"> </span><span style=\"color: #000000; text-decoration-color: #000000; font-weight: bold\">0</span><span style=\"color: #000000; text-decoration-color: #000000\"> </span><span style=\"color: #000000; text-decoration-color: #000000; font-weight: bold\">0</span><span style=\"color: #000000; text-decoration-color: #000000; font-weight: bold\">]</span>\n",
       "<span style=\"color: #000000; text-decoration-color: #000000\"> </span><span style=\"color: #000000; text-decoration-color: #000000; font-weight: bold\">[</span><span style=\"color: #000000; text-decoration-color: #000000; font-weight: bold\">1</span><span style=\"color: #000000; text-decoration-color: #000000\"> </span><span style=\"color: #000000; text-decoration-color: #000000; font-weight: bold\">0</span><span style=\"color: #000000; text-decoration-color: #000000\"> </span><span style=\"color: #000000; text-decoration-color: #000000; font-weight: bold\">0</span><span style=\"color: #000000; text-decoration-color: #000000\"> </span><span style=\"color: #000000; text-decoration-color: #000000; font-weight: bold\">1</span><span style=\"color: #000000; text-decoration-color: #000000\"> </span><span style=\"color: #000000; text-decoration-color: #000000; font-weight: bold\">1</span><span style=\"color: #000000; text-decoration-color: #000000\"> </span><span style=\"color: #000000; text-decoration-color: #000000; font-weight: bold\">1</span><span style=\"color: #000000; text-decoration-color: #000000\"> </span><span style=\"color: #000000; text-decoration-color: #000000; font-weight: bold\">1</span><span style=\"color: #000000; text-decoration-color: #000000\"> </span><span style=\"color: #000000; text-decoration-color: #000000; font-weight: bold\">1</span><span style=\"color: #000000; text-decoration-color: #000000\"> </span><span style=\"color: #000000; text-decoration-color: #000000; font-weight: bold\">0</span><span style=\"color: #000000; text-decoration-color: #000000\"> </span><span style=\"color: #000000; text-decoration-color: #000000; font-weight: bold\">0</span><span style=\"color: #000000; text-decoration-color: #000000\"> </span><span style=\"color: #000000; text-decoration-color: #000000; font-weight: bold\">0</span><span style=\"color: #000000; text-decoration-color: #000000\"> </span><span style=\"color: #000000; text-decoration-color: #000000; font-weight: bold\">0</span><span style=\"color: #000000; text-decoration-color: #000000\"> </span><span style=\"color: #000000; text-decoration-color: #000000; font-weight: bold\">0</span><span style=\"color: #000000; text-decoration-color: #000000; font-weight: bold\">]</span>\n",
       "<span style=\"color: #000000; text-decoration-color: #000000\"> </span><span style=\"color: #000000; text-decoration-color: #000000; font-weight: bold\">[</span><span style=\"color: #000000; text-decoration-color: #000000; font-weight: bold\">1</span><span style=\"color: #000000; text-decoration-color: #000000\"> </span><span style=\"color: #000000; text-decoration-color: #000000; font-weight: bold\">0</span><span style=\"color: #000000; text-decoration-color: #000000\"> </span><span style=\"color: #000000; text-decoration-color: #000000; font-weight: bold\">0</span><span style=\"color: #000000; text-decoration-color: #000000\"> </span><span style=\"color: #000000; text-decoration-color: #000000; font-weight: bold\">1</span><span style=\"color: #000000; text-decoration-color: #000000\"> </span><span style=\"color: #000000; text-decoration-color: #000000; font-weight: bold\">1</span><span style=\"color: #000000; text-decoration-color: #000000\"> </span><span style=\"color: #000000; text-decoration-color: #000000; font-weight: bold\">1</span><span style=\"color: #000000; text-decoration-color: #000000\"> </span><span style=\"color: #000000; text-decoration-color: #000000; font-weight: bold\">1</span><span style=\"color: #000000; text-decoration-color: #000000\"> </span><span style=\"color: #000000; text-decoration-color: #000000; font-weight: bold\">1</span><span style=\"color: #000000; text-decoration-color: #000000\"> </span><span style=\"color: #000000; text-decoration-color: #000000; font-weight: bold\">0</span><span style=\"color: #000000; text-decoration-color: #000000\"> </span><span style=\"color: #000000; text-decoration-color: #000000; font-weight: bold\">0</span><span style=\"color: #000000; text-decoration-color: #000000\"> </span><span style=\"color: #000000; text-decoration-color: #000000; font-weight: bold\">0</span><span style=\"color: #000000; text-decoration-color: #000000\"> </span><span style=\"color: #000000; text-decoration-color: #000000; font-weight: bold\">0</span><span style=\"color: #000000; text-decoration-color: #000000\"> </span><span style=\"color: #000000; text-decoration-color: #000000; font-weight: bold\">0</span><span style=\"color: #000000; text-decoration-color: #000000; font-weight: bold\">]]</span>\n",
       "</pre>\n"
      ],
      "text/plain": [
       "\u001b[1;32mcrossovered population: \u001b[0m \n",
       " \u001b[1;30m[\u001b[0m\u001b[1;30m[\u001b[0m\u001b[1;30m0\u001b[0m\u001b[30m \u001b[0m\u001b[1;30m1\u001b[0m\u001b[30m \u001b[0m\u001b[1;30m1\u001b[0m\u001b[30m \u001b[0m\u001b[1;30m0\u001b[0m\u001b[30m \u001b[0m\u001b[1;30m0\u001b[0m\u001b[30m \u001b[0m\u001b[1;30m1\u001b[0m\u001b[30m \u001b[0m\u001b[1;30m1\u001b[0m\u001b[30m \u001b[0m\u001b[1;30m1\u001b[0m\u001b[30m \u001b[0m\u001b[1;30m0\u001b[0m\u001b[30m \u001b[0m\u001b[1;30m1\u001b[0m\u001b[30m \u001b[0m\u001b[1;30m1\u001b[0m\u001b[30m \u001b[0m\u001b[1;30m0\u001b[0m\u001b[30m \u001b[0m\u001b[1;30m0\u001b[0m\u001b[1;30m]\u001b[0m\n",
       "\u001b[30m \u001b[0m\u001b[1;30m[\u001b[0m\u001b[1;30m0\u001b[0m\u001b[30m \u001b[0m\u001b[1;30m0\u001b[0m\u001b[30m \u001b[0m\u001b[1;30m0\u001b[0m\u001b[30m \u001b[0m\u001b[1;30m1\u001b[0m\u001b[30m \u001b[0m\u001b[1;30m0\u001b[0m\u001b[30m \u001b[0m\u001b[1;30m0\u001b[0m\u001b[30m \u001b[0m\u001b[1;30m0\u001b[0m\u001b[30m \u001b[0m\u001b[1;30m0\u001b[0m\u001b[30m \u001b[0m\u001b[1;30m1\u001b[0m\u001b[30m \u001b[0m\u001b[1;30m0\u001b[0m\u001b[30m \u001b[0m\u001b[1;30m1\u001b[0m\u001b[30m \u001b[0m\u001b[1;30m0\u001b[0m\u001b[30m \u001b[0m\u001b[1;30m0\u001b[0m\u001b[1;30m]\u001b[0m\n",
       "\u001b[30m \u001b[0m\u001b[1;30m[\u001b[0m\u001b[1;30m0\u001b[0m\u001b[30m \u001b[0m\u001b[1;30m1\u001b[0m\u001b[30m \u001b[0m\u001b[1;30m1\u001b[0m\u001b[30m \u001b[0m\u001b[1;30m0\u001b[0m\u001b[30m \u001b[0m\u001b[1;30m0\u001b[0m\u001b[30m \u001b[0m\u001b[1;30m1\u001b[0m\u001b[30m \u001b[0m\u001b[1;30m0\u001b[0m\u001b[30m \u001b[0m\u001b[1;30m0\u001b[0m\u001b[30m \u001b[0m\u001b[1;30m0\u001b[0m\u001b[30m \u001b[0m\u001b[1;30m0\u001b[0m\u001b[30m \u001b[0m\u001b[1;30m0\u001b[0m\u001b[30m \u001b[0m\u001b[1;30m0\u001b[0m\u001b[30m \u001b[0m\u001b[1;30m1\u001b[0m\u001b[1;30m]\u001b[0m\n",
       "\u001b[30m \u001b[0m\u001b[1;30m[\u001b[0m\u001b[1;30m1\u001b[0m\u001b[30m \u001b[0m\u001b[1;30m0\u001b[0m\u001b[30m \u001b[0m\u001b[1;30m0\u001b[0m\u001b[30m \u001b[0m\u001b[1;30m1\u001b[0m\u001b[30m \u001b[0m\u001b[1;30m1\u001b[0m\u001b[30m \u001b[0m\u001b[1;30m1\u001b[0m\u001b[30m \u001b[0m\u001b[1;30m1\u001b[0m\u001b[30m \u001b[0m\u001b[1;30m1\u001b[0m\u001b[30m \u001b[0m\u001b[1;30m0\u001b[0m\u001b[30m \u001b[0m\u001b[1;30m0\u001b[0m\u001b[30m \u001b[0m\u001b[1;30m0\u001b[0m\u001b[30m \u001b[0m\u001b[1;30m0\u001b[0m\u001b[30m \u001b[0m\u001b[1;30m0\u001b[0m\u001b[1;30m]\u001b[0m\n",
       "\u001b[30m \u001b[0m\u001b[1;30m[\u001b[0m\u001b[1;30m1\u001b[0m\u001b[30m \u001b[0m\u001b[1;30m0\u001b[0m\u001b[30m \u001b[0m\u001b[1;30m0\u001b[0m\u001b[30m \u001b[0m\u001b[1;30m0\u001b[0m\u001b[30m \u001b[0m\u001b[1;30m0\u001b[0m\u001b[30m \u001b[0m\u001b[1;30m0\u001b[0m\u001b[30m \u001b[0m\u001b[1;30m1\u001b[0m\u001b[30m \u001b[0m\u001b[1;30m1\u001b[0m\u001b[30m \u001b[0m\u001b[1;30m1\u001b[0m\u001b[30m \u001b[0m\u001b[1;30m0\u001b[0m\u001b[30m \u001b[0m\u001b[1;30m0\u001b[0m\u001b[30m \u001b[0m\u001b[1;30m0\u001b[0m\u001b[30m \u001b[0m\u001b[1;30m1\u001b[0m\u001b[1;30m]\u001b[0m\n",
       "\u001b[30m \u001b[0m\u001b[1;30m[\u001b[0m\u001b[1;30m0\u001b[0m\u001b[30m \u001b[0m\u001b[1;30m1\u001b[0m\u001b[30m \u001b[0m\u001b[1;30m0\u001b[0m\u001b[30m \u001b[0m\u001b[1;30m0\u001b[0m\u001b[30m \u001b[0m\u001b[1;30m0\u001b[0m\u001b[30m \u001b[0m\u001b[1;30m1\u001b[0m\u001b[30m \u001b[0m\u001b[1;30m0\u001b[0m\u001b[30m \u001b[0m\u001b[1;30m1\u001b[0m\u001b[30m \u001b[0m\u001b[1;30m1\u001b[0m\u001b[30m \u001b[0m\u001b[1;30m0\u001b[0m\u001b[30m \u001b[0m\u001b[1;30m1\u001b[0m\u001b[30m \u001b[0m\u001b[1;30m1\u001b[0m\u001b[30m \u001b[0m\u001b[1;30m1\u001b[0m\u001b[1;30m]\u001b[0m\n",
       "\u001b[30m \u001b[0m\u001b[1;30m[\u001b[0m\u001b[1;30m0\u001b[0m\u001b[30m \u001b[0m\u001b[1;30m0\u001b[0m\u001b[30m \u001b[0m\u001b[1;30m0\u001b[0m\u001b[30m \u001b[0m\u001b[1;30m1\u001b[0m\u001b[30m \u001b[0m\u001b[1;30m0\u001b[0m\u001b[30m \u001b[0m\u001b[1;30m0\u001b[0m\u001b[30m \u001b[0m\u001b[1;30m0\u001b[0m\u001b[30m \u001b[0m\u001b[1;30m0\u001b[0m\u001b[30m \u001b[0m\u001b[1;30m1\u001b[0m\u001b[30m \u001b[0m\u001b[1;30m0\u001b[0m\u001b[30m \u001b[0m\u001b[1;30m1\u001b[0m\u001b[30m \u001b[0m\u001b[1;30m0\u001b[0m\u001b[30m \u001b[0m\u001b[1;30m0\u001b[0m\u001b[1;30m]\u001b[0m\n",
       "\u001b[30m \u001b[0m\u001b[1;30m[\u001b[0m\u001b[1;30m0\u001b[0m\u001b[30m \u001b[0m\u001b[1;30m1\u001b[0m\u001b[30m \u001b[0m\u001b[1;30m1\u001b[0m\u001b[30m \u001b[0m\u001b[1;30m0\u001b[0m\u001b[30m \u001b[0m\u001b[1;30m0\u001b[0m\u001b[30m \u001b[0m\u001b[1;30m1\u001b[0m\u001b[30m \u001b[0m\u001b[1;30m1\u001b[0m\u001b[30m \u001b[0m\u001b[1;30m1\u001b[0m\u001b[30m \u001b[0m\u001b[1;30m0\u001b[0m\u001b[30m \u001b[0m\u001b[1;30m1\u001b[0m\u001b[30m \u001b[0m\u001b[1;30m1\u001b[0m\u001b[30m \u001b[0m\u001b[1;30m0\u001b[0m\u001b[30m \u001b[0m\u001b[1;30m0\u001b[0m\u001b[1;30m]\u001b[0m\n",
       "\u001b[30m \u001b[0m\u001b[1;30m[\u001b[0m\u001b[1;30m1\u001b[0m\u001b[30m \u001b[0m\u001b[1;30m0\u001b[0m\u001b[30m \u001b[0m\u001b[1;30m0\u001b[0m\u001b[30m \u001b[0m\u001b[1;30m1\u001b[0m\u001b[30m \u001b[0m\u001b[1;30m1\u001b[0m\u001b[30m \u001b[0m\u001b[1;30m1\u001b[0m\u001b[30m \u001b[0m\u001b[1;30m1\u001b[0m\u001b[30m \u001b[0m\u001b[1;30m1\u001b[0m\u001b[30m \u001b[0m\u001b[1;30m0\u001b[0m\u001b[30m \u001b[0m\u001b[1;30m0\u001b[0m\u001b[30m \u001b[0m\u001b[1;30m0\u001b[0m\u001b[30m \u001b[0m\u001b[1;30m0\u001b[0m\u001b[30m \u001b[0m\u001b[1;30m0\u001b[0m\u001b[1;30m]\u001b[0m\n",
       "\u001b[30m \u001b[0m\u001b[1;30m[\u001b[0m\u001b[1;30m1\u001b[0m\u001b[30m \u001b[0m\u001b[1;30m0\u001b[0m\u001b[30m \u001b[0m\u001b[1;30m0\u001b[0m\u001b[30m \u001b[0m\u001b[1;30m1\u001b[0m\u001b[30m \u001b[0m\u001b[1;30m1\u001b[0m\u001b[30m \u001b[0m\u001b[1;30m1\u001b[0m\u001b[30m \u001b[0m\u001b[1;30m1\u001b[0m\u001b[30m \u001b[0m\u001b[1;30m1\u001b[0m\u001b[30m \u001b[0m\u001b[1;30m0\u001b[0m\u001b[30m \u001b[0m\u001b[1;30m0\u001b[0m\u001b[30m \u001b[0m\u001b[1;30m0\u001b[0m\u001b[30m \u001b[0m\u001b[1;30m0\u001b[0m\u001b[30m \u001b[0m\u001b[1;30m0\u001b[0m\u001b[1;30m]\u001b[0m\u001b[1;30m]\u001b[0m\n"
      ]
     },
     "metadata": {},
     "output_type": "display_data"
    },
    {
     "data": {
      "text/html": [
       "<pre style=\"white-space:pre;overflow-x:auto;line-height:normal;font-family:Menlo,'DejaVu Sans Mono',consolas,'Courier New',monospace\"><span style=\"color: #800080; text-decoration-color: #800080; font-weight: bold\">previous new population</span> \n",
       " <span style=\"color: #000000; text-decoration-color: #000000; font-weight: bold\">[[</span><span style=\"color: #000000; text-decoration-color: #000000; font-weight: bold\">1</span><span style=\"color: #000000; text-decoration-color: #000000\"> </span><span style=\"color: #000000; text-decoration-color: #000000; font-weight: bold\">0</span><span style=\"color: #000000; text-decoration-color: #000000\"> </span><span style=\"color: #000000; text-decoration-color: #000000; font-weight: bold\">0</span><span style=\"color: #000000; text-decoration-color: #000000\"> </span><span style=\"color: #000000; text-decoration-color: #000000; font-weight: bold\">0</span><span style=\"color: #000000; text-decoration-color: #000000\"> </span><span style=\"color: #000000; text-decoration-color: #000000; font-weight: bold\">0</span><span style=\"color: #000000; text-decoration-color: #000000\"> </span><span style=\"color: #000000; text-decoration-color: #000000; font-weight: bold\">0</span><span style=\"color: #000000; text-decoration-color: #000000\"> </span><span style=\"color: #000000; text-decoration-color: #000000; font-weight: bold\">1</span><span style=\"color: #000000; text-decoration-color: #000000\"> </span><span style=\"color: #000000; text-decoration-color: #000000; font-weight: bold\">1</span><span style=\"color: #000000; text-decoration-color: #000000\"> </span><span style=\"color: #000000; text-decoration-color: #000000; font-weight: bold\">1</span><span style=\"color: #000000; text-decoration-color: #000000\"> </span><span style=\"color: #000000; text-decoration-color: #000000; font-weight: bold\">0</span><span style=\"color: #000000; text-decoration-color: #000000\"> </span><span style=\"color: #000000; text-decoration-color: #000000; font-weight: bold\">0</span><span style=\"color: #000000; text-decoration-color: #000000\"> </span><span style=\"color: #000000; text-decoration-color: #000000; font-weight: bold\">0</span><span style=\"color: #000000; text-decoration-color: #000000\"> </span><span style=\"color: #000000; text-decoration-color: #000000; font-weight: bold\">1</span><span style=\"color: #000000; text-decoration-color: #000000; font-weight: bold\">]</span>\n",
       "<span style=\"color: #000000; text-decoration-color: #000000\"> </span><span style=\"color: #000000; text-decoration-color: #000000; font-weight: bold\">[</span><span style=\"color: #000000; text-decoration-color: #000000; font-weight: bold\">0</span><span style=\"color: #000000; text-decoration-color: #000000\"> </span><span style=\"color: #000000; text-decoration-color: #000000; font-weight: bold\">1</span><span style=\"color: #000000; text-decoration-color: #000000\"> </span><span style=\"color: #000000; text-decoration-color: #000000; font-weight: bold\">1</span><span style=\"color: #000000; text-decoration-color: #000000\"> </span><span style=\"color: #000000; text-decoration-color: #000000; font-weight: bold\">0</span><span style=\"color: #000000; text-decoration-color: #000000\"> </span><span style=\"color: #000000; text-decoration-color: #000000; font-weight: bold\">0</span><span style=\"color: #000000; text-decoration-color: #000000\"> </span><span style=\"color: #000000; text-decoration-color: #000000; font-weight: bold\">1</span><span style=\"color: #000000; text-decoration-color: #000000\"> </span><span style=\"color: #000000; text-decoration-color: #000000; font-weight: bold\">1</span><span style=\"color: #000000; text-decoration-color: #000000\"> </span><span style=\"color: #000000; text-decoration-color: #000000; font-weight: bold\">1</span><span style=\"color: #000000; text-decoration-color: #000000\"> </span><span style=\"color: #000000; text-decoration-color: #000000; font-weight: bold\">0</span><span style=\"color: #000000; text-decoration-color: #000000\"> </span><span style=\"color: #000000; text-decoration-color: #000000; font-weight: bold\">1</span><span style=\"color: #000000; text-decoration-color: #000000\"> </span><span style=\"color: #000000; text-decoration-color: #000000; font-weight: bold\">1</span><span style=\"color: #000000; text-decoration-color: #000000\"> </span><span style=\"color: #000000; text-decoration-color: #000000; font-weight: bold\">0</span><span style=\"color: #000000; text-decoration-color: #000000\"> </span><span style=\"color: #000000; text-decoration-color: #000000; font-weight: bold\">0</span><span style=\"color: #000000; text-decoration-color: #000000; font-weight: bold\">]</span>\n",
       "<span style=\"color: #000000; text-decoration-color: #000000\"> </span><span style=\"color: #000000; text-decoration-color: #000000; font-weight: bold\">[</span><span style=\"color: #000000; text-decoration-color: #000000; font-weight: bold\">0</span><span style=\"color: #000000; text-decoration-color: #000000\"> </span><span style=\"color: #000000; text-decoration-color: #000000; font-weight: bold\">1</span><span style=\"color: #000000; text-decoration-color: #000000\"> </span><span style=\"color: #000000; text-decoration-color: #000000; font-weight: bold\">1</span><span style=\"color: #000000; text-decoration-color: #000000\"> </span><span style=\"color: #000000; text-decoration-color: #000000; font-weight: bold\">0</span><span style=\"color: #000000; text-decoration-color: #000000\"> </span><span style=\"color: #000000; text-decoration-color: #000000; font-weight: bold\">0</span><span style=\"color: #000000; text-decoration-color: #000000\"> </span><span style=\"color: #000000; text-decoration-color: #000000; font-weight: bold\">1</span><span style=\"color: #000000; text-decoration-color: #000000\"> </span><span style=\"color: #000000; text-decoration-color: #000000; font-weight: bold\">0</span><span style=\"color: #000000; text-decoration-color: #000000\"> </span><span style=\"color: #000000; text-decoration-color: #000000; font-weight: bold\">0</span><span style=\"color: #000000; text-decoration-color: #000000\"> </span><span style=\"color: #000000; text-decoration-color: #000000; font-weight: bold\">0</span><span style=\"color: #000000; text-decoration-color: #000000\"> </span><span style=\"color: #000000; text-decoration-color: #000000; font-weight: bold\">0</span><span style=\"color: #000000; text-decoration-color: #000000\"> </span><span style=\"color: #000000; text-decoration-color: #000000; font-weight: bold\">0</span><span style=\"color: #000000; text-decoration-color: #000000\"> </span><span style=\"color: #000000; text-decoration-color: #000000; font-weight: bold\">0</span><span style=\"color: #000000; text-decoration-color: #000000\"> </span><span style=\"color: #000000; text-decoration-color: #000000; font-weight: bold\">1</span><span style=\"color: #000000; text-decoration-color: #000000; font-weight: bold\">]</span>\n",
       "<span style=\"color: #000000; text-decoration-color: #000000\"> </span><span style=\"color: #000000; text-decoration-color: #000000; font-weight: bold\">[</span><span style=\"color: #000000; text-decoration-color: #000000; font-weight: bold\">0</span><span style=\"color: #000000; text-decoration-color: #000000\"> </span><span style=\"color: #000000; text-decoration-color: #000000; font-weight: bold\">1</span><span style=\"color: #000000; text-decoration-color: #000000\"> </span><span style=\"color: #000000; text-decoration-color: #000000; font-weight: bold\">1</span><span style=\"color: #000000; text-decoration-color: #000000\"> </span><span style=\"color: #000000; text-decoration-color: #000000; font-weight: bold\">0</span><span style=\"color: #000000; text-decoration-color: #000000\"> </span><span style=\"color: #000000; text-decoration-color: #000000; font-weight: bold\">0</span><span style=\"color: #000000; text-decoration-color: #000000\"> </span><span style=\"color: #000000; text-decoration-color: #000000; font-weight: bold\">1</span><span style=\"color: #000000; text-decoration-color: #000000\"> </span><span style=\"color: #000000; text-decoration-color: #000000; font-weight: bold\">0</span><span style=\"color: #000000; text-decoration-color: #000000\"> </span><span style=\"color: #000000; text-decoration-color: #000000; font-weight: bold\">0</span><span style=\"color: #000000; text-decoration-color: #000000\"> </span><span style=\"color: #000000; text-decoration-color: #000000; font-weight: bold\">0</span><span style=\"color: #000000; text-decoration-color: #000000\"> </span><span style=\"color: #000000; text-decoration-color: #000000; font-weight: bold\">0</span><span style=\"color: #000000; text-decoration-color: #000000\"> </span><span style=\"color: #000000; text-decoration-color: #000000; font-weight: bold\">0</span><span style=\"color: #000000; text-decoration-color: #000000\"> </span><span style=\"color: #000000; text-decoration-color: #000000; font-weight: bold\">0</span><span style=\"color: #000000; text-decoration-color: #000000\"> </span><span style=\"color: #000000; text-decoration-color: #000000; font-weight: bold\">1</span><span style=\"color: #000000; text-decoration-color: #000000; font-weight: bold\">]</span>\n",
       "<span style=\"color: #000000; text-decoration-color: #000000\"> </span><span style=\"color: #000000; text-decoration-color: #000000; font-weight: bold\">[</span><span style=\"color: #000000; text-decoration-color: #000000; font-weight: bold\">0</span><span style=\"color: #000000; text-decoration-color: #000000\"> </span><span style=\"color: #000000; text-decoration-color: #000000; font-weight: bold\">1</span><span style=\"color: #000000; text-decoration-color: #000000\"> </span><span style=\"color: #000000; text-decoration-color: #000000; font-weight: bold\">1</span><span style=\"color: #000000; text-decoration-color: #000000\"> </span><span style=\"color: #000000; text-decoration-color: #000000; font-weight: bold\">0</span><span style=\"color: #000000; text-decoration-color: #000000\"> </span><span style=\"color: #000000; text-decoration-color: #000000; font-weight: bold\">0</span><span style=\"color: #000000; text-decoration-color: #000000\"> </span><span style=\"color: #000000; text-decoration-color: #000000; font-weight: bold\">1</span><span style=\"color: #000000; text-decoration-color: #000000\"> </span><span style=\"color: #000000; text-decoration-color: #000000; font-weight: bold\">1</span><span style=\"color: #000000; text-decoration-color: #000000\"> </span><span style=\"color: #000000; text-decoration-color: #000000; font-weight: bold\">1</span><span style=\"color: #000000; text-decoration-color: #000000\"> </span><span style=\"color: #000000; text-decoration-color: #000000; font-weight: bold\">0</span><span style=\"color: #000000; text-decoration-color: #000000\"> </span><span style=\"color: #000000; text-decoration-color: #000000; font-weight: bold\">1</span><span style=\"color: #000000; text-decoration-color: #000000\"> </span><span style=\"color: #000000; text-decoration-color: #000000; font-weight: bold\">1</span><span style=\"color: #000000; text-decoration-color: #000000\"> </span><span style=\"color: #000000; text-decoration-color: #000000; font-weight: bold\">0</span><span style=\"color: #000000; text-decoration-color: #000000\"> </span><span style=\"color: #000000; text-decoration-color: #000000; font-weight: bold\">0</span><span style=\"color: #000000; text-decoration-color: #000000; font-weight: bold\">]</span>\n",
       "<span style=\"color: #000000; text-decoration-color: #000000\"> </span><span style=\"color: #000000; text-decoration-color: #000000; font-weight: bold\">[</span><span style=\"color: #000000; text-decoration-color: #000000; font-weight: bold\">0</span><span style=\"color: #000000; text-decoration-color: #000000\"> </span><span style=\"color: #000000; text-decoration-color: #000000; font-weight: bold\">1</span><span style=\"color: #000000; text-decoration-color: #000000\"> </span><span style=\"color: #000000; text-decoration-color: #000000; font-weight: bold\">1</span><span style=\"color: #000000; text-decoration-color: #000000\"> </span><span style=\"color: #000000; text-decoration-color: #000000; font-weight: bold\">0</span><span style=\"color: #000000; text-decoration-color: #000000\"> </span><span style=\"color: #000000; text-decoration-color: #000000; font-weight: bold\">0</span><span style=\"color: #000000; text-decoration-color: #000000\"> </span><span style=\"color: #000000; text-decoration-color: #000000; font-weight: bold\">1</span><span style=\"color: #000000; text-decoration-color: #000000\"> </span><span style=\"color: #000000; text-decoration-color: #000000; font-weight: bold\">1</span><span style=\"color: #000000; text-decoration-color: #000000\"> </span><span style=\"color: #000000; text-decoration-color: #000000; font-weight: bold\">1</span><span style=\"color: #000000; text-decoration-color: #000000\"> </span><span style=\"color: #000000; text-decoration-color: #000000; font-weight: bold\">0</span><span style=\"color: #000000; text-decoration-color: #000000\"> </span><span style=\"color: #000000; text-decoration-color: #000000; font-weight: bold\">1</span><span style=\"color: #000000; text-decoration-color: #000000\"> </span><span style=\"color: #000000; text-decoration-color: #000000; font-weight: bold\">1</span><span style=\"color: #000000; text-decoration-color: #000000\"> </span><span style=\"color: #000000; text-decoration-color: #000000; font-weight: bold\">0</span><span style=\"color: #000000; text-decoration-color: #000000\"> </span><span style=\"color: #000000; text-decoration-color: #000000; font-weight: bold\">0</span><span style=\"color: #000000; text-decoration-color: #000000; font-weight: bold\">]</span>\n",
       "<span style=\"color: #000000; text-decoration-color: #000000\"> </span><span style=\"color: #000000; text-decoration-color: #000000; font-weight: bold\">[</span><span style=\"color: #000000; text-decoration-color: #000000; font-weight: bold\">0</span><span style=\"color: #000000; text-decoration-color: #000000\"> </span><span style=\"color: #000000; text-decoration-color: #000000; font-weight: bold\">0</span><span style=\"color: #000000; text-decoration-color: #000000\"> </span><span style=\"color: #000000; text-decoration-color: #000000; font-weight: bold\">0</span><span style=\"color: #000000; text-decoration-color: #000000\"> </span><span style=\"color: #000000; text-decoration-color: #000000; font-weight: bold\">1</span><span style=\"color: #000000; text-decoration-color: #000000\"> </span><span style=\"color: #000000; text-decoration-color: #000000; font-weight: bold\">0</span><span style=\"color: #000000; text-decoration-color: #000000\"> </span><span style=\"color: #000000; text-decoration-color: #000000; font-weight: bold\">0</span><span style=\"color: #000000; text-decoration-color: #000000\"> </span><span style=\"color: #000000; text-decoration-color: #000000; font-weight: bold\">0</span><span style=\"color: #000000; text-decoration-color: #000000\"> </span><span style=\"color: #000000; text-decoration-color: #000000; font-weight: bold\">0</span><span style=\"color: #000000; text-decoration-color: #000000\"> </span><span style=\"color: #000000; text-decoration-color: #000000; font-weight: bold\">1</span><span style=\"color: #000000; text-decoration-color: #000000\"> </span><span style=\"color: #000000; text-decoration-color: #000000; font-weight: bold\">0</span><span style=\"color: #000000; text-decoration-color: #000000\"> </span><span style=\"color: #000000; text-decoration-color: #000000; font-weight: bold\">1</span><span style=\"color: #000000; text-decoration-color: #000000\"> </span><span style=\"color: #000000; text-decoration-color: #000000; font-weight: bold\">0</span><span style=\"color: #000000; text-decoration-color: #000000\"> </span><span style=\"color: #000000; text-decoration-color: #000000; font-weight: bold\">0</span><span style=\"color: #000000; text-decoration-color: #000000; font-weight: bold\">]</span>\n",
       "<span style=\"color: #000000; text-decoration-color: #000000\"> </span><span style=\"color: #000000; text-decoration-color: #000000; font-weight: bold\">[</span><span style=\"color: #000000; text-decoration-color: #000000; font-weight: bold\">0</span><span style=\"color: #000000; text-decoration-color: #000000\"> </span><span style=\"color: #000000; text-decoration-color: #000000; font-weight: bold\">1</span><span style=\"color: #000000; text-decoration-color: #000000\"> </span><span style=\"color: #000000; text-decoration-color: #000000; font-weight: bold\">1</span><span style=\"color: #000000; text-decoration-color: #000000\"> </span><span style=\"color: #000000; text-decoration-color: #000000; font-weight: bold\">0</span><span style=\"color: #000000; text-decoration-color: #000000\"> </span><span style=\"color: #000000; text-decoration-color: #000000; font-weight: bold\">0</span><span style=\"color: #000000; text-decoration-color: #000000\"> </span><span style=\"color: #000000; text-decoration-color: #000000; font-weight: bold\">1</span><span style=\"color: #000000; text-decoration-color: #000000\"> </span><span style=\"color: #000000; text-decoration-color: #000000; font-weight: bold\">1</span><span style=\"color: #000000; text-decoration-color: #000000\"> </span><span style=\"color: #000000; text-decoration-color: #000000; font-weight: bold\">1</span><span style=\"color: #000000; text-decoration-color: #000000\"> </span><span style=\"color: #000000; text-decoration-color: #000000; font-weight: bold\">0</span><span style=\"color: #000000; text-decoration-color: #000000\"> </span><span style=\"color: #000000; text-decoration-color: #000000; font-weight: bold\">1</span><span style=\"color: #000000; text-decoration-color: #000000\"> </span><span style=\"color: #000000; text-decoration-color: #000000; font-weight: bold\">1</span><span style=\"color: #000000; text-decoration-color: #000000\"> </span><span style=\"color: #000000; text-decoration-color: #000000; font-weight: bold\">0</span><span style=\"color: #000000; text-decoration-color: #000000\"> </span><span style=\"color: #000000; text-decoration-color: #000000; font-weight: bold\">0</span><span style=\"color: #000000; text-decoration-color: #000000; font-weight: bold\">]</span>\n",
       "<span style=\"color: #000000; text-decoration-color: #000000\"> </span><span style=\"color: #000000; text-decoration-color: #000000; font-weight: bold\">[</span><span style=\"color: #000000; text-decoration-color: #000000; font-weight: bold\">1</span><span style=\"color: #000000; text-decoration-color: #000000\"> </span><span style=\"color: #000000; text-decoration-color: #000000; font-weight: bold\">0</span><span style=\"color: #000000; text-decoration-color: #000000\"> </span><span style=\"color: #000000; text-decoration-color: #000000; font-weight: bold\">0</span><span style=\"color: #000000; text-decoration-color: #000000\"> </span><span style=\"color: #000000; text-decoration-color: #000000; font-weight: bold\">1</span><span style=\"color: #000000; text-decoration-color: #000000\"> </span><span style=\"color: #000000; text-decoration-color: #000000; font-weight: bold\">1</span><span style=\"color: #000000; text-decoration-color: #000000\"> </span><span style=\"color: #000000; text-decoration-color: #000000; font-weight: bold\">1</span><span style=\"color: #000000; text-decoration-color: #000000\"> </span><span style=\"color: #000000; text-decoration-color: #000000; font-weight: bold\">1</span><span style=\"color: #000000; text-decoration-color: #000000\"> </span><span style=\"color: #000000; text-decoration-color: #000000; font-weight: bold\">1</span><span style=\"color: #000000; text-decoration-color: #000000\"> </span><span style=\"color: #000000; text-decoration-color: #000000; font-weight: bold\">0</span><span style=\"color: #000000; text-decoration-color: #000000\"> </span><span style=\"color: #000000; text-decoration-color: #000000; font-weight: bold\">0</span><span style=\"color: #000000; text-decoration-color: #000000\"> </span><span style=\"color: #000000; text-decoration-color: #000000; font-weight: bold\">0</span><span style=\"color: #000000; text-decoration-color: #000000\"> </span><span style=\"color: #000000; text-decoration-color: #000000; font-weight: bold\">0</span><span style=\"color: #000000; text-decoration-color: #000000\"> </span><span style=\"color: #000000; text-decoration-color: #000000; font-weight: bold\">0</span><span style=\"color: #000000; text-decoration-color: #000000; font-weight: bold\">]</span>\n",
       "<span style=\"color: #000000; text-decoration-color: #000000\"> </span><span style=\"color: #000000; text-decoration-color: #000000; font-weight: bold\">[</span><span style=\"color: #000000; text-decoration-color: #000000; font-weight: bold\">1</span><span style=\"color: #000000; text-decoration-color: #000000\"> </span><span style=\"color: #000000; text-decoration-color: #000000; font-weight: bold\">0</span><span style=\"color: #000000; text-decoration-color: #000000\"> </span><span style=\"color: #000000; text-decoration-color: #000000; font-weight: bold\">0</span><span style=\"color: #000000; text-decoration-color: #000000\"> </span><span style=\"color: #000000; text-decoration-color: #000000; font-weight: bold\">1</span><span style=\"color: #000000; text-decoration-color: #000000\"> </span><span style=\"color: #000000; text-decoration-color: #000000; font-weight: bold\">1</span><span style=\"color: #000000; text-decoration-color: #000000\"> </span><span style=\"color: #000000; text-decoration-color: #000000; font-weight: bold\">1</span><span style=\"color: #000000; text-decoration-color: #000000\"> </span><span style=\"color: #000000; text-decoration-color: #000000; font-weight: bold\">1</span><span style=\"color: #000000; text-decoration-color: #000000\"> </span><span style=\"color: #000000; text-decoration-color: #000000; font-weight: bold\">1</span><span style=\"color: #000000; text-decoration-color: #000000\"> </span><span style=\"color: #000000; text-decoration-color: #000000; font-weight: bold\">0</span><span style=\"color: #000000; text-decoration-color: #000000\"> </span><span style=\"color: #000000; text-decoration-color: #000000; font-weight: bold\">0</span><span style=\"color: #000000; text-decoration-color: #000000\"> </span><span style=\"color: #000000; text-decoration-color: #000000; font-weight: bold\">0</span><span style=\"color: #000000; text-decoration-color: #000000\"> </span><span style=\"color: #000000; text-decoration-color: #000000; font-weight: bold\">0</span><span style=\"color: #000000; text-decoration-color: #000000\"> </span><span style=\"color: #000000; text-decoration-color: #000000; font-weight: bold\">0</span><span style=\"color: #000000; text-decoration-color: #000000; font-weight: bold\">]]</span>\n",
       "</pre>\n"
      ],
      "text/plain": [
       "\u001b[1;35mprevious new population\u001b[0m \n",
       " \u001b[1;30m[\u001b[0m\u001b[1;30m[\u001b[0m\u001b[1;30m1\u001b[0m\u001b[30m \u001b[0m\u001b[1;30m0\u001b[0m\u001b[30m \u001b[0m\u001b[1;30m0\u001b[0m\u001b[30m \u001b[0m\u001b[1;30m0\u001b[0m\u001b[30m \u001b[0m\u001b[1;30m0\u001b[0m\u001b[30m \u001b[0m\u001b[1;30m0\u001b[0m\u001b[30m \u001b[0m\u001b[1;30m1\u001b[0m\u001b[30m \u001b[0m\u001b[1;30m1\u001b[0m\u001b[30m \u001b[0m\u001b[1;30m1\u001b[0m\u001b[30m \u001b[0m\u001b[1;30m0\u001b[0m\u001b[30m \u001b[0m\u001b[1;30m0\u001b[0m\u001b[30m \u001b[0m\u001b[1;30m0\u001b[0m\u001b[30m \u001b[0m\u001b[1;30m1\u001b[0m\u001b[1;30m]\u001b[0m\n",
       "\u001b[30m \u001b[0m\u001b[1;30m[\u001b[0m\u001b[1;30m0\u001b[0m\u001b[30m \u001b[0m\u001b[1;30m1\u001b[0m\u001b[30m \u001b[0m\u001b[1;30m1\u001b[0m\u001b[30m \u001b[0m\u001b[1;30m0\u001b[0m\u001b[30m \u001b[0m\u001b[1;30m0\u001b[0m\u001b[30m \u001b[0m\u001b[1;30m1\u001b[0m\u001b[30m \u001b[0m\u001b[1;30m1\u001b[0m\u001b[30m \u001b[0m\u001b[1;30m1\u001b[0m\u001b[30m \u001b[0m\u001b[1;30m0\u001b[0m\u001b[30m \u001b[0m\u001b[1;30m1\u001b[0m\u001b[30m \u001b[0m\u001b[1;30m1\u001b[0m\u001b[30m \u001b[0m\u001b[1;30m0\u001b[0m\u001b[30m \u001b[0m\u001b[1;30m0\u001b[0m\u001b[1;30m]\u001b[0m\n",
       "\u001b[30m \u001b[0m\u001b[1;30m[\u001b[0m\u001b[1;30m0\u001b[0m\u001b[30m \u001b[0m\u001b[1;30m1\u001b[0m\u001b[30m \u001b[0m\u001b[1;30m1\u001b[0m\u001b[30m \u001b[0m\u001b[1;30m0\u001b[0m\u001b[30m \u001b[0m\u001b[1;30m0\u001b[0m\u001b[30m \u001b[0m\u001b[1;30m1\u001b[0m\u001b[30m \u001b[0m\u001b[1;30m0\u001b[0m\u001b[30m \u001b[0m\u001b[1;30m0\u001b[0m\u001b[30m \u001b[0m\u001b[1;30m0\u001b[0m\u001b[30m \u001b[0m\u001b[1;30m0\u001b[0m\u001b[30m \u001b[0m\u001b[1;30m0\u001b[0m\u001b[30m \u001b[0m\u001b[1;30m0\u001b[0m\u001b[30m \u001b[0m\u001b[1;30m1\u001b[0m\u001b[1;30m]\u001b[0m\n",
       "\u001b[30m \u001b[0m\u001b[1;30m[\u001b[0m\u001b[1;30m0\u001b[0m\u001b[30m \u001b[0m\u001b[1;30m1\u001b[0m\u001b[30m \u001b[0m\u001b[1;30m1\u001b[0m\u001b[30m \u001b[0m\u001b[1;30m0\u001b[0m\u001b[30m \u001b[0m\u001b[1;30m0\u001b[0m\u001b[30m \u001b[0m\u001b[1;30m1\u001b[0m\u001b[30m \u001b[0m\u001b[1;30m0\u001b[0m\u001b[30m \u001b[0m\u001b[1;30m0\u001b[0m\u001b[30m \u001b[0m\u001b[1;30m0\u001b[0m\u001b[30m \u001b[0m\u001b[1;30m0\u001b[0m\u001b[30m \u001b[0m\u001b[1;30m0\u001b[0m\u001b[30m \u001b[0m\u001b[1;30m0\u001b[0m\u001b[30m \u001b[0m\u001b[1;30m1\u001b[0m\u001b[1;30m]\u001b[0m\n",
       "\u001b[30m \u001b[0m\u001b[1;30m[\u001b[0m\u001b[1;30m0\u001b[0m\u001b[30m \u001b[0m\u001b[1;30m1\u001b[0m\u001b[30m \u001b[0m\u001b[1;30m1\u001b[0m\u001b[30m \u001b[0m\u001b[1;30m0\u001b[0m\u001b[30m \u001b[0m\u001b[1;30m0\u001b[0m\u001b[30m \u001b[0m\u001b[1;30m1\u001b[0m\u001b[30m \u001b[0m\u001b[1;30m1\u001b[0m\u001b[30m \u001b[0m\u001b[1;30m1\u001b[0m\u001b[30m \u001b[0m\u001b[1;30m0\u001b[0m\u001b[30m \u001b[0m\u001b[1;30m1\u001b[0m\u001b[30m \u001b[0m\u001b[1;30m1\u001b[0m\u001b[30m \u001b[0m\u001b[1;30m0\u001b[0m\u001b[30m \u001b[0m\u001b[1;30m0\u001b[0m\u001b[1;30m]\u001b[0m\n",
       "\u001b[30m \u001b[0m\u001b[1;30m[\u001b[0m\u001b[1;30m0\u001b[0m\u001b[30m \u001b[0m\u001b[1;30m1\u001b[0m\u001b[30m \u001b[0m\u001b[1;30m1\u001b[0m\u001b[30m \u001b[0m\u001b[1;30m0\u001b[0m\u001b[30m \u001b[0m\u001b[1;30m0\u001b[0m\u001b[30m \u001b[0m\u001b[1;30m1\u001b[0m\u001b[30m \u001b[0m\u001b[1;30m1\u001b[0m\u001b[30m \u001b[0m\u001b[1;30m1\u001b[0m\u001b[30m \u001b[0m\u001b[1;30m0\u001b[0m\u001b[30m \u001b[0m\u001b[1;30m1\u001b[0m\u001b[30m \u001b[0m\u001b[1;30m1\u001b[0m\u001b[30m \u001b[0m\u001b[1;30m0\u001b[0m\u001b[30m \u001b[0m\u001b[1;30m0\u001b[0m\u001b[1;30m]\u001b[0m\n",
       "\u001b[30m \u001b[0m\u001b[1;30m[\u001b[0m\u001b[1;30m0\u001b[0m\u001b[30m \u001b[0m\u001b[1;30m0\u001b[0m\u001b[30m \u001b[0m\u001b[1;30m0\u001b[0m\u001b[30m \u001b[0m\u001b[1;30m1\u001b[0m\u001b[30m \u001b[0m\u001b[1;30m0\u001b[0m\u001b[30m \u001b[0m\u001b[1;30m0\u001b[0m\u001b[30m \u001b[0m\u001b[1;30m0\u001b[0m\u001b[30m \u001b[0m\u001b[1;30m0\u001b[0m\u001b[30m \u001b[0m\u001b[1;30m1\u001b[0m\u001b[30m \u001b[0m\u001b[1;30m0\u001b[0m\u001b[30m \u001b[0m\u001b[1;30m1\u001b[0m\u001b[30m \u001b[0m\u001b[1;30m0\u001b[0m\u001b[30m \u001b[0m\u001b[1;30m0\u001b[0m\u001b[1;30m]\u001b[0m\n",
       "\u001b[30m \u001b[0m\u001b[1;30m[\u001b[0m\u001b[1;30m0\u001b[0m\u001b[30m \u001b[0m\u001b[1;30m1\u001b[0m\u001b[30m \u001b[0m\u001b[1;30m1\u001b[0m\u001b[30m \u001b[0m\u001b[1;30m0\u001b[0m\u001b[30m \u001b[0m\u001b[1;30m0\u001b[0m\u001b[30m \u001b[0m\u001b[1;30m1\u001b[0m\u001b[30m \u001b[0m\u001b[1;30m1\u001b[0m\u001b[30m \u001b[0m\u001b[1;30m1\u001b[0m\u001b[30m \u001b[0m\u001b[1;30m0\u001b[0m\u001b[30m \u001b[0m\u001b[1;30m1\u001b[0m\u001b[30m \u001b[0m\u001b[1;30m1\u001b[0m\u001b[30m \u001b[0m\u001b[1;30m0\u001b[0m\u001b[30m \u001b[0m\u001b[1;30m0\u001b[0m\u001b[1;30m]\u001b[0m\n",
       "\u001b[30m \u001b[0m\u001b[1;30m[\u001b[0m\u001b[1;30m1\u001b[0m\u001b[30m \u001b[0m\u001b[1;30m0\u001b[0m\u001b[30m \u001b[0m\u001b[1;30m0\u001b[0m\u001b[30m \u001b[0m\u001b[1;30m1\u001b[0m\u001b[30m \u001b[0m\u001b[1;30m1\u001b[0m\u001b[30m \u001b[0m\u001b[1;30m1\u001b[0m\u001b[30m \u001b[0m\u001b[1;30m1\u001b[0m\u001b[30m \u001b[0m\u001b[1;30m1\u001b[0m\u001b[30m \u001b[0m\u001b[1;30m0\u001b[0m\u001b[30m \u001b[0m\u001b[1;30m0\u001b[0m\u001b[30m \u001b[0m\u001b[1;30m0\u001b[0m\u001b[30m \u001b[0m\u001b[1;30m0\u001b[0m\u001b[30m \u001b[0m\u001b[1;30m0\u001b[0m\u001b[1;30m]\u001b[0m\n",
       "\u001b[30m \u001b[0m\u001b[1;30m[\u001b[0m\u001b[1;30m1\u001b[0m\u001b[30m \u001b[0m\u001b[1;30m0\u001b[0m\u001b[30m \u001b[0m\u001b[1;30m0\u001b[0m\u001b[30m \u001b[0m\u001b[1;30m1\u001b[0m\u001b[30m \u001b[0m\u001b[1;30m1\u001b[0m\u001b[30m \u001b[0m\u001b[1;30m1\u001b[0m\u001b[30m \u001b[0m\u001b[1;30m1\u001b[0m\u001b[30m \u001b[0m\u001b[1;30m1\u001b[0m\u001b[30m \u001b[0m\u001b[1;30m0\u001b[0m\u001b[30m \u001b[0m\u001b[1;30m0\u001b[0m\u001b[30m \u001b[0m\u001b[1;30m0\u001b[0m\u001b[30m \u001b[0m\u001b[1;30m0\u001b[0m\u001b[30m \u001b[0m\u001b[1;30m0\u001b[0m\u001b[1;30m]\u001b[0m\u001b[1;30m]\u001b[0m\n"
      ]
     },
     "metadata": {},
     "output_type": "display_data"
    }
   ],
   "source": [
    "new_population = np.array(new_population)\n",
    "\n",
    "# Crossover\n",
    "n_crosses = int(args.crossover_rate * int(10 / 2))  # 교배율을 바탕으로 교배시킬 유전자 개수를 지정합니다\n",
    "crossover_population = new_population.copy()      \n",
    "\n",
    "# n_crosses만큼의 유전자를 교차시킵니다\n",
    "for i in range(0, n_crosses*2, 2):\n",
    "    cut_index = np.random.randint(1, X_train.shape[1])  # n_crosses 만큼의 유전자를 랜덤하게 뽑아냅니다\n",
    "    tmp = crossover_population[i, cut_index:].copy()\n",
    "    crossover_population[i, cut_index:], crossover_population[i+1, cut_index:] = crossover_population[i+1, cut_index:], tmp\n",
    "    \n",
    "    # 염색체에 null 값이 있는 것을 피하기 위한 코드\n",
    "    if not all(crossover_population[i]):\n",
    "        crossover_population[i] = population[i]\n",
    "    if not all(crossover_population[i+1]):\n",
    "        crossover_population[i+1] = population[i+1]\n",
    "\n",
    "rich.print('[green][bold]crossovered population: ', '\\n', f'[black]{crossover_population[0:10]}')\n",
    "rich.print('[magenta][bold]previous new population', '\\n', f'[black]{new_population[0:10]}')"
   ]
  },
  {
   "cell_type": "markdown",
   "metadata": {},
   "source": [
    "__Mutation 돌연변이__\n",
    "- 돌연변이율에 따라서 결과가 얼마나 달라지는 지를 확인해보겠습니다"
   ]
  },
  {
   "cell_type": "code",
   "execution_count": 134,
   "metadata": {},
   "outputs": [],
   "source": [
    "large_mutations = int(args.mutation_rate * 10 * X_train.shape[1])    # 돌연변이율이 80%일 때\n",
    "small_mutations = int(0.01 * 10 * X_train.shape[1])                  # 돌연변이율이 1%일 때"
   ]
  },
  {
   "cell_type": "code",
   "execution_count": 135,
   "metadata": {},
   "outputs": [
    {
     "data": {
      "text/html": [
       "<pre style=\"white-space:pre;overflow-x:auto;line-height:normal;font-family:Menlo,'DejaVu Sans Mono',consolas,'Courier New',monospace\"><span style=\"color: #008000; text-decoration-color: #008000; font-weight: bold\">mutated population (</span><span style=\"color: #008000; text-decoration-color: #008000; font-weight: bold\">0.8</span><span style=\"color: #008000; text-decoration-color: #008000; font-weight: bold\">): </span> \n",
       " <span style=\"color: #000000; text-decoration-color: #000000; font-weight: bold\">[[</span><span style=\"color: #000000; text-decoration-color: #000000; font-weight: bold\">1</span><span style=\"color: #000000; text-decoration-color: #000000\"> </span><span style=\"color: #000000; text-decoration-color: #000000; font-weight: bold\">0</span><span style=\"color: #000000; text-decoration-color: #000000\"> </span><span style=\"color: #000000; text-decoration-color: #000000; font-weight: bold\">0</span><span style=\"color: #000000; text-decoration-color: #000000\"> </span><span style=\"color: #000000; text-decoration-color: #000000; font-weight: bold\">1</span><span style=\"color: #000000; text-decoration-color: #000000\"> </span><span style=\"color: #000000; text-decoration-color: #000000; font-weight: bold\">1</span><span style=\"color: #000000; text-decoration-color: #000000\"> </span><span style=\"color: #000000; text-decoration-color: #000000; font-weight: bold\">1</span><span style=\"color: #000000; text-decoration-color: #000000\"> </span><span style=\"color: #000000; text-decoration-color: #000000; font-weight: bold\">0</span><span style=\"color: #000000; text-decoration-color: #000000\"> </span><span style=\"color: #000000; text-decoration-color: #000000; font-weight: bold\">1</span><span style=\"color: #000000; text-decoration-color: #000000\"> </span><span style=\"color: #000000; text-decoration-color: #000000; font-weight: bold\">0</span><span style=\"color: #000000; text-decoration-color: #000000\"> </span><span style=\"color: #000000; text-decoration-color: #000000; font-weight: bold\">0</span><span style=\"color: #000000; text-decoration-color: #000000\"> </span><span style=\"color: #000000; text-decoration-color: #000000; font-weight: bold\">1</span><span style=\"color: #000000; text-decoration-color: #000000\"> </span><span style=\"color: #000000; text-decoration-color: #000000; font-weight: bold\">0</span><span style=\"color: #000000; text-decoration-color: #000000\"> </span><span style=\"color: #000000; text-decoration-color: #000000; font-weight: bold\">0</span><span style=\"color: #000000; text-decoration-color: #000000; font-weight: bold\">]</span>\n",
       "<span style=\"color: #000000; text-decoration-color: #000000\"> </span><span style=\"color: #000000; text-decoration-color: #000000; font-weight: bold\">[</span><span style=\"color: #000000; text-decoration-color: #000000; font-weight: bold\">0</span><span style=\"color: #000000; text-decoration-color: #000000\"> </span><span style=\"color: #000000; text-decoration-color: #000000; font-weight: bold\">0</span><span style=\"color: #000000; text-decoration-color: #000000\"> </span><span style=\"color: #000000; text-decoration-color: #000000; font-weight: bold\">0</span><span style=\"color: #000000; text-decoration-color: #000000\"> </span><span style=\"color: #000000; text-decoration-color: #000000; font-weight: bold\">0</span><span style=\"color: #000000; text-decoration-color: #000000\"> </span><span style=\"color: #000000; text-decoration-color: #000000; font-weight: bold\">0</span><span style=\"color: #000000; text-decoration-color: #000000\"> </span><span style=\"color: #000000; text-decoration-color: #000000; font-weight: bold\">1</span><span style=\"color: #000000; text-decoration-color: #000000\"> </span><span style=\"color: #000000; text-decoration-color: #000000; font-weight: bold\">0</span><span style=\"color: #000000; text-decoration-color: #000000\"> </span><span style=\"color: #000000; text-decoration-color: #000000; font-weight: bold\">0</span><span style=\"color: #000000; text-decoration-color: #000000\"> </span><span style=\"color: #000000; text-decoration-color: #000000; font-weight: bold\">1</span><span style=\"color: #000000; text-decoration-color: #000000\"> </span><span style=\"color: #000000; text-decoration-color: #000000; font-weight: bold\">0</span><span style=\"color: #000000; text-decoration-color: #000000\"> </span><span style=\"color: #000000; text-decoration-color: #000000; font-weight: bold\">0</span><span style=\"color: #000000; text-decoration-color: #000000\"> </span><span style=\"color: #000000; text-decoration-color: #000000; font-weight: bold\">0</span><span style=\"color: #000000; text-decoration-color: #000000\"> </span><span style=\"color: #000000; text-decoration-color: #000000; font-weight: bold\">1</span><span style=\"color: #000000; text-decoration-color: #000000; font-weight: bold\">]</span>\n",
       "<span style=\"color: #000000; text-decoration-color: #000000\"> </span><span style=\"color: #000000; text-decoration-color: #000000; font-weight: bold\">[</span><span style=\"color: #000000; text-decoration-color: #000000; font-weight: bold\">1</span><span style=\"color: #000000; text-decoration-color: #000000\"> </span><span style=\"color: #000000; text-decoration-color: #000000; font-weight: bold\">0</span><span style=\"color: #000000; text-decoration-color: #000000\"> </span><span style=\"color: #000000; text-decoration-color: #000000; font-weight: bold\">0</span><span style=\"color: #000000; text-decoration-color: #000000\"> </span><span style=\"color: #000000; text-decoration-color: #000000; font-weight: bold\">0</span><span style=\"color: #000000; text-decoration-color: #000000\"> </span><span style=\"color: #000000; text-decoration-color: #000000; font-weight: bold\">1</span><span style=\"color: #000000; text-decoration-color: #000000\"> </span><span style=\"color: #000000; text-decoration-color: #000000; font-weight: bold\">1</span><span style=\"color: #000000; text-decoration-color: #000000\"> </span><span style=\"color: #000000; text-decoration-color: #000000; font-weight: bold\">0</span><span style=\"color: #000000; text-decoration-color: #000000\"> </span><span style=\"color: #000000; text-decoration-color: #000000; font-weight: bold\">0</span><span style=\"color: #000000; text-decoration-color: #000000\"> </span><span style=\"color: #000000; text-decoration-color: #000000; font-weight: bold\">0</span><span style=\"color: #000000; text-decoration-color: #000000\"> </span><span style=\"color: #000000; text-decoration-color: #000000; font-weight: bold\">0</span><span style=\"color: #000000; text-decoration-color: #000000\"> </span><span style=\"color: #000000; text-decoration-color: #000000; font-weight: bold\">1</span><span style=\"color: #000000; text-decoration-color: #000000\"> </span><span style=\"color: #000000; text-decoration-color: #000000; font-weight: bold\">1</span><span style=\"color: #000000; text-decoration-color: #000000\"> </span><span style=\"color: #000000; text-decoration-color: #000000; font-weight: bold\">1</span><span style=\"color: #000000; text-decoration-color: #000000; font-weight: bold\">]</span>\n",
       "<span style=\"color: #000000; text-decoration-color: #000000\"> </span><span style=\"color: #000000; text-decoration-color: #000000; font-weight: bold\">[</span><span style=\"color: #000000; text-decoration-color: #000000; font-weight: bold\">1</span><span style=\"color: #000000; text-decoration-color: #000000\"> </span><span style=\"color: #000000; text-decoration-color: #000000; font-weight: bold\">1</span><span style=\"color: #000000; text-decoration-color: #000000\"> </span><span style=\"color: #000000; text-decoration-color: #000000; font-weight: bold\">0</span><span style=\"color: #000000; text-decoration-color: #000000\"> </span><span style=\"color: #000000; text-decoration-color: #000000; font-weight: bold\">0</span><span style=\"color: #000000; text-decoration-color: #000000\"> </span><span style=\"color: #000000; text-decoration-color: #000000; font-weight: bold\">0</span><span style=\"color: #000000; text-decoration-color: #000000\"> </span><span style=\"color: #000000; text-decoration-color: #000000; font-weight: bold\">1</span><span style=\"color: #000000; text-decoration-color: #000000\"> </span><span style=\"color: #000000; text-decoration-color: #000000; font-weight: bold\">0</span><span style=\"color: #000000; text-decoration-color: #000000\"> </span><span style=\"color: #000000; text-decoration-color: #000000; font-weight: bold\">1</span><span style=\"color: #000000; text-decoration-color: #000000\"> </span><span style=\"color: #000000; text-decoration-color: #000000; font-weight: bold\">0</span><span style=\"color: #000000; text-decoration-color: #000000\"> </span><span style=\"color: #000000; text-decoration-color: #000000; font-weight: bold\">0</span><span style=\"color: #000000; text-decoration-color: #000000\"> </span><span style=\"color: #000000; text-decoration-color: #000000; font-weight: bold\">0</span><span style=\"color: #000000; text-decoration-color: #000000\"> </span><span style=\"color: #000000; text-decoration-color: #000000; font-weight: bold\">0</span><span style=\"color: #000000; text-decoration-color: #000000\"> </span><span style=\"color: #000000; text-decoration-color: #000000; font-weight: bold\">0</span><span style=\"color: #000000; text-decoration-color: #000000; font-weight: bold\">]</span>\n",
       "<span style=\"color: #000000; text-decoration-color: #000000\"> </span><span style=\"color: #000000; text-decoration-color: #000000; font-weight: bold\">[</span><span style=\"color: #000000; text-decoration-color: #000000; font-weight: bold\">1</span><span style=\"color: #000000; text-decoration-color: #000000\"> </span><span style=\"color: #000000; text-decoration-color: #000000; font-weight: bold\">1</span><span style=\"color: #000000; text-decoration-color: #000000\"> </span><span style=\"color: #000000; text-decoration-color: #000000; font-weight: bold\">1</span><span style=\"color: #000000; text-decoration-color: #000000\"> </span><span style=\"color: #000000; text-decoration-color: #000000; font-weight: bold\">0</span><span style=\"color: #000000; text-decoration-color: #000000\"> </span><span style=\"color: #000000; text-decoration-color: #000000; font-weight: bold\">0</span><span style=\"color: #000000; text-decoration-color: #000000\"> </span><span style=\"color: #000000; text-decoration-color: #000000; font-weight: bold\">0</span><span style=\"color: #000000; text-decoration-color: #000000\"> </span><span style=\"color: #000000; text-decoration-color: #000000; font-weight: bold\">1</span><span style=\"color: #000000; text-decoration-color: #000000\"> </span><span style=\"color: #000000; text-decoration-color: #000000; font-weight: bold\">0</span><span style=\"color: #000000; text-decoration-color: #000000\"> </span><span style=\"color: #000000; text-decoration-color: #000000; font-weight: bold\">0</span><span style=\"color: #000000; text-decoration-color: #000000\"> </span><span style=\"color: #000000; text-decoration-color: #000000; font-weight: bold\">1</span><span style=\"color: #000000; text-decoration-color: #000000\"> </span><span style=\"color: #000000; text-decoration-color: #000000; font-weight: bold\">0</span><span style=\"color: #000000; text-decoration-color: #000000\"> </span><span style=\"color: #000000; text-decoration-color: #000000; font-weight: bold\">1</span><span style=\"color: #000000; text-decoration-color: #000000\"> </span><span style=\"color: #000000; text-decoration-color: #000000; font-weight: bold\">0</span><span style=\"color: #000000; text-decoration-color: #000000; font-weight: bold\">]</span>\n",
       "<span style=\"color: #000000; text-decoration-color: #000000\"> </span><span style=\"color: #000000; text-decoration-color: #000000; font-weight: bold\">[</span><span style=\"color: #000000; text-decoration-color: #000000; font-weight: bold\">1</span><span style=\"color: #000000; text-decoration-color: #000000\"> </span><span style=\"color: #000000; text-decoration-color: #000000; font-weight: bold\">0</span><span style=\"color: #000000; text-decoration-color: #000000\"> </span><span style=\"color: #000000; text-decoration-color: #000000; font-weight: bold\">1</span><span style=\"color: #000000; text-decoration-color: #000000\"> </span><span style=\"color: #000000; text-decoration-color: #000000; font-weight: bold\">0</span><span style=\"color: #000000; text-decoration-color: #000000\"> </span><span style=\"color: #000000; text-decoration-color: #000000; font-weight: bold\">1</span><span style=\"color: #000000; text-decoration-color: #000000\"> </span><span style=\"color: #000000; text-decoration-color: #000000; font-weight: bold\">1</span><span style=\"color: #000000; text-decoration-color: #000000\"> </span><span style=\"color: #000000; text-decoration-color: #000000; font-weight: bold\">0</span><span style=\"color: #000000; text-decoration-color: #000000\"> </span><span style=\"color: #000000; text-decoration-color: #000000; font-weight: bold\">1</span><span style=\"color: #000000; text-decoration-color: #000000\"> </span><span style=\"color: #000000; text-decoration-color: #000000; font-weight: bold\">0</span><span style=\"color: #000000; text-decoration-color: #000000\"> </span><span style=\"color: #000000; text-decoration-color: #000000; font-weight: bold\">0</span><span style=\"color: #000000; text-decoration-color: #000000\"> </span><span style=\"color: #000000; text-decoration-color: #000000; font-weight: bold\">1</span><span style=\"color: #000000; text-decoration-color: #000000\"> </span><span style=\"color: #000000; text-decoration-color: #000000; font-weight: bold\">1</span><span style=\"color: #000000; text-decoration-color: #000000\"> </span><span style=\"color: #000000; text-decoration-color: #000000; font-weight: bold\">1</span><span style=\"color: #000000; text-decoration-color: #000000; font-weight: bold\">]</span>\n",
       "<span style=\"color: #000000; text-decoration-color: #000000\"> </span><span style=\"color: #000000; text-decoration-color: #000000; font-weight: bold\">[</span><span style=\"color: #000000; text-decoration-color: #000000; font-weight: bold\">0</span><span style=\"color: #000000; text-decoration-color: #000000\"> </span><span style=\"color: #000000; text-decoration-color: #000000; font-weight: bold\">1</span><span style=\"color: #000000; text-decoration-color: #000000\"> </span><span style=\"color: #000000; text-decoration-color: #000000; font-weight: bold\">0</span><span style=\"color: #000000; text-decoration-color: #000000\"> </span><span style=\"color: #000000; text-decoration-color: #000000; font-weight: bold\">0</span><span style=\"color: #000000; text-decoration-color: #000000\"> </span><span style=\"color: #000000; text-decoration-color: #000000; font-weight: bold\">1</span><span style=\"color: #000000; text-decoration-color: #000000\"> </span><span style=\"color: #000000; text-decoration-color: #000000; font-weight: bold\">1</span><span style=\"color: #000000; text-decoration-color: #000000\"> </span><span style=\"color: #000000; text-decoration-color: #000000; font-weight: bold\">1</span><span style=\"color: #000000; text-decoration-color: #000000\"> </span><span style=\"color: #000000; text-decoration-color: #000000; font-weight: bold\">0</span><span style=\"color: #000000; text-decoration-color: #000000\"> </span><span style=\"color: #000000; text-decoration-color: #000000; font-weight: bold\">1</span><span style=\"color: #000000; text-decoration-color: #000000\"> </span><span style=\"color: #000000; text-decoration-color: #000000; font-weight: bold\">0</span><span style=\"color: #000000; text-decoration-color: #000000\"> </span><span style=\"color: #000000; text-decoration-color: #000000; font-weight: bold\">0</span><span style=\"color: #000000; text-decoration-color: #000000\"> </span><span style=\"color: #000000; text-decoration-color: #000000; font-weight: bold\">0</span><span style=\"color: #000000; text-decoration-color: #000000\"> </span><span style=\"color: #000000; text-decoration-color: #000000; font-weight: bold\">0</span><span style=\"color: #000000; text-decoration-color: #000000; font-weight: bold\">]</span>\n",
       "<span style=\"color: #000000; text-decoration-color: #000000\"> </span><span style=\"color: #000000; text-decoration-color: #000000; font-weight: bold\">[</span><span style=\"color: #000000; text-decoration-color: #000000; font-weight: bold\">1</span><span style=\"color: #000000; text-decoration-color: #000000\"> </span><span style=\"color: #000000; text-decoration-color: #000000; font-weight: bold\">1</span><span style=\"color: #000000; text-decoration-color: #000000\"> </span><span style=\"color: #000000; text-decoration-color: #000000; font-weight: bold\">0</span><span style=\"color: #000000; text-decoration-color: #000000\"> </span><span style=\"color: #000000; text-decoration-color: #000000; font-weight: bold\">0</span><span style=\"color: #000000; text-decoration-color: #000000\"> </span><span style=\"color: #000000; text-decoration-color: #000000; font-weight: bold\">0</span><span style=\"color: #000000; text-decoration-color: #000000\"> </span><span style=\"color: #000000; text-decoration-color: #000000; font-weight: bold\">1</span><span style=\"color: #000000; text-decoration-color: #000000\"> </span><span style=\"color: #000000; text-decoration-color: #000000; font-weight: bold\">1</span><span style=\"color: #000000; text-decoration-color: #000000\"> </span><span style=\"color: #000000; text-decoration-color: #000000; font-weight: bold\">1</span><span style=\"color: #000000; text-decoration-color: #000000\"> </span><span style=\"color: #000000; text-decoration-color: #000000; font-weight: bold\">1</span><span style=\"color: #000000; text-decoration-color: #000000\"> </span><span style=\"color: #000000; text-decoration-color: #000000; font-weight: bold\">1</span><span style=\"color: #000000; text-decoration-color: #000000\"> </span><span style=\"color: #000000; text-decoration-color: #000000; font-weight: bold\">0</span><span style=\"color: #000000; text-decoration-color: #000000\"> </span><span style=\"color: #000000; text-decoration-color: #000000; font-weight: bold\">0</span><span style=\"color: #000000; text-decoration-color: #000000\"> </span><span style=\"color: #000000; text-decoration-color: #000000; font-weight: bold\">0</span><span style=\"color: #000000; text-decoration-color: #000000; font-weight: bold\">]</span>\n",
       "<span style=\"color: #000000; text-decoration-color: #000000\"> </span><span style=\"color: #000000; text-decoration-color: #000000; font-weight: bold\">[</span><span style=\"color: #000000; text-decoration-color: #000000; font-weight: bold\">0</span><span style=\"color: #000000; text-decoration-color: #000000\"> </span><span style=\"color: #000000; text-decoration-color: #000000; font-weight: bold\">0</span><span style=\"color: #000000; text-decoration-color: #000000\"> </span><span style=\"color: #000000; text-decoration-color: #000000; font-weight: bold\">0</span><span style=\"color: #000000; text-decoration-color: #000000\"> </span><span style=\"color: #000000; text-decoration-color: #000000; font-weight: bold\">1</span><span style=\"color: #000000; text-decoration-color: #000000\"> </span><span style=\"color: #000000; text-decoration-color: #000000; font-weight: bold\">1</span><span style=\"color: #000000; text-decoration-color: #000000\"> </span><span style=\"color: #000000; text-decoration-color: #000000; font-weight: bold\">0</span><span style=\"color: #000000; text-decoration-color: #000000\"> </span><span style=\"color: #000000; text-decoration-color: #000000; font-weight: bold\">0</span><span style=\"color: #000000; text-decoration-color: #000000\"> </span><span style=\"color: #000000; text-decoration-color: #000000; font-weight: bold\">0</span><span style=\"color: #000000; text-decoration-color: #000000\"> </span><span style=\"color: #000000; text-decoration-color: #000000; font-weight: bold\">0</span><span style=\"color: #000000; text-decoration-color: #000000\"> </span><span style=\"color: #000000; text-decoration-color: #000000; font-weight: bold\">1</span><span style=\"color: #000000; text-decoration-color: #000000\"> </span><span style=\"color: #000000; text-decoration-color: #000000; font-weight: bold\">0</span><span style=\"color: #000000; text-decoration-color: #000000\"> </span><span style=\"color: #000000; text-decoration-color: #000000; font-weight: bold\">0</span><span style=\"color: #000000; text-decoration-color: #000000\"> </span><span style=\"color: #000000; text-decoration-color: #000000; font-weight: bold\">0</span><span style=\"color: #000000; text-decoration-color: #000000; font-weight: bold\">]</span>\n",
       "<span style=\"color: #000000; text-decoration-color: #000000\"> </span><span style=\"color: #000000; text-decoration-color: #000000; font-weight: bold\">[</span><span style=\"color: #000000; text-decoration-color: #000000; font-weight: bold\">1</span><span style=\"color: #000000; text-decoration-color: #000000\"> </span><span style=\"color: #000000; text-decoration-color: #000000; font-weight: bold\">0</span><span style=\"color: #000000; text-decoration-color: #000000\"> </span><span style=\"color: #000000; text-decoration-color: #000000; font-weight: bold\">1</span><span style=\"color: #000000; text-decoration-color: #000000\"> </span><span style=\"color: #000000; text-decoration-color: #000000; font-weight: bold\">1</span><span style=\"color: #000000; text-decoration-color: #000000\"> </span><span style=\"color: #000000; text-decoration-color: #000000; font-weight: bold\">1</span><span style=\"color: #000000; text-decoration-color: #000000\"> </span><span style=\"color: #000000; text-decoration-color: #000000; font-weight: bold\">0</span><span style=\"color: #000000; text-decoration-color: #000000\"> </span><span style=\"color: #000000; text-decoration-color: #000000; font-weight: bold\">0</span><span style=\"color: #000000; text-decoration-color: #000000\"> </span><span style=\"color: #000000; text-decoration-color: #000000; font-weight: bold\">1</span><span style=\"color: #000000; text-decoration-color: #000000\"> </span><span style=\"color: #000000; text-decoration-color: #000000; font-weight: bold\">1</span><span style=\"color: #000000; text-decoration-color: #000000\"> </span><span style=\"color: #000000; text-decoration-color: #000000; font-weight: bold\">0</span><span style=\"color: #000000; text-decoration-color: #000000\"> </span><span style=\"color: #000000; text-decoration-color: #000000; font-weight: bold\">0</span><span style=\"color: #000000; text-decoration-color: #000000\"> </span><span style=\"color: #000000; text-decoration-color: #000000; font-weight: bold\">0</span><span style=\"color: #000000; text-decoration-color: #000000\"> </span><span style=\"color: #000000; text-decoration-color: #000000; font-weight: bold\">0</span><span style=\"color: #000000; text-decoration-color: #000000; font-weight: bold\">]]</span>\n",
       "</pre>\n"
      ],
      "text/plain": [
       "\u001b[1;32mmutated population \u001b[0m\u001b[1;32m(\u001b[0m\u001b[1;32m0.8\u001b[0m\u001b[1;32m)\u001b[0m\u001b[1;32m: \u001b[0m \n",
       " \u001b[1;30m[\u001b[0m\u001b[1;30m[\u001b[0m\u001b[1;30m1\u001b[0m\u001b[30m \u001b[0m\u001b[1;30m0\u001b[0m\u001b[30m \u001b[0m\u001b[1;30m0\u001b[0m\u001b[30m \u001b[0m\u001b[1;30m1\u001b[0m\u001b[30m \u001b[0m\u001b[1;30m1\u001b[0m\u001b[30m \u001b[0m\u001b[1;30m1\u001b[0m\u001b[30m \u001b[0m\u001b[1;30m0\u001b[0m\u001b[30m \u001b[0m\u001b[1;30m1\u001b[0m\u001b[30m \u001b[0m\u001b[1;30m0\u001b[0m\u001b[30m \u001b[0m\u001b[1;30m0\u001b[0m\u001b[30m \u001b[0m\u001b[1;30m1\u001b[0m\u001b[30m \u001b[0m\u001b[1;30m0\u001b[0m\u001b[30m \u001b[0m\u001b[1;30m0\u001b[0m\u001b[1;30m]\u001b[0m\n",
       "\u001b[30m \u001b[0m\u001b[1;30m[\u001b[0m\u001b[1;30m0\u001b[0m\u001b[30m \u001b[0m\u001b[1;30m0\u001b[0m\u001b[30m \u001b[0m\u001b[1;30m0\u001b[0m\u001b[30m \u001b[0m\u001b[1;30m0\u001b[0m\u001b[30m \u001b[0m\u001b[1;30m0\u001b[0m\u001b[30m \u001b[0m\u001b[1;30m1\u001b[0m\u001b[30m \u001b[0m\u001b[1;30m0\u001b[0m\u001b[30m \u001b[0m\u001b[1;30m0\u001b[0m\u001b[30m \u001b[0m\u001b[1;30m1\u001b[0m\u001b[30m \u001b[0m\u001b[1;30m0\u001b[0m\u001b[30m \u001b[0m\u001b[1;30m0\u001b[0m\u001b[30m \u001b[0m\u001b[1;30m0\u001b[0m\u001b[30m \u001b[0m\u001b[1;30m1\u001b[0m\u001b[1;30m]\u001b[0m\n",
       "\u001b[30m \u001b[0m\u001b[1;30m[\u001b[0m\u001b[1;30m1\u001b[0m\u001b[30m \u001b[0m\u001b[1;30m0\u001b[0m\u001b[30m \u001b[0m\u001b[1;30m0\u001b[0m\u001b[30m \u001b[0m\u001b[1;30m0\u001b[0m\u001b[30m \u001b[0m\u001b[1;30m1\u001b[0m\u001b[30m \u001b[0m\u001b[1;30m1\u001b[0m\u001b[30m \u001b[0m\u001b[1;30m0\u001b[0m\u001b[30m \u001b[0m\u001b[1;30m0\u001b[0m\u001b[30m \u001b[0m\u001b[1;30m0\u001b[0m\u001b[30m \u001b[0m\u001b[1;30m0\u001b[0m\u001b[30m \u001b[0m\u001b[1;30m1\u001b[0m\u001b[30m \u001b[0m\u001b[1;30m1\u001b[0m\u001b[30m \u001b[0m\u001b[1;30m1\u001b[0m\u001b[1;30m]\u001b[0m\n",
       "\u001b[30m \u001b[0m\u001b[1;30m[\u001b[0m\u001b[1;30m1\u001b[0m\u001b[30m \u001b[0m\u001b[1;30m1\u001b[0m\u001b[30m \u001b[0m\u001b[1;30m0\u001b[0m\u001b[30m \u001b[0m\u001b[1;30m0\u001b[0m\u001b[30m \u001b[0m\u001b[1;30m0\u001b[0m\u001b[30m \u001b[0m\u001b[1;30m1\u001b[0m\u001b[30m \u001b[0m\u001b[1;30m0\u001b[0m\u001b[30m \u001b[0m\u001b[1;30m1\u001b[0m\u001b[30m \u001b[0m\u001b[1;30m0\u001b[0m\u001b[30m \u001b[0m\u001b[1;30m0\u001b[0m\u001b[30m \u001b[0m\u001b[1;30m0\u001b[0m\u001b[30m \u001b[0m\u001b[1;30m0\u001b[0m\u001b[30m \u001b[0m\u001b[1;30m0\u001b[0m\u001b[1;30m]\u001b[0m\n",
       "\u001b[30m \u001b[0m\u001b[1;30m[\u001b[0m\u001b[1;30m1\u001b[0m\u001b[30m \u001b[0m\u001b[1;30m1\u001b[0m\u001b[30m \u001b[0m\u001b[1;30m1\u001b[0m\u001b[30m \u001b[0m\u001b[1;30m0\u001b[0m\u001b[30m \u001b[0m\u001b[1;30m0\u001b[0m\u001b[30m \u001b[0m\u001b[1;30m0\u001b[0m\u001b[30m \u001b[0m\u001b[1;30m1\u001b[0m\u001b[30m \u001b[0m\u001b[1;30m0\u001b[0m\u001b[30m \u001b[0m\u001b[1;30m0\u001b[0m\u001b[30m \u001b[0m\u001b[1;30m1\u001b[0m\u001b[30m \u001b[0m\u001b[1;30m0\u001b[0m\u001b[30m \u001b[0m\u001b[1;30m1\u001b[0m\u001b[30m \u001b[0m\u001b[1;30m0\u001b[0m\u001b[1;30m]\u001b[0m\n",
       "\u001b[30m \u001b[0m\u001b[1;30m[\u001b[0m\u001b[1;30m1\u001b[0m\u001b[30m \u001b[0m\u001b[1;30m0\u001b[0m\u001b[30m \u001b[0m\u001b[1;30m1\u001b[0m\u001b[30m \u001b[0m\u001b[1;30m0\u001b[0m\u001b[30m \u001b[0m\u001b[1;30m1\u001b[0m\u001b[30m \u001b[0m\u001b[1;30m1\u001b[0m\u001b[30m \u001b[0m\u001b[1;30m0\u001b[0m\u001b[30m \u001b[0m\u001b[1;30m1\u001b[0m\u001b[30m \u001b[0m\u001b[1;30m0\u001b[0m\u001b[30m \u001b[0m\u001b[1;30m0\u001b[0m\u001b[30m \u001b[0m\u001b[1;30m1\u001b[0m\u001b[30m \u001b[0m\u001b[1;30m1\u001b[0m\u001b[30m \u001b[0m\u001b[1;30m1\u001b[0m\u001b[1;30m]\u001b[0m\n",
       "\u001b[30m \u001b[0m\u001b[1;30m[\u001b[0m\u001b[1;30m0\u001b[0m\u001b[30m \u001b[0m\u001b[1;30m1\u001b[0m\u001b[30m \u001b[0m\u001b[1;30m0\u001b[0m\u001b[30m \u001b[0m\u001b[1;30m0\u001b[0m\u001b[30m \u001b[0m\u001b[1;30m1\u001b[0m\u001b[30m \u001b[0m\u001b[1;30m1\u001b[0m\u001b[30m \u001b[0m\u001b[1;30m1\u001b[0m\u001b[30m \u001b[0m\u001b[1;30m0\u001b[0m\u001b[30m \u001b[0m\u001b[1;30m1\u001b[0m\u001b[30m \u001b[0m\u001b[1;30m0\u001b[0m\u001b[30m \u001b[0m\u001b[1;30m0\u001b[0m\u001b[30m \u001b[0m\u001b[1;30m0\u001b[0m\u001b[30m \u001b[0m\u001b[1;30m0\u001b[0m\u001b[1;30m]\u001b[0m\n",
       "\u001b[30m \u001b[0m\u001b[1;30m[\u001b[0m\u001b[1;30m1\u001b[0m\u001b[30m \u001b[0m\u001b[1;30m1\u001b[0m\u001b[30m \u001b[0m\u001b[1;30m0\u001b[0m\u001b[30m \u001b[0m\u001b[1;30m0\u001b[0m\u001b[30m \u001b[0m\u001b[1;30m0\u001b[0m\u001b[30m \u001b[0m\u001b[1;30m1\u001b[0m\u001b[30m \u001b[0m\u001b[1;30m1\u001b[0m\u001b[30m \u001b[0m\u001b[1;30m1\u001b[0m\u001b[30m \u001b[0m\u001b[1;30m1\u001b[0m\u001b[30m \u001b[0m\u001b[1;30m1\u001b[0m\u001b[30m \u001b[0m\u001b[1;30m0\u001b[0m\u001b[30m \u001b[0m\u001b[1;30m0\u001b[0m\u001b[30m \u001b[0m\u001b[1;30m0\u001b[0m\u001b[1;30m]\u001b[0m\n",
       "\u001b[30m \u001b[0m\u001b[1;30m[\u001b[0m\u001b[1;30m0\u001b[0m\u001b[30m \u001b[0m\u001b[1;30m0\u001b[0m\u001b[30m \u001b[0m\u001b[1;30m0\u001b[0m\u001b[30m \u001b[0m\u001b[1;30m1\u001b[0m\u001b[30m \u001b[0m\u001b[1;30m1\u001b[0m\u001b[30m \u001b[0m\u001b[1;30m0\u001b[0m\u001b[30m \u001b[0m\u001b[1;30m0\u001b[0m\u001b[30m \u001b[0m\u001b[1;30m0\u001b[0m\u001b[30m \u001b[0m\u001b[1;30m0\u001b[0m\u001b[30m \u001b[0m\u001b[1;30m1\u001b[0m\u001b[30m \u001b[0m\u001b[1;30m0\u001b[0m\u001b[30m \u001b[0m\u001b[1;30m0\u001b[0m\u001b[30m \u001b[0m\u001b[1;30m0\u001b[0m\u001b[1;30m]\u001b[0m\n",
       "\u001b[30m \u001b[0m\u001b[1;30m[\u001b[0m\u001b[1;30m1\u001b[0m\u001b[30m \u001b[0m\u001b[1;30m0\u001b[0m\u001b[30m \u001b[0m\u001b[1;30m1\u001b[0m\u001b[30m \u001b[0m\u001b[1;30m1\u001b[0m\u001b[30m \u001b[0m\u001b[1;30m1\u001b[0m\u001b[30m \u001b[0m\u001b[1;30m0\u001b[0m\u001b[30m \u001b[0m\u001b[1;30m0\u001b[0m\u001b[30m \u001b[0m\u001b[1;30m1\u001b[0m\u001b[30m \u001b[0m\u001b[1;30m1\u001b[0m\u001b[30m \u001b[0m\u001b[1;30m0\u001b[0m\u001b[30m \u001b[0m\u001b[1;30m0\u001b[0m\u001b[30m \u001b[0m\u001b[1;30m0\u001b[0m\u001b[30m \u001b[0m\u001b[1;30m0\u001b[0m\u001b[1;30m]\u001b[0m\u001b[1;30m]\u001b[0m\n"
      ]
     },
     "metadata": {},
     "output_type": "display_data"
    },
    {
     "data": {
      "text/html": [
       "<pre style=\"white-space:pre;overflow-x:auto;line-height:normal;font-family:Menlo,'DejaVu Sans Mono',consolas,'Courier New',monospace\"><span style=\"color: #800080; text-decoration-color: #800080; font-weight: bold\">previous new population</span> \n",
       " <span style=\"color: #000000; text-decoration-color: #000000; font-weight: bold\">[[</span><span style=\"color: #000000; text-decoration-color: #000000; font-weight: bold\">0</span><span style=\"color: #000000; text-decoration-color: #000000\"> </span><span style=\"color: #000000; text-decoration-color: #000000; font-weight: bold\">1</span><span style=\"color: #000000; text-decoration-color: #000000\"> </span><span style=\"color: #000000; text-decoration-color: #000000; font-weight: bold\">1</span><span style=\"color: #000000; text-decoration-color: #000000\"> </span><span style=\"color: #000000; text-decoration-color: #000000; font-weight: bold\">0</span><span style=\"color: #000000; text-decoration-color: #000000\"> </span><span style=\"color: #000000; text-decoration-color: #000000; font-weight: bold\">0</span><span style=\"color: #000000; text-decoration-color: #000000\"> </span><span style=\"color: #000000; text-decoration-color: #000000; font-weight: bold\">1</span><span style=\"color: #000000; text-decoration-color: #000000\"> </span><span style=\"color: #000000; text-decoration-color: #000000; font-weight: bold\">1</span><span style=\"color: #000000; text-decoration-color: #000000\"> </span><span style=\"color: #000000; text-decoration-color: #000000; font-weight: bold\">1</span><span style=\"color: #000000; text-decoration-color: #000000\"> </span><span style=\"color: #000000; text-decoration-color: #000000; font-weight: bold\">0</span><span style=\"color: #000000; text-decoration-color: #000000\"> </span><span style=\"color: #000000; text-decoration-color: #000000; font-weight: bold\">1</span><span style=\"color: #000000; text-decoration-color: #000000\"> </span><span style=\"color: #000000; text-decoration-color: #000000; font-weight: bold\">1</span><span style=\"color: #000000; text-decoration-color: #000000\"> </span><span style=\"color: #000000; text-decoration-color: #000000; font-weight: bold\">0</span><span style=\"color: #000000; text-decoration-color: #000000\"> </span><span style=\"color: #000000; text-decoration-color: #000000; font-weight: bold\">0</span><span style=\"color: #000000; text-decoration-color: #000000; font-weight: bold\">]</span>\n",
       "<span style=\"color: #000000; text-decoration-color: #000000\"> </span><span style=\"color: #000000; text-decoration-color: #000000; font-weight: bold\">[</span><span style=\"color: #000000; text-decoration-color: #000000; font-weight: bold\">0</span><span style=\"color: #000000; text-decoration-color: #000000\"> </span><span style=\"color: #000000; text-decoration-color: #000000; font-weight: bold\">0</span><span style=\"color: #000000; text-decoration-color: #000000\"> </span><span style=\"color: #000000; text-decoration-color: #000000; font-weight: bold\">0</span><span style=\"color: #000000; text-decoration-color: #000000\"> </span><span style=\"color: #000000; text-decoration-color: #000000; font-weight: bold\">1</span><span style=\"color: #000000; text-decoration-color: #000000\"> </span><span style=\"color: #000000; text-decoration-color: #000000; font-weight: bold\">0</span><span style=\"color: #000000; text-decoration-color: #000000\"> </span><span style=\"color: #000000; text-decoration-color: #000000; font-weight: bold\">0</span><span style=\"color: #000000; text-decoration-color: #000000\"> </span><span style=\"color: #000000; text-decoration-color: #000000; font-weight: bold\">0</span><span style=\"color: #000000; text-decoration-color: #000000\"> </span><span style=\"color: #000000; text-decoration-color: #000000; font-weight: bold\">0</span><span style=\"color: #000000; text-decoration-color: #000000\"> </span><span style=\"color: #000000; text-decoration-color: #000000; font-weight: bold\">1</span><span style=\"color: #000000; text-decoration-color: #000000\"> </span><span style=\"color: #000000; text-decoration-color: #000000; font-weight: bold\">0</span><span style=\"color: #000000; text-decoration-color: #000000\"> </span><span style=\"color: #000000; text-decoration-color: #000000; font-weight: bold\">1</span><span style=\"color: #000000; text-decoration-color: #000000\"> </span><span style=\"color: #000000; text-decoration-color: #000000; font-weight: bold\">0</span><span style=\"color: #000000; text-decoration-color: #000000\"> </span><span style=\"color: #000000; text-decoration-color: #000000; font-weight: bold\">0</span><span style=\"color: #000000; text-decoration-color: #000000; font-weight: bold\">]</span>\n",
       "<span style=\"color: #000000; text-decoration-color: #000000\"> </span><span style=\"color: #000000; text-decoration-color: #000000; font-weight: bold\">[</span><span style=\"color: #000000; text-decoration-color: #000000; font-weight: bold\">0</span><span style=\"color: #000000; text-decoration-color: #000000\"> </span><span style=\"color: #000000; text-decoration-color: #000000; font-weight: bold\">1</span><span style=\"color: #000000; text-decoration-color: #000000\"> </span><span style=\"color: #000000; text-decoration-color: #000000; font-weight: bold\">1</span><span style=\"color: #000000; text-decoration-color: #000000\"> </span><span style=\"color: #000000; text-decoration-color: #000000; font-weight: bold\">0</span><span style=\"color: #000000; text-decoration-color: #000000\"> </span><span style=\"color: #000000; text-decoration-color: #000000; font-weight: bold\">0</span><span style=\"color: #000000; text-decoration-color: #000000\"> </span><span style=\"color: #000000; text-decoration-color: #000000; font-weight: bold\">1</span><span style=\"color: #000000; text-decoration-color: #000000\"> </span><span style=\"color: #000000; text-decoration-color: #000000; font-weight: bold\">0</span><span style=\"color: #000000; text-decoration-color: #000000\"> </span><span style=\"color: #000000; text-decoration-color: #000000; font-weight: bold\">0</span><span style=\"color: #000000; text-decoration-color: #000000\"> </span><span style=\"color: #000000; text-decoration-color: #000000; font-weight: bold\">0</span><span style=\"color: #000000; text-decoration-color: #000000\"> </span><span style=\"color: #000000; text-decoration-color: #000000; font-weight: bold\">0</span><span style=\"color: #000000; text-decoration-color: #000000\"> </span><span style=\"color: #000000; text-decoration-color: #000000; font-weight: bold\">0</span><span style=\"color: #000000; text-decoration-color: #000000\"> </span><span style=\"color: #000000; text-decoration-color: #000000; font-weight: bold\">0</span><span style=\"color: #000000; text-decoration-color: #000000\"> </span><span style=\"color: #000000; text-decoration-color: #000000; font-weight: bold\">1</span><span style=\"color: #000000; text-decoration-color: #000000; font-weight: bold\">]</span>\n",
       "<span style=\"color: #000000; text-decoration-color: #000000\"> </span><span style=\"color: #000000; text-decoration-color: #000000; font-weight: bold\">[</span><span style=\"color: #000000; text-decoration-color: #000000; font-weight: bold\">1</span><span style=\"color: #000000; text-decoration-color: #000000\"> </span><span style=\"color: #000000; text-decoration-color: #000000; font-weight: bold\">0</span><span style=\"color: #000000; text-decoration-color: #000000\"> </span><span style=\"color: #000000; text-decoration-color: #000000; font-weight: bold\">0</span><span style=\"color: #000000; text-decoration-color: #000000\"> </span><span style=\"color: #000000; text-decoration-color: #000000; font-weight: bold\">1</span><span style=\"color: #000000; text-decoration-color: #000000\"> </span><span style=\"color: #000000; text-decoration-color: #000000; font-weight: bold\">1</span><span style=\"color: #000000; text-decoration-color: #000000\"> </span><span style=\"color: #000000; text-decoration-color: #000000; font-weight: bold\">1</span><span style=\"color: #000000; text-decoration-color: #000000\"> </span><span style=\"color: #000000; text-decoration-color: #000000; font-weight: bold\">1</span><span style=\"color: #000000; text-decoration-color: #000000\"> </span><span style=\"color: #000000; text-decoration-color: #000000; font-weight: bold\">1</span><span style=\"color: #000000; text-decoration-color: #000000\"> </span><span style=\"color: #000000; text-decoration-color: #000000; font-weight: bold\">0</span><span style=\"color: #000000; text-decoration-color: #000000\"> </span><span style=\"color: #000000; text-decoration-color: #000000; font-weight: bold\">0</span><span style=\"color: #000000; text-decoration-color: #000000\"> </span><span style=\"color: #000000; text-decoration-color: #000000; font-weight: bold\">0</span><span style=\"color: #000000; text-decoration-color: #000000\"> </span><span style=\"color: #000000; text-decoration-color: #000000; font-weight: bold\">0</span><span style=\"color: #000000; text-decoration-color: #000000\"> </span><span style=\"color: #000000; text-decoration-color: #000000; font-weight: bold\">0</span><span style=\"color: #000000; text-decoration-color: #000000; font-weight: bold\">]</span>\n",
       "<span style=\"color: #000000; text-decoration-color: #000000\"> </span><span style=\"color: #000000; text-decoration-color: #000000; font-weight: bold\">[</span><span style=\"color: #000000; text-decoration-color: #000000; font-weight: bold\">1</span><span style=\"color: #000000; text-decoration-color: #000000\"> </span><span style=\"color: #000000; text-decoration-color: #000000; font-weight: bold\">0</span><span style=\"color: #000000; text-decoration-color: #000000\"> </span><span style=\"color: #000000; text-decoration-color: #000000; font-weight: bold\">0</span><span style=\"color: #000000; text-decoration-color: #000000\"> </span><span style=\"color: #000000; text-decoration-color: #000000; font-weight: bold\">0</span><span style=\"color: #000000; text-decoration-color: #000000\"> </span><span style=\"color: #000000; text-decoration-color: #000000; font-weight: bold\">0</span><span style=\"color: #000000; text-decoration-color: #000000\"> </span><span style=\"color: #000000; text-decoration-color: #000000; font-weight: bold\">0</span><span style=\"color: #000000; text-decoration-color: #000000\"> </span><span style=\"color: #000000; text-decoration-color: #000000; font-weight: bold\">1</span><span style=\"color: #000000; text-decoration-color: #000000\"> </span><span style=\"color: #000000; text-decoration-color: #000000; font-weight: bold\">1</span><span style=\"color: #000000; text-decoration-color: #000000\"> </span><span style=\"color: #000000; text-decoration-color: #000000; font-weight: bold\">1</span><span style=\"color: #000000; text-decoration-color: #000000\"> </span><span style=\"color: #000000; text-decoration-color: #000000; font-weight: bold\">0</span><span style=\"color: #000000; text-decoration-color: #000000\"> </span><span style=\"color: #000000; text-decoration-color: #000000; font-weight: bold\">0</span><span style=\"color: #000000; text-decoration-color: #000000\"> </span><span style=\"color: #000000; text-decoration-color: #000000; font-weight: bold\">0</span><span style=\"color: #000000; text-decoration-color: #000000\"> </span><span style=\"color: #000000; text-decoration-color: #000000; font-weight: bold\">1</span><span style=\"color: #000000; text-decoration-color: #000000; font-weight: bold\">]</span>\n",
       "<span style=\"color: #000000; text-decoration-color: #000000\"> </span><span style=\"color: #000000; text-decoration-color: #000000; font-weight: bold\">[</span><span style=\"color: #000000; text-decoration-color: #000000; font-weight: bold\">0</span><span style=\"color: #000000; text-decoration-color: #000000\"> </span><span style=\"color: #000000; text-decoration-color: #000000; font-weight: bold\">1</span><span style=\"color: #000000; text-decoration-color: #000000\"> </span><span style=\"color: #000000; text-decoration-color: #000000; font-weight: bold\">0</span><span style=\"color: #000000; text-decoration-color: #000000\"> </span><span style=\"color: #000000; text-decoration-color: #000000; font-weight: bold\">0</span><span style=\"color: #000000; text-decoration-color: #000000\"> </span><span style=\"color: #000000; text-decoration-color: #000000; font-weight: bold\">0</span><span style=\"color: #000000; text-decoration-color: #000000\"> </span><span style=\"color: #000000; text-decoration-color: #000000; font-weight: bold\">1</span><span style=\"color: #000000; text-decoration-color: #000000\"> </span><span style=\"color: #000000; text-decoration-color: #000000; font-weight: bold\">0</span><span style=\"color: #000000; text-decoration-color: #000000\"> </span><span style=\"color: #000000; text-decoration-color: #000000; font-weight: bold\">1</span><span style=\"color: #000000; text-decoration-color: #000000\"> </span><span style=\"color: #000000; text-decoration-color: #000000; font-weight: bold\">1</span><span style=\"color: #000000; text-decoration-color: #000000\"> </span><span style=\"color: #000000; text-decoration-color: #000000; font-weight: bold\">0</span><span style=\"color: #000000; text-decoration-color: #000000\"> </span><span style=\"color: #000000; text-decoration-color: #000000; font-weight: bold\">1</span><span style=\"color: #000000; text-decoration-color: #000000\"> </span><span style=\"color: #000000; text-decoration-color: #000000; font-weight: bold\">1</span><span style=\"color: #000000; text-decoration-color: #000000\"> </span><span style=\"color: #000000; text-decoration-color: #000000; font-weight: bold\">1</span><span style=\"color: #000000; text-decoration-color: #000000; font-weight: bold\">]</span>\n",
       "<span style=\"color: #000000; text-decoration-color: #000000\"> </span><span style=\"color: #000000; text-decoration-color: #000000; font-weight: bold\">[</span><span style=\"color: #000000; text-decoration-color: #000000; font-weight: bold\">0</span><span style=\"color: #000000; text-decoration-color: #000000\"> </span><span style=\"color: #000000; text-decoration-color: #000000; font-weight: bold\">0</span><span style=\"color: #000000; text-decoration-color: #000000\"> </span><span style=\"color: #000000; text-decoration-color: #000000; font-weight: bold\">0</span><span style=\"color: #000000; text-decoration-color: #000000\"> </span><span style=\"color: #000000; text-decoration-color: #000000; font-weight: bold\">1</span><span style=\"color: #000000; text-decoration-color: #000000\"> </span><span style=\"color: #000000; text-decoration-color: #000000; font-weight: bold\">0</span><span style=\"color: #000000; text-decoration-color: #000000\"> </span><span style=\"color: #000000; text-decoration-color: #000000; font-weight: bold\">0</span><span style=\"color: #000000; text-decoration-color: #000000\"> </span><span style=\"color: #000000; text-decoration-color: #000000; font-weight: bold\">0</span><span style=\"color: #000000; text-decoration-color: #000000\"> </span><span style=\"color: #000000; text-decoration-color: #000000; font-weight: bold\">0</span><span style=\"color: #000000; text-decoration-color: #000000\"> </span><span style=\"color: #000000; text-decoration-color: #000000; font-weight: bold\">1</span><span style=\"color: #000000; text-decoration-color: #000000\"> </span><span style=\"color: #000000; text-decoration-color: #000000; font-weight: bold\">0</span><span style=\"color: #000000; text-decoration-color: #000000\"> </span><span style=\"color: #000000; text-decoration-color: #000000; font-weight: bold\">1</span><span style=\"color: #000000; text-decoration-color: #000000\"> </span><span style=\"color: #000000; text-decoration-color: #000000; font-weight: bold\">0</span><span style=\"color: #000000; text-decoration-color: #000000\"> </span><span style=\"color: #000000; text-decoration-color: #000000; font-weight: bold\">0</span><span style=\"color: #000000; text-decoration-color: #000000; font-weight: bold\">]</span>\n",
       "<span style=\"color: #000000; text-decoration-color: #000000\"> </span><span style=\"color: #000000; text-decoration-color: #000000; font-weight: bold\">[</span><span style=\"color: #000000; text-decoration-color: #000000; font-weight: bold\">0</span><span style=\"color: #000000; text-decoration-color: #000000\"> </span><span style=\"color: #000000; text-decoration-color: #000000; font-weight: bold\">1</span><span style=\"color: #000000; text-decoration-color: #000000\"> </span><span style=\"color: #000000; text-decoration-color: #000000; font-weight: bold\">1</span><span style=\"color: #000000; text-decoration-color: #000000\"> </span><span style=\"color: #000000; text-decoration-color: #000000; font-weight: bold\">0</span><span style=\"color: #000000; text-decoration-color: #000000\"> </span><span style=\"color: #000000; text-decoration-color: #000000; font-weight: bold\">0</span><span style=\"color: #000000; text-decoration-color: #000000\"> </span><span style=\"color: #000000; text-decoration-color: #000000; font-weight: bold\">1</span><span style=\"color: #000000; text-decoration-color: #000000\"> </span><span style=\"color: #000000; text-decoration-color: #000000; font-weight: bold\">1</span><span style=\"color: #000000; text-decoration-color: #000000\"> </span><span style=\"color: #000000; text-decoration-color: #000000; font-weight: bold\">1</span><span style=\"color: #000000; text-decoration-color: #000000\"> </span><span style=\"color: #000000; text-decoration-color: #000000; font-weight: bold\">0</span><span style=\"color: #000000; text-decoration-color: #000000\"> </span><span style=\"color: #000000; text-decoration-color: #000000; font-weight: bold\">1</span><span style=\"color: #000000; text-decoration-color: #000000\"> </span><span style=\"color: #000000; text-decoration-color: #000000; font-weight: bold\">1</span><span style=\"color: #000000; text-decoration-color: #000000\"> </span><span style=\"color: #000000; text-decoration-color: #000000; font-weight: bold\">0</span><span style=\"color: #000000; text-decoration-color: #000000\"> </span><span style=\"color: #000000; text-decoration-color: #000000; font-weight: bold\">0</span><span style=\"color: #000000; text-decoration-color: #000000; font-weight: bold\">]</span>\n",
       "<span style=\"color: #000000; text-decoration-color: #000000\"> </span><span style=\"color: #000000; text-decoration-color: #000000; font-weight: bold\">[</span><span style=\"color: #000000; text-decoration-color: #000000; font-weight: bold\">1</span><span style=\"color: #000000; text-decoration-color: #000000\"> </span><span style=\"color: #000000; text-decoration-color: #000000; font-weight: bold\">0</span><span style=\"color: #000000; text-decoration-color: #000000\"> </span><span style=\"color: #000000; text-decoration-color: #000000; font-weight: bold\">0</span><span style=\"color: #000000; text-decoration-color: #000000\"> </span><span style=\"color: #000000; text-decoration-color: #000000; font-weight: bold\">1</span><span style=\"color: #000000; text-decoration-color: #000000\"> </span><span style=\"color: #000000; text-decoration-color: #000000; font-weight: bold\">1</span><span style=\"color: #000000; text-decoration-color: #000000\"> </span><span style=\"color: #000000; text-decoration-color: #000000; font-weight: bold\">1</span><span style=\"color: #000000; text-decoration-color: #000000\"> </span><span style=\"color: #000000; text-decoration-color: #000000; font-weight: bold\">1</span><span style=\"color: #000000; text-decoration-color: #000000\"> </span><span style=\"color: #000000; text-decoration-color: #000000; font-weight: bold\">1</span><span style=\"color: #000000; text-decoration-color: #000000\"> </span><span style=\"color: #000000; text-decoration-color: #000000; font-weight: bold\">0</span><span style=\"color: #000000; text-decoration-color: #000000\"> </span><span style=\"color: #000000; text-decoration-color: #000000; font-weight: bold\">0</span><span style=\"color: #000000; text-decoration-color: #000000\"> </span><span style=\"color: #000000; text-decoration-color: #000000; font-weight: bold\">0</span><span style=\"color: #000000; text-decoration-color: #000000\"> </span><span style=\"color: #000000; text-decoration-color: #000000; font-weight: bold\">0</span><span style=\"color: #000000; text-decoration-color: #000000\"> </span><span style=\"color: #000000; text-decoration-color: #000000; font-weight: bold\">0</span><span style=\"color: #000000; text-decoration-color: #000000; font-weight: bold\">]</span>\n",
       "<span style=\"color: #000000; text-decoration-color: #000000\"> </span><span style=\"color: #000000; text-decoration-color: #000000; font-weight: bold\">[</span><span style=\"color: #000000; text-decoration-color: #000000; font-weight: bold\">1</span><span style=\"color: #000000; text-decoration-color: #000000\"> </span><span style=\"color: #000000; text-decoration-color: #000000; font-weight: bold\">0</span><span style=\"color: #000000; text-decoration-color: #000000\"> </span><span style=\"color: #000000; text-decoration-color: #000000; font-weight: bold\">0</span><span style=\"color: #000000; text-decoration-color: #000000\"> </span><span style=\"color: #000000; text-decoration-color: #000000; font-weight: bold\">1</span><span style=\"color: #000000; text-decoration-color: #000000\"> </span><span style=\"color: #000000; text-decoration-color: #000000; font-weight: bold\">1</span><span style=\"color: #000000; text-decoration-color: #000000\"> </span><span style=\"color: #000000; text-decoration-color: #000000; font-weight: bold\">1</span><span style=\"color: #000000; text-decoration-color: #000000\"> </span><span style=\"color: #000000; text-decoration-color: #000000; font-weight: bold\">1</span><span style=\"color: #000000; text-decoration-color: #000000\"> </span><span style=\"color: #000000; text-decoration-color: #000000; font-weight: bold\">1</span><span style=\"color: #000000; text-decoration-color: #000000\"> </span><span style=\"color: #000000; text-decoration-color: #000000; font-weight: bold\">0</span><span style=\"color: #000000; text-decoration-color: #000000\"> </span><span style=\"color: #000000; text-decoration-color: #000000; font-weight: bold\">0</span><span style=\"color: #000000; text-decoration-color: #000000\"> </span><span style=\"color: #000000; text-decoration-color: #000000; font-weight: bold\">0</span><span style=\"color: #000000; text-decoration-color: #000000\"> </span><span style=\"color: #000000; text-decoration-color: #000000; font-weight: bold\">0</span><span style=\"color: #000000; text-decoration-color: #000000\"> </span><span style=\"color: #000000; text-decoration-color: #000000; font-weight: bold\">0</span><span style=\"color: #000000; text-decoration-color: #000000; font-weight: bold\">]]</span>\n",
       "</pre>\n"
      ],
      "text/plain": [
       "\u001b[1;35mprevious new population\u001b[0m \n",
       " \u001b[1;30m[\u001b[0m\u001b[1;30m[\u001b[0m\u001b[1;30m0\u001b[0m\u001b[30m \u001b[0m\u001b[1;30m1\u001b[0m\u001b[30m \u001b[0m\u001b[1;30m1\u001b[0m\u001b[30m \u001b[0m\u001b[1;30m0\u001b[0m\u001b[30m \u001b[0m\u001b[1;30m0\u001b[0m\u001b[30m \u001b[0m\u001b[1;30m1\u001b[0m\u001b[30m \u001b[0m\u001b[1;30m1\u001b[0m\u001b[30m \u001b[0m\u001b[1;30m1\u001b[0m\u001b[30m \u001b[0m\u001b[1;30m0\u001b[0m\u001b[30m \u001b[0m\u001b[1;30m1\u001b[0m\u001b[30m \u001b[0m\u001b[1;30m1\u001b[0m\u001b[30m \u001b[0m\u001b[1;30m0\u001b[0m\u001b[30m \u001b[0m\u001b[1;30m0\u001b[0m\u001b[1;30m]\u001b[0m\n",
       "\u001b[30m \u001b[0m\u001b[1;30m[\u001b[0m\u001b[1;30m0\u001b[0m\u001b[30m \u001b[0m\u001b[1;30m0\u001b[0m\u001b[30m \u001b[0m\u001b[1;30m0\u001b[0m\u001b[30m \u001b[0m\u001b[1;30m1\u001b[0m\u001b[30m \u001b[0m\u001b[1;30m0\u001b[0m\u001b[30m \u001b[0m\u001b[1;30m0\u001b[0m\u001b[30m \u001b[0m\u001b[1;30m0\u001b[0m\u001b[30m \u001b[0m\u001b[1;30m0\u001b[0m\u001b[30m \u001b[0m\u001b[1;30m1\u001b[0m\u001b[30m \u001b[0m\u001b[1;30m0\u001b[0m\u001b[30m \u001b[0m\u001b[1;30m1\u001b[0m\u001b[30m \u001b[0m\u001b[1;30m0\u001b[0m\u001b[30m \u001b[0m\u001b[1;30m0\u001b[0m\u001b[1;30m]\u001b[0m\n",
       "\u001b[30m \u001b[0m\u001b[1;30m[\u001b[0m\u001b[1;30m0\u001b[0m\u001b[30m \u001b[0m\u001b[1;30m1\u001b[0m\u001b[30m \u001b[0m\u001b[1;30m1\u001b[0m\u001b[30m \u001b[0m\u001b[1;30m0\u001b[0m\u001b[30m \u001b[0m\u001b[1;30m0\u001b[0m\u001b[30m \u001b[0m\u001b[1;30m1\u001b[0m\u001b[30m \u001b[0m\u001b[1;30m0\u001b[0m\u001b[30m \u001b[0m\u001b[1;30m0\u001b[0m\u001b[30m \u001b[0m\u001b[1;30m0\u001b[0m\u001b[30m \u001b[0m\u001b[1;30m0\u001b[0m\u001b[30m \u001b[0m\u001b[1;30m0\u001b[0m\u001b[30m \u001b[0m\u001b[1;30m0\u001b[0m\u001b[30m \u001b[0m\u001b[1;30m1\u001b[0m\u001b[1;30m]\u001b[0m\n",
       "\u001b[30m \u001b[0m\u001b[1;30m[\u001b[0m\u001b[1;30m1\u001b[0m\u001b[30m \u001b[0m\u001b[1;30m0\u001b[0m\u001b[30m \u001b[0m\u001b[1;30m0\u001b[0m\u001b[30m \u001b[0m\u001b[1;30m1\u001b[0m\u001b[30m \u001b[0m\u001b[1;30m1\u001b[0m\u001b[30m \u001b[0m\u001b[1;30m1\u001b[0m\u001b[30m \u001b[0m\u001b[1;30m1\u001b[0m\u001b[30m \u001b[0m\u001b[1;30m1\u001b[0m\u001b[30m \u001b[0m\u001b[1;30m0\u001b[0m\u001b[30m \u001b[0m\u001b[1;30m0\u001b[0m\u001b[30m \u001b[0m\u001b[1;30m0\u001b[0m\u001b[30m \u001b[0m\u001b[1;30m0\u001b[0m\u001b[30m \u001b[0m\u001b[1;30m0\u001b[0m\u001b[1;30m]\u001b[0m\n",
       "\u001b[30m \u001b[0m\u001b[1;30m[\u001b[0m\u001b[1;30m1\u001b[0m\u001b[30m \u001b[0m\u001b[1;30m0\u001b[0m\u001b[30m \u001b[0m\u001b[1;30m0\u001b[0m\u001b[30m \u001b[0m\u001b[1;30m0\u001b[0m\u001b[30m \u001b[0m\u001b[1;30m0\u001b[0m\u001b[30m \u001b[0m\u001b[1;30m0\u001b[0m\u001b[30m \u001b[0m\u001b[1;30m1\u001b[0m\u001b[30m \u001b[0m\u001b[1;30m1\u001b[0m\u001b[30m \u001b[0m\u001b[1;30m1\u001b[0m\u001b[30m \u001b[0m\u001b[1;30m0\u001b[0m\u001b[30m \u001b[0m\u001b[1;30m0\u001b[0m\u001b[30m \u001b[0m\u001b[1;30m0\u001b[0m\u001b[30m \u001b[0m\u001b[1;30m1\u001b[0m\u001b[1;30m]\u001b[0m\n",
       "\u001b[30m \u001b[0m\u001b[1;30m[\u001b[0m\u001b[1;30m0\u001b[0m\u001b[30m \u001b[0m\u001b[1;30m1\u001b[0m\u001b[30m \u001b[0m\u001b[1;30m0\u001b[0m\u001b[30m \u001b[0m\u001b[1;30m0\u001b[0m\u001b[30m \u001b[0m\u001b[1;30m0\u001b[0m\u001b[30m \u001b[0m\u001b[1;30m1\u001b[0m\u001b[30m \u001b[0m\u001b[1;30m0\u001b[0m\u001b[30m \u001b[0m\u001b[1;30m1\u001b[0m\u001b[30m \u001b[0m\u001b[1;30m1\u001b[0m\u001b[30m \u001b[0m\u001b[1;30m0\u001b[0m\u001b[30m \u001b[0m\u001b[1;30m1\u001b[0m\u001b[30m \u001b[0m\u001b[1;30m1\u001b[0m\u001b[30m \u001b[0m\u001b[1;30m1\u001b[0m\u001b[1;30m]\u001b[0m\n",
       "\u001b[30m \u001b[0m\u001b[1;30m[\u001b[0m\u001b[1;30m0\u001b[0m\u001b[30m \u001b[0m\u001b[1;30m0\u001b[0m\u001b[30m \u001b[0m\u001b[1;30m0\u001b[0m\u001b[30m \u001b[0m\u001b[1;30m1\u001b[0m\u001b[30m \u001b[0m\u001b[1;30m0\u001b[0m\u001b[30m \u001b[0m\u001b[1;30m0\u001b[0m\u001b[30m \u001b[0m\u001b[1;30m0\u001b[0m\u001b[30m \u001b[0m\u001b[1;30m0\u001b[0m\u001b[30m \u001b[0m\u001b[1;30m1\u001b[0m\u001b[30m \u001b[0m\u001b[1;30m0\u001b[0m\u001b[30m \u001b[0m\u001b[1;30m1\u001b[0m\u001b[30m \u001b[0m\u001b[1;30m0\u001b[0m\u001b[30m \u001b[0m\u001b[1;30m0\u001b[0m\u001b[1;30m]\u001b[0m\n",
       "\u001b[30m \u001b[0m\u001b[1;30m[\u001b[0m\u001b[1;30m0\u001b[0m\u001b[30m \u001b[0m\u001b[1;30m1\u001b[0m\u001b[30m \u001b[0m\u001b[1;30m1\u001b[0m\u001b[30m \u001b[0m\u001b[1;30m0\u001b[0m\u001b[30m \u001b[0m\u001b[1;30m0\u001b[0m\u001b[30m \u001b[0m\u001b[1;30m1\u001b[0m\u001b[30m \u001b[0m\u001b[1;30m1\u001b[0m\u001b[30m \u001b[0m\u001b[1;30m1\u001b[0m\u001b[30m \u001b[0m\u001b[1;30m0\u001b[0m\u001b[30m \u001b[0m\u001b[1;30m1\u001b[0m\u001b[30m \u001b[0m\u001b[1;30m1\u001b[0m\u001b[30m \u001b[0m\u001b[1;30m0\u001b[0m\u001b[30m \u001b[0m\u001b[1;30m0\u001b[0m\u001b[1;30m]\u001b[0m\n",
       "\u001b[30m \u001b[0m\u001b[1;30m[\u001b[0m\u001b[1;30m1\u001b[0m\u001b[30m \u001b[0m\u001b[1;30m0\u001b[0m\u001b[30m \u001b[0m\u001b[1;30m0\u001b[0m\u001b[30m \u001b[0m\u001b[1;30m1\u001b[0m\u001b[30m \u001b[0m\u001b[1;30m1\u001b[0m\u001b[30m \u001b[0m\u001b[1;30m1\u001b[0m\u001b[30m \u001b[0m\u001b[1;30m1\u001b[0m\u001b[30m \u001b[0m\u001b[1;30m1\u001b[0m\u001b[30m \u001b[0m\u001b[1;30m0\u001b[0m\u001b[30m \u001b[0m\u001b[1;30m0\u001b[0m\u001b[30m \u001b[0m\u001b[1;30m0\u001b[0m\u001b[30m \u001b[0m\u001b[1;30m0\u001b[0m\u001b[30m \u001b[0m\u001b[1;30m0\u001b[0m\u001b[1;30m]\u001b[0m\n",
       "\u001b[30m \u001b[0m\u001b[1;30m[\u001b[0m\u001b[1;30m1\u001b[0m\u001b[30m \u001b[0m\u001b[1;30m0\u001b[0m\u001b[30m \u001b[0m\u001b[1;30m0\u001b[0m\u001b[30m \u001b[0m\u001b[1;30m1\u001b[0m\u001b[30m \u001b[0m\u001b[1;30m1\u001b[0m\u001b[30m \u001b[0m\u001b[1;30m1\u001b[0m\u001b[30m \u001b[0m\u001b[1;30m1\u001b[0m\u001b[30m \u001b[0m\u001b[1;30m1\u001b[0m\u001b[30m \u001b[0m\u001b[1;30m0\u001b[0m\u001b[30m \u001b[0m\u001b[1;30m0\u001b[0m\u001b[30m \u001b[0m\u001b[1;30m0\u001b[0m\u001b[30m \u001b[0m\u001b[1;30m0\u001b[0m\u001b[30m \u001b[0m\u001b[1;30m0\u001b[0m\u001b[1;30m]\u001b[0m\u001b[1;30m]\u001b[0m\n"
      ]
     },
     "metadata": {},
     "output_type": "display_data"
    }
   ],
   "source": [
    "# 돌연변이율 80%일 때의 결과\n",
    "\n",
    "large_mu_pop = crossover_population.copy()\n",
    "\n",
    "for _ in range(large_mutations):\n",
    "    chromosome_index = np.random.randint(0, 10)\n",
    "    gene_index = np.random.randint(0, X_train.shape[1])\n",
    "    large_mu_pop[chromosome_index, gene_index] = 0 if \\\n",
    "        large_mu_pop[chromosome_index, gene_index] == 1 else 1\n",
    "\n",
    "rich.print('[green][bold]mutated population (0.8): ', '\\n', f'[black]{large_mu_pop[0:10]}')\n",
    "rich.print('[magenta][bold]previous new population', '\\n', f'[black]{crossover_population[0:10]}')"
   ]
  },
  {
   "cell_type": "code",
   "execution_count": 137,
   "metadata": {},
   "outputs": [
    {
     "data": {
      "text/html": [
       "<pre style=\"white-space:pre;overflow-x:auto;line-height:normal;font-family:Menlo,'DejaVu Sans Mono',consolas,'Courier New',monospace\"><span style=\"color: #008000; text-decoration-color: #008000; font-weight: bold\">mutated population (</span><span style=\"color: #008000; text-decoration-color: #008000; font-weight: bold\">0.01</span><span style=\"color: #008000; text-decoration-color: #008000; font-weight: bold\">): </span> \n",
       " <span style=\"color: #000000; text-decoration-color: #000000; font-weight: bold\">[[</span><span style=\"color: #000000; text-decoration-color: #000000; font-weight: bold\">0</span><span style=\"color: #000000; text-decoration-color: #000000\"> </span><span style=\"color: #000000; text-decoration-color: #000000; font-weight: bold\">1</span><span style=\"color: #000000; text-decoration-color: #000000\"> </span><span style=\"color: #000000; text-decoration-color: #000000; font-weight: bold\">1</span><span style=\"color: #000000; text-decoration-color: #000000\"> </span><span style=\"color: #000000; text-decoration-color: #000000; font-weight: bold\">0</span><span style=\"color: #000000; text-decoration-color: #000000\"> </span><span style=\"color: #000000; text-decoration-color: #000000; font-weight: bold\">0</span><span style=\"color: #000000; text-decoration-color: #000000\"> </span><span style=\"color: #000000; text-decoration-color: #000000; font-weight: bold\">1</span><span style=\"color: #000000; text-decoration-color: #000000\"> </span><span style=\"color: #000000; text-decoration-color: #000000; font-weight: bold\">1</span><span style=\"color: #000000; text-decoration-color: #000000\"> </span><span style=\"color: #000000; text-decoration-color: #000000; font-weight: bold\">1</span><span style=\"color: #000000; text-decoration-color: #000000\"> </span><span style=\"color: #000000; text-decoration-color: #000000; font-weight: bold\">0</span><span style=\"color: #000000; text-decoration-color: #000000\"> </span><span style=\"color: #000000; text-decoration-color: #000000; font-weight: bold\">1</span><span style=\"color: #000000; text-decoration-color: #000000\"> </span><span style=\"color: #000000; text-decoration-color: #000000; font-weight: bold\">1</span><span style=\"color: #000000; text-decoration-color: #000000\"> </span><span style=\"color: #000000; text-decoration-color: #000000; font-weight: bold\">0</span><span style=\"color: #000000; text-decoration-color: #000000\"> </span><span style=\"color: #000000; text-decoration-color: #000000; font-weight: bold\">0</span><span style=\"color: #000000; text-decoration-color: #000000; font-weight: bold\">]</span>\n",
       "<span style=\"color: #000000; text-decoration-color: #000000\"> </span><span style=\"color: #000000; text-decoration-color: #000000; font-weight: bold\">[</span><span style=\"color: #000000; text-decoration-color: #000000; font-weight: bold\">0</span><span style=\"color: #000000; text-decoration-color: #000000\"> </span><span style=\"color: #000000; text-decoration-color: #000000; font-weight: bold\">0</span><span style=\"color: #000000; text-decoration-color: #000000\"> </span><span style=\"color: #000000; text-decoration-color: #000000; font-weight: bold\">0</span><span style=\"color: #000000; text-decoration-color: #000000\"> </span><span style=\"color: #000000; text-decoration-color: #000000; font-weight: bold\">1</span><span style=\"color: #000000; text-decoration-color: #000000\"> </span><span style=\"color: #000000; text-decoration-color: #000000; font-weight: bold\">0</span><span style=\"color: #000000; text-decoration-color: #000000\"> </span><span style=\"color: #000000; text-decoration-color: #000000; font-weight: bold\">0</span><span style=\"color: #000000; text-decoration-color: #000000\"> </span><span style=\"color: #000000; text-decoration-color: #000000; font-weight: bold\">0</span><span style=\"color: #000000; text-decoration-color: #000000\"> </span><span style=\"color: #000000; text-decoration-color: #000000; font-weight: bold\">0</span><span style=\"color: #000000; text-decoration-color: #000000\"> </span><span style=\"color: #000000; text-decoration-color: #000000; font-weight: bold\">1</span><span style=\"color: #000000; text-decoration-color: #000000\"> </span><span style=\"color: #000000; text-decoration-color: #000000; font-weight: bold\">0</span><span style=\"color: #000000; text-decoration-color: #000000\"> </span><span style=\"color: #000000; text-decoration-color: #000000; font-weight: bold\">1</span><span style=\"color: #000000; text-decoration-color: #000000\"> </span><span style=\"color: #000000; text-decoration-color: #000000; font-weight: bold\">0</span><span style=\"color: #000000; text-decoration-color: #000000\"> </span><span style=\"color: #000000; text-decoration-color: #000000; font-weight: bold\">0</span><span style=\"color: #000000; text-decoration-color: #000000; font-weight: bold\">]</span>\n",
       "<span style=\"color: #000000; text-decoration-color: #000000\"> </span><span style=\"color: #000000; text-decoration-color: #000000; font-weight: bold\">[</span><span style=\"color: #000000; text-decoration-color: #000000; font-weight: bold\">0</span><span style=\"color: #000000; text-decoration-color: #000000\"> </span><span style=\"color: #000000; text-decoration-color: #000000; font-weight: bold\">1</span><span style=\"color: #000000; text-decoration-color: #000000\"> </span><span style=\"color: #000000; text-decoration-color: #000000; font-weight: bold\">1</span><span style=\"color: #000000; text-decoration-color: #000000\"> </span><span style=\"color: #000000; text-decoration-color: #000000; font-weight: bold\">0</span><span style=\"color: #000000; text-decoration-color: #000000\"> </span><span style=\"color: #000000; text-decoration-color: #000000; font-weight: bold\">0</span><span style=\"color: #000000; text-decoration-color: #000000\"> </span><span style=\"color: #000000; text-decoration-color: #000000; font-weight: bold\">1</span><span style=\"color: #000000; text-decoration-color: #000000\"> </span><span style=\"color: #000000; text-decoration-color: #000000; font-weight: bold\">0</span><span style=\"color: #000000; text-decoration-color: #000000\"> </span><span style=\"color: #000000; text-decoration-color: #000000; font-weight: bold\">0</span><span style=\"color: #000000; text-decoration-color: #000000\"> </span><span style=\"color: #000000; text-decoration-color: #000000; font-weight: bold\">0</span><span style=\"color: #000000; text-decoration-color: #000000\"> </span><span style=\"color: #000000; text-decoration-color: #000000; font-weight: bold\">0</span><span style=\"color: #000000; text-decoration-color: #000000\"> </span><span style=\"color: #000000; text-decoration-color: #000000; font-weight: bold\">0</span><span style=\"color: #000000; text-decoration-color: #000000\"> </span><span style=\"color: #000000; text-decoration-color: #000000; font-weight: bold\">0</span><span style=\"color: #000000; text-decoration-color: #000000\"> </span><span style=\"color: #000000; text-decoration-color: #000000; font-weight: bold\">1</span><span style=\"color: #000000; text-decoration-color: #000000; font-weight: bold\">]</span>\n",
       "<span style=\"color: #000000; text-decoration-color: #000000\"> </span><span style=\"color: #000000; text-decoration-color: #000000; font-weight: bold\">[</span><span style=\"color: #000000; text-decoration-color: #000000; font-weight: bold\">1</span><span style=\"color: #000000; text-decoration-color: #000000\"> </span><span style=\"color: #000000; text-decoration-color: #000000; font-weight: bold\">0</span><span style=\"color: #000000; text-decoration-color: #000000\"> </span><span style=\"color: #000000; text-decoration-color: #000000; font-weight: bold\">0</span><span style=\"color: #000000; text-decoration-color: #000000\"> </span><span style=\"color: #000000; text-decoration-color: #000000; font-weight: bold\">1</span><span style=\"color: #000000; text-decoration-color: #000000\"> </span><span style=\"color: #000000; text-decoration-color: #000000; font-weight: bold\">1</span><span style=\"color: #000000; text-decoration-color: #000000\"> </span><span style=\"color: #000000; text-decoration-color: #000000; font-weight: bold\">1</span><span style=\"color: #000000; text-decoration-color: #000000\"> </span><span style=\"color: #000000; text-decoration-color: #000000; font-weight: bold\">1</span><span style=\"color: #000000; text-decoration-color: #000000\"> </span><span style=\"color: #000000; text-decoration-color: #000000; font-weight: bold\">1</span><span style=\"color: #000000; text-decoration-color: #000000\"> </span><span style=\"color: #000000; text-decoration-color: #000000; font-weight: bold\">1</span><span style=\"color: #000000; text-decoration-color: #000000\"> </span><span style=\"color: #000000; text-decoration-color: #000000; font-weight: bold\">0</span><span style=\"color: #000000; text-decoration-color: #000000\"> </span><span style=\"color: #000000; text-decoration-color: #000000; font-weight: bold\">0</span><span style=\"color: #000000; text-decoration-color: #000000\"> </span><span style=\"color: #000000; text-decoration-color: #000000; font-weight: bold\">0</span><span style=\"color: #000000; text-decoration-color: #000000\"> </span><span style=\"color: #000000; text-decoration-color: #000000; font-weight: bold\">0</span><span style=\"color: #000000; text-decoration-color: #000000; font-weight: bold\">]</span>\n",
       "<span style=\"color: #000000; text-decoration-color: #000000\"> </span><span style=\"color: #000000; text-decoration-color: #000000; font-weight: bold\">[</span><span style=\"color: #000000; text-decoration-color: #000000; font-weight: bold\">1</span><span style=\"color: #000000; text-decoration-color: #000000\"> </span><span style=\"color: #000000; text-decoration-color: #000000; font-weight: bold\">0</span><span style=\"color: #000000; text-decoration-color: #000000\"> </span><span style=\"color: #000000; text-decoration-color: #000000; font-weight: bold\">0</span><span style=\"color: #000000; text-decoration-color: #000000\"> </span><span style=\"color: #000000; text-decoration-color: #000000; font-weight: bold\">0</span><span style=\"color: #000000; text-decoration-color: #000000\"> </span><span style=\"color: #000000; text-decoration-color: #000000; font-weight: bold\">0</span><span style=\"color: #000000; text-decoration-color: #000000\"> </span><span style=\"color: #000000; text-decoration-color: #000000; font-weight: bold\">0</span><span style=\"color: #000000; text-decoration-color: #000000\"> </span><span style=\"color: #000000; text-decoration-color: #000000; font-weight: bold\">1</span><span style=\"color: #000000; text-decoration-color: #000000\"> </span><span style=\"color: #000000; text-decoration-color: #000000; font-weight: bold\">1</span><span style=\"color: #000000; text-decoration-color: #000000\"> </span><span style=\"color: #000000; text-decoration-color: #000000; font-weight: bold\">1</span><span style=\"color: #000000; text-decoration-color: #000000\"> </span><span style=\"color: #000000; text-decoration-color: #000000; font-weight: bold\">0</span><span style=\"color: #000000; text-decoration-color: #000000\"> </span><span style=\"color: #000000; text-decoration-color: #000000; font-weight: bold\">0</span><span style=\"color: #000000; text-decoration-color: #000000\"> </span><span style=\"color: #000000; text-decoration-color: #000000; font-weight: bold\">0</span><span style=\"color: #000000; text-decoration-color: #000000\"> </span><span style=\"color: #000000; text-decoration-color: #000000; font-weight: bold\">1</span><span style=\"color: #000000; text-decoration-color: #000000; font-weight: bold\">]</span>\n",
       "<span style=\"color: #000000; text-decoration-color: #000000\"> </span><span style=\"color: #000000; text-decoration-color: #000000; font-weight: bold\">[</span><span style=\"color: #000000; text-decoration-color: #000000; font-weight: bold\">0</span><span style=\"color: #000000; text-decoration-color: #000000\"> </span><span style=\"color: #000000; text-decoration-color: #000000; font-weight: bold\">1</span><span style=\"color: #000000; text-decoration-color: #000000\"> </span><span style=\"color: #000000; text-decoration-color: #000000; font-weight: bold\">0</span><span style=\"color: #000000; text-decoration-color: #000000\"> </span><span style=\"color: #000000; text-decoration-color: #000000; font-weight: bold\">0</span><span style=\"color: #000000; text-decoration-color: #000000\"> </span><span style=\"color: #000000; text-decoration-color: #000000; font-weight: bold\">0</span><span style=\"color: #000000; text-decoration-color: #000000\"> </span><span style=\"color: #000000; text-decoration-color: #000000; font-weight: bold\">1</span><span style=\"color: #000000; text-decoration-color: #000000\"> </span><span style=\"color: #000000; text-decoration-color: #000000; font-weight: bold\">0</span><span style=\"color: #000000; text-decoration-color: #000000\"> </span><span style=\"color: #000000; text-decoration-color: #000000; font-weight: bold\">1</span><span style=\"color: #000000; text-decoration-color: #000000\"> </span><span style=\"color: #000000; text-decoration-color: #000000; font-weight: bold\">1</span><span style=\"color: #000000; text-decoration-color: #000000\"> </span><span style=\"color: #000000; text-decoration-color: #000000; font-weight: bold\">0</span><span style=\"color: #000000; text-decoration-color: #000000\"> </span><span style=\"color: #000000; text-decoration-color: #000000; font-weight: bold\">1</span><span style=\"color: #000000; text-decoration-color: #000000\"> </span><span style=\"color: #000000; text-decoration-color: #000000; font-weight: bold\">1</span><span style=\"color: #000000; text-decoration-color: #000000\"> </span><span style=\"color: #000000; text-decoration-color: #000000; font-weight: bold\">1</span><span style=\"color: #000000; text-decoration-color: #000000; font-weight: bold\">]</span>\n",
       "<span style=\"color: #000000; text-decoration-color: #000000\"> </span><span style=\"color: #000000; text-decoration-color: #000000; font-weight: bold\">[</span><span style=\"color: #000000; text-decoration-color: #000000; font-weight: bold\">0</span><span style=\"color: #000000; text-decoration-color: #000000\"> </span><span style=\"color: #000000; text-decoration-color: #000000; font-weight: bold\">0</span><span style=\"color: #000000; text-decoration-color: #000000\"> </span><span style=\"color: #000000; text-decoration-color: #000000; font-weight: bold\">0</span><span style=\"color: #000000; text-decoration-color: #000000\"> </span><span style=\"color: #000000; text-decoration-color: #000000; font-weight: bold\">1</span><span style=\"color: #000000; text-decoration-color: #000000\"> </span><span style=\"color: #000000; text-decoration-color: #000000; font-weight: bold\">0</span><span style=\"color: #000000; text-decoration-color: #000000\"> </span><span style=\"color: #000000; text-decoration-color: #000000; font-weight: bold\">0</span><span style=\"color: #000000; text-decoration-color: #000000\"> </span><span style=\"color: #000000; text-decoration-color: #000000; font-weight: bold\">0</span><span style=\"color: #000000; text-decoration-color: #000000\"> </span><span style=\"color: #000000; text-decoration-color: #000000; font-weight: bold\">0</span><span style=\"color: #000000; text-decoration-color: #000000\"> </span><span style=\"color: #000000; text-decoration-color: #000000; font-weight: bold\">1</span><span style=\"color: #000000; text-decoration-color: #000000\"> </span><span style=\"color: #000000; text-decoration-color: #000000; font-weight: bold\">0</span><span style=\"color: #000000; text-decoration-color: #000000\"> </span><span style=\"color: #000000; text-decoration-color: #000000; font-weight: bold\">1</span><span style=\"color: #000000; text-decoration-color: #000000\"> </span><span style=\"color: #000000; text-decoration-color: #000000; font-weight: bold\">0</span><span style=\"color: #000000; text-decoration-color: #000000\"> </span><span style=\"color: #000000; text-decoration-color: #000000; font-weight: bold\">0</span><span style=\"color: #000000; text-decoration-color: #000000; font-weight: bold\">]</span>\n",
       "<span style=\"color: #000000; text-decoration-color: #000000\"> </span><span style=\"color: #000000; text-decoration-color: #000000; font-weight: bold\">[</span><span style=\"color: #000000; text-decoration-color: #000000; font-weight: bold\">0</span><span style=\"color: #000000; text-decoration-color: #000000\"> </span><span style=\"color: #000000; text-decoration-color: #000000; font-weight: bold\">1</span><span style=\"color: #000000; text-decoration-color: #000000\"> </span><span style=\"color: #000000; text-decoration-color: #000000; font-weight: bold\">1</span><span style=\"color: #000000; text-decoration-color: #000000\"> </span><span style=\"color: #000000; text-decoration-color: #000000; font-weight: bold\">0</span><span style=\"color: #000000; text-decoration-color: #000000\"> </span><span style=\"color: #000000; text-decoration-color: #000000; font-weight: bold\">0</span><span style=\"color: #000000; text-decoration-color: #000000\"> </span><span style=\"color: #000000; text-decoration-color: #000000; font-weight: bold\">1</span><span style=\"color: #000000; text-decoration-color: #000000\"> </span><span style=\"color: #000000; text-decoration-color: #000000; font-weight: bold\">1</span><span style=\"color: #000000; text-decoration-color: #000000\"> </span><span style=\"color: #000000; text-decoration-color: #000000; font-weight: bold\">1</span><span style=\"color: #000000; text-decoration-color: #000000\"> </span><span style=\"color: #000000; text-decoration-color: #000000; font-weight: bold\">0</span><span style=\"color: #000000; text-decoration-color: #000000\"> </span><span style=\"color: #000000; text-decoration-color: #000000; font-weight: bold\">1</span><span style=\"color: #000000; text-decoration-color: #000000\"> </span><span style=\"color: #000000; text-decoration-color: #000000; font-weight: bold\">1</span><span style=\"color: #000000; text-decoration-color: #000000\"> </span><span style=\"color: #000000; text-decoration-color: #000000; font-weight: bold\">0</span><span style=\"color: #000000; text-decoration-color: #000000\"> </span><span style=\"color: #000000; text-decoration-color: #000000; font-weight: bold\">0</span><span style=\"color: #000000; text-decoration-color: #000000; font-weight: bold\">]</span>\n",
       "<span style=\"color: #000000; text-decoration-color: #000000\"> </span><span style=\"color: #000000; text-decoration-color: #000000; font-weight: bold\">[</span><span style=\"color: #000000; text-decoration-color: #000000; font-weight: bold\">1</span><span style=\"color: #000000; text-decoration-color: #000000\"> </span><span style=\"color: #000000; text-decoration-color: #000000; font-weight: bold\">0</span><span style=\"color: #000000; text-decoration-color: #000000\"> </span><span style=\"color: #000000; text-decoration-color: #000000; font-weight: bold\">0</span><span style=\"color: #000000; text-decoration-color: #000000\"> </span><span style=\"color: #000000; text-decoration-color: #000000; font-weight: bold\">1</span><span style=\"color: #000000; text-decoration-color: #000000\"> </span><span style=\"color: #000000; text-decoration-color: #000000; font-weight: bold\">1</span><span style=\"color: #000000; text-decoration-color: #000000\"> </span><span style=\"color: #000000; text-decoration-color: #000000; font-weight: bold\">1</span><span style=\"color: #000000; text-decoration-color: #000000\"> </span><span style=\"color: #000000; text-decoration-color: #000000; font-weight: bold\">1</span><span style=\"color: #000000; text-decoration-color: #000000\"> </span><span style=\"color: #000000; text-decoration-color: #000000; font-weight: bold\">1</span><span style=\"color: #000000; text-decoration-color: #000000\"> </span><span style=\"color: #000000; text-decoration-color: #000000; font-weight: bold\">0</span><span style=\"color: #000000; text-decoration-color: #000000\"> </span><span style=\"color: #000000; text-decoration-color: #000000; font-weight: bold\">0</span><span style=\"color: #000000; text-decoration-color: #000000\"> </span><span style=\"color: #000000; text-decoration-color: #000000; font-weight: bold\">0</span><span style=\"color: #000000; text-decoration-color: #000000\"> </span><span style=\"color: #000000; text-decoration-color: #000000; font-weight: bold\">0</span><span style=\"color: #000000; text-decoration-color: #000000\"> </span><span style=\"color: #000000; text-decoration-color: #000000; font-weight: bold\">0</span><span style=\"color: #000000; text-decoration-color: #000000; font-weight: bold\">]</span>\n",
       "<span style=\"color: #000000; text-decoration-color: #000000\"> </span><span style=\"color: #000000; text-decoration-color: #000000; font-weight: bold\">[</span><span style=\"color: #000000; text-decoration-color: #000000; font-weight: bold\">1</span><span style=\"color: #000000; text-decoration-color: #000000\"> </span><span style=\"color: #000000; text-decoration-color: #000000; font-weight: bold\">0</span><span style=\"color: #000000; text-decoration-color: #000000\"> </span><span style=\"color: #000000; text-decoration-color: #000000; font-weight: bold\">0</span><span style=\"color: #000000; text-decoration-color: #000000\"> </span><span style=\"color: #000000; text-decoration-color: #000000; font-weight: bold\">1</span><span style=\"color: #000000; text-decoration-color: #000000\"> </span><span style=\"color: #000000; text-decoration-color: #000000; font-weight: bold\">1</span><span style=\"color: #000000; text-decoration-color: #000000\"> </span><span style=\"color: #000000; text-decoration-color: #000000; font-weight: bold\">1</span><span style=\"color: #000000; text-decoration-color: #000000\"> </span><span style=\"color: #000000; text-decoration-color: #000000; font-weight: bold\">1</span><span style=\"color: #000000; text-decoration-color: #000000\"> </span><span style=\"color: #000000; text-decoration-color: #000000; font-weight: bold\">1</span><span style=\"color: #000000; text-decoration-color: #000000\"> </span><span style=\"color: #000000; text-decoration-color: #000000; font-weight: bold\">0</span><span style=\"color: #000000; text-decoration-color: #000000\"> </span><span style=\"color: #000000; text-decoration-color: #000000; font-weight: bold\">0</span><span style=\"color: #000000; text-decoration-color: #000000\"> </span><span style=\"color: #000000; text-decoration-color: #000000; font-weight: bold\">0</span><span style=\"color: #000000; text-decoration-color: #000000\"> </span><span style=\"color: #000000; text-decoration-color: #000000; font-weight: bold\">0</span><span style=\"color: #000000; text-decoration-color: #000000\"> </span><span style=\"color: #000000; text-decoration-color: #000000; font-weight: bold\">0</span><span style=\"color: #000000; text-decoration-color: #000000; font-weight: bold\">]]</span>\n",
       "</pre>\n"
      ],
      "text/plain": [
       "\u001b[1;32mmutated population \u001b[0m\u001b[1;32m(\u001b[0m\u001b[1;32m0.01\u001b[0m\u001b[1;32m)\u001b[0m\u001b[1;32m: \u001b[0m \n",
       " \u001b[1;30m[\u001b[0m\u001b[1;30m[\u001b[0m\u001b[1;30m0\u001b[0m\u001b[30m \u001b[0m\u001b[1;30m1\u001b[0m\u001b[30m \u001b[0m\u001b[1;30m1\u001b[0m\u001b[30m \u001b[0m\u001b[1;30m0\u001b[0m\u001b[30m \u001b[0m\u001b[1;30m0\u001b[0m\u001b[30m \u001b[0m\u001b[1;30m1\u001b[0m\u001b[30m \u001b[0m\u001b[1;30m1\u001b[0m\u001b[30m \u001b[0m\u001b[1;30m1\u001b[0m\u001b[30m \u001b[0m\u001b[1;30m0\u001b[0m\u001b[30m \u001b[0m\u001b[1;30m1\u001b[0m\u001b[30m \u001b[0m\u001b[1;30m1\u001b[0m\u001b[30m \u001b[0m\u001b[1;30m0\u001b[0m\u001b[30m \u001b[0m\u001b[1;30m0\u001b[0m\u001b[1;30m]\u001b[0m\n",
       "\u001b[30m \u001b[0m\u001b[1;30m[\u001b[0m\u001b[1;30m0\u001b[0m\u001b[30m \u001b[0m\u001b[1;30m0\u001b[0m\u001b[30m \u001b[0m\u001b[1;30m0\u001b[0m\u001b[30m \u001b[0m\u001b[1;30m1\u001b[0m\u001b[30m \u001b[0m\u001b[1;30m0\u001b[0m\u001b[30m \u001b[0m\u001b[1;30m0\u001b[0m\u001b[30m \u001b[0m\u001b[1;30m0\u001b[0m\u001b[30m \u001b[0m\u001b[1;30m0\u001b[0m\u001b[30m \u001b[0m\u001b[1;30m1\u001b[0m\u001b[30m \u001b[0m\u001b[1;30m0\u001b[0m\u001b[30m \u001b[0m\u001b[1;30m1\u001b[0m\u001b[30m \u001b[0m\u001b[1;30m0\u001b[0m\u001b[30m \u001b[0m\u001b[1;30m0\u001b[0m\u001b[1;30m]\u001b[0m\n",
       "\u001b[30m \u001b[0m\u001b[1;30m[\u001b[0m\u001b[1;30m0\u001b[0m\u001b[30m \u001b[0m\u001b[1;30m1\u001b[0m\u001b[30m \u001b[0m\u001b[1;30m1\u001b[0m\u001b[30m \u001b[0m\u001b[1;30m0\u001b[0m\u001b[30m \u001b[0m\u001b[1;30m0\u001b[0m\u001b[30m \u001b[0m\u001b[1;30m1\u001b[0m\u001b[30m \u001b[0m\u001b[1;30m0\u001b[0m\u001b[30m \u001b[0m\u001b[1;30m0\u001b[0m\u001b[30m \u001b[0m\u001b[1;30m0\u001b[0m\u001b[30m \u001b[0m\u001b[1;30m0\u001b[0m\u001b[30m \u001b[0m\u001b[1;30m0\u001b[0m\u001b[30m \u001b[0m\u001b[1;30m0\u001b[0m\u001b[30m \u001b[0m\u001b[1;30m1\u001b[0m\u001b[1;30m]\u001b[0m\n",
       "\u001b[30m \u001b[0m\u001b[1;30m[\u001b[0m\u001b[1;30m1\u001b[0m\u001b[30m \u001b[0m\u001b[1;30m0\u001b[0m\u001b[30m \u001b[0m\u001b[1;30m0\u001b[0m\u001b[30m \u001b[0m\u001b[1;30m1\u001b[0m\u001b[30m \u001b[0m\u001b[1;30m1\u001b[0m\u001b[30m \u001b[0m\u001b[1;30m1\u001b[0m\u001b[30m \u001b[0m\u001b[1;30m1\u001b[0m\u001b[30m \u001b[0m\u001b[1;30m1\u001b[0m\u001b[30m \u001b[0m\u001b[1;30m1\u001b[0m\u001b[30m \u001b[0m\u001b[1;30m0\u001b[0m\u001b[30m \u001b[0m\u001b[1;30m0\u001b[0m\u001b[30m \u001b[0m\u001b[1;30m0\u001b[0m\u001b[30m \u001b[0m\u001b[1;30m0\u001b[0m\u001b[1;30m]\u001b[0m\n",
       "\u001b[30m \u001b[0m\u001b[1;30m[\u001b[0m\u001b[1;30m1\u001b[0m\u001b[30m \u001b[0m\u001b[1;30m0\u001b[0m\u001b[30m \u001b[0m\u001b[1;30m0\u001b[0m\u001b[30m \u001b[0m\u001b[1;30m0\u001b[0m\u001b[30m \u001b[0m\u001b[1;30m0\u001b[0m\u001b[30m \u001b[0m\u001b[1;30m0\u001b[0m\u001b[30m \u001b[0m\u001b[1;30m1\u001b[0m\u001b[30m \u001b[0m\u001b[1;30m1\u001b[0m\u001b[30m \u001b[0m\u001b[1;30m1\u001b[0m\u001b[30m \u001b[0m\u001b[1;30m0\u001b[0m\u001b[30m \u001b[0m\u001b[1;30m0\u001b[0m\u001b[30m \u001b[0m\u001b[1;30m0\u001b[0m\u001b[30m \u001b[0m\u001b[1;30m1\u001b[0m\u001b[1;30m]\u001b[0m\n",
       "\u001b[30m \u001b[0m\u001b[1;30m[\u001b[0m\u001b[1;30m0\u001b[0m\u001b[30m \u001b[0m\u001b[1;30m1\u001b[0m\u001b[30m \u001b[0m\u001b[1;30m0\u001b[0m\u001b[30m \u001b[0m\u001b[1;30m0\u001b[0m\u001b[30m \u001b[0m\u001b[1;30m0\u001b[0m\u001b[30m \u001b[0m\u001b[1;30m1\u001b[0m\u001b[30m \u001b[0m\u001b[1;30m0\u001b[0m\u001b[30m \u001b[0m\u001b[1;30m1\u001b[0m\u001b[30m \u001b[0m\u001b[1;30m1\u001b[0m\u001b[30m \u001b[0m\u001b[1;30m0\u001b[0m\u001b[30m \u001b[0m\u001b[1;30m1\u001b[0m\u001b[30m \u001b[0m\u001b[1;30m1\u001b[0m\u001b[30m \u001b[0m\u001b[1;30m1\u001b[0m\u001b[1;30m]\u001b[0m\n",
       "\u001b[30m \u001b[0m\u001b[1;30m[\u001b[0m\u001b[1;30m0\u001b[0m\u001b[30m \u001b[0m\u001b[1;30m0\u001b[0m\u001b[30m \u001b[0m\u001b[1;30m0\u001b[0m\u001b[30m \u001b[0m\u001b[1;30m1\u001b[0m\u001b[30m \u001b[0m\u001b[1;30m0\u001b[0m\u001b[30m \u001b[0m\u001b[1;30m0\u001b[0m\u001b[30m \u001b[0m\u001b[1;30m0\u001b[0m\u001b[30m \u001b[0m\u001b[1;30m0\u001b[0m\u001b[30m \u001b[0m\u001b[1;30m1\u001b[0m\u001b[30m \u001b[0m\u001b[1;30m0\u001b[0m\u001b[30m \u001b[0m\u001b[1;30m1\u001b[0m\u001b[30m \u001b[0m\u001b[1;30m0\u001b[0m\u001b[30m \u001b[0m\u001b[1;30m0\u001b[0m\u001b[1;30m]\u001b[0m\n",
       "\u001b[30m \u001b[0m\u001b[1;30m[\u001b[0m\u001b[1;30m0\u001b[0m\u001b[30m \u001b[0m\u001b[1;30m1\u001b[0m\u001b[30m \u001b[0m\u001b[1;30m1\u001b[0m\u001b[30m \u001b[0m\u001b[1;30m0\u001b[0m\u001b[30m \u001b[0m\u001b[1;30m0\u001b[0m\u001b[30m \u001b[0m\u001b[1;30m1\u001b[0m\u001b[30m \u001b[0m\u001b[1;30m1\u001b[0m\u001b[30m \u001b[0m\u001b[1;30m1\u001b[0m\u001b[30m \u001b[0m\u001b[1;30m0\u001b[0m\u001b[30m \u001b[0m\u001b[1;30m1\u001b[0m\u001b[30m \u001b[0m\u001b[1;30m1\u001b[0m\u001b[30m \u001b[0m\u001b[1;30m0\u001b[0m\u001b[30m \u001b[0m\u001b[1;30m0\u001b[0m\u001b[1;30m]\u001b[0m\n",
       "\u001b[30m \u001b[0m\u001b[1;30m[\u001b[0m\u001b[1;30m1\u001b[0m\u001b[30m \u001b[0m\u001b[1;30m0\u001b[0m\u001b[30m \u001b[0m\u001b[1;30m0\u001b[0m\u001b[30m \u001b[0m\u001b[1;30m1\u001b[0m\u001b[30m \u001b[0m\u001b[1;30m1\u001b[0m\u001b[30m \u001b[0m\u001b[1;30m1\u001b[0m\u001b[30m \u001b[0m\u001b[1;30m1\u001b[0m\u001b[30m \u001b[0m\u001b[1;30m1\u001b[0m\u001b[30m \u001b[0m\u001b[1;30m0\u001b[0m\u001b[30m \u001b[0m\u001b[1;30m0\u001b[0m\u001b[30m \u001b[0m\u001b[1;30m0\u001b[0m\u001b[30m \u001b[0m\u001b[1;30m0\u001b[0m\u001b[30m \u001b[0m\u001b[1;30m0\u001b[0m\u001b[1;30m]\u001b[0m\n",
       "\u001b[30m \u001b[0m\u001b[1;30m[\u001b[0m\u001b[1;30m1\u001b[0m\u001b[30m \u001b[0m\u001b[1;30m0\u001b[0m\u001b[30m \u001b[0m\u001b[1;30m0\u001b[0m\u001b[30m \u001b[0m\u001b[1;30m1\u001b[0m\u001b[30m \u001b[0m\u001b[1;30m1\u001b[0m\u001b[30m \u001b[0m\u001b[1;30m1\u001b[0m\u001b[30m \u001b[0m\u001b[1;30m1\u001b[0m\u001b[30m \u001b[0m\u001b[1;30m1\u001b[0m\u001b[30m \u001b[0m\u001b[1;30m0\u001b[0m\u001b[30m \u001b[0m\u001b[1;30m0\u001b[0m\u001b[30m \u001b[0m\u001b[1;30m0\u001b[0m\u001b[30m \u001b[0m\u001b[1;30m0\u001b[0m\u001b[30m \u001b[0m\u001b[1;30m0\u001b[0m\u001b[1;30m]\u001b[0m\u001b[1;30m]\u001b[0m\n"
      ]
     },
     "metadata": {},
     "output_type": "display_data"
    },
    {
     "data": {
      "text/html": [
       "<pre style=\"white-space:pre;overflow-x:auto;line-height:normal;font-family:Menlo,'DejaVu Sans Mono',consolas,'Courier New',monospace\"><span style=\"color: #800080; text-decoration-color: #800080; font-weight: bold\">previous new population</span> \n",
       " <span style=\"color: #000000; text-decoration-color: #000000; font-weight: bold\">[[</span><span style=\"color: #000000; text-decoration-color: #000000; font-weight: bold\">0</span><span style=\"color: #000000; text-decoration-color: #000000\"> </span><span style=\"color: #000000; text-decoration-color: #000000; font-weight: bold\">1</span><span style=\"color: #000000; text-decoration-color: #000000\"> </span><span style=\"color: #000000; text-decoration-color: #000000; font-weight: bold\">1</span><span style=\"color: #000000; text-decoration-color: #000000\"> </span><span style=\"color: #000000; text-decoration-color: #000000; font-weight: bold\">0</span><span style=\"color: #000000; text-decoration-color: #000000\"> </span><span style=\"color: #000000; text-decoration-color: #000000; font-weight: bold\">0</span><span style=\"color: #000000; text-decoration-color: #000000\"> </span><span style=\"color: #000000; text-decoration-color: #000000; font-weight: bold\">1</span><span style=\"color: #000000; text-decoration-color: #000000\"> </span><span style=\"color: #000000; text-decoration-color: #000000; font-weight: bold\">1</span><span style=\"color: #000000; text-decoration-color: #000000\"> </span><span style=\"color: #000000; text-decoration-color: #000000; font-weight: bold\">1</span><span style=\"color: #000000; text-decoration-color: #000000\"> </span><span style=\"color: #000000; text-decoration-color: #000000; font-weight: bold\">0</span><span style=\"color: #000000; text-decoration-color: #000000\"> </span><span style=\"color: #000000; text-decoration-color: #000000; font-weight: bold\">1</span><span style=\"color: #000000; text-decoration-color: #000000\"> </span><span style=\"color: #000000; text-decoration-color: #000000; font-weight: bold\">1</span><span style=\"color: #000000; text-decoration-color: #000000\"> </span><span style=\"color: #000000; text-decoration-color: #000000; font-weight: bold\">0</span><span style=\"color: #000000; text-decoration-color: #000000\"> </span><span style=\"color: #000000; text-decoration-color: #000000; font-weight: bold\">0</span><span style=\"color: #000000; text-decoration-color: #000000; font-weight: bold\">]</span>\n",
       "<span style=\"color: #000000; text-decoration-color: #000000\"> </span><span style=\"color: #000000; text-decoration-color: #000000; font-weight: bold\">[</span><span style=\"color: #000000; text-decoration-color: #000000; font-weight: bold\">0</span><span style=\"color: #000000; text-decoration-color: #000000\"> </span><span style=\"color: #000000; text-decoration-color: #000000; font-weight: bold\">0</span><span style=\"color: #000000; text-decoration-color: #000000\"> </span><span style=\"color: #000000; text-decoration-color: #000000; font-weight: bold\">0</span><span style=\"color: #000000; text-decoration-color: #000000\"> </span><span style=\"color: #000000; text-decoration-color: #000000; font-weight: bold\">1</span><span style=\"color: #000000; text-decoration-color: #000000\"> </span><span style=\"color: #000000; text-decoration-color: #000000; font-weight: bold\">0</span><span style=\"color: #000000; text-decoration-color: #000000\"> </span><span style=\"color: #000000; text-decoration-color: #000000; font-weight: bold\">0</span><span style=\"color: #000000; text-decoration-color: #000000\"> </span><span style=\"color: #000000; text-decoration-color: #000000; font-weight: bold\">0</span><span style=\"color: #000000; text-decoration-color: #000000\"> </span><span style=\"color: #000000; text-decoration-color: #000000; font-weight: bold\">0</span><span style=\"color: #000000; text-decoration-color: #000000\"> </span><span style=\"color: #000000; text-decoration-color: #000000; font-weight: bold\">1</span><span style=\"color: #000000; text-decoration-color: #000000\"> </span><span style=\"color: #000000; text-decoration-color: #000000; font-weight: bold\">0</span><span style=\"color: #000000; text-decoration-color: #000000\"> </span><span style=\"color: #000000; text-decoration-color: #000000; font-weight: bold\">1</span><span style=\"color: #000000; text-decoration-color: #000000\"> </span><span style=\"color: #000000; text-decoration-color: #000000; font-weight: bold\">0</span><span style=\"color: #000000; text-decoration-color: #000000\"> </span><span style=\"color: #000000; text-decoration-color: #000000; font-weight: bold\">0</span><span style=\"color: #000000; text-decoration-color: #000000; font-weight: bold\">]</span>\n",
       "<span style=\"color: #000000; text-decoration-color: #000000\"> </span><span style=\"color: #000000; text-decoration-color: #000000; font-weight: bold\">[</span><span style=\"color: #000000; text-decoration-color: #000000; font-weight: bold\">0</span><span style=\"color: #000000; text-decoration-color: #000000\"> </span><span style=\"color: #000000; text-decoration-color: #000000; font-weight: bold\">1</span><span style=\"color: #000000; text-decoration-color: #000000\"> </span><span style=\"color: #000000; text-decoration-color: #000000; font-weight: bold\">1</span><span style=\"color: #000000; text-decoration-color: #000000\"> </span><span style=\"color: #000000; text-decoration-color: #000000; font-weight: bold\">0</span><span style=\"color: #000000; text-decoration-color: #000000\"> </span><span style=\"color: #000000; text-decoration-color: #000000; font-weight: bold\">0</span><span style=\"color: #000000; text-decoration-color: #000000\"> </span><span style=\"color: #000000; text-decoration-color: #000000; font-weight: bold\">1</span><span style=\"color: #000000; text-decoration-color: #000000\"> </span><span style=\"color: #000000; text-decoration-color: #000000; font-weight: bold\">0</span><span style=\"color: #000000; text-decoration-color: #000000\"> </span><span style=\"color: #000000; text-decoration-color: #000000; font-weight: bold\">0</span><span style=\"color: #000000; text-decoration-color: #000000\"> </span><span style=\"color: #000000; text-decoration-color: #000000; font-weight: bold\">0</span><span style=\"color: #000000; text-decoration-color: #000000\"> </span><span style=\"color: #000000; text-decoration-color: #000000; font-weight: bold\">0</span><span style=\"color: #000000; text-decoration-color: #000000\"> </span><span style=\"color: #000000; text-decoration-color: #000000; font-weight: bold\">0</span><span style=\"color: #000000; text-decoration-color: #000000\"> </span><span style=\"color: #000000; text-decoration-color: #000000; font-weight: bold\">0</span><span style=\"color: #000000; text-decoration-color: #000000\"> </span><span style=\"color: #000000; text-decoration-color: #000000; font-weight: bold\">1</span><span style=\"color: #000000; text-decoration-color: #000000; font-weight: bold\">]</span>\n",
       "<span style=\"color: #000000; text-decoration-color: #000000\"> </span><span style=\"color: #000000; text-decoration-color: #000000; font-weight: bold\">[</span><span style=\"color: #000000; text-decoration-color: #000000; font-weight: bold\">1</span><span style=\"color: #000000; text-decoration-color: #000000\"> </span><span style=\"color: #000000; text-decoration-color: #000000; font-weight: bold\">0</span><span style=\"color: #000000; text-decoration-color: #000000\"> </span><span style=\"color: #000000; text-decoration-color: #000000; font-weight: bold\">0</span><span style=\"color: #000000; text-decoration-color: #000000\"> </span><span style=\"color: #000000; text-decoration-color: #000000; font-weight: bold\">1</span><span style=\"color: #000000; text-decoration-color: #000000\"> </span><span style=\"color: #000000; text-decoration-color: #000000; font-weight: bold\">1</span><span style=\"color: #000000; text-decoration-color: #000000\"> </span><span style=\"color: #000000; text-decoration-color: #000000; font-weight: bold\">1</span><span style=\"color: #000000; text-decoration-color: #000000\"> </span><span style=\"color: #000000; text-decoration-color: #000000; font-weight: bold\">1</span><span style=\"color: #000000; text-decoration-color: #000000\"> </span><span style=\"color: #000000; text-decoration-color: #000000; font-weight: bold\">1</span><span style=\"color: #000000; text-decoration-color: #000000\"> </span><span style=\"color: #000000; text-decoration-color: #000000; font-weight: bold\">0</span><span style=\"color: #000000; text-decoration-color: #000000\"> </span><span style=\"color: #000000; text-decoration-color: #000000; font-weight: bold\">0</span><span style=\"color: #000000; text-decoration-color: #000000\"> </span><span style=\"color: #000000; text-decoration-color: #000000; font-weight: bold\">0</span><span style=\"color: #000000; text-decoration-color: #000000\"> </span><span style=\"color: #000000; text-decoration-color: #000000; font-weight: bold\">0</span><span style=\"color: #000000; text-decoration-color: #000000\"> </span><span style=\"color: #000000; text-decoration-color: #000000; font-weight: bold\">0</span><span style=\"color: #000000; text-decoration-color: #000000; font-weight: bold\">]</span>\n",
       "<span style=\"color: #000000; text-decoration-color: #000000\"> </span><span style=\"color: #000000; text-decoration-color: #000000; font-weight: bold\">[</span><span style=\"color: #000000; text-decoration-color: #000000; font-weight: bold\">1</span><span style=\"color: #000000; text-decoration-color: #000000\"> </span><span style=\"color: #000000; text-decoration-color: #000000; font-weight: bold\">0</span><span style=\"color: #000000; text-decoration-color: #000000\"> </span><span style=\"color: #000000; text-decoration-color: #000000; font-weight: bold\">0</span><span style=\"color: #000000; text-decoration-color: #000000\"> </span><span style=\"color: #000000; text-decoration-color: #000000; font-weight: bold\">0</span><span style=\"color: #000000; text-decoration-color: #000000\"> </span><span style=\"color: #000000; text-decoration-color: #000000; font-weight: bold\">0</span><span style=\"color: #000000; text-decoration-color: #000000\"> </span><span style=\"color: #000000; text-decoration-color: #000000; font-weight: bold\">0</span><span style=\"color: #000000; text-decoration-color: #000000\"> </span><span style=\"color: #000000; text-decoration-color: #000000; font-weight: bold\">1</span><span style=\"color: #000000; text-decoration-color: #000000\"> </span><span style=\"color: #000000; text-decoration-color: #000000; font-weight: bold\">1</span><span style=\"color: #000000; text-decoration-color: #000000\"> </span><span style=\"color: #000000; text-decoration-color: #000000; font-weight: bold\">1</span><span style=\"color: #000000; text-decoration-color: #000000\"> </span><span style=\"color: #000000; text-decoration-color: #000000; font-weight: bold\">0</span><span style=\"color: #000000; text-decoration-color: #000000\"> </span><span style=\"color: #000000; text-decoration-color: #000000; font-weight: bold\">0</span><span style=\"color: #000000; text-decoration-color: #000000\"> </span><span style=\"color: #000000; text-decoration-color: #000000; font-weight: bold\">0</span><span style=\"color: #000000; text-decoration-color: #000000\"> </span><span style=\"color: #000000; text-decoration-color: #000000; font-weight: bold\">1</span><span style=\"color: #000000; text-decoration-color: #000000; font-weight: bold\">]</span>\n",
       "<span style=\"color: #000000; text-decoration-color: #000000\"> </span><span style=\"color: #000000; text-decoration-color: #000000; font-weight: bold\">[</span><span style=\"color: #000000; text-decoration-color: #000000; font-weight: bold\">0</span><span style=\"color: #000000; text-decoration-color: #000000\"> </span><span style=\"color: #000000; text-decoration-color: #000000; font-weight: bold\">1</span><span style=\"color: #000000; text-decoration-color: #000000\"> </span><span style=\"color: #000000; text-decoration-color: #000000; font-weight: bold\">0</span><span style=\"color: #000000; text-decoration-color: #000000\"> </span><span style=\"color: #000000; text-decoration-color: #000000; font-weight: bold\">0</span><span style=\"color: #000000; text-decoration-color: #000000\"> </span><span style=\"color: #000000; text-decoration-color: #000000; font-weight: bold\">0</span><span style=\"color: #000000; text-decoration-color: #000000\"> </span><span style=\"color: #000000; text-decoration-color: #000000; font-weight: bold\">1</span><span style=\"color: #000000; text-decoration-color: #000000\"> </span><span style=\"color: #000000; text-decoration-color: #000000; font-weight: bold\">0</span><span style=\"color: #000000; text-decoration-color: #000000\"> </span><span style=\"color: #000000; text-decoration-color: #000000; font-weight: bold\">1</span><span style=\"color: #000000; text-decoration-color: #000000\"> </span><span style=\"color: #000000; text-decoration-color: #000000; font-weight: bold\">1</span><span style=\"color: #000000; text-decoration-color: #000000\"> </span><span style=\"color: #000000; text-decoration-color: #000000; font-weight: bold\">0</span><span style=\"color: #000000; text-decoration-color: #000000\"> </span><span style=\"color: #000000; text-decoration-color: #000000; font-weight: bold\">1</span><span style=\"color: #000000; text-decoration-color: #000000\"> </span><span style=\"color: #000000; text-decoration-color: #000000; font-weight: bold\">1</span><span style=\"color: #000000; text-decoration-color: #000000\"> </span><span style=\"color: #000000; text-decoration-color: #000000; font-weight: bold\">1</span><span style=\"color: #000000; text-decoration-color: #000000; font-weight: bold\">]</span>\n",
       "<span style=\"color: #000000; text-decoration-color: #000000\"> </span><span style=\"color: #000000; text-decoration-color: #000000; font-weight: bold\">[</span><span style=\"color: #000000; text-decoration-color: #000000; font-weight: bold\">0</span><span style=\"color: #000000; text-decoration-color: #000000\"> </span><span style=\"color: #000000; text-decoration-color: #000000; font-weight: bold\">0</span><span style=\"color: #000000; text-decoration-color: #000000\"> </span><span style=\"color: #000000; text-decoration-color: #000000; font-weight: bold\">0</span><span style=\"color: #000000; text-decoration-color: #000000\"> </span><span style=\"color: #000000; text-decoration-color: #000000; font-weight: bold\">1</span><span style=\"color: #000000; text-decoration-color: #000000\"> </span><span style=\"color: #000000; text-decoration-color: #000000; font-weight: bold\">0</span><span style=\"color: #000000; text-decoration-color: #000000\"> </span><span style=\"color: #000000; text-decoration-color: #000000; font-weight: bold\">0</span><span style=\"color: #000000; text-decoration-color: #000000\"> </span><span style=\"color: #000000; text-decoration-color: #000000; font-weight: bold\">0</span><span style=\"color: #000000; text-decoration-color: #000000\"> </span><span style=\"color: #000000; text-decoration-color: #000000; font-weight: bold\">0</span><span style=\"color: #000000; text-decoration-color: #000000\"> </span><span style=\"color: #000000; text-decoration-color: #000000; font-weight: bold\">1</span><span style=\"color: #000000; text-decoration-color: #000000\"> </span><span style=\"color: #000000; text-decoration-color: #000000; font-weight: bold\">0</span><span style=\"color: #000000; text-decoration-color: #000000\"> </span><span style=\"color: #000000; text-decoration-color: #000000; font-weight: bold\">1</span><span style=\"color: #000000; text-decoration-color: #000000\"> </span><span style=\"color: #000000; text-decoration-color: #000000; font-weight: bold\">0</span><span style=\"color: #000000; text-decoration-color: #000000\"> </span><span style=\"color: #000000; text-decoration-color: #000000; font-weight: bold\">0</span><span style=\"color: #000000; text-decoration-color: #000000; font-weight: bold\">]</span>\n",
       "<span style=\"color: #000000; text-decoration-color: #000000\"> </span><span style=\"color: #000000; text-decoration-color: #000000; font-weight: bold\">[</span><span style=\"color: #000000; text-decoration-color: #000000; font-weight: bold\">0</span><span style=\"color: #000000; text-decoration-color: #000000\"> </span><span style=\"color: #000000; text-decoration-color: #000000; font-weight: bold\">1</span><span style=\"color: #000000; text-decoration-color: #000000\"> </span><span style=\"color: #000000; text-decoration-color: #000000; font-weight: bold\">1</span><span style=\"color: #000000; text-decoration-color: #000000\"> </span><span style=\"color: #000000; text-decoration-color: #000000; font-weight: bold\">0</span><span style=\"color: #000000; text-decoration-color: #000000\"> </span><span style=\"color: #000000; text-decoration-color: #000000; font-weight: bold\">0</span><span style=\"color: #000000; text-decoration-color: #000000\"> </span><span style=\"color: #000000; text-decoration-color: #000000; font-weight: bold\">1</span><span style=\"color: #000000; text-decoration-color: #000000\"> </span><span style=\"color: #000000; text-decoration-color: #000000; font-weight: bold\">1</span><span style=\"color: #000000; text-decoration-color: #000000\"> </span><span style=\"color: #000000; text-decoration-color: #000000; font-weight: bold\">1</span><span style=\"color: #000000; text-decoration-color: #000000\"> </span><span style=\"color: #000000; text-decoration-color: #000000; font-weight: bold\">0</span><span style=\"color: #000000; text-decoration-color: #000000\"> </span><span style=\"color: #000000; text-decoration-color: #000000; font-weight: bold\">1</span><span style=\"color: #000000; text-decoration-color: #000000\"> </span><span style=\"color: #000000; text-decoration-color: #000000; font-weight: bold\">1</span><span style=\"color: #000000; text-decoration-color: #000000\"> </span><span style=\"color: #000000; text-decoration-color: #000000; font-weight: bold\">0</span><span style=\"color: #000000; text-decoration-color: #000000\"> </span><span style=\"color: #000000; text-decoration-color: #000000; font-weight: bold\">0</span><span style=\"color: #000000; text-decoration-color: #000000; font-weight: bold\">]</span>\n",
       "<span style=\"color: #000000; text-decoration-color: #000000\"> </span><span style=\"color: #000000; text-decoration-color: #000000; font-weight: bold\">[</span><span style=\"color: #000000; text-decoration-color: #000000; font-weight: bold\">1</span><span style=\"color: #000000; text-decoration-color: #000000\"> </span><span style=\"color: #000000; text-decoration-color: #000000; font-weight: bold\">0</span><span style=\"color: #000000; text-decoration-color: #000000\"> </span><span style=\"color: #000000; text-decoration-color: #000000; font-weight: bold\">0</span><span style=\"color: #000000; text-decoration-color: #000000\"> </span><span style=\"color: #000000; text-decoration-color: #000000; font-weight: bold\">1</span><span style=\"color: #000000; text-decoration-color: #000000\"> </span><span style=\"color: #000000; text-decoration-color: #000000; font-weight: bold\">1</span><span style=\"color: #000000; text-decoration-color: #000000\"> </span><span style=\"color: #000000; text-decoration-color: #000000; font-weight: bold\">1</span><span style=\"color: #000000; text-decoration-color: #000000\"> </span><span style=\"color: #000000; text-decoration-color: #000000; font-weight: bold\">1</span><span style=\"color: #000000; text-decoration-color: #000000\"> </span><span style=\"color: #000000; text-decoration-color: #000000; font-weight: bold\">1</span><span style=\"color: #000000; text-decoration-color: #000000\"> </span><span style=\"color: #000000; text-decoration-color: #000000; font-weight: bold\">0</span><span style=\"color: #000000; text-decoration-color: #000000\"> </span><span style=\"color: #000000; text-decoration-color: #000000; font-weight: bold\">0</span><span style=\"color: #000000; text-decoration-color: #000000\"> </span><span style=\"color: #000000; text-decoration-color: #000000; font-weight: bold\">0</span><span style=\"color: #000000; text-decoration-color: #000000\"> </span><span style=\"color: #000000; text-decoration-color: #000000; font-weight: bold\">0</span><span style=\"color: #000000; text-decoration-color: #000000\"> </span><span style=\"color: #000000; text-decoration-color: #000000; font-weight: bold\">0</span><span style=\"color: #000000; text-decoration-color: #000000; font-weight: bold\">]</span>\n",
       "<span style=\"color: #000000; text-decoration-color: #000000\"> </span><span style=\"color: #000000; text-decoration-color: #000000; font-weight: bold\">[</span><span style=\"color: #000000; text-decoration-color: #000000; font-weight: bold\">1</span><span style=\"color: #000000; text-decoration-color: #000000\"> </span><span style=\"color: #000000; text-decoration-color: #000000; font-weight: bold\">0</span><span style=\"color: #000000; text-decoration-color: #000000\"> </span><span style=\"color: #000000; text-decoration-color: #000000; font-weight: bold\">0</span><span style=\"color: #000000; text-decoration-color: #000000\"> </span><span style=\"color: #000000; text-decoration-color: #000000; font-weight: bold\">1</span><span style=\"color: #000000; text-decoration-color: #000000\"> </span><span style=\"color: #000000; text-decoration-color: #000000; font-weight: bold\">1</span><span style=\"color: #000000; text-decoration-color: #000000\"> </span><span style=\"color: #000000; text-decoration-color: #000000; font-weight: bold\">1</span><span style=\"color: #000000; text-decoration-color: #000000\"> </span><span style=\"color: #000000; text-decoration-color: #000000; font-weight: bold\">1</span><span style=\"color: #000000; text-decoration-color: #000000\"> </span><span style=\"color: #000000; text-decoration-color: #000000; font-weight: bold\">1</span><span style=\"color: #000000; text-decoration-color: #000000\"> </span><span style=\"color: #000000; text-decoration-color: #000000; font-weight: bold\">0</span><span style=\"color: #000000; text-decoration-color: #000000\"> </span><span style=\"color: #000000; text-decoration-color: #000000; font-weight: bold\">0</span><span style=\"color: #000000; text-decoration-color: #000000\"> </span><span style=\"color: #000000; text-decoration-color: #000000; font-weight: bold\">0</span><span style=\"color: #000000; text-decoration-color: #000000\"> </span><span style=\"color: #000000; text-decoration-color: #000000; font-weight: bold\">0</span><span style=\"color: #000000; text-decoration-color: #000000\"> </span><span style=\"color: #000000; text-decoration-color: #000000; font-weight: bold\">0</span><span style=\"color: #000000; text-decoration-color: #000000; font-weight: bold\">]]</span>\n",
       "</pre>\n"
      ],
      "text/plain": [
       "\u001b[1;35mprevious new population\u001b[0m \n",
       " \u001b[1;30m[\u001b[0m\u001b[1;30m[\u001b[0m\u001b[1;30m0\u001b[0m\u001b[30m \u001b[0m\u001b[1;30m1\u001b[0m\u001b[30m \u001b[0m\u001b[1;30m1\u001b[0m\u001b[30m \u001b[0m\u001b[1;30m0\u001b[0m\u001b[30m \u001b[0m\u001b[1;30m0\u001b[0m\u001b[30m \u001b[0m\u001b[1;30m1\u001b[0m\u001b[30m \u001b[0m\u001b[1;30m1\u001b[0m\u001b[30m \u001b[0m\u001b[1;30m1\u001b[0m\u001b[30m \u001b[0m\u001b[1;30m0\u001b[0m\u001b[30m \u001b[0m\u001b[1;30m1\u001b[0m\u001b[30m \u001b[0m\u001b[1;30m1\u001b[0m\u001b[30m \u001b[0m\u001b[1;30m0\u001b[0m\u001b[30m \u001b[0m\u001b[1;30m0\u001b[0m\u001b[1;30m]\u001b[0m\n",
       "\u001b[30m \u001b[0m\u001b[1;30m[\u001b[0m\u001b[1;30m0\u001b[0m\u001b[30m \u001b[0m\u001b[1;30m0\u001b[0m\u001b[30m \u001b[0m\u001b[1;30m0\u001b[0m\u001b[30m \u001b[0m\u001b[1;30m1\u001b[0m\u001b[30m \u001b[0m\u001b[1;30m0\u001b[0m\u001b[30m \u001b[0m\u001b[1;30m0\u001b[0m\u001b[30m \u001b[0m\u001b[1;30m0\u001b[0m\u001b[30m \u001b[0m\u001b[1;30m0\u001b[0m\u001b[30m \u001b[0m\u001b[1;30m1\u001b[0m\u001b[30m \u001b[0m\u001b[1;30m0\u001b[0m\u001b[30m \u001b[0m\u001b[1;30m1\u001b[0m\u001b[30m \u001b[0m\u001b[1;30m0\u001b[0m\u001b[30m \u001b[0m\u001b[1;30m0\u001b[0m\u001b[1;30m]\u001b[0m\n",
       "\u001b[30m \u001b[0m\u001b[1;30m[\u001b[0m\u001b[1;30m0\u001b[0m\u001b[30m \u001b[0m\u001b[1;30m1\u001b[0m\u001b[30m \u001b[0m\u001b[1;30m1\u001b[0m\u001b[30m \u001b[0m\u001b[1;30m0\u001b[0m\u001b[30m \u001b[0m\u001b[1;30m0\u001b[0m\u001b[30m \u001b[0m\u001b[1;30m1\u001b[0m\u001b[30m \u001b[0m\u001b[1;30m0\u001b[0m\u001b[30m \u001b[0m\u001b[1;30m0\u001b[0m\u001b[30m \u001b[0m\u001b[1;30m0\u001b[0m\u001b[30m \u001b[0m\u001b[1;30m0\u001b[0m\u001b[30m \u001b[0m\u001b[1;30m0\u001b[0m\u001b[30m \u001b[0m\u001b[1;30m0\u001b[0m\u001b[30m \u001b[0m\u001b[1;30m1\u001b[0m\u001b[1;30m]\u001b[0m\n",
       "\u001b[30m \u001b[0m\u001b[1;30m[\u001b[0m\u001b[1;30m1\u001b[0m\u001b[30m \u001b[0m\u001b[1;30m0\u001b[0m\u001b[30m \u001b[0m\u001b[1;30m0\u001b[0m\u001b[30m \u001b[0m\u001b[1;30m1\u001b[0m\u001b[30m \u001b[0m\u001b[1;30m1\u001b[0m\u001b[30m \u001b[0m\u001b[1;30m1\u001b[0m\u001b[30m \u001b[0m\u001b[1;30m1\u001b[0m\u001b[30m \u001b[0m\u001b[1;30m1\u001b[0m\u001b[30m \u001b[0m\u001b[1;30m0\u001b[0m\u001b[30m \u001b[0m\u001b[1;30m0\u001b[0m\u001b[30m \u001b[0m\u001b[1;30m0\u001b[0m\u001b[30m \u001b[0m\u001b[1;30m0\u001b[0m\u001b[30m \u001b[0m\u001b[1;30m0\u001b[0m\u001b[1;30m]\u001b[0m\n",
       "\u001b[30m \u001b[0m\u001b[1;30m[\u001b[0m\u001b[1;30m1\u001b[0m\u001b[30m \u001b[0m\u001b[1;30m0\u001b[0m\u001b[30m \u001b[0m\u001b[1;30m0\u001b[0m\u001b[30m \u001b[0m\u001b[1;30m0\u001b[0m\u001b[30m \u001b[0m\u001b[1;30m0\u001b[0m\u001b[30m \u001b[0m\u001b[1;30m0\u001b[0m\u001b[30m \u001b[0m\u001b[1;30m1\u001b[0m\u001b[30m \u001b[0m\u001b[1;30m1\u001b[0m\u001b[30m \u001b[0m\u001b[1;30m1\u001b[0m\u001b[30m \u001b[0m\u001b[1;30m0\u001b[0m\u001b[30m \u001b[0m\u001b[1;30m0\u001b[0m\u001b[30m \u001b[0m\u001b[1;30m0\u001b[0m\u001b[30m \u001b[0m\u001b[1;30m1\u001b[0m\u001b[1;30m]\u001b[0m\n",
       "\u001b[30m \u001b[0m\u001b[1;30m[\u001b[0m\u001b[1;30m0\u001b[0m\u001b[30m \u001b[0m\u001b[1;30m1\u001b[0m\u001b[30m \u001b[0m\u001b[1;30m0\u001b[0m\u001b[30m \u001b[0m\u001b[1;30m0\u001b[0m\u001b[30m \u001b[0m\u001b[1;30m0\u001b[0m\u001b[30m \u001b[0m\u001b[1;30m1\u001b[0m\u001b[30m \u001b[0m\u001b[1;30m0\u001b[0m\u001b[30m \u001b[0m\u001b[1;30m1\u001b[0m\u001b[30m \u001b[0m\u001b[1;30m1\u001b[0m\u001b[30m \u001b[0m\u001b[1;30m0\u001b[0m\u001b[30m \u001b[0m\u001b[1;30m1\u001b[0m\u001b[30m \u001b[0m\u001b[1;30m1\u001b[0m\u001b[30m \u001b[0m\u001b[1;30m1\u001b[0m\u001b[1;30m]\u001b[0m\n",
       "\u001b[30m \u001b[0m\u001b[1;30m[\u001b[0m\u001b[1;30m0\u001b[0m\u001b[30m \u001b[0m\u001b[1;30m0\u001b[0m\u001b[30m \u001b[0m\u001b[1;30m0\u001b[0m\u001b[30m \u001b[0m\u001b[1;30m1\u001b[0m\u001b[30m \u001b[0m\u001b[1;30m0\u001b[0m\u001b[30m \u001b[0m\u001b[1;30m0\u001b[0m\u001b[30m \u001b[0m\u001b[1;30m0\u001b[0m\u001b[30m \u001b[0m\u001b[1;30m0\u001b[0m\u001b[30m \u001b[0m\u001b[1;30m1\u001b[0m\u001b[30m \u001b[0m\u001b[1;30m0\u001b[0m\u001b[30m \u001b[0m\u001b[1;30m1\u001b[0m\u001b[30m \u001b[0m\u001b[1;30m0\u001b[0m\u001b[30m \u001b[0m\u001b[1;30m0\u001b[0m\u001b[1;30m]\u001b[0m\n",
       "\u001b[30m \u001b[0m\u001b[1;30m[\u001b[0m\u001b[1;30m0\u001b[0m\u001b[30m \u001b[0m\u001b[1;30m1\u001b[0m\u001b[30m \u001b[0m\u001b[1;30m1\u001b[0m\u001b[30m \u001b[0m\u001b[1;30m0\u001b[0m\u001b[30m \u001b[0m\u001b[1;30m0\u001b[0m\u001b[30m \u001b[0m\u001b[1;30m1\u001b[0m\u001b[30m \u001b[0m\u001b[1;30m1\u001b[0m\u001b[30m \u001b[0m\u001b[1;30m1\u001b[0m\u001b[30m \u001b[0m\u001b[1;30m0\u001b[0m\u001b[30m \u001b[0m\u001b[1;30m1\u001b[0m\u001b[30m \u001b[0m\u001b[1;30m1\u001b[0m\u001b[30m \u001b[0m\u001b[1;30m0\u001b[0m\u001b[30m \u001b[0m\u001b[1;30m0\u001b[0m\u001b[1;30m]\u001b[0m\n",
       "\u001b[30m \u001b[0m\u001b[1;30m[\u001b[0m\u001b[1;30m1\u001b[0m\u001b[30m \u001b[0m\u001b[1;30m0\u001b[0m\u001b[30m \u001b[0m\u001b[1;30m0\u001b[0m\u001b[30m \u001b[0m\u001b[1;30m1\u001b[0m\u001b[30m \u001b[0m\u001b[1;30m1\u001b[0m\u001b[30m \u001b[0m\u001b[1;30m1\u001b[0m\u001b[30m \u001b[0m\u001b[1;30m1\u001b[0m\u001b[30m \u001b[0m\u001b[1;30m1\u001b[0m\u001b[30m \u001b[0m\u001b[1;30m0\u001b[0m\u001b[30m \u001b[0m\u001b[1;30m0\u001b[0m\u001b[30m \u001b[0m\u001b[1;30m0\u001b[0m\u001b[30m \u001b[0m\u001b[1;30m0\u001b[0m\u001b[30m \u001b[0m\u001b[1;30m0\u001b[0m\u001b[1;30m]\u001b[0m\n",
       "\u001b[30m \u001b[0m\u001b[1;30m[\u001b[0m\u001b[1;30m1\u001b[0m\u001b[30m \u001b[0m\u001b[1;30m0\u001b[0m\u001b[30m \u001b[0m\u001b[1;30m0\u001b[0m\u001b[30m \u001b[0m\u001b[1;30m1\u001b[0m\u001b[30m \u001b[0m\u001b[1;30m1\u001b[0m\u001b[30m \u001b[0m\u001b[1;30m1\u001b[0m\u001b[30m \u001b[0m\u001b[1;30m1\u001b[0m\u001b[30m \u001b[0m\u001b[1;30m1\u001b[0m\u001b[30m \u001b[0m\u001b[1;30m0\u001b[0m\u001b[30m \u001b[0m\u001b[1;30m0\u001b[0m\u001b[30m \u001b[0m\u001b[1;30m0\u001b[0m\u001b[30m \u001b[0m\u001b[1;30m0\u001b[0m\u001b[30m \u001b[0m\u001b[1;30m0\u001b[0m\u001b[1;30m]\u001b[0m\u001b[1;30m]\u001b[0m\n"
      ]
     },
     "metadata": {},
     "output_type": "display_data"
    }
   ],
   "source": [
    "# 돌연변이율 80%일 때의 결과\n",
    "\n",
    "small_mu_pop = crossover_population.copy()\n",
    "\n",
    "for _ in range(small_mutations):\n",
    "    chromosome_index = np.random.randint(0, 10)\n",
    "    gene_index = np.random.randint(0, X_train.shape[1])\n",
    "    small_mu_pop[chromosome_index, gene_index] = 0 if \\\n",
    "        small_mu_pop[chromosome_index, gene_index] == 1 else 1\n",
    "\n",
    "rich.print('[green][bold]mutated population (0.01): ', '\\n', f'[black]{small_mu_pop[0:10]}')\n",
    "rich.print('[magenta][bold]previous new population', '\\n', f'[black]{crossover_population[0:10]}')"
   ]
  },
  {
   "cell_type": "markdown",
   "metadata": {},
   "source": [
    "- 돌연변이율을 많이 발생시킬 수록 구성되는 최종적으로 사용되는 변수 조합이 매우 달라짐을 알 수 있습니다.\n",
    "- 최적화 알고리즘에서는 Exploitation과 Exploration의 균형을 갖는 것이 중요합니다. Crossover는 Exploitation에 해당하며 Mutation은 Exploration에 해당합니다.\n",
    "    - 다시 말해, 돌연변이율(mutation_rate)이 크면 클수록 현재 탐색하고 있는 공간 밖의 global optimum을 재탐색할 수 있는 기회를 제공하는 것입니다. 그러나 optimal을 찾을 때까지 시간이 오래 소요될 수 있다는 단점이 존재합니다.\n",
    "    - 반면 mutation_rate을 작은 값으로 설정할 경우에는 local optimum을 찾아 convergence가 일찍 될 수 있다는 장점이 있습니다."
   ]
  },
  {
   "cell_type": "markdown",
   "metadata": {},
   "source": [
    "### 3-5. Step 5: Evaluate New Population and Update Best Chromosome\n",
    "- Step 4 교배 및 돌연변이를 통해 최종 다음 세대를 구성하였다면, 이후에는 다시 세대 적합도를 검증하고 최상의 염색체(변수 조합)를 업데이트 하는 과정을 거칩니다.\n",
    "- 본 튜토리얼에서는 해당  과정에서 유전 알고리즘의 Hyperparameter 중 하나인 __종료 조건(Stopping Criteria)에 대해서 정의__하였습니다.\n",
    "    - 기본적인 종료 조건은 세대 수(n_generation)로, 지정된 수만큼 세대가 구성되었다면 이에 따라 알고리즘이 종료됩니다.\n",
    "    - 그러나 세대가 다 구성되지 않았더라도 성능이 지정된 threshold 보다 개선되지 않는다면 알고리즘을 조기적으로 종료하도록 하였습니다."
   ]
  },
  {
   "cell_type": "markdown",
   "metadata": {},
   "source": [
    "- class 내부에서 정의된 함수는 아래와 같습니다."
   ]
  },
  {
   "cell_type": "code",
   "execution_count": null,
   "metadata": {},
   "outputs": [],
   "source": [
    "def update_best_chromosome(self, population, population_scores, best_chromosome_index, i_gen: int):\n",
    "    # Initialize best_chromosome\n",
    "    if self.best_chromosome[0] is None and self.best_chromosome[1] is None:\n",
    "        self.best_chromosome = (\n",
    "            population[best_chromosome_index],\n",
    "            population_scores[best_chromosome_index],\n",
    "            i_gen)\n",
    "        self.threshold_times_convergence = 5\n",
    "\n",
    "    # Update if new generation is better\n",
    "    elif population_scores[best_chromosome_index] > self.best_chromosome[1]:\n",
    "        if i_gen >= round(0.5 * self.n_generation):\n",
    "            self.threshold_times_convergence = int(np.ceil(0.3 * i_gen))\n",
    "        self.best_chromosome = (\n",
    "            population[best_chromosome_index],\n",
    "            population_scores[best_chromosome_index],\n",
    "            i_gen)\n",
    "        self.n_times_convergence = 0\n",
    "        rich.print(' :heavy_check_mark:', f'[bold green](Better)[/bold green] A better chromosome than the current one has been found \\n \n",
    "                   {self.best_chromosome[1]}')\n",
    "\n",
    "    # If is smaller than self.threshold count it until convergence\n",
    "    elif abs(population_scores[best_chromosome_index] - self.best_chromosome[1]) <= self.threshold:\n",
    "        self.n_times_convergence = self.n_times_convergence + 1\n",
    "        rich.print(' :heavy_check_mark:', f'[magenta]Same scoring value found {self.n_times_convergence} / \\n\n",
    "                    {self.threshold_times_convergence} times.')\n",
    "        if self.n_times_convergence == self.threshold_times_convergence:\n",
    "            self.convergence = True\n",
    "\n",
    "    else:\n",
    "        self.n_times_convergence = 0\n",
    "        rich.print(' :heavy_check_mark:', f'[bold red](WORSE)[/bold red] No better chromosome than the current one has been found \\n\n",
    "                    {population_scores[best_chromosome_index]}')\n",
    "\n",
    "    rich.print(\" :heavy_check_mark:\", f'Current best chromosome:', f'{self.best_chromosome[0]},', f'Score: {self.best_chromosome[1]}')"
   ]
  },
  {
   "cell_type": "markdown",
   "metadata": {},
   "source": [
    "__종료 조건(Stopping Criteria)__\n",
    "1. 초기에는 최상의 변수 조합(best_chromosome)을 (None, None, None)으로 두며, threshold_times_convergence를 5로 임의 설정합니다.\n",
    "    - 이는 일찍 optimal을 찾아 모델이 초기에 조기 수렴했을 가능성을 상정하여, 만일 5번 이상 같은 Score 값을 산출한다면 학습을 종료하도록 하는 것입니다.\n",
    "2. 만일 지정한 세대 수의 절반 이상 학습이 진행되었다면, threshold_times_convergence를 생성된 세대 수의 30% 만큼으로 지정하여, 해당 수 이상으로 Score 값이 일정하다면 학습을 종료합니다.\n",
    "3. 새로운 자식 세대의 최고 성능과 전 세대의 최고 성능 간 차이가 지정한 threshold 보다 낮다면, threshold_times_convergence 횟수만큼 반복될 경우 학습을 조기 종료합니다."
   ]
  },
  {
   "cell_type": "markdown",
   "metadata": {},
   "source": [
    "- 위 방식에 기반하여 최종적으로 짜인 run 함수는 아래와 같습니다."
   ]
  },
  {
   "cell_type": "code",
   "execution_count": null,
   "metadata": {},
   "outputs": [],
   "source": [
    "def run(self, X_train, X_test, y_train, y_test):\n",
    "\n",
    "    # Initialize output variables\n",
    "    self.train_scores = []\n",
    "    self.val_scores = []\n",
    "    self.chromosomes_history = []\n",
    "\n",
    "    # Time when training begins\n",
    "    training_start = time.time()\n",
    "\n",
    "    # Data\n",
    "    self.X_train = X_train\n",
    "    self.X_test = X_test\n",
    "    self.y_train = y_train\n",
    "    self.y_test = y_test\n",
    "\n",
    "    # Initialize population\n",
    "    rich.print(f'[bold magenta]Creating initial population with {self.n_population} chromosomes', \":dna:\")\n",
    "\n",
    "    ## Create n_population chromosomes\n",
    "    self.population = np.random.randint(2, size=(self.n_population, self.X_train.shape[1]))\n",
    "\n",
    "    # Insert initial best chromosome if is defined\n",
    "    if self.initial_best_chromosome is None:\n",
    "\n",
    "        # Evaluate initial population and update best_chromosome\n",
    "        rich.print(' :heavy_check_mark:', 'Evaluating initial population...')\n",
    "        pool = mp.Pool(self.n_jobs)\n",
    "        population_scores = np.array(pool.map(self.evaluate_fitness, self.population))\n",
    "        best_chromosome_index = np.argmax(population_scores[:, 0])\n",
    "\n",
    "    elif type(self.initial_best_chromosome) == np.ndarray and len(self.initial_best_chromosome) == self.X_train.shape[1] and len(np.where((self.initial_best_chromosome <= 1) & (self.initial_best_chromosome >= 0))[0]):\n",
    "        # Introduce the best in the population\n",
    "        index_insertion = np.random.randint(self.n_population)\n",
    "        self.population[index_insertion] = self.initial_best_chromosome\n",
    "\n",
    "        # Evaluate initial population and update best_chromosome\n",
    "        print(' :heavy_check_mark:', 'Evaluating initial population...')\n",
    "        pool = mp.Pool(self.n_jobs)\n",
    "        population_scores = np.array(pool.map(self.evaluate_fitness, self.population))\n",
    "        best_chromosome_index = index_insertion\n",
    "\n",
    "    else:\n",
    "        raise ValueError('Initial best chromosome must be a 1 '\n",
    "                         'dimensional binary array with a length of '\n",
    "                         'X.shape[1]')\n",
    "\n",
    "    # Update best chromosome found\n",
    "    self.update_best_chromosome(\n",
    "        self.population, population_scores[:, 0],\n",
    "        best_chromosome_index, i_gen=0)\n",
    "\n",
    "    # Save result\n",
    "    self.save_results(val_score=population_scores[best_chromosome_index, 0],\n",
    "                      best_current_chromosome=self.population[best_chromosome_index],\n",
    "                      train_score=population_scores[best_chromosome_index, 1])\n",
    "\n",
    "    # Loop until evaluation converge\n",
    "    i = 0\n",
    "    while i < self.n_generation and not self.convergence:\n",
    "        # Time when generation begins\n",
    "        generation_start = time.time()\n",
    "        rich.print(f'[bold magenta]Creating generation {i + 1}...')\n",
    "\n",
    "        # Step 1: Selection\n",
    "        new_population = self.selection(self.population, population_scores[:, 0], best_chromosome_index)\n",
    "        # print(f'\\n Selection {i+1} done')\n",
    "\n",
    "        # Step 2: Crossover\n",
    "        new_population = self.crossover(new_population)\n",
    "        # print(f'\\n Crossover {i+1} done')\n",
    "\n",
    "        # Step 3: Mutation\n",
    "        new_population = self.mutation(new_population)\n",
    "        # print(f'\\n Mutation {i+1} done')\n",
    "\n",
    "        # Step 4: Replace previous population with new_population\n",
    "        self.population = new_population.copy()\n",
    "\n",
    "        # Step 5: Evaluate new population and update best_chromosome\n",
    "        rich.print(' :heavy_check_mark:', f'Evaluating population of new generation {i+1}...')\n",
    "        pool = mp.Pool(self.n_jobs)\n",
    "        population_scores = np.array(pool.map(self.evaluate_fitness, self.population))\n",
    "        best_chromosome_index = np.argmax(population_scores[:, 0])\n",
    "        self.update_best_chromosome(\n",
    "            self.population, population_scores[:, 0],\n",
    "            best_chromosome_index, i+1)\n",
    "\n",
    "        # Save results\n",
    "        self.save_results(\n",
    "            val_score=population_scores[best_chromosome_index, 0],\n",
    "            best_current_chromosome=self.population\n",
    "            [best_chromosome_index],\n",
    "            train_score=population_scores[best_chromosome_index, 1])\n",
    "\n",
    "        # Step 6: Next generation\n",
    "        i = i+1\n",
    "\n",
    "        # Time when generation ends\n",
    "        generation_end = time.time() - generation_start\n",
    "        rich.print('    [bold]Elapsed generation time: ', f'%.2f [bold]seconds' % generation_end)\n",
    "\n",
    "    # Time when training ends\n",
    "    self.training_end = time.time() - training_start\n",
    "    rich.print('[bold]Training time[/bold]: ', f'%.2f [bold]seconds' % self.training_end)"
   ]
  }
 ],
 "metadata": {
  "kernelspec": {
   "display_name": "Python 3 (ipykernel)",
   "language": "python",
   "name": "python3"
  },
  "language_info": {
   "codemirror_mode": {
    "name": "ipython",
    "version": 3
   },
   "file_extension": ".py",
   "mimetype": "text/x-python",
   "name": "python",
   "nbconvert_exporter": "python",
   "pygments_lexer": "ipython3",
   "version": "3.8.13"
  },
  "vscode": {
   "interpreter": {
    "hash": "e968ba6060cce68f712546da4d992e0ba440472cced628ed4de89ce1f71e05af"
   }
  }
 },
 "nbformat": 4,
 "nbformat_minor": 2
}
